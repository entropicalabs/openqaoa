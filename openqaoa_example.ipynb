{
 "cells": [
  {
   "cell_type": "markdown",
   "metadata": {},
   "source": [
    "# OpenQAOA Example: Manual Mode"
   ]
  },
  {
   "cell_type": "code",
   "execution_count": 1,
   "metadata": {
    "execution": {
     "iopub.execute_input": "2022-05-12T04:48:48.514262Z",
     "iopub.status.busy": "2022-05-12T04:48:48.513887Z",
     "iopub.status.idle": "2022-05-12T04:48:52.357674Z",
     "shell.execute_reply": "2022-05-12T04:48:52.356765Z",
     "shell.execute_reply.started": "2022-05-12T04:48:48.514194Z"
    },
    "tags": []
   },
   "outputs": [],
   "source": [
    "from openqaoa.qaoa_parameters import PauliOp, Hamiltonian, QAOACircuitParams, create_qaoa_variational_params\n",
    "# from eqaoa.qaoa_parameters.baseparams import QAOACircuitParams\n",
    "from openqaoa.backends.qpus.qpu_auth import AccessObjectQiskit\n",
    "from openqaoa.backends.qaoa_backend import *\n",
    "from openqaoa.optimizers import get_optimizer\n",
    "from qiskit import QuantumCircuit\n",
    "from openqaoa.utilities import *"
   ]
  },
  {
   "cell_type": "markdown",
   "metadata": {},
   "source": [
    "### Define Cost and Mixer Hamiltonians with ease!"
   ]
  },
  {
   "cell_type": "code",
   "execution_count": 2,
   "metadata": {
    "execution": {
     "iopub.execute_input": "2022-05-12T04:48:52.359928Z",
     "iopub.status.busy": "2022-05-12T04:48:52.359473Z",
     "iopub.status.idle": "2022-05-12T04:48:52.364222Z",
     "shell.execute_reply": "2022-05-12T04:48:52.363296Z",
     "shell.execute_reply.started": "2022-05-12T04:48:52.359900Z"
    },
    "tags": []
   },
   "outputs": [],
   "source": [
    "cost_hamil = Hamiltonian([PauliOp('ZZ', (0, 1)), PauliOp('ZZ', (1, 2)), PauliOp('ZZ', (0, 2))], \n",
    "                         [1, 1, 1], 1)"
   ]
  },
  {
   "cell_type": "code",
   "execution_count": 3,
   "metadata": {
    "execution": {
     "iopub.execute_input": "2022-05-12T04:48:52.366117Z",
     "iopub.status.busy": "2022-05-12T04:48:52.365786Z",
     "iopub.status.idle": "2022-05-12T04:48:52.413473Z",
     "shell.execute_reply": "2022-05-12T04:48:52.412743Z",
     "shell.execute_reply.started": "2022-05-12T04:48:52.366088Z"
    },
    "tags": []
   },
   "outputs": [
    {
     "data": {
      "text/latex": [
       "$\\displaystyle 1 + 1Z_{0}Z_{1} + 1Z_{0}Z_{2} + 1Z_{1}Z_{2}$"
      ],
      "text/plain": [
       "1 + 1Z_{0}Z_{1} + 1Z_{0}Z_{2} + 1Z_{1}Z_{2}"
      ]
     },
     "execution_count": 3,
     "metadata": {},
     "output_type": "execute_result"
    }
   ],
   "source": [
    "classical_terms = [(0, 1),(1, 2),(0, 2)]\n",
    "coeffs = [1, 1, 1]\n",
    "constant = 1\n",
    "cost_hamil = Hamiltonian.classical_hamiltonian(terms=classical_terms,coeffs=coeffs,constant=constant)\n",
    "cost_hamil.expression"
   ]
  },
  {
   "cell_type": "code",
   "execution_count": 4,
   "metadata": {
    "execution": {
     "iopub.execute_input": "2022-05-12T04:48:52.414941Z",
     "iopub.status.busy": "2022-05-12T04:48:52.414680Z",
     "iopub.status.idle": "2022-05-12T04:48:52.419170Z",
     "shell.execute_reply": "2022-05-12T04:48:52.417987Z",
     "shell.execute_reply.started": "2022-05-12T04:48:52.414916Z"
    },
    "tags": []
   },
   "outputs": [],
   "source": [
    "mixer_hamil = X_mixer_hamiltonian(n_qubits=3)"
   ]
  },
  {
   "cell_type": "markdown",
   "metadata": {},
   "source": [
    "### Define QAOA Circuit Parameters\n",
    "QAOA Circuit Params encode the cost and mixer hamiltonians in the form of an Abstract circuit which will later be used for constructing respective backend circuits"
   ]
  },
  {
   "cell_type": "code",
   "execution_count": 5,
   "metadata": {
    "execution": {
     "iopub.execute_input": "2022-05-12T04:48:53.176939Z",
     "iopub.status.busy": "2022-05-12T04:48:53.176637Z",
     "iopub.status.idle": "2022-05-12T04:48:53.180146Z",
     "shell.execute_reply": "2022-05-12T04:48:53.179223Z",
     "shell.execute_reply.started": "2022-05-12T04:48:53.176914Z"
    },
    "tags": []
   },
   "outputs": [],
   "source": [
    "circuit_params = QAOACircuitParams(cost_hamil, mixer_hamil, p=2)"
   ]
  },
  {
   "cell_type": "markdown",
   "metadata": {},
   "source": [
    "### Define QAOA Variational Parameters\n",
    "* Variational Params will be used to run QAOA computations to compute, for instance, expectation values. They are designed to be updated easily using an optimiser during VQA optimisation routines\n",
    "* The user can specify the desired parameterization and initialization strategy "
   ]
  },
  {
   "cell_type": "code",
   "execution_count": 6,
   "metadata": {
    "execution": {
     "iopub.execute_input": "2022-05-12T04:48:55.263129Z",
     "iopub.status.busy": "2022-05-12T04:48:55.262831Z",
     "iopub.status.idle": "2022-05-12T04:48:55.266593Z",
     "shell.execute_reply": "2022-05-12T04:48:55.265821Z",
     "shell.execute_reply.started": "2022-05-12T04:48:55.263102Z"
    },
    "tags": []
   },
   "outputs": [],
   "source": [
    "variate_params = create_qaoa_variational_params(circuit_params,'standard','ramp')"
   ]
  },
  {
   "cell_type": "markdown",
   "metadata": {},
   "source": [
    "### Define the Backend of your choice!\n",
    "* Choose from the available local/cloud based devices including IBMQ, Rigetti QPUs\n",
    "* Depending on whether the chosen device is cloud-based or local, you may have to define an authentication dictionary with your credentials as follows"
   ]
  },
  {
   "cell_type": "code",
   "execution_count": 7,
   "metadata": {
    "execution": {
     "iopub.execute_input": "2022-05-09T05:17:43.972784Z",
     "iopub.status.busy": "2022-05-09T05:17:43.972372Z",
     "iopub.status.idle": "2022-05-09T05:17:44.058369Z",
     "shell.execute_reply": "2022-05-09T05:17:44.057139Z",
     "shell.execute_reply.started": "2022-05-09T05:17:43.972747Z"
    },
    "tags": []
   },
   "outputs": [
    {
     "data": {
      "text/plain": [
       "\u001b[0;31mInit signature:\u001b[0m\n",
       "\u001b[0mAccessObjectQiskit\u001b[0m\u001b[0;34m(\u001b[0m\u001b[0;34m\u001b[0m\n",
       "\u001b[0;34m\u001b[0m    \u001b[0mapi_token\u001b[0m\u001b[0;34m:\u001b[0m \u001b[0mstr\u001b[0m\u001b[0;34m,\u001b[0m\u001b[0;34m\u001b[0m\n",
       "\u001b[0;34m\u001b[0m    \u001b[0mhub\u001b[0m\u001b[0;34m:\u001b[0m \u001b[0mstr\u001b[0m\u001b[0;34m,\u001b[0m\u001b[0;34m\u001b[0m\n",
       "\u001b[0;34m\u001b[0m    \u001b[0mgroup\u001b[0m\u001b[0;34m:\u001b[0m \u001b[0mstr\u001b[0m\u001b[0;34m,\u001b[0m\u001b[0;34m\u001b[0m\n",
       "\u001b[0;34m\u001b[0m    \u001b[0mproject\u001b[0m\u001b[0;34m:\u001b[0m \u001b[0mstr\u001b[0m\u001b[0;34m,\u001b[0m\u001b[0;34m\u001b[0m\n",
       "\u001b[0;34m\u001b[0m    \u001b[0mselected_qpu\u001b[0m\u001b[0;34m:\u001b[0m \u001b[0mstr\u001b[0m \u001b[0;34m=\u001b[0m \u001b[0;34m''\u001b[0m\u001b[0;34m,\u001b[0m\u001b[0;34m\u001b[0m\n",
       "\u001b[0;34m\u001b[0m\u001b[0;34m)\u001b[0m \u001b[0;34m->\u001b[0m \u001b[0;32mNone\u001b[0m\u001b[0;34m\u001b[0m\u001b[0;34m\u001b[0m\u001b[0m\n",
       "\u001b[0;31mDocstring:\u001b[0m     \n",
       "Contains the required information and methods needed to access remote\n",
       "qiskit QPUs.\n",
       "\n",
       "Attributes:\n",
       "    available_qpus (list): When connection to a provider is established, \n",
       "                           this attribute contains a list of backend names \n",
       "                           which can be used to access the selected backend \n",
       "                           by reinitialising the Access Object with the \n",
       "                           name of the available backend as input to the \n",
       "                           selected_backend parameter.\n",
       "\u001b[0;31mInit docstring:\u001b[0m\n",
       "A majority of the input parameters required for this can be found in\n",
       "the user's IBMQ Experience account.\n",
       "\n",
       "Parameters\n",
       "----------\n",
       "api_token: str\n",
       "    Valid IBMQ Experience Token.\n",
       "hub: str\n",
       "    Valid IBMQ hub name.\n",
       "group: str\n",
       "    Valid IBMQ group name. \n",
       "project: str\n",
       "    The name of the project for which the experimental data will be \n",
       "    saved in on IBMQ's end.\n",
       "selected_qpu: str\n",
       "    The name of the QPU in which the user would like to connect with.\n",
       "\u001b[0;31mFile:\u001b[0m           ~/Documents/Github/openqaoa/openqaoa/backends/qpus/qpu_auth.py\n",
       "\u001b[0;31mType:\u001b[0m           ABCMeta\n",
       "\u001b[0;31mSubclasses:\u001b[0m     \n"
      ]
     },
     "metadata": {},
     "output_type": "display_data"
    }
   ],
   "source": [
    "AccessObjectQiskit?"
   ]
  },
  {
   "cell_type": "code",
   "execution_count": 8,
   "metadata": {
    "execution": {
     "iopub.execute_input": "2022-05-09T05:17:45.806879Z",
     "iopub.status.busy": "2022-05-09T05:17:45.806476Z",
     "iopub.status.idle": "2022-05-09T05:17:45.818114Z",
     "shell.execute_reply": "2022-05-09T05:17:45.816919Z",
     "shell.execute_reply.started": "2022-05-09T05:17:45.806843Z"
    },
    "tags": []
   },
   "outputs": [],
   "source": [
    "auth_dict = { \"QISKIT\": \n",
    "             { \"API_TOKEN\": \"18f727c8e07dda9348d45299275c94b55b70c96c4f23e59f7e6a194cd2e05821ef2b6a1bb337a80e1614dc512ca7b0bb43c17b6a9bf844dc0d6f76982de12b0a\",#\"<API TOKEN>\",#\n",
    "              \"HUB\": \"ibm-q\", \n",
    "              \"GROUP\": \"open\", \n",
    "              \"PROJECT\": \"main\"}\n",
    "            }\n",
    "\n",
    "selected_device = 'ibmq_qasm_simulator'\n",
    "\n",
    "access_obj = AccessObjectQiskit(auth_dict[\"QISKIT\"][\"API_TOKEN\"], auth_dict[\"QISKIT\"][\"HUB\"], \n",
    "                   auth_dict[\"QISKIT\"][\"GROUP\"], auth_dict[\"QISKIT\"][\"PROJECT\"], selected_device)"
   ]
  },
  {
   "cell_type": "code",
   "execution_count": 22,
   "metadata": {
    "execution": {
     "iopub.execute_input": "2022-05-09T07:58:01.245528Z",
     "iopub.status.busy": "2022-05-09T07:58:01.245236Z",
     "iopub.status.idle": "2022-05-09T07:58:01.251597Z",
     "shell.execute_reply": "2022-05-09T07:58:01.250549Z",
     "shell.execute_reply.started": "2022-05-09T07:58:01.245504Z"
    }
   },
   "outputs": [
    {
     "data": {
      "text/plain": [
       "\u001b[0;31mType:\u001b[0m        QAOAQiskitQPUBackend\n",
       "\u001b[0;31mString form:\u001b[0m <openqaoa.backends.qpus.qaoa_qiskit_qpu.QAOAQiskitQPUBackend object at 0x7fec54f22f40>\n",
       "\u001b[0;31mFile:\u001b[0m        ~/Documents/Github/openqaoa/openqaoa/backends/qpus/qaoa_qiskit_qpu.py\n",
       "\u001b[0;31mDocstring:\u001b[0m  \n",
       "A QAOA simulator as well as for real QPU using qiskit as the backend\n",
       "\n",
       "Parameters\n",
       "----------\n",
       "access_object: `AccessObjectQiskit`\n",
       "    An object of the class ``AccessObjectQiskit`` which contains the credentials\n",
       "    for accessing the QPU via cloud\n",
       "circuit_params: `QAOACircuitParams`\n",
       "    An object of the class ``QAOACircuitParams`` which contains information on \n",
       "    circuit construction and depth of the circuit.\n",
       "n_shots: `int`\n",
       "    The number of shots to be taken for each circuit.\n",
       "prepend_state: `QuantumCircuit`\n",
       "    The state prepended to the circuit.\n",
       "append_state: `QuantumCircuit`\n",
       "    The state appended to the circuit.\n",
       "init_hadamard: `bool`\n",
       "    Whether to apply a Hadamard gate to the beginning of the \n",
       "    QAOA part of the circuit.\n",
       "cvar_alpha: `float`\n",
       "    The value of alpha for the CVaR method.\n"
      ]
     },
     "metadata": {},
     "output_type": "display_data"
    }
   ],
   "source": [
    "backend_cloud?"
   ]
  },
  {
   "cell_type": "code",
   "execution_count": 9,
   "metadata": {
    "execution": {
     "iopub.execute_input": "2022-05-09T05:17:47.325710Z",
     "iopub.status.busy": "2022-05-09T05:17:47.325303Z",
     "iopub.status.idle": "2022-05-09T05:17:56.148298Z",
     "shell.execute_reply": "2022-05-09T05:17:56.147073Z",
     "shell.execute_reply.started": "2022-05-09T05:17:47.325674Z"
    },
    "tags": []
   },
   "outputs": [],
   "source": [
    "backend_cloud = get_qaoa_backend(circuit_params, access_obj, n_shots=1000)"
   ]
  },
  {
   "cell_type": "code",
   "execution_count": 10,
   "metadata": {
    "execution": {
     "iopub.execute_input": "2022-05-09T05:17:56.150851Z",
     "iopub.status.busy": "2022-05-09T05:17:56.150460Z",
     "iopub.status.idle": "2022-05-09T05:17:57.441490Z",
     "shell.execute_reply": "2022-05-09T05:17:57.440433Z",
     "shell.execute_reply.started": "2022-05-09T05:17:56.150815Z"
    },
    "tags": []
   },
   "outputs": [
    {
     "data": {
      "image/png": "[encoded data removed]",
      "text/plain": [
       "<Figure size 1621.88x565.88 with 1 Axes>"
      ]
     },
     "execution_count": 10,
     "metadata": {},
     "output_type": "execute_result"
    }
   ],
   "source": [
    "backend_cloud.parametric_circuit.draw('mpl')"
   ]
  },
  {
   "cell_type": "code",
   "execution_count": 11,
   "metadata": {
    "execution": {
     "iopub.execute_input": "2022-05-09T05:18:27.843832Z",
     "iopub.status.busy": "2022-05-09T05:18:27.843348Z",
     "iopub.status.idle": "2022-05-09T05:18:28.644680Z",
     "shell.execute_reply": "2022-05-09T05:18:28.643627Z",
     "shell.execute_reply.started": "2022-05-09T05:18:27.843793Z"
    },
    "tags": []
   },
   "outputs": [
    {
     "data": {
      "image/png": "[encoded data removed]",
      "text/plain": [
       "<Figure size 1621.88x565.88 with 1 Axes>"
      ]
     },
     "execution_count": 11,
     "metadata": {},
     "output_type": "execute_result"
    }
   ],
   "source": [
    "backend_cloud.qaoa_circuit(variate_params).draw('mpl')"
   ]
  },
  {
   "cell_type": "markdown",
   "metadata": {},
   "source": [
    "### Creating other backends"
   ]
  },
  {
   "cell_type": "code",
   "execution_count": 7,
   "metadata": {
    "execution": {
     "iopub.execute_input": "2022-05-12T04:48:59.933288Z",
     "iopub.status.busy": "2022-05-12T04:48:59.933074Z",
     "iopub.status.idle": "2022-05-12T04:49:00.075129Z",
     "shell.execute_reply": "2022-05-12T04:49:00.074273Z",
     "shell.execute_reply.started": "2022-05-12T04:48:59.933270Z"
    },
    "tags": []
   },
   "outputs": [],
   "source": [
    "backend_qiskit_statevec = get_qaoa_backend(circuit_params, 'qiskit_statevec_simulator')"
   ]
  },
  {
   "cell_type": "code",
   "execution_count": 13,
   "metadata": {
    "execution": {
     "iopub.execute_input": "2022-05-12T04:49:45.278359Z",
     "iopub.status.busy": "2022-05-12T04:49:45.278069Z",
     "iopub.status.idle": "2022-05-12T04:49:52.553081Z",
     "shell.execute_reply": "2022-05-12T04:49:52.552576Z",
     "shell.execute_reply.started": "2022-05-12T04:49:45.278333Z"
    },
    "tags": []
   },
   "outputs": [
    {
     "name": "stderr",
     "output_type": "stream",
     "text": [
      "ibmqfactory.load_account:WARNING:2022-05-12 11:49:45,758: Credentials are already in use. The existing account in the session will be replaced.\n",
      "/Users/vishal/opt/anaconda3/envs/forest/lib/python3.8/site-packages/qiskit/providers/aer/noise/device/models.py:264: UserWarning: Device model returned an invalid T_2 relaxation time greater than the theoretical maximum value 2 * T_1 (195643.43407119642 > 2 * 95881.49705717347). Truncating to maximum value.\n",
      "  warn(\"Device model returned an invalid T_2 relaxation time greater than\"\n",
      "/Users/vishal/opt/anaconda3/envs/forest/lib/python3.8/site-packages/qiskit/providers/aer/noise/device/models.py:264: UserWarning: Device model returned an invalid T_2 relaxation time greater than the theoretical maximum value 2 * T_1 (195643.43407119642 > 2 * 95881.49705717347). Truncating to maximum value.\n",
      "  warn(\"Device model returned an invalid T_2 relaxation time greater than\"\n",
      "/Users/vishal/opt/anaconda3/envs/forest/lib/python3.8/site-packages/qiskit/providers/aer/noise/device/models.py:264: UserWarning: Device model returned an invalid T_2 relaxation time greater than the theoretical maximum value 2 * T_1 (195643.43407119642 > 2 * 95881.49705717347). Truncating to maximum value.\n",
      "  warn(\"Device model returned an invalid T_2 relaxation time greater than\"\n",
      "/Users/vishal/opt/anaconda3/envs/forest/lib/python3.8/site-packages/qiskit/providers/aer/noise/device/models.py:264: UserWarning: Device model returned an invalid T_2 relaxation time greater than the theoretical maximum value 2 * T_1 (195643.43407119642 > 2 * 95881.49705717347). Truncating to maximum value.\n",
      "  warn(\"Device model returned an invalid T_2 relaxation time greater than\"\n",
      "/Users/vishal/opt/anaconda3/envs/forest/lib/python3.8/site-packages/qiskit/providers/aer/noise/device/models.py:264: UserWarning: Device model returned an invalid T_2 relaxation time greater than the theoretical maximum value 2 * T_1 (195643.43407119642 > 2 * 95881.49705717347). Truncating to maximum value.\n",
      "  warn(\"Device model returned an invalid T_2 relaxation time greater than\"\n",
      "/Users/vishal/opt/anaconda3/envs/forest/lib/python3.8/site-packages/qiskit/providers/aer/noise/device/models.py:264: UserWarning: Device model returned an invalid T_2 relaxation time greater than the theoretical maximum value 2 * T_1 (195643.43407119642 > 2 * 95881.49705717347). Truncating to maximum value.\n",
      "  warn(\"Device model returned an invalid T_2 relaxation time greater than\"\n",
      "/Users/vishal/opt/anaconda3/envs/forest/lib/python3.8/site-packages/qiskit/providers/aer/noise/device/models.py:264: UserWarning: Device model returned an invalid T_2 relaxation time greater than the theoretical maximum value 2 * T_1 (0.00019564343407119642 > 2 * 9.588149705717348e-05). Truncating to maximum value.\n",
      "  warn(\"Device model returned an invalid T_2 relaxation time greater than\"\n"
     ]
    }
   ],
   "source": [
    "from qiskit.providers.aer.noise import NoiseModel\n",
    "from qiskit import IBMQ\n",
    "# IBMQ.load_account()\n",
    "provider = IBMQ.get_provider('ibm-q-startup','entropica-labs','reservations')\n",
    "backend = provider.get_backend('ibmq_bogota')\n",
    "noise_model = NoiseModel.from_backend(backend)"
   ]
  },
  {
   "cell_type": "code",
   "execution_count": 10,
   "metadata": {
    "execution": {
     "iopub.execute_input": "2022-05-12T04:49:36.484305Z",
     "iopub.status.busy": "2022-05-12T04:49:36.484002Z",
     "iopub.status.idle": "2022-05-12T04:49:36.489741Z",
     "shell.execute_reply": "2022-05-12T04:49:36.489016Z",
     "shell.execute_reply.started": "2022-05-12T04:49:36.484280Z"
    },
    "tags": []
   },
   "outputs": [],
   "source": [
    "backend_qiskit_shot = get_qaoa_backend(circuit_params, 'qiskit_shot_simulator', n_shots=100, noise_model=noise_model)"
   ]
  },
  {
   "cell_type": "code",
   "execution_count": 14,
   "metadata": {
    "execution": {
     "iopub.execute_input": "2022-05-12T04:49:55.487495Z",
     "iopub.status.busy": "2022-05-12T04:49:55.487207Z",
     "iopub.status.idle": "2022-05-12T04:49:55.511555Z",
     "shell.execute_reply": "2022-05-12T04:49:55.510465Z",
     "shell.execute_reply.started": "2022-05-12T04:49:55.487468Z"
    },
    "tags": []
   },
   "outputs": [
    {
     "name": "stdout",
     "output_type": "stream",
     "text": [
      "0.006166710717490102\n",
      "(0.006166710717490102, 0.15693570195748066)\n"
     ]
    }
   ],
   "source": [
    "print(backend_qiskit_statevec.expectation(variate_params))\n",
    "print(backend_qiskit_statevec.expectation_w_uncertainty(variate_params))"
   ]
  },
  {
   "cell_type": "code",
   "execution_count": 15,
   "metadata": {
    "execution": {
     "iopub.execute_input": "2022-05-12T04:49:55.837988Z",
     "iopub.status.busy": "2022-05-12T04:49:55.837704Z",
     "iopub.status.idle": "2022-05-12T04:49:55.924386Z",
     "shell.execute_reply": "2022-05-12T04:49:55.923689Z",
     "shell.execute_reply.started": "2022-05-12T04:49:55.837962Z"
    },
    "tags": []
   },
   "outputs": [
    {
     "name": "stdout",
     "output_type": "stream",
     "text": [
      "0.39999999999999997\n",
      "(0.08, 0.5599999999999999)\n"
     ]
    }
   ],
   "source": [
    "print(backend_qiskit_shot.expectation(variate_params))\n",
    "print(backend_qiskit_shot.expectation_w_uncertainty(variate_params))"
   ]
  },
  {
   "cell_type": "code",
   "execution_count": 16,
   "metadata": {
    "execution": {
     "iopub.execute_input": "2022-05-12T04:50:01.918295Z",
     "iopub.status.busy": "2022-05-12T04:50:01.917996Z",
     "iopub.status.idle": "2022-05-12T04:50:01.922471Z",
     "shell.execute_reply": "2022-05-12T04:50:01.921613Z",
     "shell.execute_reply.started": "2022-05-12T04:50:01.918268Z"
    },
    "tags": []
   },
   "outputs": [],
   "source": [
    "current_ckt = backend_qiskit_shot.qaoa_circuit(variate_params)"
   ]
  },
  {
   "cell_type": "code",
   "execution_count": 17,
   "metadata": {
    "execution": {
     "iopub.execute_input": "2022-05-12T04:50:02.528081Z",
     "iopub.status.busy": "2022-05-12T04:50:02.527805Z",
     "iopub.status.idle": "2022-05-12T04:50:02.576840Z",
     "shell.execute_reply": "2022-05-12T04:50:02.576108Z",
     "shell.execute_reply.started": "2022-05-12T04:50:02.528056Z"
    },
    "tags": []
   },
   "outputs": [
    {
     "data": {
      "text/html": [
       "<pre style=\"word-wrap: normal;white-space: pre;background: #fff0;line-height: 1.1;font-family: &quot;Courier New&quot;,Courier,monospace\">        ┌───┐                                                      »\n",
       "  q1_0: ┤ H ├─■────────────────────────────────────────────────────»\n",
       "        ├───┤ │ZZ(['2q', 'cost', 0, 0])                            »\n",
       "  q1_1: ┤ H ├─■──────────────────────────■─────────────────────────»\n",
       "        ├───┤                            │ZZ(['2q', 'cost', 0, 1]) »\n",
       "  q1_2: ┤ H ├────────────────────────────■─────────────────────────»\n",
       "        └───┘                                                      »\n",
       "meas: 3/═══════════════════════════════════════════════════════════»\n",
       "                                                                   »\n",
       "«                                   ┌───────────────────────────┐»\n",
       "«  q1_0: ─■─────────────────────────┤ Rx(['1q', 'mixer', 0, 0]) ├»\n",
       "«         │                         ├───────────────────────────┤»\n",
       "«  q1_1: ─┼─────────────────────────┤ Rx(['1q', 'mixer', 0, 1]) ├»\n",
       "«         │ZZ(['2q', 'cost', 0, 2]) ├───────────────────────────┤»\n",
       "«  q1_2: ─■─────────────────────────┤ Rx(['1q', 'mixer', 0, 2]) ├»\n",
       "«                                   └───────────────────────────┘»\n",
       "«meas: 3/════════════════════════════════════════════════════════»\n",
       "«                                                                »\n",
       "«                                                              »\n",
       "«  q1_0: ─■────────────────────────────────────────────────────»\n",
       "«         │ZZ(['2q', 'cost', 1, 0])                            »\n",
       "«  q1_1: ─■──────────────────────────■─────────────────────────»\n",
       "«                                    │ZZ(['2q', 'cost', 1, 1]) »\n",
       "«  q1_2: ────────────────────────────■─────────────────────────»\n",
       "«                                                              »\n",
       "«meas: 3/══════════════════════════════════════════════════════»\n",
       "«                                                              »\n",
       "«                                   ┌───────────────────────────┐ ░ ┌─┐      \n",
       "«  q1_0: ─■─────────────────────────┤ Rx(['1q', 'mixer', 1, 0]) ├─░─┤M├──────\n",
       "«         │                         ├───────────────────────────┤ ░ └╥┘┌─┐   \n",
       "«  q1_1: ─┼─────────────────────────┤ Rx(['1q', 'mixer', 1, 1]) ├─░──╫─┤M├───\n",
       "«         │ZZ(['2q', 'cost', 1, 2]) ├───────────────────────────┤ ░  ║ └╥┘┌─┐\n",
       "«  q1_2: ─■─────────────────────────┤ Rx(['1q', 'mixer', 1, 2]) ├─░──╫──╫─┤M├\n",
       "«                                   └───────────────────────────┘ ░  ║  ║ └╥┘\n",
       "«meas: 3/════════════════════════════════════════════════════════════╩══╩══╩═\n",
       "«                                                                    0  1  2 </pre>"
      ],
      "text/plain": [
       "        ┌───┐                                                      »\n",
       "  q1_0: ┤ H ├─■────────────────────────────────────────────────────»\n",
       "        ├───┤ │ZZ(['2q', 'cost', 0, 0])                            »\n",
       "  q1_1: ┤ H ├─■──────────────────────────■─────────────────────────»\n",
       "        ├───┤                            │ZZ(['2q', 'cost', 0, 1]) »\n",
       "  q1_2: ┤ H ├────────────────────────────■─────────────────────────»\n",
       "        └───┘                                                      »\n",
       "meas: 3/═══════════════════════════════════════════════════════════»\n",
       "                                                                   »\n",
       "«                                   ┌───────────────────────────┐»\n",
       "«  q1_0: ─■─────────────────────────┤ Rx(['1q', 'mixer', 0, 0]) ├»\n",
       "«         │                         ├───────────────────────────┤»\n",
       "«  q1_1: ─┼─────────────────────────┤ Rx(['1q', 'mixer', 0, 1]) ├»\n",
       "«         │ZZ(['2q', 'cost', 0, 2]) ├───────────────────────────┤»\n",
       "«  q1_2: ─■─────────────────────────┤ Rx(['1q', 'mixer', 0, 2]) ├»\n",
       "«                                   └───────────────────────────┘»\n",
       "«meas: 3/════════════════════════════════════════════════════════»\n",
       "«                                                                »\n",
       "«                                                              »\n",
       "«  q1_0: ─■────────────────────────────────────────────────────»\n",
       "«         │ZZ(['2q', 'cost', 1, 0])                            »\n",
       "«  q1_1: ─■──────────────────────────■─────────────────────────»\n",
       "«                                    │ZZ(['2q', 'cost', 1, 1]) »\n",
       "«  q1_2: ────────────────────────────■─────────────────────────»\n",
       "«                                                              »\n",
       "«meas: 3/══════════════════════════════════════════════════════»\n",
       "«                                                              »\n",
       "«                                   ┌───────────────────────────┐ ░ ┌─┐      \n",
       "«  q1_0: ─■─────────────────────────┤ Rx(['1q', 'mixer', 1, 0]) ├─░─┤M├──────\n",
       "«         │                         ├───────────────────────────┤ ░ └╥┘┌─┐   \n",
       "«  q1_1: ─┼─────────────────────────┤ Rx(['1q', 'mixer', 1, 1]) ├─░──╫─┤M├───\n",
       "«         │ZZ(['2q', 'cost', 1, 2]) ├───────────────────────────┤ ░  ║ └╥┘┌─┐\n",
       "«  q1_2: ─■─────────────────────────┤ Rx(['1q', 'mixer', 1, 2]) ├─░──╫──╫─┤M├\n",
       "«                                   └───────────────────────────┘ ░  ║  ║ └╥┘\n",
       "«meas: 3/════════════════════════════════════════════════════════════╩══╩══╩═\n",
       "«                                                                    0  1  2 "
      ]
     },
     "execution_count": 17,
     "metadata": {},
     "output_type": "execute_result"
    }
   ],
   "source": [
    "#print parametric qaoa circuit\n",
    "backend_qiskit_shot.parametric_circuit.draw()"
   ]
  },
  {
   "cell_type": "code",
   "execution_count": 55,
   "metadata": {
    "execution": {
     "iopub.execute_input": "2022-05-09T04:21:45.254933Z",
     "iopub.status.busy": "2022-05-09T04:21:45.254647Z",
     "iopub.status.idle": "2022-05-09T04:21:45.272441Z",
     "shell.execute_reply": "2022-05-09T04:21:45.271744Z",
     "shell.execute_reply.started": "2022-05-09T04:21:45.254907Z"
    },
    "tags": []
   },
   "outputs": [
    {
     "data": {
      "text/html": [
       "<pre style=\"word-wrap: normal;white-space: pre;background: #fff0;line-height: 1.1;font-family: &quot;Courier New&quot;,Courier,monospace\">        ┌───┐                                                »\n",
       "  q6_0: ┤ H ├─■──────────────────────────────────────────────»\n",
       "        ├───┤ │ZZ(0.350000000000000)                         »\n",
       "  q6_1: ┤ H ├─■───────────────────────■──────────────────────»\n",
       "        ├───┤                         │ZZ(0.350000000000000) »\n",
       "  q6_2: ┤ H ├─────────────────────────■──────────────────────»\n",
       "        └───┘                                                »\n",
       "meas: 3/═════════════════════════════════════════════════════»\n",
       "                                                             »\n",
       "«                                ┌───────────────────────┐»\n",
       "«  q6_0: ─■──────────────────────┤ Rx(-1.05000000000000) ├»\n",
       "«         │                      ├───────────────────────┤»\n",
       "«  q6_1: ─┼──────────────────────┤ Rx(-1.05000000000000) ├»\n",
       "«         │ZZ(0.350000000000000) ├───────────────────────┤»\n",
       "«  q6_2: ─■──────────────────────┤ Rx(-1.05000000000000) ├»\n",
       "«                                └───────────────────────┘»\n",
       "«meas: 3/═════════════════════════════════════════════════»\n",
       "«                                                         »\n",
       "«                                                                             »\n",
       "«  q6_0: ─■─────────────────────────────────────────────■─────────────────────»\n",
       "«         │ZZ(1.05000000000000)                         │                     »\n",
       "«  q6_1: ─■──────────────────────■──────────────────────┼─────────────────────»\n",
       "«                                │ZZ(1.05000000000000)  │ZZ(1.05000000000000) »\n",
       "«  q6_2: ────────────────────────■──────────────────────■─────────────────────»\n",
       "«                                                                             »\n",
       "«meas: 3/═════════════════════════════════════════════════════════════════════»\n",
       "«                                                                             »\n",
       "«        ┌────────────────────────┐ ░ ┌─┐      \n",
       "«  q6_0: ┤ Rx(-0.350000000000000) ├─░─┤M├──────\n",
       "«        ├────────────────────────┤ ░ └╥┘┌─┐   \n",
       "«  q6_1: ┤ Rx(-0.350000000000000) ├─░──╫─┤M├───\n",
       "«        ├────────────────────────┤ ░  ║ └╥┘┌─┐\n",
       "«  q6_2: ┤ Rx(-0.350000000000000) ├─░──╫──╫─┤M├\n",
       "«        └────────────────────────┘ ░  ║  ║ └╥┘\n",
       "«meas: 3/══════════════════════════════╩══╩══╩═\n",
       "«                                      0  1  2 </pre>"
      ],
      "text/plain": [
       "        ┌───┐                                                »\n",
       "  q6_0: ┤ H ├─■──────────────────────────────────────────────»\n",
       "        ├───┤ │ZZ(0.350000000000000)                         »\n",
       "  q6_1: ┤ H ├─■───────────────────────■──────────────────────»\n",
       "        ├───┤                         │ZZ(0.350000000000000) »\n",
       "  q6_2: ┤ H ├─────────────────────────■──────────────────────»\n",
       "        └───┘                                                »\n",
       "meas: 3/═════════════════════════════════════════════════════»\n",
       "                                                             »\n",
       "«                                ┌───────────────────────┐»\n",
       "«  q6_0: ─■──────────────────────┤ Rx(-1.05000000000000) ├»\n",
       "«         │                      ├───────────────────────┤»\n",
       "«  q6_1: ─┼──────────────────────┤ Rx(-1.05000000000000) ├»\n",
       "«         │ZZ(0.350000000000000) ├───────────────────────┤»\n",
       "«  q6_2: ─■──────────────────────┤ Rx(-1.05000000000000) ├»\n",
       "«                                └───────────────────────┘»\n",
       "«meas: 3/═════════════════════════════════════════════════»\n",
       "«                                                         »\n",
       "«                                                                             »\n",
       "«  q6_0: ─■─────────────────────────────────────────────■─────────────────────»\n",
       "«         │ZZ(1.05000000000000)                         │                     »\n",
       "«  q6_1: ─■──────────────────────■──────────────────────┼─────────────────────»\n",
       "«                                │ZZ(1.05000000000000)  │ZZ(1.05000000000000) »\n",
       "«  q6_2: ────────────────────────■──────────────────────■─────────────────────»\n",
       "«                                                                             »\n",
       "«meas: 3/═════════════════════════════════════════════════════════════════════»\n",
       "«                                                                             »\n",
       "«        ┌────────────────────────┐ ░ ┌─┐      \n",
       "«  q6_0: ┤ Rx(-0.350000000000000) ├─░─┤M├──────\n",
       "«        ├────────────────────────┤ ░ └╥┘┌─┐   \n",
       "«  q6_1: ┤ Rx(-0.350000000000000) ├─░──╫─┤M├───\n",
       "«        ├────────────────────────┤ ░  ║ └╥┘┌─┐\n",
       "«  q6_2: ┤ Rx(-0.350000000000000) ├─░──╫──╫─┤M├\n",
       "«        └────────────────────────┘ ░  ║  ║ └╥┘\n",
       "«meas: 3/══════════════════════════════╩══╩══╩═\n",
       "«                                      0  1  2 "
      ]
     },
     "execution_count": 55,
     "metadata": {},
     "output_type": "execute_result"
    }
   ],
   "source": [
    "#print the full circuit with attached angles\n",
    "current_ckt.draw()"
   ]
  },
  {
   "cell_type": "code",
   "execution_count": 59,
   "metadata": {
    "execution": {
     "iopub.execute_input": "2022-05-09T04:22:04.671618Z",
     "iopub.status.busy": "2022-05-09T04:22:04.671336Z",
     "iopub.status.idle": "2022-05-09T04:23:22.003317Z",
     "shell.execute_reply": "2022-05-09T04:23:22.002129Z",
     "shell.execute_reply.started": "2022-05-09T04:22:04.671593Z"
    },
    "tags": []
   },
   "outputs": [
    {
     "data": {
      "text/plain": [
       "(0.008, 0.17870646322950942)"
      ]
     },
     "execution_count": 59,
     "metadata": {},
     "output_type": "execute_result"
    }
   ],
   "source": [
    "backend_cloud.expectation_w_uncertainty(variate_params)"
   ]
  },
  {
   "cell_type": "code",
   "execution_count": 60,
   "metadata": {
    "execution": {
     "iopub.execute_input": "2022-05-09T04:52:50.599366Z",
     "iopub.status.busy": "2022-05-09T04:52:50.598281Z",
     "iopub.status.idle": "2022-05-09T04:52:50.617566Z",
     "shell.execute_reply": "2022-05-09T04:52:50.616574Z",
     "shell.execute_reply.started": "2022-05-09T04:52:50.599312Z"
    }
   },
   "outputs": [
    {
     "data": {
      "text/plain": [
       "<function openqaoa.basebackend.QAOABaseBackendStatevector.qfim.<locals>.qfim_fun(args)>"
      ]
     },
     "execution_count": 60,
     "metadata": {},
     "output_type": "execute_result"
    }
   ],
   "source": [
    "backend_qiskit_statevec.qfim(variate_params)"
   ]
  },
  {
   "cell_type": "code",
   "execution_count": null,
   "metadata": {},
   "outputs": [],
   "source": [
    "optimizer_dict = {'method': 'cobyla', 'maxiter': 10}"
   ]
  },
  {
   "cell_type": "code",
   "execution_count": null,
   "metadata": {},
   "outputs": [],
   "source": [
    "optimizer_obj = get_optimizer(backend_qiskit_shot, variate_params, optimizer_dict)"
   ]
  },
  {
   "cell_type": "code",
   "execution_count": null,
   "metadata": {},
   "outputs": [
    {
     "data": {
      "text/plain": [
       "Optimizer for VQA of type: QAOABaseBackendShotBased \n",
       "Backend: QAOAQiskitBackendShotBasedSimulator \n",
       "Method: COBYLA with Max Iterations: 10"
      ]
     },
     "execution_count": 24,
     "metadata": {},
     "output_type": "execute_result"
    }
   ],
   "source": [
    "optimizer_obj"
   ]
  },
  {
   "cell_type": "code",
   "execution_count": null,
   "metadata": {},
   "outputs": [
    {
     "data": {
      "text/plain": [
       "{'opt result':      fun: 0.16796875\n",
       "    maxcv: 0.0\n",
       "  message: 'Maximum number of function evaluations has been exceeded.'\n",
       "     nfev: 10\n",
       "   status: 2\n",
       "  success: False\n",
       "        x: array([ 0.23860891, -0.49749158, -0.55008868,  0.57481587]),\n",
       " 'parameter log': [[0.5249999999999999, 0.175, 0.175, 0.5249999999999999],\n",
       "  [1.525, 0.175, 0.175, 0.5249999999999999],\n",
       "  [0.5249999999999999, 1.175, 0.175, 0.5249999999999999],\n",
       "  [0.5249999999999999, 0.175, 1.175, 0.5249999999999999],\n",
       "  [0.5249999999999999, 0.175, 0.175, 1.525],\n",
       "  [0.4285719711458033,\n",
       "   -0.4974915778532932,\n",
       "   -0.5500886845010369,\n",
       "   0.4122919143262636],\n",
       "  [0.31475014759370734,\n",
       "   -1.2912879317166122,\n",
       "   0.03234817895156872,\n",
       "   0.27925341926537217],\n",
       "  [0.3133479216391065,\n",
       "   -0.24268654978312187,\n",
       "   -0.9420833244246505,\n",
       "   0.2776144538638907],\n",
       "  [0.23860890950689823,\n",
       "   -0.4974915778532932,\n",
       "   -0.5500886845010369,\n",
       "   0.5748158670617713],\n",
       "  [0.531542560099041,\n",
       "   -0.5287021363367402,\n",
       "   -0.6856147964570463,\n",
       "   0.955405475916242]],\n",
       " 'final params': [0.23860890950689823,\n",
       "  -0.4974915778532932,\n",
       "  -0.5500886845010369,\n",
       "  0.5748158670617713],\n",
       " 'cost progress list': [0.578125,\n",
       "  0.87890625,\n",
       "  2.67578125,\n",
       "  2.83984375,\n",
       "  0.9296875,\n",
       "  0.21484375,\n",
       "  1.2578125,\n",
       "  0.515625,\n",
       "  0.16796875,\n",
       "  1.83203125],\n",
       " 'count progress list': [{'010': 148,\n",
       "   '011': 145,\n",
       "   '001': 165,\n",
       "   '000': 88,\n",
       "   '111': 60,\n",
       "   '110': 119,\n",
       "   '101': 156,\n",
       "   '100': 143}],\n",
       " 'probability progress list': [],\n",
       " 'optimization method': 'cobyla',\n",
       " 'cost function calls': 10,\n",
       " 'optimal cost': 0.16796875}"
      ]
     },
     "execution_count": 25,
     "metadata": {},
     "output_type": "execute_result"
    }
   ],
   "source": [
    "optimizer_obj()\n",
    "optimizer_obj.results_information()"
   ]
  },
  {
   "cell_type": "code",
   "execution_count": null,
   "metadata": {},
   "outputs": [
    {
     "data": {
      "text/plain": [
       "{'opt result':      fun: 0.1171875\n",
       "    maxcv: 0.0\n",
       "  message: 'Maximum number of function evaluations has been exceeded.'\n",
       "     nfev: 10\n",
       "   status: 2\n",
       "  success: False\n",
       "        x: array([ 0.49041297, -0.5005708 , -0.54492259,  0.23068843]),\n",
       " 'parameter log': [[0.5249999999999999, 0.175, 0.175, 0.5249999999999999],\n",
       "  [1.525, 0.175, 0.175, 0.5249999999999999],\n",
       "  [0.5249999999999999, 1.175, 0.175, 0.5249999999999999],\n",
       "  [0.5249999999999999, 0.175, 1.175, 0.5249999999999999],\n",
       "  [0.5249999999999999, 0.175, 0.175, 1.525],\n",
       "  [0.4285719711458033,\n",
       "   -0.4974915778532932,\n",
       "   -0.5500886845010369,\n",
       "   0.4122919143262636],\n",
       "  [0.31475014759370734,\n",
       "   -1.2912879317166122,\n",
       "   0.03234817895156872,\n",
       "   0.27925341926537217],\n",
       "  [0.3133479216391065,\n",
       "   -0.24268654978312187,\n",
       "   -0.9420833244246505,\n",
       "   0.2776144538638907],\n",
       "  [0.23860890950689823,\n",
       "   -0.4974915778532932,\n",
       "   -0.5500886845010369,\n",
       "   0.5748158670617713],\n",
       "  [0.531542560099041,\n",
       "   -0.5287021363367402,\n",
       "   -0.6856147964570463,\n",
       "   0.955405475916242],\n",
       "  [0.5249999999999999, 0.175, 0.175, 0.5249999999999999],\n",
       "  [1.525, 0.175, 0.175, 0.5249999999999999],\n",
       "  [0.5249999999999999, 1.175, 0.175, 0.5249999999999999],\n",
       "  [0.5249999999999999, 0.175, 1.175, 0.5249999999999999],\n",
       "  [0.5249999999999999, 0.175, 0.175, 1.525],\n",
       "  [0.49041297149124946,\n",
       "   -0.5167405701750092,\n",
       "   -0.5449225934043616,\n",
       "   0.4801649630442123],\n",
       "  [0.47146383443078166,\n",
       "   -0.8957233113843655,\n",
       "   -0.22025409031295318,\n",
       "   0.45560126685471697],\n",
       "  [0.49041297149124946,\n",
       "   -0.5005707951661613,\n",
       "   -0.5449225934043616,\n",
       "   0.23068843433627303],\n",
       "  [0.45845626284521196,\n",
       "   -0.3480445339588163,\n",
       "   -0.7334788546309645,\n",
       "   -0.20538615190656925],\n",
       "  [0.2428837866826944,\n",
       "   -0.5190813870234918,\n",
       "   -0.515169925765204,\n",
       "   0.22948867375292753]],\n",
       " 'final params': [0.49041297149124946,\n",
       "  -0.5005707951661613,\n",
       "  -0.5449225934043616,\n",
       "  0.23068843433627303],\n",
       " 'cost progress list': [0.578125,\n",
       "  0.87890625,\n",
       "  2.67578125,\n",
       "  2.83984375,\n",
       "  0.9296875,\n",
       "  0.21484375,\n",
       "  1.2578125,\n",
       "  0.515625,\n",
       "  0.16796875,\n",
       "  1.83203125,\n",
       "  0.65234375,\n",
       "  0.7578125,\n",
       "  2.76171875,\n",
       "  2.84765625,\n",
       "  0.7890625,\n",
       "  0.484375,\n",
       "  0.83984375,\n",
       "  0.1171875,\n",
       "  0.69921875,\n",
       "  0.22265625],\n",
       " 'count progress list': [{'010': 148,\n",
       "   '011': 145,\n",
       "   '001': 165,\n",
       "   '000': 88,\n",
       "   '111': 60,\n",
       "   '110': 119,\n",
       "   '101': 156,\n",
       "   '100': 143}],\n",
       " 'probability progress list': [],\n",
       " 'optimization method': 'cobyla',\n",
       " 'cost function calls': 10,\n",
       " 'optimal cost': 0.1171875}"
      ]
     },
     "execution_count": 26,
     "metadata": {},
     "output_type": "execute_result"
    }
   ],
   "source": [
    "optimizer_obj()\n",
    "optimizer_obj.results_information()"
   ]
  },
  {
   "cell_type": "markdown",
   "metadata": {},
   "source": [
    "### Some useful functions to play around with!"
   ]
  },
  {
   "cell_type": "code",
   "execution_count": 19,
   "metadata": {
    "execution": {
     "iopub.execute_input": "2022-05-09T06:58:08.537445Z",
     "iopub.status.busy": "2022-05-09T06:58:08.537099Z",
     "iopub.status.idle": "2022-05-09T06:58:08.544445Z",
     "shell.execute_reply": "2022-05-09T06:58:08.543300Z",
     "shell.execute_reply.started": "2022-05-09T06:58:08.537417Z"
    },
    "tags": []
   },
   "outputs": [],
   "source": [
    "from openqaoa.utilities import plot_energy_spectrum"
   ]
  },
  {
   "cell_type": "code",
   "execution_count": 20,
   "metadata": {
    "execution": {
     "iopub.execute_input": "2022-05-09T06:58:45.111144Z",
     "iopub.status.busy": "2022-05-09T06:58:45.110836Z",
     "iopub.status.idle": "2022-05-09T06:58:45.314491Z",
     "shell.execute_reply": "2022-05-09T06:58:45.313626Z",
     "shell.execute_reply.started": "2022-05-09T06:58:45.111121Z"
    }
   },
   "outputs": [
    {
     "data": {
      "image/png": "[encoded data removed]",
      "text/plain": [
       "<Figure size 216x360 with 1 Axes>"
      ]
     },
     "metadata": {
      "needs_background": "light"
     },
     "output_type": "display_data"
    }
   ],
   "source": [
    "plot_energy_spectrum(cost_hamil)"
   ]
  }
 ],
 "metadata": {
  "interpreter": {
   "hash": "ffc96233305d7122dc6732a5f9b7f44477470c7d091ce18c27b788d4d214d89a"
  },
  "kernelspec": {
   "display_name": "Python 3",
   "language": "python",
   "name": "python3"
  },
  "language_info": {
   "codemirror_mode": {
    "name": "ipython",
    "version": 3
   },
   "file_extension": ".py",
   "mimetype": "text/x-python",
   "name": "python",
   "nbconvert_exporter": "python",
   "pygments_lexer": "ipython3",
   "version": "3.8.1"
  }
 },
 "nbformat": 4,
 "nbformat_minor": 4
}
