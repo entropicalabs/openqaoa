{
 "cells": [
  {
   "cell_type": "code",
   "execution_count": 1,
   "metadata": {},
   "outputs": [],
   "source": [
    "%load_ext autoreload\n",
    "%autoreload 2"
   ]
  },
  {
   "cell_type": "code",
   "execution_count": 2,
   "metadata": {},
   "outputs": [],
   "source": [
    "import networkx as nx\n",
    "import numpy as np\n",
    "from openqaoa.problems.problem import MinimumVertexCover, NumberPartition\n",
    "import matplotlib.pyplot as plt\n",
    "from pprint import pprint\n",
    "from openqaoa.devices import create_device, DeviceLocal"
   ]
  },
  {
   "cell_type": "code",
   "execution_count": 3,
   "metadata": {},
   "outputs": [],
   "source": [
    "g = nx.circulant_graph(6, [1])\n",
    "vc = MinimumVertexCover(g, field =1.0, penalty=10).get_pubo_problem()"
   ]
  },
  {
   "cell_type": "code",
   "execution_count": 4,
   "metadata": {},
   "outputs": [],
   "source": [
    "from openqaoa.workflows.optimizer import QAOA  "
   ]
  },
  {
   "cell_type": "code",
   "execution_count": 5,
   "metadata": {},
   "outputs": [
    {
     "name": "stdout",
     "output_type": "stream",
     "text": [
      "\t \u001b[1m ### Summary ###\u001b[0m\n",
      "OpenQAOA has ben compiled with the following properties\n",
      "Solving QAOA with \u001b[1m vectorized \u001b[0m on  \u001b[1mlocal\u001b[0m\n",
      "Using p=1 with standard parameters initialsied as ramp\n",
      "OpenQAOA will optimize using \u001b[1mcobyla\u001b[0m, with up to \u001b[1m100\u001b[0m maximum iterations\n"
     ]
    }
   ],
   "source": [
    "q = QAOA()\n",
    "q.compile(vc)"
   ]
  },
  {
   "cell_type": "code",
   "execution_count": 6,
   "metadata": {},
   "outputs": [
    {
     "name": "stdout",
     "output_type": "stream",
     "text": [
      "optimization completed.\n"
     ]
    }
   ],
   "source": [
    "q.optimize()"
   ]
  },
  {
   "cell_type": "code",
   "execution_count": 7,
   "metadata": {},
   "outputs": [
    {
     "data": {
      "text/plain": [
       "{'bitstring': ['101010', '010101'], 'degeneracy': 2}"
      ]
     },
     "execution_count": 7,
     "metadata": {},
     "output_type": "execute_result"
    }
   ],
   "source": [
    "q.results_information.solution"
   ]
  },
  {
   "cell_type": "code",
   "execution_count": 8,
   "metadata": {},
   "outputs": [
    {
     "data": {
      "text/plain": [
       "Optimization Results:\n",
       "\tThe solution is 2 degenerate\n",
       "\tThe most probable bitstrings are: ['101010', '010101']\n",
       "\tThe associated cost is: 14.167910003143662"
      ]
     },
     "execution_count": 8,
     "metadata": {},
     "output_type": "execute_result"
    }
   ],
   "source": [
    "q.results_information"
   ]
  },
  {
   "cell_type": "code",
   "execution_count": 9,
   "metadata": {},
   "outputs": [
    {
     "data": {
      "text/plain": [
       "{'bitstring': ['101010', '010101'], 'degeneracy': 2}"
      ]
     },
     "execution_count": 9,
     "metadata": {},
     "output_type": "execute_result"
    }
   ],
   "source": [
    "q.results_information.solution"
   ]
  },
  {
   "cell_type": "code",
   "execution_count": 12,
   "metadata": {},
   "outputs": [
    {
     "data": {
      "image/png": "[encoded data removed]",
      "text/plain": [
       "<Figure size 720x576 with 1 Axes>"
      ]
     },
     "metadata": {
      "needs_background": "light"
     },
     "output_type": "display_data"
    }
   ],
   "source": [
    "q.results_information.plot_cost()"
   ]
  },
  {
   "cell_type": "code",
   "execution_count": 15,
   "metadata": {},
   "outputs": [
    {
     "data": {
      "text/plain": [
       "{'optimized param': [0.3668402485100329, 0.38347425646317035],\n",
       " 'optimized cost': 14.167910003143662,\n",
       " 'optimized measurement outcomes': {'000000': (0.04367802658819593-0.03590157535644906j),\n",
       "  '100000': (0.05166536274517492-0.040329192172546324j),\n",
       "  '010000': (0.051665362745174914-0.04032919217254633j),\n",
       "  '110000': (0.04179961028088247+0.04905651362611038j),\n",
       "  '001000': (0.0516653627451749-0.040329192172546345j),\n",
       "  '101000': (0.023111490546416424-0.096483777950787j),\n",
       "  '011000': (0.041799610280882485+0.04905651362611033j),\n",
       "  '111000': (-0.06978090020405697-0.0677115209776427j),\n",
       "  '000100': (0.05166536274517491-0.04032919217254631j),\n",
       "  '100100': (-0.0715105884593574-0.21039769174945877j),\n",
       "  '010100': (0.023111490546416424-0.09648377795078705j),\n",
       "  '110100': (-0.02892349541810551+0.15882109119193769j),\n",
       "  '001100': (0.04179961028088249+0.04905651362611036j),\n",
       "  '101100': (-0.028923495418105516+0.15882109119193766j),\n",
       "  '011100': (-0.06978090020405697-0.06771152097764269j),\n",
       "  '111100': (-0.06552159482190602+0.10038782664002804j),\n",
       "  '000010': (0.0516653627451749-0.04032919217254634j),\n",
       "  '100010': (0.023111490546416397-0.096483777950787j),\n",
       "  '010010': (-0.0715105884593574-0.21039769174945883j),\n",
       "  '110010': (-0.028923495418105544+0.15882109119193769j),\n",
       "  '001010': (0.023111490546416445-0.09648377795078698j),\n",
       "  '101010': (0.26463579324359+0.17544802262739392j),\n",
       "  '011010': (-0.02892349541810557+0.1588210911919377j),\n",
       "  '111010': (0.03936570269934404+0.02743044717811551j),\n",
       "  '000110': (0.04179961028088246+0.049056513626110354j),\n",
       "  '100110': (-0.028923495418105523+0.1588210911919377j),\n",
       "  '010110': (-0.028923495418105526+0.1588210911919377j),\n",
       "  '110110': (-0.055256376306429794-0.08648346662055628j),\n",
       "  '001110': (-0.06978090020405696-0.06771152097764269j),\n",
       "  '101110': (0.03936570269934404+0.02743044717811549j),\n",
       "  '011110': (-0.06552159482190599+0.10038782664002799j),\n",
       "  '111110': (0.05387816883895018+0.004981260371520791j),\n",
       "  '000001': (0.051665362745174914-0.040329192172546324j),\n",
       "  '100001': (0.04179961028088248+0.04905651362611035j),\n",
       "  '010001': (0.023111490546416424-0.09648377795078703j),\n",
       "  '110001': (-0.06978090020405694-0.0677115209776427j),\n",
       "  '001001': (-0.07151058845935741-0.21039769174945877j),\n",
       "  '101001': (-0.028923495418105516+0.1588210911919377j),\n",
       "  '011001': (-0.028923495418105547+0.15882109119193766j),\n",
       "  '111001': (-0.06552159482190602+0.10038782664002799j),\n",
       "  '000101': (0.02311149054641641-0.09648377795078703j),\n",
       "  '100101': (-0.028923495418105495+0.15882109119193769j),\n",
       "  '010101': (0.26463579324359+0.17544802262739392j),\n",
       "  '110101': (0.03936570269934402+0.02743044717811552j),\n",
       "  '001101': (-0.028923495418105547+0.1588210911919377j),\n",
       "  '101101': (-0.0552563763064298-0.08648346662055628j),\n",
       "  '011101': (0.03936570269934404+0.027430447178115498j),\n",
       "  '111101': (0.05387816883895018+0.004981260371520788j),\n",
       "  '000011': (0.04179961028088248+0.04905651362611034j),\n",
       "  '100011': (-0.06978090020405694-0.0677115209776427j),\n",
       "  '010011': (-0.028923495418105537+0.15882109119193769j),\n",
       "  '110011': (-0.06552159482190598+0.10038782664002802j),\n",
       "  '001011': (-0.028923495418105537+0.15882109119193769j),\n",
       "  '101011': (0.03936570269934403+0.027430447178115498j),\n",
       "  '011011': (-0.05525637630642979-0.08648346662055627j),\n",
       "  '111011': (0.05387816883895019+0.004981260371520808j),\n",
       "  '000111': (-0.06978090020405694-0.06771152097764269j),\n",
       "  '100111': (-0.065521594821906+0.100387826640028j),\n",
       "  '010111': (0.039365702699344064+0.027430447178115484j),\n",
       "  '110111': (0.05387816883895018+0.004981260371520784j),\n",
       "  '001111': (-0.065521594821906+0.10038782664002797j),\n",
       "  '101111': (0.05387816883895016+0.004981260371520777j),\n",
       "  '011111': (0.053878168838950156+0.0049812603715207945j),\n",
       "  '111111': (0.1213045558382995+0.06249581227491022j)}}"
      ]
     },
     "execution_count": 15,
     "metadata": {},
     "output_type": "execute_result"
    }
   ],
   "source": [
    "q.results_information.optimized"
   ]
  },
  {
   "cell_type": "code",
   "execution_count": null,
   "metadata": {},
   "outputs": [],
   "source": []
  },
  {
   "cell_type": "code",
   "execution_count": null,
   "metadata": {},
   "outputs": [],
   "source": []
  },
  {
   "cell_type": "code",
   "execution_count": null,
   "metadata": {},
   "outputs": [],
   "source": []
  },
  {
   "cell_type": "code",
   "execution_count": 17,
   "metadata": {},
   "outputs": [],
   "source": [
    "from openqaoa.optimizers.logger_vqa import Logger"
   ]
  },
  {
   "cell_type": "code",
   "execution_count": 19,
   "metadata": {},
   "outputs": [
    {
     "data": {
      "text/plain": [
       "<openqaoa.optimizers.logger_vqa.Logger at 0x7f9ec84e8130>"
      ]
     },
     "execution_count": 19,
     "metadata": {},
     "output_type": "execute_result"
    }
   ],
   "source": [
    "q.optimizer.log"
   ]
  },
  {
   "cell_type": "code",
   "execution_count": 26,
   "metadata": {},
   "outputs": [
    {
     "data": {
      "text/plain": [
       "[['evals',\n",
       "  'intermediate',\n",
       "  'log',\n",
       "  'method',\n",
       "  'optimized',\n",
       "  'plot_cost',\n",
       "  'solution']]"
      ]
     },
     "execution_count": 26,
     "metadata": {},
     "output_type": "execute_result"
    }
   ],
   "source": [
    "[a for a in dir(q.results_information) if not a.startswith('__')]"
   ]
  }
 ],
 "metadata": {
  "kernelspec": {
   "display_name": "openqaoa_may22",
   "language": "python",
   "name": "openqaoa_may22"
  },
  "language_info": {
   "codemirror_mode": {
    "name": "ipython",
    "version": 3
   },
   "file_extension": ".py",
   "mimetype": "text/x-python",
   "name": "python",
   "nbconvert_exporter": "python",
   "pygments_lexer": "ipython3",
   "version": "3.8.13"
  }
 },
 "nbformat": 4,
 "nbformat_minor": 4
}
