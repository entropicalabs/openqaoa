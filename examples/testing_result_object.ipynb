{
 "cells": [
  {
   "cell_type": "code",
   "execution_count": 1,
   "metadata": {},
   "outputs": [],
   "source": [
    "%load_ext autoreload\n",
    "%autoreload 2"
   ]
  },
  {
   "cell_type": "code",
   "execution_count": 2,
   "metadata": {},
   "outputs": [],
   "source": [
    "import networkx as nx\n",
    "import numpy as np\n",
    "from openqaoa.problems.problem import MinimumVertexCover, NumberPartition\n",
    "import matplotlib.pyplot as plt\n",
    "from pprint import pprint\n",
    "from openqaoa.devices import create_device, DeviceLocal"
   ]
  },
  {
   "cell_type": "code",
   "execution_count": 3,
   "metadata": {},
   "outputs": [],
   "source": [
    "g = nx.circulant_graph(6, [1])\n",
    "vc = MinimumVertexCover(g, field =1.0, penalty=10).get_qubo_problem()"
   ]
  },
  {
   "cell_type": "code",
   "execution_count": 4,
   "metadata": {},
   "outputs": [],
   "source": [
    "from openqaoa.workflows.optimizer import QAOA  "
   ]
  },
  {
   "cell_type": "code",
   "execution_count": 5,
   "metadata": {},
   "outputs": [
    {
     "name": "stdout",
     "output_type": "stream",
     "text": [
      "\t \u001b[1m ### Summary ###\u001b[0m\n",
      "OpenQAOA has ben compiled with the following properties\n",
      "Solving QAOA with \u001b[1m vectorized \u001b[0m on  \u001b[1mlocal\u001b[0m\n",
      "Using p=1 with standard parameters initialsied as ramp\n",
      "OpenQAOA will optimize using \u001b[1mcobyla\u001b[0m, with up to \u001b[1m100\u001b[0m maximum iterations\n"
     ]
    }
   ],
   "source": [
    "q = QAOA()\n",
    "q.compile(vc)"
   ]
  },
  {
   "cell_type": "code",
   "execution_count": 6,
   "metadata": {},
   "outputs": [
    {
     "name": "stdout",
     "output_type": "stream",
     "text": [
      "optimization completed.\n"
     ]
    }
   ],
   "source": [
    "q.optimize()"
   ]
  },
  {
   "cell_type": "code",
   "execution_count": 7,
   "metadata": {},
   "outputs": [
    {
     "data": {
      "text/plain": [
       "{'number of evals': 100, 'jac evals': 0, 'qfim evals': 0}"
      ]
     },
     "execution_count": 7,
     "metadata": {},
     "output_type": "execute_result"
    }
   ],
   "source": [
    "q.optimizer.qaoa_result.evals"
   ]
  },
  {
   "cell_type": "code",
   "execution_count": 8,
   "metadata": {},
   "outputs": [
    {
     "data": {
      "text/plain": [
       "{'degeneracy': 2,\n",
       " 'solutions_bitstrings': ['101010', '010101'],\n",
       " 'bitstring_energy': 3.0}"
      ]
     },
     "execution_count": 8,
     "metadata": {},
     "output_type": "execute_result"
    }
   ],
   "source": [
    "q.results.most_probable_states"
   ]
  },
  {
   "cell_type": "markdown",
   "metadata": {},
   "source": [
    "## Qiskit statevector_simulator"
   ]
  },
  {
   "cell_type": "code",
   "execution_count": 9,
   "metadata": {},
   "outputs": [],
   "source": [
    "q_qiskit_sv = QAOA()\n",
    "qiskit_dev = create_device(location='local',name='qiskit.statevector_simulator')\n",
    "q_qiskit_sv.set_device(qiskit_dev)"
   ]
  },
  {
   "cell_type": "code",
   "execution_count": 10,
   "metadata": {},
   "outputs": [
    {
     "name": "stdout",
     "output_type": "stream",
     "text": [
      "\t \u001b[1m ### Summary ###\u001b[0m\n",
      "OpenQAOA has ben compiled with the following properties\n",
      "Solving QAOA with \u001b[1m qiskit.statevector_simulator \u001b[0m on  \u001b[1mlocal\u001b[0m\n",
      "Using p=1 with standard parameters initialsied as ramp\n",
      "OpenQAOA will optimize using \u001b[1mcobyla\u001b[0m, with up to \u001b[1m100\u001b[0m maximum iterations. Each iteration will contain \u001b[1m100 shots\u001b[0m\n",
      "The total numner of shots is set to maxiter*shots = 10000\n"
     ]
    }
   ],
   "source": [
    "q_qiskit_sv.compile(vc)"
   ]
  },
  {
   "cell_type": "code",
   "execution_count": 11,
   "metadata": {},
   "outputs": [
    {
     "name": "stdout",
     "output_type": "stream",
     "text": [
      "optimization completed.\n"
     ]
    }
   ],
   "source": [
    "q_qiskit_sv.optimize()"
   ]
  },
  {
   "cell_type": "code",
   "execution_count": 12,
   "metadata": {},
   "outputs": [
    {
     "data": {
      "text/plain": [
       "{'degeneracy': 1, 'solutions_bitstrings': ['010101'], 'bitstring_energy': 3.0}"
      ]
     },
     "execution_count": 12,
     "metadata": {},
     "output_type": "execute_result"
    }
   ],
   "source": [
    "q_qiskit_sv.results.most_probable_states"
   ]
  },
  {
   "cell_type": "code",
   "execution_count": 13,
   "metadata": {},
   "outputs": [
    {
     "data": {
      "text/plain": [
       "{'number of evals': 79, 'jac evals': 0, 'qfim evals': 0}"
      ]
     },
     "execution_count": 13,
     "metadata": {},
     "output_type": "execute_result"
    }
   ],
   "source": [
    "q_qiskit_sv.results.evals"
   ]
  },
  {
   "cell_type": "code",
   "execution_count": 14,
   "metadata": {},
   "outputs": [
    {
     "data": {
      "text/plain": [
       "{'parameter log': [[0.35, 0.35],\n",
       "  [1.35, 0.35],\n",
       "  [0.35, 1.35],\n",
       "  [-0.44097290794719446, -0.26185117381072265],\n",
       "  [-0.04548645397359724, 0.044074413094638665],\n",
       "  [0.5910254401734722, 0.2836167401434372],\n",
       "  [0.2668839951627963, 0.5857789849411985],\n",
       "  [0.2991342195519147, 0.2358173726900314],\n",
       "  [0.34054317042391263, 0.4117804044529399],\n",
       "  [0.3714333726503826, 0.4165088192409836],\n",
       "  [0.2780435571509034, 0.4120002696941334],\n",
       "  [0.3420728698178227, 0.44299294231457925],\n",
       "  [0.3405043156802806, 0.39615545276312986],\n",
       "  [0.34048594327263326, 0.3805304635645852],\n",
       "  [0.35175581111561866, 0.36970776963924273],\n",
       "  [0.325828032119901, 0.37511878493050066],\n",
       "  [0.3464554871686583, 0.37549065186934993],\n",
       "  [0.33705029119494756, 0.3786716779761985],\n",
       "  [0.3407975951042019, 0.3844242614790101],\n",
       "  [0.3440392922127877, 0.3866037542912686],\n",
       "  [0.33961792260304285, 0.38598088283811904],\n",
       "  [0.34123744593298655, 0.38355236379876106],\n",
       "  [0.340801497092862, 0.3833324383843687],\n",
       "  [0.34212539261169567, 0.38395884259547214],\n",
       "  [0.34301638912731597, 0.3843585919238753],\n",
       "  [0.34398683564806737, 0.38446771509633515],\n",
       "  [0.34485898776445373, 0.3849070612039645],\n",
       "  [0.34558833244287995, 0.38425765327634304],\n",
       "  [0.3463987515939966, 0.3837127724490884],\n",
       "  [0.34729324744589013, 0.3841046289117779],\n",
       "  [0.3482286317906322, 0.3843852183699152],\n",
       "  [0.3491490571731905, 0.38405888812070643],\n",
       "  [0.3501103164706246, 0.3838866821989072],\n",
       "  [0.35095821496353885, 0.3843711844817914],\n",
       "  [0.3519145405745178, 0.3841734077334312],\n",
       "  [0.352866094243143, 0.383953817359935],\n",
       "  [0.3538402635154912, 0.3840221441132521],\n",
       "  [0.3547475235210589, 0.3836608220980033],\n",
       "  [0.35570001520997596, 0.3838763073618851],\n",
       "  [0.35667056868040875, 0.3839844751825948],\n",
       "  [0.35744230880855027, 0.38338606772022293],\n",
       "  [0.3583525118268906, 0.3837399105975151],\n",
       "  [0.3592454879106613, 0.3841352181110027],\n",
       "  [0.3600172338555119, 0.38353681815026325],\n",
       "  [0.360890202597572, 0.383099096901302],\n",
       "  [0.36138045842143307, 0.38394368173634025],\n",
       "  [0.361948015972816, 0.3847383846633982],\n",
       "  [0.36166423719712454, 0.38434103319986923],\n",
       "  [0.36157913415319753, 0.38380179234849454],\n",
       "  [0.3616505788227979, 0.38331876622260974],\n",
       "  [0.3618114070439083, 0.3838769850942634],\n",
       "  [0.3619810701104858, 0.38370143143120017],\n",
       "  [0.36217077150049176, 0.38354774985323714],\n",
       "  [0.36239969580529763, 0.38363259269291455],\n",
       "  [0.36264050573867984, 0.3836727825020687],\n",
       "  [0.36287728733045543, 0.3836132919770112],\n",
       "  [0.3631214230244424, 0.38361174030150175],\n",
       "  [0.36335884344503544, 0.3835548527926725],\n",
       "  [0.36359023912524707, 0.38363270318737147],\n",
       "  [0.3638341175132928, 0.3836440158625462],\n",
       "  [0.3640648248117975, 0.3837238831724549],\n",
       "  [0.3642445336287667, 0.3835586276555154],\n",
       "  [0.3644580546106999, 0.3834402493000205],\n",
       "  [0.3646403742738151, 0.38360261981833266],\n",
       "  [0.3648603815929477, 0.38370845659976277],\n",
       "  [0.36480971150864344, 0.3839472811950874],\n",
       "  [0.3650048861380793, 0.3835116747885817],\n",
       "  [0.36520795465704814, 0.38337614685279287],\n",
       "  [0.36509928650272194, 0.38315752417096244],\n",
       "  [0.3653621479993365, 0.3835654325045717],\n",
       "  [0.36554258191283756, 0.3837298960191701],\n",
       "  [0.3654360537303065, 0.3836327967601512],\n",
       "  [0.3655172978852793, 0.3835744924954465],\n",
       "  [0.3656016037596682, 0.3835207103465166],\n",
       "  [0.3657009553222196, 0.3835093407810631],\n",
       "  [0.36579787851449375, 0.38348472585064697],\n",
       "  [0.365830519600867, 0.3833902030519137],\n",
       "  [0.3658715885915475, 0.38355230413518226],\n",
       "  [0.3659094458852916, 0.38364486128136976]],\n",
       " 'intermediate cost': [15.412157445012758,\n",
       "  20.03606273663746,\n",
       "  18.988944781019796,\n",
       "  19.91487133661368,\n",
       "  19.453974295618313,\n",
       "  19.085952749470557,\n",
       "  33.226503086051984,\n",
       "  19.196905390568055,\n",
       "  15.238776099223195,\n",
       "  15.792095271089778,\n",
       "  15.246815567045344,\n",
       "  19.132886877707445,\n",
       "  14.38059817960303,\n",
       "  14.213473974133734,\n",
       "  14.423542384770462,\n",
       "  14.341472007841919,\n",
       "  14.277445273741694,\n",
       "  14.243394907225031,\n",
       "  14.194765630003175,\n",
       "  14.196183482328484,\n",
       "  14.20037239208163,\n",
       "  14.194663581653101,\n",
       "  14.196008455056173,\n",
       "  14.192419421452378,\n",
       "  14.190697751121395,\n",
       "  14.189081604155682,\n",
       "  14.188191515115838,\n",
       "  14.186392123316644,\n",
       "  14.185373469764425,\n",
       "  14.183780010705398,\n",
       "  14.182538814396528,\n",
       "  14.181166127156583,\n",
       "  14.179933441796528,\n",
       "  14.179008873018134,\n",
       "  14.177750348391509,\n",
       "  14.176630100431195,\n",
       "  14.175609099101594,\n",
       "  14.174757410667766,\n",
       "  14.17379813856165,\n",
       "  14.172984211450347,\n",
       "  14.172550878293062,\n",
       "  14.171638747184804,\n",
       "  14.171217143980082,\n",
       "  14.170566746374341,\n",
       "  14.170469816782377,\n",
       "  14.169846320556736,\n",
       "  14.171011801678091,\n",
       "  14.170207396825885,\n",
       "  14.169672298423915,\n",
       "  14.16976905310874,\n",
       "  14.169594492987024,\n",
       "  14.169452881352761,\n",
       "  14.1693730261425,\n",
       "  14.169254701247375,\n",
       "  14.169149813925065,\n",
       "  14.169046406811528,\n",
       "  14.168945688899559,\n",
       "  14.168855444225532,\n",
       "  14.168765112957075,\n",
       "  14.168678471084233,\n",
       "  14.168620111239655,\n",
       "  14.168535174017382,\n",
       "  14.16848884895635,\n",
       "  14.168411796372334,\n",
       "  14.168374942922052,\n",
       "  14.168557502404436,\n",
       "  14.168306887693266,\n",
       "  14.168288048018027,\n",
       "  14.16848162170165,\n",
       "  14.168210657007075,\n",
       "  14.16821509499841,\n",
       "  14.168202938130321,\n",
       "  14.168173381863715,\n",
       "  14.168151502273254,\n",
       "  14.168128668019083,\n",
       "  14.168108467851072,\n",
       "  14.168123142993226,\n",
       "  14.168090799768647,\n",
       "  14.16810100489247],\n",
       " 'intermediate measurement outcomes': []}"
      ]
     },
     "execution_count": 14,
     "metadata": {},
     "output_type": "execute_result"
    }
   ],
   "source": [
    "q_qiskit_sv.results.intermediate"
   ]
  },
  {
   "cell_type": "code",
   "execution_count": 15,
   "metadata": {},
   "outputs": [
    {
     "data": {
      "text/plain": [
       "{'optimized param': [0.3658715885915475, 0.38355230413518226],\n",
       " 'optimized cost': 14.168090799768647,\n",
       " 'optimized measurement outcomes': array([ 0.01893555-0.05307081j,  0.02375519-0.06078839j,\n",
       "         0.02375519-0.06078839j,  0.06101323+0.020964j  ,\n",
       "         0.02375519-0.06078839j, -0.02895558-0.0953629j ,\n",
       "         0.06101323+0.020964j  , -0.09423294-0.02319824j,\n",
       "         0.02375519-0.06078839j, -0.16787909-0.14559668j,\n",
       "        -0.02895558-0.0953629j ,  0.05534883+0.15172037j,\n",
       "         0.06101323+0.020964j  ,  0.05534883+0.15172037j,\n",
       "        -0.09423294-0.02319824j, -0.00553962+0.11973528j,\n",
       "         0.02375519-0.06078839j, -0.02895558-0.0953629j ,\n",
       "        -0.16787909-0.14559668j,  0.05534883+0.15172037j,\n",
       "        -0.02895558-0.0953629j ,  0.31680217+0.01725375j,\n",
       "         0.05534883+0.15172037j,  0.04810081+0.00340838j,\n",
       "         0.06101323+0.020964j  ,  0.05534883+0.15172037j,\n",
       "         0.05534883+0.15172037j, -0.09082271-0.04682541j,\n",
       "        -0.09423294-0.02319824j,  0.04810081+0.00340838j,\n",
       "        -0.00553962+0.11973528j,  0.0491509 -0.02303729j,\n",
       "         0.02375519-0.06078839j,  0.06101323+0.020964j  ,\n",
       "        -0.02895558-0.0953629j , -0.09423294-0.02319824j,\n",
       "        -0.16787909-0.14559668j,  0.05534883+0.15172037j,\n",
       "         0.05534883+0.15172037j, -0.00553962+0.11973528j,\n",
       "        -0.02895558-0.0953629j ,  0.05534883+0.15172037j,\n",
       "         0.31680217+0.01725375j,  0.04810081+0.00340838j,\n",
       "         0.05534883+0.15172037j, -0.09082271-0.04682541j,\n",
       "         0.04810081+0.00340838j,  0.0491509 -0.02303729j,\n",
       "         0.06101323+0.020964j  , -0.09423294-0.02319824j,\n",
       "         0.05534883+0.15172037j, -0.00553962+0.11973528j,\n",
       "         0.05534883+0.15172037j,  0.04810081+0.00340838j,\n",
       "        -0.09082271-0.04682541j,  0.0491509 -0.02303729j,\n",
       "        -0.09423294-0.02319824j, -0.00553962+0.11973528j,\n",
       "         0.04810081+0.00340838j,  0.0491509 -0.02303729j,\n",
       "        -0.00553962+0.11973528j,  0.0491509 -0.02303729j,\n",
       "         0.0491509 -0.02303729j,  0.13607071-0.0077162j ])}"
      ]
     },
     "execution_count": 15,
     "metadata": {},
     "output_type": "execute_result"
    }
   ],
   "source": [
    "q_qiskit_sv.results.optimized"
   ]
  },
  {
   "cell_type": "markdown",
   "metadata": {},
   "source": [
    "### Qiskit shot simulator"
   ]
  },
  {
   "cell_type": "code",
   "execution_count": 16,
   "metadata": {},
   "outputs": [],
   "source": [
    "q_qiskit_shot = QAOA()\n",
    "qiskit_shot_dev = create_device(location='local',name='qiskit.shot_simulator')\n",
    "q_qiskit_shot.set_device(qiskit_shot_dev)"
   ]
  },
  {
   "cell_type": "code",
   "execution_count": 17,
   "metadata": {},
   "outputs": [
    {
     "name": "stdout",
     "output_type": "stream",
     "text": [
      "\t \u001b[1m ### Summary ###\u001b[0m\n",
      "OpenQAOA has ben compiled with the following properties\n",
      "Solving QAOA with \u001b[1m qiskit.shot_simulator \u001b[0m on  \u001b[1mlocal\u001b[0m\n",
      "Using p=1 with standard parameters initialsied as ramp\n",
      "OpenQAOA will optimize using \u001b[1mcobyla\u001b[0m, with up to \u001b[1m100\u001b[0m maximum iterations. Each iteration will contain \u001b[1m100 shots\u001b[0m\n",
      "The total numner of shots is set to maxiter*shots = 10000\n"
     ]
    }
   ],
   "source": [
    "q_qiskit_shot.compile(vc)"
   ]
  },
  {
   "cell_type": "code",
   "execution_count": 18,
   "metadata": {},
   "outputs": [
    {
     "name": "stdout",
     "output_type": "stream",
     "text": [
      "optimization completed.\n"
     ]
    }
   ],
   "source": [
    "q_qiskit_shot.optimize()"
   ]
  },
  {
   "cell_type": "code",
   "execution_count": 19,
   "metadata": {},
   "outputs": [
    {
     "data": {
      "text/plain": [
       "{'degeneracy': 1, 'solutions_bitstrings': ['111010'], 'bitstring_energy': 4.0}"
      ]
     },
     "execution_count": 19,
     "metadata": {},
     "output_type": "execute_result"
    }
   ],
   "source": [
    "q_qiskit_shot.results.most_probable_states"
   ]
  },
  {
   "cell_type": "code",
   "execution_count": 20,
   "metadata": {},
   "outputs": [
    {
     "data": {
      "text/plain": [
       "{'number of evals': 27, 'jac evals': 0, 'qfim evals': 0}"
      ]
     },
     "execution_count": 20,
     "metadata": {},
     "output_type": "execute_result"
    }
   ],
   "source": [
    "q_qiskit_shot.results.evals"
   ]
  },
  {
   "cell_type": "code",
   "execution_count": 21,
   "metadata": {},
   "outputs": [
    {
     "data": {
      "text/plain": [
       "{'parameter log': [[0.35, 0.35],\n",
       "  [1.35, 0.35],\n",
       "  [0.35, 1.35],\n",
       "  [-0.47776791521905526, -0.21107065378069723],\n",
       "  [-0.5258250949272772, -1.2099152400294748],\n",
       "  [-0.7702482369304398, 0.19446018525821607],\n",
       "  [-0.2385578216838148, -0.13841715317087439],\n",
       "  [-0.019674895642545487, -0.2592073211797493],\n",
       "  [-0.22220917579263907, 0.11104771765771534],\n",
       "  [-0.1702116735998666, -0.24307757569097993],\n",
       "  [-0.2414639505734092, -0.0759847544112795],\n",
       "  [-0.30065278663471734, -0.14552104842250835],\n",
       "  [-0.21212024154034542, -0.15507899148954837],\n",
       "  [-0.25399992099746765, -0.14080088843035304],\n",
       "  [-0.2344057345381406, -0.12335392651339071],\n",
       "  [-0.23183435757556148, -0.14239586987793326],\n",
       "  [-0.23845659558438645, -0.13451221497170984],\n",
       "  [-0.24235033852789983, -0.13935289087441713],\n",
       "  [-0.23664949528569731, -0.1388330709799099],\n",
       "  [-0.23858835827896716, -0.13744106821926272],\n",
       "  [-0.23911302482559313, -0.13922053588649985],\n",
       "  [-0.23808854058617276, -0.1385520376788708],\n",
       "  [-0.23870516339427061, -0.1382224866222962],\n",
       "  [-0.23866777468266367, -0.13863513248828668],\n",
       "  [-0.23845782281038946, -0.138417627843033],\n",
       "  [-0.23855805901989413, -0.13846715260758707],\n",
       "  [-0.23859211681982329, -0.1383232178545862]],\n",
       " 'intermediate cost': [16.38,\n",
       "  19.67000000000001,\n",
       "  18.610000000000007,\n",
       "  15.040000000000001,\n",
       "  50.98999999999999,\n",
       "  32.36,\n",
       "  8.36,\n",
       "  16.41,\n",
       "  27.45,\n",
       "  20.070000000000004,\n",
       "  9.240000000000002,\n",
       "  9.559999999999997,\n",
       "  11.479999999999999,\n",
       "  10.570000000000002,\n",
       "  9.110000000000001,\n",
       "  11.380000000000004,\n",
       "  8.920000000000003,\n",
       "  11.040000000000001,\n",
       "  9.92,\n",
       "  10.01,\n",
       "  10.080000000000004,\n",
       "  10.56,\n",
       "  10.959999999999999,\n",
       "  10.270000000000003,\n",
       "  12.049999999999999,\n",
       "  13.340000000000002,\n",
       "  10.380000000000003],\n",
       " 'intermediate measurement outcomes': []}"
      ]
     },
     "execution_count": 21,
     "metadata": {},
     "output_type": "execute_result"
    }
   ],
   "source": [
    "q_qiskit_shot.results.intermediate"
   ]
  },
  {
   "cell_type": "code",
   "execution_count": 22,
   "metadata": {},
   "outputs": [
    {
     "data": {
      "text/plain": [
       "{'optimized param': [-0.2385578216838148, -0.13841715317087439],\n",
       " 'optimized cost': 8.36,\n",
       " 'optimized measurement outcomes': {'100110': 1,\n",
       "  '111001': 1,\n",
       "  '110010': 1,\n",
       "  '001110': 1,\n",
       "  '101000': 1,\n",
       "  '000011': 1,\n",
       "  '011001': 1,\n",
       "  '101101': 7,\n",
       "  '100111': 2,\n",
       "  '000111': 2,\n",
       "  '010111': 5,\n",
       "  '101011': 6,\n",
       "  '000110': 2,\n",
       "  '111010': 8,\n",
       "  '001010': 1,\n",
       "  '101110': 5,\n",
       "  '011101': 3,\n",
       "  '111011': 2,\n",
       "  '111000': 1,\n",
       "  '110111': 5,\n",
       "  '011011': 7,\n",
       "  '110101': 3,\n",
       "  '111101': 4,\n",
       "  '101010': 2,\n",
       "  '001000': 2,\n",
       "  '110000': 1,\n",
       "  '101111': 6,\n",
       "  '111110': 4,\n",
       "  '110011': 3,\n",
       "  '011111': 4,\n",
       "  '001100': 1,\n",
       "  '110110': 7}}"
      ]
     },
     "execution_count": 22,
     "metadata": {},
     "output_type": "execute_result"
    }
   ],
   "source": [
    "q_qiskit_shot.results.optimized"
   ]
  },
  {
   "cell_type": "code",
   "execution_count": null,
   "metadata": {},
   "outputs": [],
   "source": []
  },
  {
   "cell_type": "code",
   "execution_count": null,
   "metadata": {},
   "outputs": [],
   "source": []
  },
  {
   "cell_type": "code",
   "execution_count": null,
   "metadata": {},
   "outputs": [],
   "source": []
  }
 ],
 "metadata": {
  "kernelspec": {
   "display_name": "openqaoa_may22",
   "language": "python",
   "name": "openqaoa_may22"
  },
  "language_info": {
   "codemirror_mode": {
    "name": "ipython",
    "version": 3
   },
   "file_extension": ".py",
   "mimetype": "text/x-python",
   "name": "python",
   "nbconvert_exporter": "python",
   "pygments_lexer": "ipython3",
   "version": "3.8.13"
  }
 },
 "nbformat": 4,
 "nbformat_minor": 4
}
