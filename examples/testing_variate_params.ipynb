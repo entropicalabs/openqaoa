{
 "cells": [
  {
   "cell_type": "markdown",
   "metadata": {},
   "source": [
    "## Testing QAOAVariationalParams"
   ]
  },
  {
   "cell_type": "code",
   "execution_count": 1,
   "metadata": {},
   "outputs": [],
   "source": [
    "from openqaoa.qaoa_parameters import create_qaoa_variational_params, QAOACircuitParams, PauliOp, Hamiltonian\n",
    "from openqaoa.utilities import X_mixer_hamiltonian\n",
    "from openqaoa.devices import DeviceQiskit, create_device\n",
    "from openqaoa.backends.qaoa_backend import get_qaoa_backend"
   ]
  },
  {
   "cell_type": "code",
   "execution_count": 2,
   "metadata": {},
   "outputs": [],
   "source": [
    "terms = [(1,2),(2,3),(0,3),(4,0)]\n",
    "coeffs = [1,2,3,4]\n",
    "cost_hamil = Hamiltonian.classical_hamiltonian(terms,coeffs,4)\n",
    "mixer_hamil = X_mixer_hamiltonian(n_qubits=5)"
   ]
  },
  {
   "cell_type": "code",
   "execution_count": 3,
   "metadata": {},
   "outputs": [
    {
     "data": {
      "text/plain": [
       "[0, 1, 2, 3, 4]"
      ]
     },
     "execution_count": 3,
     "metadata": {},
     "output_type": "execute_result"
    }
   ],
   "source": [
    "qaoa_circuit_params = QAOACircuitParams(cost_hamil,mixer_hamil,p=2)\n",
    "qaoa_circuit_params.qureg"
   ]
  },
  {
   "cell_type": "code",
   "execution_count": 4,
   "metadata": {},
   "outputs": [],
   "source": [
    "device = create_device('local','qiskit.statevector_simulator')\n",
    "backend_obj = get_qaoa_backend(qaoa_circuit_params,device)"
   ]
  },
  {
   "cell_type": "code",
   "execution_count": 5,
   "metadata": {},
   "outputs": [],
   "source": [
    "#different parameterisations\n",
    "\n",
    "# params_type='standard'\n",
    "# params1 = create_qaoa_variational_params(qaoa_circuit_params,params_type,'ramp')\n",
    "# params1 = create_qaoa_variational_params(qaoa_circuit_params,params_type,'rand')\n",
    "# params1 = create_qaoa_variational_params(qaoa_circuit_params,params_type,'custom',{'betas':[0.2,0.2],'gammas':[0.3,0.3]})\n",
    "\n",
    "params_type='extended'\n",
    "# params1 = create_qaoa_variational_params(qaoa_circuit_params,params_type,'ramp')\n",
    "# params1 = create_qaoa_variational_params(qaoa_circuit_params,params_type,'rand')\n",
    "params1 = create_qaoa_variational_params(qaoa_circuit_params,params_type,'custom',{'betas_singles':[0.2]*10,\n",
    "                                                                                   'gammas_pairs':[0.3]*8})\n",
    "\n",
    "# params_type='fourier' #'fourier_w_bias' #'fourier_extended' #'annealing'\n",
    "# params1 = create_qaoa_variational_params(qaoa_circuit_params,params_type,'ramp',q=2)\n",
    "# params1 = create_qaoa_variational_params(qaoa_circuit_params,params_type,'rand',q=3)\n",
    "# params1 = create_qaoa_variational_params(qaoa_circuit_params,params_type,'custom',{'v':[0.2]*3,'u':[0.3]*3},q=3)\n"
   ]
  },
  {
   "cell_type": "code",
   "execution_count": 6,
   "metadata": {},
   "outputs": [
    {
     "data": {
      "text/plain": [
       "Extended Parameterisation:\n",
       "\tp: 2\n",
       "Parameters:\n",
       "\tbetas_singles: [[0.2 0.2 0.2 0.2 0.2], [0.2 0.2 0.2 0.2 0.2]]\n",
       "\tbetas_pairs: []\n",
       "\tgammas_singles: []\n",
       "\tgammas_pairs: [[0.3 0.3 0.3 0.3], [0.3 0.3 0.3 0.3]]"
      ]
     },
     "execution_count": 6,
     "metadata": {},
     "output_type": "execute_result"
    }
   ],
   "source": [
    "params1"
   ]
  },
  {
   "cell_type": "code",
   "execution_count": 7,
   "metadata": {},
   "outputs": [
    {
     "data": {
      "text/latex": [
       "$\\displaystyle 1Z_{1}Z_{2} + 2Z_{2}Z_{3} + 3Z_{0}Z_{3} + 4 + 4Z_{0}Z_{4}$"
      ],
      "text/plain": [
       "1Z_{1}Z_{2} + 2Z_{2}Z_{3} + 3Z_{0}Z_{3} + 4 + 4Z_{0}Z_{4}"
      ]
     },
     "execution_count": 7,
     "metadata": {},
     "output_type": "execute_result"
    }
   ],
   "source": [
    "cost_hamil.expression"
   ]
  },
  {
   "cell_type": "code",
   "execution_count": 8,
   "metadata": {},
   "outputs": [
    {
     "data": {
      "text/plain": [
       "(2.927489268518247, 5.492858467987449)"
      ]
     },
     "execution_count": 8,
     "metadata": {},
     "output_type": "execute_result"
    }
   ],
   "source": [
    "backend_obj.expectation_w_uncertainty(params1)"
   ]
  }
 ],
 "metadata": {
  "interpreter": {
   "hash": "ffc96233305d7122dc6732a5f9b7f44477470c7d091ce18c27b788d4d214d89a"
  },
  "kernelspec": {
   "display_name": "OpenQAOA_kernel",
   "language": "python",
   "name": "openqaoa_env"
  },
  "language_info": {
   "codemirror_mode": {
    "name": "ipython",
    "version": 3
   },
   "file_extension": ".py",
   "mimetype": "text/x-python",
   "name": "python",
   "nbconvert_exporter": "python",
   "pygments_lexer": "ipython3",
   "version": "3.8.8"
  }
 },
 "nbformat": 4,
 "nbformat_minor": 4
}
