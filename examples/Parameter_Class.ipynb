{
 "cells": [
  {
   "cell_type": "markdown",
   "metadata": {},
   "source": [
    "# Working with the Parameter Class"
   ]
  },
  {
   "cell_type": "markdown",
   "metadata": {},
   "source": [
    "Here we illustrate the use of the various QAOA parameter classes in the OpenQAOA package."
   ]
  },
  {
   "cell_type": "code",
   "execution_count": 2,
   "metadata": {},
   "outputs": [],
   "source": [
    "# import the standard modules from python\n",
    "import numpy as np\n",
    "import matplotlib.pyplot as plt\n",
    "\n",
    "# import the OpenQAOA Parameterisation classes munually\n",
    "from openqaoa.qaoa_parameters.extendedparams import QAOAVariationalExtendedParams\n",
    "from openqaoa.qaoa_parameters.standardparams import QAOAVariationalStandardParams\n",
    "\n",
    "# import the other OpenQAOA modules required for this example\n",
    "from openqaoa.qaoa_parameters import PauliOp, Hamiltonian, QAOACircuitParams\n",
    "from openqaoa.qaoa_parameters.extendedparams import QAOAVariationalExtendedParams\n",
    "from openqaoa.qaoa_parameters.standardparams import QAOAVariationalStandardParams\n",
    "from openqaoa.backends.simulators.qaoa_qiskit_sim import QAOAQiskitBackendStatevecSimulator, QAOAQiskitBackendShotBasedSimulator\n",
    "from openqaoa.backends.simulators.qaoa_vectorized import QAOAvectorizedBackendSimulator\n",
    "from openqaoa.utilities import X_mixer_hamiltonian, ring_of_disagrees\n",
    "from openqaoa.devices import DeviceLocal"
   ]
  },
  {
   "cell_type": "markdown",
   "metadata": {},
   "source": [
    "## Creating the problem Hamiltonian and setting up hyperparameters"
   ]
  },
  {
   "cell_type": "markdown",
   "metadata": {},
   "source": [
    "In general, the QAOA consists of two different types of parameters, which we will refer to as hyperparameters and variable parameters. This section covers the hyperparameters, while the section below focuses on the variable parameters. The hyperparameters are those parameters that remain fixed throughout our computation, while the variable parameters are those that we modify in seeking the optimial problem solution.\n",
    "\n",
    "In the simplest implementation of QAOA, the hyperparameters may in turn be divided into two sets (see Footnote 1 for a third example of hyperparameters):\n",
    "\n",
    "1. Those originating from the cost Hamiltonian:\n",
    "\n",
    "* the qubit register (the qubits to be used in the algorithm);\n",
    "* the qubits with a bias term (their own Z term in the Hamiltonian), and the corresponding coefficients;\n",
    "* the qubit pairs that interact (through a ZZ term in the Hamiltonian), along with the corresponding ‘coupling’ coefficients.\n",
    "\n",
    "2. The number of QAOA steps we wish to perform, frequently referred to as the QAOA ‘p’ parameter."
   ]
  },
  {
   "cell_type": "code",
   "execution_count": null,
   "metadata": {},
   "outputs": [],
   "source": []
  }
 ],
 "metadata": {
  "kernelspec": {
   "display_name": "qiskit_test",
   "language": "python",
   "name": "qiskit"
  },
  "language_info": {
   "codemirror_mode": {
    "name": "ipython",
    "version": 3
   },
   "file_extension": ".py",
   "mimetype": "text/x-python",
   "name": "python",
   "nbconvert_exporter": "python",
   "pygments_lexer": "ipython3",
   "version": "3.8.5"
  }
 },
 "nbformat": 4,
 "nbformat_minor": 4
}
