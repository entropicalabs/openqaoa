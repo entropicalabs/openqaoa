{
 "cells": [
  {
   "cell_type": "code",
   "execution_count": 2,
   "metadata": {},
   "outputs": [],
   "source": [
    "%load_ext autoreload\n",
    "%autoreload 2"
   ]
  },
  {
   "cell_type": "code",
   "execution_count": 6,
   "metadata": {},
   "outputs": [],
   "source": [
    "from openqaoa.qaoa_parameters import create_qaoa_variational_params, QAOACircuitParams, PauliOp, Hamiltonian\n",
    "from openqaoa.utilities import X_mixer_hamiltonian, qaoa_probabilities\n",
    "from openqaoa.devices import DevicePyquil,create_device\n",
    "from openqaoa.backends.qpus.qaoa_pyquil_qpu import QAOAPyQuilQPUBackend\n",
    "from openqaoa.backends.qaoa_backend import get_qaoa_backend\n",
    "from openqaoa.backends.simulators.qaoa_vectorized import QAOAvectorizedBackendSimulator\n",
    "\n",
    "from pyquil import Program, gates, quilbase\n",
    "from pyquil.gates import RX, RY, RZ\n",
    "\n",
    "import numpy as np\n",
    "import matplotlib.pyplot as plt"
   ]
  },
  {
   "cell_type": "code",
   "execution_count": 8,
   "metadata": {},
   "outputs": [],
   "source": [
    "cost_hamil = Hamiltonian([PauliOp('Z',(0,)), PauliOp('Z',(1,)), PauliOp('ZZ',(1,0))], [1,1,2], 1)\n",
    "mixer_hamil = X_mixer_hamiltonian(n_qubits=2)\n",
    "circuit_params = QAOACircuitParams(cost_hamil, mixer_hamil, p=1)\n",
    "variate_params = create_qaoa_variational_params(circuit_params,'standard','ramp')\n",
    "\n",
    "device_pyquil = create_device('qcs',\"Aspen-11\", as_qvm=True, execution_timeout = 10, compiler_timeout=10)\n",
    "backend_obj_pyquil = get_qaoa_backend(circuit_params, device_pyquil, n_shots=1000)\n",
    "\n",
    "vect_sim = create_device('local','vectorized')\n",
    "backend_obj_vectorized = get_qaoa_backend(circuit_params,vect_sim)"
   ]
  },
  {
   "cell_type": "code",
   "execution_count": 9,
   "metadata": {},
   "outputs": [
    {
     "data": {
      "text/plain": [
       "[0, 1]"
      ]
     },
     "execution_count": 9,
     "metadata": {},
     "output_type": "execute_result"
    }
   ],
   "source": [
    "mixer_hamil.qureg"
   ]
  },
  {
   "cell_type": "code",
   "execution_count": 10,
   "metadata": {},
   "outputs": [
    {
     "data": {
      "text/plain": [
       "[0, 1]"
      ]
     },
     "execution_count": 10,
     "metadata": {},
     "output_type": "execute_result"
    }
   ],
   "source": [
    "cost_hamil.qureg"
   ]
  },
  {
   "cell_type": "code",
   "execution_count": 11,
   "metadata": {},
   "outputs": [
    {
     "data": {
      "text/plain": [
       "[0, 1]"
      ]
     },
     "execution_count": 11,
     "metadata": {},
     "output_type": "execute_result"
    }
   ],
   "source": [
    "cost_hamil.qureg"
   ]
  },
  {
   "cell_type": "code",
   "execution_count": 12,
   "metadata": {},
   "outputs": [
    {
     "name": "stdout",
     "output_type": "stream",
     "text": [
      "DECLARE ro BIT[2]\n",
      "DECLARE pauli1qcost00 REAL[1]\n",
      "DECLARE pauli1qcost01 REAL[1]\n",
      "DECLARE pauli2qcost00 REAL[1]\n",
      "DECLARE pauli1qmixer00 REAL[1]\n",
      "DECLARE pauli1qmixer01 REAL[1]\n",
      "RZ(pi) 0\n",
      "RX(pi/2) 0\n",
      "RZ(pi/2) 0\n",
      "RX(-pi/2) 0\n",
      "RZ(1.0*pauli2qcost00[0] + 1.0*pauli1qcost00[0]) 0\n",
      "RZ(pi) 1\n",
      "RX(pi/2) 1\n",
      "RZ(pi/2) 1\n",
      "RX(-pi/2) 1\n",
      "RZ(1.0*pauli2qcost00[0] + 1.0*pauli1qcost01[0]) 1\n",
      "CPHASE(-2.0*pauli2qcost00[0]) 0 1\n",
      "RZ(pi/2) 1\n",
      "RX(pi/2) 1\n",
      "RZ(1.0*pauli1qmixer01[0]) 1\n",
      "RX(-pi/2) 1\n",
      "RZ(-pi/2) 1\n",
      "MEASURE 1 ro[1]\n",
      "RZ(pi/2) 0\n",
      "RX(pi/2) 0\n",
      "RZ(1.0*pauli1qmixer00[0]) 0\n",
      "RX(-pi/2) 0\n",
      "RZ(-pi/2) 0\n",
      "MEASURE 0 ro[0]\n",
      "HALT\n",
      "\n"
     ]
    }
   ],
   "source": [
    "print(backend_obj_pyquil.qaoa_circuit(variate_params))"
   ]
  },
  {
   "cell_type": "code",
   "execution_count": 13,
   "metadata": {},
   "outputs": [
    {
     "data": {
      "text/plain": [
       "3.944"
      ]
     },
     "execution_count": 13,
     "metadata": {},
     "output_type": "execute_result"
    }
   ],
   "source": [
    "variate_params.update_from_raw([1,1])\n",
    "backend_obj_pyquil.expectation(variate_params)"
   ]
  }
 ],
 "metadata": {
  "kernelspec": {
   "display_name": "OpenQAOA_kernel",
   "language": "python",
   "name": "openqaoa_env"
  },
  "language_info": {
   "codemirror_mode": {
    "name": "ipython",
    "version": 3
   },
   "file_extension": ".py",
   "mimetype": "text/x-python",
   "name": "python",
   "nbconvert_exporter": "python",
   "pygments_lexer": "ipython3",
   "version": "3.8.8"
  }
 },
 "nbformat": 4,
 "nbformat_minor": 4
}
