{
 "cells": [
  {
   "cell_type": "code",
   "execution_count": 1,
   "metadata": {},
   "outputs": [],
   "source": [
    "%load_ext autoreload\n",
    "%autoreload 2"
   ]
  },
  {
   "cell_type": "code",
   "execution_count": 2,
   "metadata": {},
   "outputs": [],
   "source": [
    "from openqaoa.qaoa_parameters import create_qaoa_variational_params, QAOACircuitParams, PauliOp, Hamiltonian\n",
    "from openqaoa.utilities import X_mixer_hamiltonian, qaoa_probabilities\n",
    "from openqaoa.backends.qpus.qpu_auth import AccessObjectPyQuil\n",
    "from openqaoa.backends.qpus.qaoa_pyquil_qpu import QAOAPyQuilQPUBackend\n",
    "from openqaoa.backends.qaoa_backend import get_qaoa_backend\n",
    "from openqaoa.backends.simulators.qaoa_vectorized import QAOAvectorizedBackendSimulator\n",
    "\n",
    "from pyquil import Program, gates, quilbase\n",
    "from pyquil.gates import RX, RY, RZ\n",
    "\n",
    "import numpy as np\n",
    "import matplotlib.pyplot as plt"
   ]
  },
  {
   "cell_type": "code",
   "execution_count": 3,
   "metadata": {},
   "outputs": [],
   "source": [
    "access_object_pyquil = AccessObjectPyQuil(name = \"Aspen-11\", as_qvm=True, execution_timeout = 10, compiler_timeout=10)\n",
    "\n",
    "\n",
    "cost_hamil = Hamiltonian([PauliOp('Z',(0,)), PauliOp('Z',(1,)), PauliOp('ZZ',(1,0))], [1,1,2], 1)\n",
    "mixer_hamil = X_mixer_hamiltonian(n_qubits=2)\n",
    "circuit_params = QAOACircuitParams(cost_hamil, mixer_hamil, p=1)\n",
    "variate_params = create_qaoa_variational_params(circuit_params,'standard','ramp')\n",
    "\n",
    "backend_obj_pyquil = get_qaoa_backend(circuit_params, access_object_pyquil, n_shots=1000)\n",
    "\n",
    "backend_obj_vectorized = get_qaoa_backend(circuit_params,'vectorized')"
   ]
  },
  {
   "cell_type": "code",
   "execution_count": 4,
   "metadata": {},
   "outputs": [
    {
     "data": {
      "text/plain": [
       "[0, 1, 2, 3, 4, 5, 6, 7, 8, 9]"
      ]
     },
     "execution_count": 4,
     "metadata": {},
     "output_type": "execute_result"
    }
   ],
   "source": [
    "mixer_hamil.qureg"
   ]
  },
  {
   "cell_type": "code",
   "execution_count": 5,
   "metadata": {},
   "outputs": [
    {
     "data": {
      "text/plain": [
       "[0, 1]"
      ]
     },
     "execution_count": 5,
     "metadata": {},
     "output_type": "execute_result"
    }
   ],
   "source": [
    "cost_hamil.qureg"
   ]
  },
  {
   "cell_type": "code",
   "execution_count": 6,
   "metadata": {},
   "outputs": [
    {
     "data": {
      "text/plain": [
       "[0, 1]"
      ]
     },
     "execution_count": 6,
     "metadata": {},
     "output_type": "execute_result"
    }
   ],
   "source": [
    "cost_hamil.qureg"
   ]
  },
  {
   "cell_type": "code",
   "execution_count": 7,
   "metadata": {},
   "outputs": [
    {
     "name": "stdout",
     "output_type": "stream",
     "text": [
      "DECLARE ro BIT[2]\n",
      "DECLARE pauli1qcost00 REAL[1]\n",
      "DECLARE pauli1qcost01 REAL[1]\n",
      "DECLARE pauli2qcost00 REAL[1]\n",
      "DECLARE pauli1qmixer00 REAL[1]\n",
      "DECLARE pauli1qmixer01 REAL[1]\n",
      "DECLARE pauli1qmixer02 REAL[1]\n",
      "DECLARE pauli1qmixer03 REAL[1]\n",
      "DECLARE pauli1qmixer04 REAL[1]\n",
      "DECLARE pauli1qmixer05 REAL[1]\n",
      "DECLARE pauli1qmixer06 REAL[1]\n",
      "DECLARE pauli1qmixer07 REAL[1]\n",
      "DECLARE pauli1qmixer08 REAL[1]\n",
      "DECLARE pauli1qmixer09 REAL[1]\n",
      "RZ(pi) 44\n",
      "RX(pi/2) 44\n",
      "RZ(pi/2) 44\n",
      "RX(-pi/2) 44\n",
      "RZ(1.0*pauli2qcost00[0] + 1.0*pauli1qcost00[0]) 44\n",
      "RZ(pi) 45\n",
      "RX(pi/2) 45\n",
      "RZ(pi/2) 45\n",
      "RX(-pi/2) 45\n",
      "RZ(1.0*pauli2qcost00[0] + 1.0*pauli1qcost01[0]) 45\n",
      "CPHASE(-2.0*pauli2qcost00[0]) 44 45\n",
      "RZ(pi/2) 44\n",
      "RX(pi/2) 44\n",
      "RZ(1.0*pauli1qmixer00[0]) 44\n",
      "RX(-pi/2) 44\n",
      "RZ(-pi/2) 44\n",
      "MEASURE 44 ro[0]\n",
      "RZ(pi/2) 45\n",
      "RX(pi/2) 45\n",
      "RZ(1.0*pauli1qmixer01[0]) 45\n",
      "RX(-pi/2) 45\n",
      "RZ(-pi/2) 45\n",
      "MEASURE 45 ro[1]\n",
      "RZ(pi/2) 30\n",
      "RX(pi/2) 30\n",
      "RZ(1.0*pauli1qmixer09[0]) 30\n",
      "RX(-pi/2) 30\n",
      "RZ(-pi/2) 30\n",
      "RZ(pi/2) 31\n",
      "RX(pi/2) 31\n",
      "RZ(1.0*pauli1qmixer07[0]) 31\n",
      "RX(-pi/2) 31\n",
      "RZ(-pi/2) 31\n",
      "RZ(pi/2) 32\n",
      "RX(pi/2) 32\n",
      "RZ(1.0*pauli1qmixer06[0]) 32\n",
      "RX(-pi/2) 32\n",
      "RZ(-pi/2) 32\n",
      "RZ(pi/2) 33\n",
      "RX(pi/2) 33\n",
      "RZ(1.0*pauli1qmixer08[0]) 33\n",
      "RX(-pi/2) 33\n",
      "RZ(-pi/2) 33\n",
      "RZ(pi/2) 42\n",
      "RX(pi/2) 42\n",
      "RZ(1.0*pauli1qmixer02[0]) 42\n",
      "RX(-pi/2) 42\n",
      "RZ(-pi/2) 42\n",
      "RZ(pi/2) 43\n",
      "RX(pi/2) 43\n",
      "RZ(1.0*pauli1qmixer03[0]) 43\n",
      "RX(-pi/2) 43\n",
      "RZ(-pi/2) 43\n",
      "RZ(pi/2) 46\n",
      "RX(pi/2) 46\n",
      "RZ(1.0*pauli1qmixer05[0]) 46\n",
      "RX(-pi/2) 46\n",
      "RZ(-pi/2) 46\n",
      "RZ(pi/2) 47\n",
      "RX(pi/2) 47\n",
      "RZ(1.0*pauli1qmixer04[0]) 47\n",
      "RX(-pi/2) 47\n",
      "RZ(-pi/2) 47\n",
      "HALT\n",
      "\n"
     ]
    }
   ],
   "source": [
    "print(backend_obj_pyquil.qaoa_circuit(variate_params))"
   ]
  },
  {
   "cell_type": "code",
   "execution_count": 8,
   "metadata": {},
   "outputs": [
    {
     "data": {
      "text/plain": [
       "4.054"
      ]
     },
     "execution_count": 8,
     "metadata": {},
     "output_type": "execute_result"
    }
   ],
   "source": [
    "variate_params.update_from_raw([1,1])\n",
    "backend_obj_pyquil.expectation(variate_params)"
   ]
  },
  {
   "cell_type": "code",
   "execution_count": 10,
   "metadata": {},
   "outputs": [],
   "source": [
    "# # Perform sweep\n",
    "\n",
    "# gammas = np.linspace(0, np.pi, 50)\n",
    "# beta = np.random.rand()\n",
    "\n",
    "# costs_vect, costs_pyquil = np.zeros((len(gammas))), np.zeros((len(gammas)))\n",
    "\n",
    "# for i, gamma in enumerate(gammas):\n",
    "#     print(f\"\\rRunning {i}/{len(gammas)}\", end=\"\")\n",
    "#     args = [beta, gamma]\n",
    "    \n",
    "#     variate_params.update_from_raw(args)\n",
    "#     costs_vect[i] = backend_obj_vectorized.expectation(variate_params)\n",
    "\n",
    "# for i, gamma in enumerate(gammas):\n",
    "#     print(f\"\\rRunning {i}/{len(gammas)}\", end=\"\")\n",
    "#     args = [beta, gamma]\n",
    "    \n",
    "#     variate_params.update_from_raw(args)\n",
    "#     costs_pyquil[i] = backend_obj_pyquil.expectation(variate_params)\n",
    "\n",
    "# plt.plot(gammas, costs_vect, label = 'vectorized', linestyle = '-')\n",
    "# plt.plot(gammas, costs_pyquil, label = 'pyquil', linestyle = '--')\n",
    "# plt.ylabel('Cost')\n",
    "# plt.xlabel('Gammas')\n",
    "# plt.legend()\n",
    "# plt.show()"
   ]
  },
  {
   "cell_type": "code",
   "execution_count": null,
   "metadata": {},
   "outputs": [],
   "source": []
  },
  {
   "cell_type": "code",
   "execution_count": null,
   "metadata": {},
   "outputs": [],
   "source": []
  },
  {
   "cell_type": "code",
   "execution_count": null,
   "metadata": {},
   "outputs": [],
   "source": []
  }
 ],
 "metadata": {
  "kernelspec": {
   "display_name": "OpenQAOA_kernel",
   "language": "python",
   "name": "openqaoa_env"
  },
  "language_info": {
   "codemirror_mode": {
    "name": "ipython",
    "version": 3
   },
   "file_extension": ".py",
   "mimetype": "text/x-python",
   "name": "python",
   "nbconvert_exporter": "python",
   "pygments_lexer": "ipython3",
   "version": "3.8.8"
  }
 },
 "nbformat": 4,
 "nbformat_minor": 4
}
