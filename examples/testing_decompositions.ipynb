{
 "cells": [
  {
   "cell_type": "markdown",
   "metadata": {},
   "source": [
    "### Testing decomposition rules"
   ]
  },
  {
   "cell_type": "code",
   "execution_count": 1,
   "metadata": {},
   "outputs": [],
   "source": [
    "from openqaoa.qaoa_parameters import *\n",
    "from openqaoa.qaoa_parameters import create_qaoa_variational_params"
   ]
  },
  {
   "cell_type": "code",
   "execution_count": 2,
   "metadata": {},
   "outputs": [],
   "source": [
    "from openqaoa.qaoa_parameters.baseparams import QAOACircuitParams\n",
    "from openqaoa.devices import DeviceQiskit, DevicePyquil, create_device\n",
    "from openqaoa.backends.qaoa_backend import *\n",
    "from openqaoa.backends.simulators.qaoa_pyquil_sim import QAOAPyQuilWavefunctionSimulatorBackend\n",
    "from openqaoa.backends.qpus.qaoa_pyquil_qpu import QAOAPyQuilQPUBackend\n",
    "from openqaoa.backends.simulators.qaoa_qiskit_sim import QAOAQiskitBackendStatevecSimulator\n",
    "from openqaoa.optimizers import get_optimizer\n",
    "from openqaoa.utilities import *"
   ]
  },
  {
   "cell_type": "code",
   "execution_count": 3,
   "metadata": {},
   "outputs": [],
   "source": [
    "from pyquil import Program, gates\n",
    "from pyquil.api import WavefunctionSimulator\n",
    "from pyquil.quilatom import Parameter"
   ]
  },
  {
   "cell_type": "code",
   "execution_count": 4,
   "metadata": {},
   "outputs": [],
   "source": [
    "cost_hamil = Hamiltonian([PauliOp('ZZ', (0, 1)), PauliOp('ZZ', (1, 2)), PauliOp('ZZ', (0, 2)),\n",
    "                          PauliOp('Z',(2,)),PauliOp('Z',(3,))], \n",
    "                         [1, 1, 1, 2, 2], 0)"
   ]
  },
  {
   "cell_type": "code",
   "execution_count": 5,
   "metadata": {},
   "outputs": [
    {
     "data": {
      "text/latex": [
       "$\\displaystyle 0 + 1Z_{0}Z_{1} + 1Z_{0}Z_{2} + 1Z_{1}Z_{2} + 2Z_{2} + 2Z_{3}$"
      ],
      "text/plain": [
       "0 + 1Z_{0}Z_{1} + 1Z_{0}Z_{2} + 1Z_{1}Z_{2} + 2Z_{2} + 2Z_{3}"
      ]
     },
     "execution_count": 5,
     "metadata": {},
     "output_type": "execute_result"
    }
   ],
   "source": [
    "cost_hamil.expression"
   ]
  },
  {
   "cell_type": "code",
   "execution_count": 6,
   "metadata": {},
   "outputs": [
    {
     "data": {
      "image/png": "[encoded data removed]",
      "text/plain": [
       "<Figure size 720x432 with 3 Axes>"
      ]
     },
     "metadata": {},
     "output_type": "display_data"
    }
   ],
   "source": [
    "plot_graph(graph_from_hamiltonian(cost_hamil))"
   ]
  },
  {
   "cell_type": "code",
   "execution_count": 7,
   "metadata": {},
   "outputs": [
    {
     "data": {
      "text/latex": [
       "$\\displaystyle -1X_{0} + -1X_{1} + -1X_{2} + -1X_{3} + 0$"
      ],
      "text/plain": [
       "-1X_{0} - 1X_{1} - 1X_{2} - 1X_{3} + 0"
      ]
     },
     "execution_count": 7,
     "metadata": {},
     "output_type": "execute_result"
    }
   ],
   "source": [
    "mixer_hamil = X_mixer_hamiltonian(n_qubits=4)\n",
    "mixer_hamil.expression"
   ]
  },
  {
   "cell_type": "code",
   "execution_count": 8,
   "metadata": {},
   "outputs": [],
   "source": [
    "circuit_params = QAOACircuitParams(cost_hamil, mixer_hamil, p=2)"
   ]
  },
  {
   "cell_type": "code",
   "execution_count": 9,
   "metadata": {},
   "outputs": [],
   "source": [
    "variate_params = create_qaoa_variational_params(circuit_params,'standard','ramp')"
   ]
  },
  {
   "cell_type": "code",
   "execution_count": 10,
   "metadata": {},
   "outputs": [
    {
     "data": {
      "text/plain": [
       "Standard Parameterisation:\n",
       "\tp: 2\n",
       "Variational Parameters:\n",
       "\tbetas: [0.525 0.175]\n",
       "\tgammas: [0.175 0.525]"
      ]
     },
     "execution_count": 10,
     "metadata": {},
     "output_type": "execute_result"
    }
   ],
   "source": [
    "variate_params"
   ]
  },
  {
   "cell_type": "markdown",
   "metadata": {},
   "source": [
    "#### pyquil QPU"
   ]
  },
  {
   "cell_type": "code",
   "execution_count": 11,
   "metadata": {},
   "outputs": [],
   "source": [
    "device_pyquil = DevicePyquil(device_name = \"Aspen-11\", as_qvm=True, execution_timeout = 500)\n",
    "backend_pyquil_qpu = get_qaoa_backend(circuit_params,device_pyquil,n_shots=1000)"
   ]
  },
  {
   "cell_type": "code",
   "execution_count": 12,
   "metadata": {},
   "outputs": [
    {
     "name": "stdout",
     "output_type": "stream",
     "text": [
      "DECLARE ro BIT[4]\n",
      "H 0\n",
      "H 1\n",
      "H 2\n",
      "H 3\n",
      "DECLARE pauli2qcost00 REAL[1]\n",
      "RZ(pauli2qcost00) 0\n",
      "RZ(pauli2qcost00) 1\n",
      "CPHASE(-2*pauli2qcost00) 0 1\n",
      "DECLARE pauli2qcost01 REAL[1]\n",
      "RZ(pauli2qcost01) 1\n",
      "RZ(pauli2qcost01) 2\n",
      "CPHASE(-2*pauli2qcost01) 1 2\n",
      "DECLARE pauli2qcost02 REAL[1]\n",
      "RZ(pauli2qcost02) 0\n",
      "RZ(pauli2qcost02) 2\n",
      "CPHASE(-2*pauli2qcost02) 0 2\n",
      "DECLARE pauli1qcost00 REAL[1]\n",
      "RZ(pauli1qcost00) 2\n",
      "DECLARE pauli1qcost01 REAL[1]\n",
      "RZ(pauli1qcost01) 3\n",
      "DECLARE pauli1qmixer00 REAL[1]\n",
      "RX(pauli1qmixer00) 0\n",
      "DECLARE pauli1qmixer01 REAL[1]\n",
      "RX(pauli1qmixer01) 1\n",
      "DECLARE pauli1qmixer02 REAL[1]\n",
      "RX(pauli1qmixer02) 2\n",
      "DECLARE pauli1qmixer03 REAL[1]\n",
      "RX(pauli1qmixer03) 3\n",
      "DECLARE pauli2qcost10 REAL[1]\n",
      "RZ(pauli2qcost10) 0\n",
      "RZ(pauli2qcost10) 1\n",
      "CPHASE(-2*pauli2qcost10) 0 1\n",
      "DECLARE pauli2qcost11 REAL[1]\n",
      "RZ(pauli2qcost11) 1\n",
      "RZ(pauli2qcost11) 2\n",
      "CPHASE(-2*pauli2qcost11) 1 2\n",
      "DECLARE pauli2qcost12 REAL[1]\n",
      "RZ(pauli2qcost12) 0\n",
      "RZ(pauli2qcost12) 2\n",
      "CPHASE(-2*pauli2qcost12) 0 2\n",
      "DECLARE pauli1qcost10 REAL[1]\n",
      "RZ(pauli1qcost10) 2\n",
      "DECLARE pauli1qcost11 REAL[1]\n",
      "RZ(pauli1qcost11) 3\n",
      "DECLARE pauli1qmixer10 REAL[1]\n",
      "RX(pauli1qmixer10) 0\n",
      "DECLARE pauli1qmixer11 REAL[1]\n",
      "RX(pauli1qmixer11) 1\n",
      "DECLARE pauli1qmixer12 REAL[1]\n",
      "RX(pauli1qmixer12) 2\n",
      "DECLARE pauli1qmixer13 REAL[1]\n",
      "RX(pauli1qmixer13) 3\n",
      "MEASURE 0 ro[0]\n",
      "MEASURE 1 ro[1]\n",
      "MEASURE 2 ro[2]\n",
      "MEASURE 3 ro[3]\n",
      "\n"
     ]
    }
   ],
   "source": [
    "print(backend_pyquil_qpu.parametric_circuit)"
   ]
  },
  {
   "cell_type": "code",
   "execution_count": 13,
   "metadata": {},
   "outputs": [
    {
     "name": "stdout",
     "output_type": "stream",
     "text": [
      "DECLARE ro BIT[4]\n",
      "DECLARE pauli2qcost00 REAL[1]\n",
      "DECLARE pauli2qcost01 REAL[1]\n",
      "DECLARE pauli2qcost02 REAL[1]\n",
      "DECLARE pauli1qcost00 REAL[1]\n",
      "DECLARE pauli1qcost01 REAL[1]\n",
      "DECLARE pauli1qmixer00 REAL[1]\n",
      "DECLARE pauli1qmixer01 REAL[1]\n",
      "DECLARE pauli1qmixer02 REAL[1]\n",
      "DECLARE pauli1qmixer03 REAL[1]\n",
      "DECLARE pauli2qcost10 REAL[1]\n",
      "DECLARE pauli2qcost11 REAL[1]\n",
      "DECLARE pauli2qcost12 REAL[1]\n",
      "DECLARE pauli1qcost10 REAL[1]\n",
      "DECLARE pauli1qcost11 REAL[1]\n",
      "DECLARE pauli1qmixer10 REAL[1]\n",
      "DECLARE pauli1qmixer11 REAL[1]\n",
      "DECLARE pauli1qmixer12 REAL[1]\n",
      "DECLARE pauli1qmixer13 REAL[1]\n",
      "RZ(pi) 42\n",
      "RX(pi/2) 42\n",
      "RZ(pi/2) 42\n",
      "RX(-pi/2) 42\n",
      "RZ(pi/2 + 1.0*pauli1qcost01[0]) 42\n",
      "RX(pi/2) 42\n",
      "RZ(1.0*pauli1qmixer03[0]) 42\n",
      "RX(-pi/2) 42\n",
      "RZ(1.0*pauli1qcost11[0]) 42\n",
      "RX(pi/2) 42\n",
      "RZ(1.0*pauli1qmixer13[0]) 42\n",
      "RX(-pi/2) 42\n",
      "RZ(-pi/2) 42\n",
      "MEASURE 42 ro[3]\n",
      "RZ(pi) 31\n",
      "RX(pi/2) 31\n",
      "RZ(pi/2) 31\n",
      "RX(-pi/2) 31\n",
      "RZ(1.0*pauli2qcost00[0]) 31\n",
      "RZ(pi) 46\n",
      "RX(pi/2) 46\n",
      "RZ(pi/2) 46\n",
      "RX(-pi/2) 46\n",
      "RZ(1.0*pauli2qcost00[0]) 46\n",
      "CPHASE(-2.0*pauli2qcost00[0]) 31 46\n",
      "RZ(1.0*pauli2qcost01[0]) 46\n",
      "RZ(pi) 47\n",
      "RX(pi/2) 47\n",
      "RZ(pi/2) 47\n",
      "RX(-pi/2) 47\n",
      "RZ(1.0*pauli2qcost01[0]) 47\n",
      "CPHASE(-2.0*pauli2qcost01[0]) 46 47\n",
      "RZ(pi/2) 46\n",
      "RX(pi/2) 46\n",
      "RZ(1.0*pauli1qmixer01[0]) 46\n",
      "RX(-pi/2) 46\n",
      "RZ(-pi/2) 46\n",
      "RZ(1.0*pauli2qcost02[0]) 47\n",
      "XY(pi) 46 47\n",
      "RX(pi/2) 47\n",
      "XY(pi) 46 47\n",
      "RX(pi/2) 46\n",
      "XY(pi) 46 47\n",
      "RZ(1.0*pauli2qcost02[0]) 31\n",
      "CPHASE(-2.0*pauli2qcost02[0]) 31 46\n",
      "RZ(pi/2 + 1.0*pauli1qcost00[0]) 46\n",
      "RX(pi/2) 46\n",
      "RZ(1.0*pauli1qmixer02[0]) 46\n",
      "RX(-pi/2) 46\n",
      "RZ(-pi/2) 46\n",
      "RX(pi/2) 47\n",
      "RZ(1.0*pauli2qcost10[0]) 47\n",
      "XY(pi) 46 47\n",
      "RX(pi/2) 47\n",
      "XY(pi) 46 47\n",
      "RX(pi/2) 46\n",
      "XY(pi) 46 47\n",
      "RZ(pi/2) 31\n",
      "RX(pi/2) 31\n",
      "RZ(1.0*pauli1qmixer00[0]) 31\n",
      "RX(-pi/2) 31\n",
      "RZ(-pi/2 + 1.0*pauli2qcost10[0]) 31\n",
      "CPHASE(-2.0*pauli2qcost10[0]) 31 46\n",
      "RZ(1.0*pauli2qcost11[0]) 46\n",
      "RX(pi/2) 47\n",
      "RZ(1.0*pauli2qcost11[0]) 47\n",
      "CPHASE(-2.0*pauli2qcost11[0]) 46 47\n",
      "RZ(pi/2) 46\n",
      "RX(pi/2) 46\n",
      "RZ(1.0*pauli1qmixer11[0]) 46\n",
      "RX(-pi/2) 46\n",
      "RZ(-pi/2) 46\n",
      "MEASURE 46 ro[1]\n",
      "RZ(1.0*pauli2qcost12[0]) 47\n",
      "XY(pi) 46 47\n",
      "RX(pi/2) 47\n",
      "XY(pi) 46 47\n",
      "RX(pi/2) 46\n",
      "XY(pi) 46 47\n",
      "RZ(1.0*pauli2qcost12[0]) 31\n",
      "CPHASE(-2.0*pauli2qcost12[0]) 31 46\n",
      "RZ(pi/2) 31\n",
      "RX(pi/2) 31\n",
      "RZ(1.0*pauli1qmixer10[0]) 31\n",
      "RX(-pi/2) 31\n",
      "RZ(-pi/2) 31\n",
      "MEASURE 31 ro[0]\n",
      "RZ(pi/2 + 1.0*pauli1qcost10[0]) 46\n",
      "RX(pi/2) 46\n",
      "RZ(1.0*pauli1qmixer12[0]) 46\n",
      "RX(-pi/2) 46\n",
      "RZ(-pi/2) 46\n",
      "MEASURE 46 ro[2]\n",
      "RX(pi/2) 47\n",
      "HALT\n",
      "\n"
     ]
    }
   ],
   "source": [
    "print(backend_pyquil_qpu.qaoa_circuit(variate_params))"
   ]
  },
  {
   "cell_type": "code",
   "execution_count": 14,
   "metadata": {},
   "outputs": [
    {
     "data": {
      "text/plain": [
       "-3.4520000000000004"
      ]
     },
     "execution_count": 14,
     "metadata": {},
     "output_type": "execute_result"
    }
   ],
   "source": [
    "backend_pyquil_qpu.expectation(variate_params)"
   ]
  },
  {
   "cell_type": "code",
   "execution_count": 15,
   "metadata": {},
   "outputs": [
    {
     "data": {
      "text/plain": [
       "(-5.0, [array([0, 0, 1, 1]), array([1, 0, 1, 1]), array([0, 1, 1, 1])])"
      ]
     },
     "execution_count": 15,
     "metadata": {},
     "output_type": "execute_result"
    }
   ],
   "source": [
    "backend_pyquil_qpu.exact_solution"
   ]
  },
  {
   "cell_type": "markdown",
   "metadata": {},
   "source": [
    "#### pyquil wavefunction simulator #TODO"
   ]
  },
  {
   "cell_type": "code",
   "execution_count": 17,
   "metadata": {},
   "outputs": [],
   "source": [
    "# backend_pyquil_statevec = get_qaoa_backend(circuit_params, 'pyquil_statevec_simulator')"
   ]
  },
  {
   "cell_type": "code",
   "execution_count": 18,
   "metadata": {},
   "outputs": [],
   "source": [
    "# # statevector = backend_pyquil_statevec.wavefunction(variate_params)\n",
    "# # print(statevector)\n",
    "# backend_pyquil_statevec.expectation(variate_params)"
   ]
  },
  {
   "cell_type": "markdown",
   "metadata": {},
   "source": [
    "#### qiskit wavefunction simulator"
   ]
  },
  {
   "cell_type": "code",
   "execution_count": 16,
   "metadata": {},
   "outputs": [],
   "source": [
    "qiskit_sim = create_device('local','qiskit.statevector_simulator')"
   ]
  },
  {
   "cell_type": "code",
   "execution_count": 17,
   "metadata": {},
   "outputs": [],
   "source": [
    "backend_qiskit_statevec = get_qaoa_backend(circuit_params,qiskit_sim)"
   ]
  },
  {
   "cell_type": "code",
   "execution_count": 18,
   "metadata": {},
   "outputs": [
    {
     "data": {
      "text/html": [
       "<pre style=\"word-wrap: normal;white-space: pre;background: #fff0;line-height: 1.1;font-family: &quot;Courier New&quot;,Courier,monospace\">      ┌───┐                                                         »\n",
       "q0_0: ┤ H ├─■───────────────────────────────────────────────────────»\n",
       "      ├───┤ │ZZ(['2q', 'cost', 0, 0])                               »\n",
       "q0_1: ┤ H ├─■────────────────────────────■──────────────────────────»\n",
       "      ├───┤                              │ZZ(['2q', 'cost', 0, 1])  »\n",
       "q0_2: ┤ H ├──────────────────────────────■──────────────────────────»\n",
       "      ├───┤┌──────────────────────────┐┌───────────────────────────┐»\n",
       "q0_3: ┤ H ├┤ Rz(['1q', 'cost', 0, 1]) ├┤ Rx(['1q', 'mixer', 0, 3]) ├»\n",
       "      └───┘└──────────────────────────┘└───────────────────────────┘»\n",
       "«                                  ┌───────────────────────────┐»\n",
       "«q0_0: ─■──────────────────────────┤ Rx(['1q', 'mixer', 0, 0]) ├»\n",
       "«       │                          ├───────────────────────────┤»\n",
       "«q0_1: ─┼──────────────────────────┤ Rx(['1q', 'mixer', 0, 1]) ├»\n",
       "«       │ZZ(['2q', 'cost', 0, 2])  └┬──────────────────────────┤»\n",
       "«q0_2: ─■───────────────────────────┤ Rz(['1q', 'cost', 0, 0]) ├»\n",
       "«      ┌──────────────────────────┐┌┴──────────────────────────┤»\n",
       "«q0_3: ┤ Rz(['1q', 'cost', 1, 1]) ├┤ Rx(['1q', 'mixer', 1, 3]) ├»\n",
       "«      └──────────────────────────┘└───────────────────────────┘»\n",
       "«                                                              »\n",
       "«q0_0: ──■─────────────────────────────────────────────────────»\n",
       "«        │ZZ(['2q', 'cost', 1, 0])                             »\n",
       "«q0_1: ──■───────────────────────────■─────────────────────────»\n",
       "«      ┌───────────────────────────┐ │ZZ(['2q', 'cost', 1, 1]) »\n",
       "«q0_2: ┤ Rx(['1q', 'mixer', 0, 2]) ├─■─────────────────────────»\n",
       "«      └───────────────────────────┘                           »\n",
       "«q0_3: ────────────────────────────────────────────────────────»\n",
       "«                                                              »\n",
       "«                                 ┌───────────────────────────┐»\n",
       "«q0_0: ─■─────────────────────────┤ Rx(['1q', 'mixer', 1, 0]) ├»\n",
       "«       │                         ├───────────────────────────┤»\n",
       "«q0_1: ─┼─────────────────────────┤ Rx(['1q', 'mixer', 1, 1]) ├»\n",
       "«       │ZZ(['2q', 'cost', 1, 2]) └┬──────────────────────────┤»\n",
       "«q0_2: ─■──────────────────────────┤ Rz(['1q', 'cost', 1, 0]) ├»\n",
       "«                                  └──────────────────────────┘»\n",
       "«q0_3: ────────────────────────────────────────────────────────»\n",
       "«                                                              »\n",
       "«                                   \n",
       "«q0_0: ─────────────────────────────\n",
       "«                                   \n",
       "«q0_1: ─────────────────────────────\n",
       "«      ┌───────────────────────────┐\n",
       "«q0_2: ┤ Rx(['1q', 'mixer', 1, 2]) ├\n",
       "«      └───────────────────────────┘\n",
       "«q0_3: ─────────────────────────────\n",
       "«                                   </pre>"
      ],
      "text/plain": [
       "      ┌───┐                                                         »\n",
       "q0_0: ┤ H ├─■───────────────────────────────────────────────────────»\n",
       "      ├───┤ │ZZ(['2q', 'cost', 0, 0])                               »\n",
       "q0_1: ┤ H ├─■────────────────────────────■──────────────────────────»\n",
       "      ├───┤                              │ZZ(['2q', 'cost', 0, 1])  »\n",
       "q0_2: ┤ H ├──────────────────────────────■──────────────────────────»\n",
       "      ├───┤┌──────────────────────────┐┌───────────────────────────┐»\n",
       "q0_3: ┤ H ├┤ Rz(['1q', 'cost', 0, 1]) ├┤ Rx(['1q', 'mixer', 0, 3]) ├»\n",
       "      └───┘└──────────────────────────┘└───────────────────────────┘»\n",
       "«                                  ┌───────────────────────────┐»\n",
       "«q0_0: ─■──────────────────────────┤ Rx(['1q', 'mixer', 0, 0]) ├»\n",
       "«       │                          ├───────────────────────────┤»\n",
       "«q0_1: ─┼──────────────────────────┤ Rx(['1q', 'mixer', 0, 1]) ├»\n",
       "«       │ZZ(['2q', 'cost', 0, 2])  └┬──────────────────────────┤»\n",
       "«q0_2: ─■───────────────────────────┤ Rz(['1q', 'cost', 0, 0]) ├»\n",
       "«      ┌──────────────────────────┐┌┴──────────────────────────┤»\n",
       "«q0_3: ┤ Rz(['1q', 'cost', 1, 1]) ├┤ Rx(['1q', 'mixer', 1, 3]) ├»\n",
       "«      └──────────────────────────┘└───────────────────────────┘»\n",
       "«                                                              »\n",
       "«q0_0: ──■─────────────────────────────────────────────────────»\n",
       "«        │ZZ(['2q', 'cost', 1, 0])                             »\n",
       "«q0_1: ──■───────────────────────────■─────────────────────────»\n",
       "«      ┌───────────────────────────┐ │ZZ(['2q', 'cost', 1, 1]) »\n",
       "«q0_2: ┤ Rx(['1q', 'mixer', 0, 2]) ├─■─────────────────────────»\n",
       "«      └───────────────────────────┘                           »\n",
       "«q0_3: ────────────────────────────────────────────────────────»\n",
       "«                                                              »\n",
       "«                                 ┌───────────────────────────┐»\n",
       "«q0_0: ─■─────────────────────────┤ Rx(['1q', 'mixer', 1, 0]) ├»\n",
       "«       │                         ├───────────────────────────┤»\n",
       "«q0_1: ─┼─────────────────────────┤ Rx(['1q', 'mixer', 1, 1]) ├»\n",
       "«       │ZZ(['2q', 'cost', 1, 2]) └┬──────────────────────────┤»\n",
       "«q0_2: ─■──────────────────────────┤ Rz(['1q', 'cost', 1, 0]) ├»\n",
       "«                                  └──────────────────────────┘»\n",
       "«q0_3: ────────────────────────────────────────────────────────»\n",
       "«                                                              »\n",
       "«                                   \n",
       "«q0_0: ─────────────────────────────\n",
       "«                                   \n",
       "«q0_1: ─────────────────────────────\n",
       "«      ┌───────────────────────────┐\n",
       "«q0_2: ┤ Rx(['1q', 'mixer', 1, 2]) ├\n",
       "«      └───────────────────────────┘\n",
       "«q0_3: ─────────────────────────────\n",
       "«                                   "
      ]
     },
     "execution_count": 18,
     "metadata": {},
     "output_type": "execute_result"
    }
   ],
   "source": [
    "backend_qiskit_statevec.parametric_circuit.draw()"
   ]
  },
  {
   "cell_type": "code",
   "execution_count": 19,
   "metadata": {},
   "outputs": [
    {
     "data": {
      "text/html": [
       "<pre style=\"word-wrap: normal;white-space: pre;background: #fff0;line-height: 1.1;font-family: &quot;Courier New&quot;,Courier,monospace\">      ┌───┐                                   ┌───────────┐             »\n",
       "q0_0: ┤ H ├─■───────────────────────■─────────┤ Rx(-1.05) ├──■──────────»\n",
       "      ├───┤ │ZZ(0.35)               │         ├───────────┤  │ZZ(1.05)  »\n",
       "q0_1: ┤ H ├─■───────────■───────────┼─────────┤ Rx(-1.05) ├──■──────────»\n",
       "      ├───┤             │ZZ(0.35)   │ZZ(0.35) └┬─────────┬┘┌───────────┐»\n",
       "q0_2: ┤ H ├─────────────■───────────■──────────┤ Rz(0.7) ├─┤ Rx(-1.05) ├»\n",
       "      ├───┤┌─────────┐┌───────────┐┌─────────┐┌┴─────────┴┐└───────────┘»\n",
       "q0_3: ┤ H ├┤ Rz(0.7) ├┤ Rx(-1.05) ├┤ Rz(2.1) ├┤ Rx(-0.35) ├─────────────»\n",
       "      └───┘└─────────┘└───────────┘└─────────┘└───────────┘             »\n",
       "«                            ┌───────────┐             \n",
       "«q0_0: ────────────■─────────┤ Rx(-0.35) ├─────────────\n",
       "«                  │         ├───────────┤             \n",
       "«q0_1: ─■──────────┼─────────┤ Rx(-0.35) ├─────────────\n",
       "«       │ZZ(1.05)  │ZZ(1.05) └┬─────────┬┘┌───────────┐\n",
       "«q0_2: ─■──────────■──────────┤ Rz(2.1) ├─┤ Rx(-0.35) ├\n",
       "«                             └─────────┘ └───────────┘\n",
       "«q0_3: ────────────────────────────────────────────────\n",
       "«                                                      </pre>"
      ],
      "text/plain": [
       "      ┌───┐                                   ┌───────────┐             »\n",
       "q0_0: ┤ H ├─■───────────────────────■─────────┤ Rx(-1.05) ├──■──────────»\n",
       "      ├───┤ │ZZ(0.35)               │         ├───────────┤  │ZZ(1.05)  »\n",
       "q0_1: ┤ H ├─■───────────■───────────┼─────────┤ Rx(-1.05) ├──■──────────»\n",
       "      ├───┤             │ZZ(0.35)   │ZZ(0.35) └┬─────────┬┘┌───────────┐»\n",
       "q0_2: ┤ H ├─────────────■───────────■──────────┤ Rz(0.7) ├─┤ Rx(-1.05) ├»\n",
       "      ├───┤┌─────────┐┌───────────┐┌─────────┐┌┴─────────┴┐└───────────┘»\n",
       "q0_3: ┤ H ├┤ Rz(0.7) ├┤ Rx(-1.05) ├┤ Rz(2.1) ├┤ Rx(-0.35) ├─────────────»\n",
       "      └───┘└─────────┘└───────────┘└─────────┘└───────────┘             »\n",
       "«                            ┌───────────┐             \n",
       "«q0_0: ────────────■─────────┤ Rx(-0.35) ├─────────────\n",
       "«                  │         ├───────────┤             \n",
       "«q0_1: ─■──────────┼─────────┤ Rx(-0.35) ├─────────────\n",
       "«       │ZZ(1.05)  │ZZ(1.05) └┬─────────┬┘┌───────────┐\n",
       "«q0_2: ─■──────────■──────────┤ Rz(2.1) ├─┤ Rx(-0.35) ├\n",
       "«                             └─────────┘ └───────────┘\n",
       "«q0_3: ────────────────────────────────────────────────\n",
       "«                                                      "
      ]
     },
     "execution_count": 19,
     "metadata": {},
     "output_type": "execute_result"
    }
   ],
   "source": [
    "backend_qiskit_statevec.qaoa_circuit(variate_params).draw()"
   ]
  },
  {
   "cell_type": "code",
   "execution_count": 20,
   "metadata": {},
   "outputs": [
    {
     "name": "stdout",
     "output_type": "stream",
     "text": [
      "-3.433133222123362\n",
      "(-3.433133222123362, 2.31185193953547)\n"
     ]
    }
   ],
   "source": [
    "print(backend_qiskit_statevec.expectation(variate_params))\n",
    "print(backend_qiskit_statevec.expectation_w_uncertainty(variate_params))"
   ]
  },
  {
   "cell_type": "markdown",
   "metadata": {},
   "source": [
    "#### qiskit noisy shot based simulator"
   ]
  },
  {
   "cell_type": "code",
   "execution_count": 22,
   "metadata": {},
   "outputs": [],
   "source": [
    "# from qiskit.providers.aer.noise import NoiseModel\n",
    "# from qiskit import IBMQ\n",
    "# IBMQ.load_account()\n",
    "# provider = IBMQ.get_provider('ibm-q-startup','entropica-labs','reservations')\n",
    "# backend = provider.get_backend('ibmq_guadalupe')\n",
    "# noise_model = NoiseModel.from_backend(backend)"
   ]
  },
  {
   "cell_type": "code",
   "execution_count": 24,
   "metadata": {},
   "outputs": [],
   "source": [
    "# qiskit_shot_sim = create_device('local','qiskit.shot_simulator')\n",
    "# backend_qiskit_shot = get_qaoa_backend(circuit_params, qiskit_shot_sim, n_shots=1000000, noise_model=noise_model)"
   ]
  },
  {
   "cell_type": "code",
   "execution_count": 26,
   "metadata": {},
   "outputs": [
    {
     "name": "stdout",
     "output_type": "stream",
     "text": [
      "-3.167164\n",
      "(-3.163736, 2.5150440398338954)\n"
     ]
    }
   ],
   "source": [
    "# print(backend_qiskit_shot.expectation(variate_params))\n",
    "# print(backend_qiskit_shot.expectation_w_uncertainty(variate_params))"
   ]
  },
  {
   "cell_type": "code",
   "execution_count": 29,
   "metadata": {},
   "outputs": [],
   "source": [
    "# current_ckt = backend_qiskit_shot.qaoa_circuit(variate_params)"
   ]
  },
  {
   "cell_type": "code",
   "execution_count": 31,
   "metadata": {},
   "outputs": [
    {
     "data": {
      "text/html": [
       "<pre style=\"word-wrap: normal;white-space: pre;background: #fff0;line-height: 1.1;font-family: &quot;Courier New&quot;,Courier,monospace\">        ┌───┐                                                         »\n",
       "  q1_0: ┤ H ├─■───────────────────────────────────────────────────────»\n",
       "        ├───┤ │ZZ(['2q', 'cost', 0, 0])                               »\n",
       "  q1_1: ┤ H ├─■────────────────────────────■──────────────────────────»\n",
       "        ├───┤                              │ZZ(['2q', 'cost', 0, 1])  »\n",
       "  q1_2: ┤ H ├──────────────────────────────■──────────────────────────»\n",
       "        ├───┤┌──────────────────────────┐┌───────────────────────────┐»\n",
       "  q1_3: ┤ H ├┤ Rz(['1q', 'cost', 0, 1]) ├┤ Rx(['1q', 'mixer', 0, 3]) ├»\n",
       "        └───┘└──────────────────────────┘└───────────────────────────┘»\n",
       "meas: 4/══════════════════════════════════════════════════════════════»\n",
       "                                                                      »\n",
       "«                                    ┌───────────────────────────┐»\n",
       "«  q1_0: ─■──────────────────────────┤ Rx(['1q', 'mixer', 0, 0]) ├»\n",
       "«         │                          ├───────────────────────────┤»\n",
       "«  q1_1: ─┼──────────────────────────┤ Rx(['1q', 'mixer', 0, 1]) ├»\n",
       "«         │ZZ(['2q', 'cost', 0, 2])  └┬──────────────────────────┤»\n",
       "«  q1_2: ─■───────────────────────────┤ Rz(['1q', 'cost', 0, 0]) ├»\n",
       "«        ┌──────────────────────────┐┌┴──────────────────────────┤»\n",
       "«  q1_3: ┤ Rz(['1q', 'cost', 1, 1]) ├┤ Rx(['1q', 'mixer', 1, 3]) ├»\n",
       "«        └──────────────────────────┘└───────────────────────────┘»\n",
       "«meas: 4/═════════════════════════════════════════════════════════»\n",
       "«                                                                 »\n",
       "«                                                                »\n",
       "«  q1_0: ──■─────────────────────────────────────────────────────»\n",
       "«          │ZZ(['2q', 'cost', 1, 0])                             »\n",
       "«  q1_1: ──■───────────────────────────■─────────────────────────»\n",
       "«        ┌───────────────────────────┐ │ZZ(['2q', 'cost', 1, 1]) »\n",
       "«  q1_2: ┤ Rx(['1q', 'mixer', 0, 2]) ├─■─────────────────────────»\n",
       "«        └───────────────────────────┘                           »\n",
       "«  q1_3: ────────────────────────────────────────────────────────»\n",
       "«                                                                »\n",
       "«meas: 4/════════════════════════════════════════════════════════»\n",
       "«                                                                »\n",
       "«                                   ┌───────────────────────────┐»\n",
       "«  q1_0: ─■─────────────────────────┤ Rx(['1q', 'mixer', 1, 0]) ├»\n",
       "«         │                         ├───────────────────────────┤»\n",
       "«  q1_1: ─┼─────────────────────────┤ Rx(['1q', 'mixer', 1, 1]) ├»\n",
       "«         │ZZ(['2q', 'cost', 1, 2]) └┬──────────────────────────┤»\n",
       "«  q1_2: ─■──────────────────────────┤ Rz(['1q', 'cost', 1, 0]) ├»\n",
       "«                                    └──────────────────────────┘»\n",
       "«  q1_3: ────────────────────────────────────────────────────────»\n",
       "«                                                                »\n",
       "«meas: 4/════════════════════════════════════════════════════════»\n",
       "«                                                                »\n",
       "«                                      ░ ┌─┐         \n",
       "«  q1_0: ──────────────────────────────░─┤M├─────────\n",
       "«                                      ░ └╥┘┌─┐      \n",
       "«  q1_1: ──────────────────────────────░──╫─┤M├──────\n",
       "«        ┌───────────────────────────┐ ░  ║ └╥┘┌─┐   \n",
       "«  q1_2: ┤ Rx(['1q', 'mixer', 1, 2]) ├─░──╫──╫─┤M├───\n",
       "«        └───────────────────────────┘ ░  ║  ║ └╥┘┌─┐\n",
       "«  q1_3: ──────────────────────────────░──╫──╫──╫─┤M├\n",
       "«                                      ░  ║  ║  ║ └╥┘\n",
       "«meas: 4/═════════════════════════════════╩══╩══╩══╩═\n",
       "«                                         0  1  2  3 </pre>"
      ],
      "text/plain": [
       "        ┌───┐                                                         »\n",
       "  q1_0: ┤ H ├─■───────────────────────────────────────────────────────»\n",
       "        ├───┤ │ZZ(['2q', 'cost', 0, 0])                               »\n",
       "  q1_1: ┤ H ├─■────────────────────────────■──────────────────────────»\n",
       "        ├───┤                              │ZZ(['2q', 'cost', 0, 1])  »\n",
       "  q1_2: ┤ H ├──────────────────────────────■──────────────────────────»\n",
       "        ├───┤┌──────────────────────────┐┌───────────────────────────┐»\n",
       "  q1_3: ┤ H ├┤ Rz(['1q', 'cost', 0, 1]) ├┤ Rx(['1q', 'mixer', 0, 3]) ├»\n",
       "        └───┘└──────────────────────────┘└───────────────────────────┘»\n",
       "meas: 4/══════════════════════════════════════════════════════════════»\n",
       "                                                                      »\n",
       "«                                    ┌───────────────────────────┐»\n",
       "«  q1_0: ─■──────────────────────────┤ Rx(['1q', 'mixer', 0, 0]) ├»\n",
       "«         │                          ├───────────────────────────┤»\n",
       "«  q1_1: ─┼──────────────────────────┤ Rx(['1q', 'mixer', 0, 1]) ├»\n",
       "«         │ZZ(['2q', 'cost', 0, 2])  └┬──────────────────────────┤»\n",
       "«  q1_2: ─■───────────────────────────┤ Rz(['1q', 'cost', 0, 0]) ├»\n",
       "«        ┌──────────────────────────┐┌┴──────────────────────────┤»\n",
       "«  q1_3: ┤ Rz(['1q', 'cost', 1, 1]) ├┤ Rx(['1q', 'mixer', 1, 3]) ├»\n",
       "«        └──────────────────────────┘└───────────────────────────┘»\n",
       "«meas: 4/═════════════════════════════════════════════════════════»\n",
       "«                                                                 »\n",
       "«                                                                »\n",
       "«  q1_0: ──■─────────────────────────────────────────────────────»\n",
       "«          │ZZ(['2q', 'cost', 1, 0])                             »\n",
       "«  q1_1: ──■───────────────────────────■─────────────────────────»\n",
       "«        ┌───────────────────────────┐ │ZZ(['2q', 'cost', 1, 1]) »\n",
       "«  q1_2: ┤ Rx(['1q', 'mixer', 0, 2]) ├─■─────────────────────────»\n",
       "«        └───────────────────────────┘                           »\n",
       "«  q1_3: ────────────────────────────────────────────────────────»\n",
       "«                                                                »\n",
       "«meas: 4/════════════════════════════════════════════════════════»\n",
       "«                                                                »\n",
       "«                                   ┌───────────────────────────┐»\n",
       "«  q1_0: ─■─────────────────────────┤ Rx(['1q', 'mixer', 1, 0]) ├»\n",
       "«         │                         ├───────────────────────────┤»\n",
       "«  q1_1: ─┼─────────────────────────┤ Rx(['1q', 'mixer', 1, 1]) ├»\n",
       "«         │ZZ(['2q', 'cost', 1, 2]) └┬──────────────────────────┤»\n",
       "«  q1_2: ─■──────────────────────────┤ Rz(['1q', 'cost', 1, 0]) ├»\n",
       "«                                    └──────────────────────────┘»\n",
       "«  q1_3: ────────────────────────────────────────────────────────»\n",
       "«                                                                »\n",
       "«meas: 4/════════════════════════════════════════════════════════»\n",
       "«                                                                »\n",
       "«                                      ░ ┌─┐         \n",
       "«  q1_0: ──────────────────────────────░─┤M├─────────\n",
       "«                                      ░ └╥┘┌─┐      \n",
       "«  q1_1: ──────────────────────────────░──╫─┤M├──────\n",
       "«        ┌───────────────────────────┐ ░  ║ └╥┘┌─┐   \n",
       "«  q1_2: ┤ Rx(['1q', 'mixer', 1, 2]) ├─░──╫──╫─┤M├───\n",
       "«        └───────────────────────────┘ ░  ║  ║ └╥┘┌─┐\n",
       "«  q1_3: ──────────────────────────────░──╫──╫──╫─┤M├\n",
       "«                                      ░  ║  ║  ║ └╥┘\n",
       "«meas: 4/═════════════════════════════════╩══╩══╩══╩═\n",
       "«                                         0  1  2  3 "
      ]
     },
     "execution_count": 31,
     "metadata": {},
     "output_type": "execute_result"
    }
   ],
   "source": [
    "# backend_qiskit_shot.parametric_circuit.draw()"
   ]
  }
 ],
 "metadata": {
  "kernelspec": {
   "display_name": "OpenQAOA_kernel",
   "language": "python",
   "name": "openqaoa_env"
  },
  "language_info": {
   "codemirror_mode": {
    "name": "ipython",
    "version": 3
   },
   "file_extension": ".py",
   "mimetype": "text/x-python",
   "name": "python",
   "nbconvert_exporter": "python",
   "pygments_lexer": "ipython3",
   "version": "3.8.8"
  }
 },
 "nbformat": 4,
 "nbformat_minor": 4
}
