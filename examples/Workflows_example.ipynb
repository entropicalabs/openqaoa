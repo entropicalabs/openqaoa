{
 "cells": [
  {
   "cell_type": "code",
   "execution_count": 1,
   "metadata": {},
   "outputs": [],
   "source": [
    "%load_ext autoreload\n",
    "%autoreload 2"
   ]
  },
  {
   "cell_type": "code",
   "execution_count": 2,
   "metadata": {},
   "outputs": [],
   "source": [
    "import networkx as nx\n",
    "import numpy as np\n",
    "from openqaoa.problems.problem import MinimumVertexCover, NumberPartition\n",
    "import matplotlib.pyplot as plt\n",
    "from pprint import pprint\n",
    "from openqaoa.devices import create_device, DeviceLocal"
   ]
  },
  {
   "cell_type": "markdown",
   "metadata": {},
   "source": [
    "The goal of this notebook is to showcase how the workflows work. The workflows enable the end user to run complex QAOA algorithms with a simple and intuitive API"
   ]
  },
  {
   "cell_type": "markdown",
   "metadata": {},
   "source": [
    "To create a problem statement we can crate a ring a disagrees using networkx"
   ]
  },
  {
   "cell_type": "markdown",
   "metadata": {},
   "source": [
    "Today we'll be solving the **Vertex cover** problem. The vertex cover of a graph is a set of vertices that includes at least one endpoint of every edge of the graph."
   ]
  },
  {
   "cell_type": "code",
   "execution_count": 3,
   "metadata": {},
   "outputs": [],
   "source": [
    "g = nx.circulant_graph(6, [1])\n",
    "vc = MinimumVertexCover(g, field =1.0, penalty=10).get_pubo_problem()"
   ]
  },
  {
   "cell_type": "markdown",
   "metadata": {},
   "source": [
    "The method `get_pubo_problem()` translates the problem into a binary Pubo problem. The binary values can be access via the `asdict()` method"
   ]
  },
  {
   "cell_type": "code",
   "execution_count": 4,
   "metadata": {},
   "outputs": [
    {
     "data": {
      "text/plain": [
       "{'terms': [[0, 5],\n",
       "  [0, 1],\n",
       "  [1, 2],\n",
       "  [2, 3],\n",
       "  [3, 4],\n",
       "  [4, 5],\n",
       "  [0],\n",
       "  [1],\n",
       "  [2],\n",
       "  [3],\n",
       "  [4],\n",
       "  [5]],\n",
       " 'weights': [2.5, 2.5, 2.5, 2.5, 2.5, 2.5, 4.5, 4.5, 4.5, 4.5, 4.5, 4.5],\n",
       " 'constant': 18.0,\n",
       " 'n': 6,\n",
       " 'encoding': [-1, 1]}"
      ]
     },
     "execution_count": 4,
     "metadata": {},
     "output_type": "execute_result"
    }
   ],
   "source": [
    "vc.asdict()  "
   ]
  },
  {
   "cell_type": "code",
   "execution_count": 5,
   "metadata": {},
   "outputs": [
    {
     "data": {
      "text/plain": [
       "<matplotlib.collections.LineCollection at 0x7f12b4f43b20>"
      ]
     },
     "execution_count": 5,
     "metadata": {},
     "output_type": "execute_result"
    },
    {
     "data": {
      "image/png": "[encoded data removed]",
      "text/plain": [
       "<Figure size 432x288 with 1 Axes>"
      ]
     },
     "metadata": {},
     "output_type": "display_data"
    }
   ],
   "source": [
    "g = nx.circulant_graph(6, [1])\n",
    "pos =  nx.spring_layout(g, seed=3113794652)\n",
    "nx.draw_networkx_nodes(g, pos, nodelist=[0, 2, 4], node_color=\"tab:red\")\n",
    "nx.draw_networkx_nodes(g, pos, nodelist=[1, 3, 5 ], node_color=\"tab:blue\")\n",
    "nx.draw_networkx_edges(g, pos)"
   ]
  },
  {
   "cell_type": "markdown",
   "metadata": {},
   "source": [
    "In this case the solution is 2-fold degenerate: `[1,0,1,0,1,0]` or `[0,1,0,1,0,1]`"
   ]
  },
  {
   "cell_type": "markdown",
   "metadata": {},
   "source": [
    "We can then import the optimizer as follows"
   ]
  },
  {
   "cell_type": "code",
   "execution_count": 6,
   "metadata": {},
   "outputs": [],
   "source": [
    "from openqaoa.workflows.optimizer import QAOA  "
   ]
  },
  {
   "cell_type": "markdown",
   "metadata": {},
   "source": [
    "# Vanilla QAOA - aka vectorised"
   ]
  },
  {
   "cell_type": "markdown",
   "metadata": {},
   "source": [
    "First, let's try to solve the problem using vanilla QAOA.\n",
    "    \n",
    "Vanilla QAOA is defined to run on the `vectorised` backend, a fast simulator for qaoa problems"
   ]
  },
  {
   "cell_type": "code",
   "execution_count": 7,
   "metadata": {},
   "outputs": [],
   "source": [
    "q = QAOA()"
   ]
  },
  {
   "cell_type": "markdown",
   "metadata": {},
   "source": [
    "After having created the QAOA object we need to compile it. **Compilation is necessary** because the QAOA solver has to interact with the problem in to be able to craete the underlying QAOA circuit"
   ]
  },
  {
   "cell_type": "code",
   "execution_count": 8,
   "metadata": {},
   "outputs": [
    {
     "name": "stdout",
     "output_type": "stream",
     "text": [
      "\t \u001b[1m ### Summary ###\u001b[0m\n",
      "OpenQAOA has ben compiled with the following properties\n",
      "Solving QAOA with \u001b[1m vectorized \u001b[0m on  \u001b[1mlocal\u001b[0m\n",
      "Using p=1 with standard parameters initialsied as ramp\n",
      "OpenQAOA will optimize using \u001b[1mcobyla\u001b[0m, with up to \u001b[1m100\u001b[0m maximum iterations\n"
     ]
    }
   ],
   "source": [
    "q.compile(vc) "
   ]
  },
  {
   "cell_type": "code",
   "execution_count": 9,
   "metadata": {},
   "outputs": [
    {
     "name": "stdout",
     "output_type": "stream",
     "text": [
      "optimization completed.\n"
     ]
    }
   ],
   "source": [
    "q.optimize()"
   ]
  },
  {
   "cell_type": "markdown",
   "metadata": {},
   "source": [
    "    To retrive the solution of the simply type"
   ]
  },
  {
   "cell_type": "code",
   "execution_count": 10,
   "metadata": {},
   "outputs": [
    {
     "data": {
      "text/plain": [
       "{'solutions_bitstrings': ['101010', '010101'], 'bitstring_energy': 3.0}"
      ]
     },
     "execution_count": 10,
     "metadata": {},
     "output_type": "execute_result"
    }
   ],
   "source": [
    "q.results.most_probable_states"
   ]
  },
  {
   "cell_type": "markdown",
   "metadata": {},
   "source": [
    "# Customising the QAOA optimiser"
   ]
  },
  {
   "cell_type": "code",
   "execution_count": 11,
   "metadata": {},
   "outputs": [],
   "source": [
    "q_custom = QAOA()"
   ]
  },
  {
   "cell_type": "markdown",
   "metadata": {},
   "source": [
    "The qaoa class is at first composed by 4 key sub-classes\n",
    "- circuit_properties\n",
    "- device_properties\n",
    "- backend_properties\n",
    "- classical_optimizer"
   ]
  },
  {
   "cell_type": "markdown",
   "metadata": {},
   "source": [
    "Sets the circuit properties using `q.set_circuit_properties()`. Mainly used to set:\n",
    "\n",
    "    - p: the number of layers\n",
    "    - param_type: the desired parameterisation to be chosen between `['standard', 'extended', 'fourier']`\n",
    "    - init_type: the initialisation stratefy for param_type. To be chosen between `[ramp, random, custom]`"
   ]
  },
  {
   "cell_type": "code",
   "execution_count": 12,
   "metadata": {},
   "outputs": [],
   "source": [
    "q_custom.set_circuit_properties(p=1, param_type='standard', init_type='ramp', mixer_hamiltonian='x')"
   ]
  },
  {
   "cell_type": "markdown",
   "metadata": {},
   "source": [
    "the values can be easily checked by accessing the attribute as a dictionary. Soon a better way to represent them will be provided :-)"
   ]
  },
  {
   "cell_type": "markdown",
   "metadata": {},
   "source": [
    "Create and set the new device using `q.set_device()`.\n",
    "\n",
    "The device properties include the location of the device `[local, qcs, ibmq]` and the device name. Full list of devices avaialbe at `openqaoa.workflows.parameters.qaoa_parameters.ALLOWED_DEVICES`"
   ]
  },
  {
   "cell_type": "code",
   "execution_count": 13,
   "metadata": {},
   "outputs": [],
   "source": [
    "sim_vect = create_device(location='local', name='vectorized')"
   ]
  },
  {
   "cell_type": "code",
   "execution_count": 14,
   "metadata": {},
   "outputs": [],
   "source": [
    "q_custom.set_device(sim_vect)"
   ]
  },
  {
   "cell_type": "markdown",
   "metadata": {},
   "source": [
    "Sets the backend properties `q.set_backend_properties()`\n",
    "\n",
    "Chiefly used to set the number of shots and properties fo the backend"
   ]
  },
  {
   "cell_type": "code",
   "execution_count": 15,
   "metadata": {},
   "outputs": [],
   "source": [
    "q_custom.set_backend_properties(cvar_alpha=1)"
   ]
  },
  {
   "cell_type": "markdown",
   "metadata": {},
   "source": [
    "Sets the classical optimiser properties `q.set_classical_optimizer()`"
   ]
  },
  {
   "cell_type": "code",
   "execution_count": 16,
   "metadata": {},
   "outputs": [],
   "source": [
    "q_custom.set_classical_optimizer(method='nelder-mead', maxiter=2)"
   ]
  },
  {
   "cell_type": "code",
   "execution_count": 17,
   "metadata": {},
   "outputs": [
    {
     "name": "stdout",
     "output_type": "stream",
     "text": [
      "\t \u001b[1m ### Summary ###\u001b[0m\n",
      "OpenQAOA has ben compiled with the following properties\n",
      "Solving QAOA with \u001b[1m vectorized \u001b[0m on  \u001b[1mlocal\u001b[0m\n",
      "Using p=1 with standard parameters initialsied as ramp\n",
      "OpenQAOA will optimize using \u001b[1mnelder-mead\u001b[0m, with up to \u001b[1m2\u001b[0m maximum iterations\n"
     ]
    }
   ],
   "source": [
    "q_custom.compile(vc)"
   ]
  },
  {
   "cell_type": "code",
   "execution_count": 18,
   "metadata": {},
   "outputs": [
    {
     "name": "stdout",
     "output_type": "stream",
     "text": [
      "optimization completed.\n"
     ]
    }
   ],
   "source": [
    "q_custom.optimize()"
   ]
  },
  {
   "cell_type": "code",
   "execution_count": 19,
   "metadata": {},
   "outputs": [
    {
     "data": {
      "text/plain": [
       "{'solutions_bitstrings': ['010101'], 'bitstring_energy': 3.0}"
      ]
     },
     "execution_count": 19,
     "metadata": {},
     "output_type": "execute_result"
    }
   ],
   "source": [
    "q_custom.results.most_probable_states"
   ]
  },
  {
   "cell_type": "markdown",
   "metadata": {},
   "source": [
    "# Accessing the result information"
   ]
  },
  {
   "cell_type": "code",
   "execution_count": 20,
   "metadata": {},
   "outputs": [
    {
     "name": "stdout",
     "output_type": "stream",
     "text": [
      "{'intermediate cost': [15.412157445012753,\n",
      "                       15.387423138375512,\n",
      "                       14.504884089476452,\n",
      "                       14.478400909904565,\n",
      "                       14.231314973721412],\n",
      " 'intermediate measurement outcomes': [],\n",
      " 'parameter log': [[0.35, 0.35],\n",
      "                   [0.3675, 0.35],\n",
      "                   [0.35, 0.3675],\n",
      "                   [0.36750000000000005, 0.36750000000000005],\n",
      "                   [0.37625, 0.37625]]}\n"
     ]
    }
   ],
   "source": [
    "pprint(q_custom.results.intermediate)"
   ]
  },
  {
   "cell_type": "code",
   "execution_count": 21,
   "metadata": {},
   "outputs": [
    {
     "name": "stdout",
     "output_type": "stream",
     "text": [
      "{'optimized cost': 14.231314973721412,\n",
      " 'optimized measurement outcomes': array([ 0.072481  -0.0253609j ,  0.06414183-0.03463744j,\n",
      "        0.06414183-0.03463744j,  0.02401179+0.06680659j,\n",
      "        0.06414183-0.03463744j,  0.03792556-0.07397392j,\n",
      "        0.02401179+0.06680659j, -0.0692126 -0.0759935j ,\n",
      "        0.06414183-0.03463744j, -0.05220302-0.19997859j,\n",
      "        0.03792556-0.07397392j, -0.04624286+0.15764406j,\n",
      "        0.02401179+0.06680659j, -0.04624286+0.15764406j,\n",
      "       -0.0692126 -0.0759935j , -0.0699232 +0.09566574j,\n",
      "        0.06414183-0.03463744j,  0.03792556-0.07397392j,\n",
      "       -0.05220302-0.19997859j, -0.04624286+0.15764406j,\n",
      "        0.03792556-0.07397392j,  0.24588797+0.19875616j,\n",
      "       -0.04624286+0.15764406j,  0.03652889+0.02370288j,\n",
      "        0.02401179+0.06680659j, -0.04624286+0.15764406j,\n",
      "       -0.04624286+0.15764406j, -0.05359969-0.10230179j,\n",
      "       -0.0692126 -0.0759935j ,  0.03652889+0.02370288j,\n",
      "       -0.0699232 +0.09566574j,  0.05637663+0.00563766j,\n",
      "        0.06414183-0.03463744j,  0.02401179+0.06680659j,\n",
      "        0.03792556-0.07397392j, -0.0692126 -0.0759935j ,\n",
      "       -0.05220302-0.19997859j, -0.04624286+0.15764406j,\n",
      "       -0.04624286+0.15764406j, -0.0699232 +0.09566574j,\n",
      "        0.03792556-0.07397392j, -0.04624286+0.15764406j,\n",
      "        0.24588797+0.19875616j,  0.03652889+0.02370288j,\n",
      "       -0.04624286+0.15764406j, -0.05359969-0.10230179j,\n",
      "        0.03652889+0.02370288j,  0.05637663+0.00563766j,\n",
      "        0.02401179+0.06680659j, -0.0692126 -0.0759935j ,\n",
      "       -0.04624286+0.15764406j, -0.0699232 +0.09566574j,\n",
      "       -0.04624286+0.15764406j,  0.03652889+0.02370288j,\n",
      "       -0.05359969-0.10230179j,  0.05637663+0.00563766j,\n",
      "       -0.0692126 -0.0759935j , -0.0699232 +0.09566574j,\n",
      "        0.03652889+0.02370288j,  0.05637663+0.00563766j,\n",
      "       -0.0699232 +0.09566574j,  0.05637663+0.00563766j,\n",
      "        0.05637663+0.00563766j,  0.12297267+0.07171637j]),\n",
      " 'optimized param': [0.37625, 0.37625]}\n"
     ]
    }
   ],
   "source": [
    "pprint(q_custom.results.optimized)"
   ]
  },
  {
   "cell_type": "markdown",
   "metadata": {},
   "source": [
    "# Test it on Pyquil's QVM"
   ]
  },
  {
   "cell_type": "code",
   "execution_count": 22,
   "metadata": {},
   "outputs": [],
   "source": [
    "q_qcs = QAOA()"
   ]
  },
  {
   "cell_type": "code",
   "execution_count": 23,
   "metadata": {},
   "outputs": [],
   "source": [
    "qcs_credentials = {'as_qvm':True, 'execution_timeout' : 10, 'compiler_timeout':10}"
   ]
  },
  {
   "cell_type": "code",
   "execution_count": 24,
   "metadata": {},
   "outputs": [],
   "source": [
    "device = create_device(location='qcs',name='6q-qvm',**qcs_credentials)\n",
    "q_qcs.set_device(device)"
   ]
  },
  {
   "cell_type": "code",
   "execution_count": 25,
   "metadata": {},
   "outputs": [],
   "source": [
    "q_qcs.set_backend_properties(n_shots=500)"
   ]
  },
  {
   "cell_type": "code",
   "execution_count": 26,
   "metadata": {},
   "outputs": [],
   "source": [
    "q_qcs.set_classical_optimizer(maxiter=200)"
   ]
  },
  {
   "cell_type": "code",
   "execution_count": 27,
   "metadata": {},
   "outputs": [
    {
     "name": "stdout",
     "output_type": "stream",
     "text": [
      "\t \u001b[1m ### Summary ###\u001b[0m\n",
      "OpenQAOA has ben compiled with the following properties\n",
      "Solving QAOA with \u001b[1m 6q-qvm \u001b[0m on  \u001b[1mqcs\u001b[0m\n",
      "Using p=1 with standard parameters initialsied as ramp\n",
      "OpenQAOA will optimize using \u001b[1mcobyla\u001b[0m, with up to \u001b[1m200\u001b[0m maximum iterations. Each iteration will contain \u001b[1m500 shots\u001b[0m\n",
      "The total numner of shots is set to maxiter*shots = 100000\n"
     ]
    }
   ],
   "source": [
    "q_qcs.compile(vc)"
   ]
  },
  {
   "cell_type": "code",
   "execution_count": 28,
   "metadata": {},
   "outputs": [
    {
     "name": "stdout",
     "output_type": "stream",
     "text": [
      "optimization completed.\n"
     ]
    }
   ],
   "source": [
    "q_qcs.optimize()"
   ]
  },
  {
   "cell_type": "code",
   "execution_count": 29,
   "metadata": {},
   "outputs": [
    {
     "data": {
      "text/plain": [
       "{'solutions_bitstrings': ['110110'], 'bitstring_energy': 4.0}"
      ]
     },
     "execution_count": 29,
     "metadata": {},
     "output_type": "execute_result"
    }
   ],
   "source": [
    "q_qcs.results.most_probable_states"
   ]
  },
  {
   "cell_type": "markdown",
   "metadata": {},
   "source": [
    "# Qiskit - Local"
   ]
  },
  {
   "cell_type": "code",
   "execution_count": 30,
   "metadata": {},
   "outputs": [],
   "source": [
    "q_qiskit_sv = QAOA()"
   ]
  },
  {
   "cell_type": "code",
   "execution_count": 31,
   "metadata": {},
   "outputs": [],
   "source": [
    "qiskit_dev = create_device(location='local',name='qiskit.statevector_simulator')\n",
    "q_qiskit_sv.set_device(qiskit_dev)"
   ]
  },
  {
   "cell_type": "code",
   "execution_count": 32,
   "metadata": {},
   "outputs": [
    {
     "name": "stdout",
     "output_type": "stream",
     "text": [
      "\t \u001b[1m ### Summary ###\u001b[0m\n",
      "OpenQAOA has ben compiled with the following properties\n",
      "Solving QAOA with \u001b[1m qiskit.statevector_simulator \u001b[0m on  \u001b[1mlocal\u001b[0m\n",
      "Using p=1 with standard parameters initialsied as ramp\n",
      "OpenQAOA will optimize using \u001b[1mcobyla\u001b[0m, with up to \u001b[1m100\u001b[0m maximum iterations. Each iteration will contain \u001b[1m100 shots\u001b[0m\n",
      "The total numner of shots is set to maxiter*shots = 10000\n"
     ]
    }
   ],
   "source": [
    "q_qiskit_sv.compile(vc)"
   ]
  },
  {
   "cell_type": "code",
   "execution_count": 33,
   "metadata": {},
   "outputs": [
    {
     "name": "stdout",
     "output_type": "stream",
     "text": [
      "optimization completed.\n"
     ]
    }
   ],
   "source": [
    "q_qiskit_sv.optimize()"
   ]
  },
  {
   "cell_type": "code",
   "execution_count": 34,
   "metadata": {},
   "outputs": [
    {
     "data": {
      "text/plain": [
       "{'solutions_bitstrings': ['010101'], 'bitstring_energy': 3.0}"
      ]
     },
     "execution_count": 34,
     "metadata": {},
     "output_type": "execute_result"
    }
   ],
   "source": [
    "q_qiskit_sv.results.most_probable_states"
   ]
  },
  {
   "cell_type": "markdown",
   "metadata": {},
   "source": [
    "### Qiskit Prepend and Append states"
   ]
  },
  {
   "cell_type": "code",
   "execution_count": 35,
   "metadata": {},
   "outputs": [],
   "source": [
    "from qiskit import QuantumCircuit\n",
    "qr_front = QuantumCircuit(4)\n",
    "qr_back = QuantumCircuit(5)\n",
    "[qr_front.ry(i,i) for i in range(4)]\n",
    "qr_back.h([0,1,2,3,4])\n",
    "q_qiskit_sv.set_backend_properties(prepend_state=qr_front,append_state=qr_back,init_hadamard=False)"
   ]
  },
  {
   "cell_type": "code",
   "execution_count": 36,
   "metadata": {},
   "outputs": [
    {
     "name": "stdout",
     "output_type": "stream",
     "text": [
      "\t \u001b[1m ### Summary ###\u001b[0m\n",
      "OpenQAOA has ben compiled with the following properties\n",
      "Solving QAOA with \u001b[1m qiskit.statevector_simulator \u001b[0m on  \u001b[1mlocal\u001b[0m\n",
      "Using p=1 with standard parameters initialsied as ramp\n",
      "OpenQAOA will optimize using \u001b[1mcobyla\u001b[0m, with up to \u001b[1m100\u001b[0m maximum iterations. Each iteration will contain \u001b[1m100 shots\u001b[0m\n",
      "The total numner of shots is set to maxiter*shots = 10000\n"
     ]
    }
   ],
   "source": [
    "q_qiskit_sv.compile(vc)"
   ]
  },
  {
   "cell_type": "code",
   "execution_count": 37,
   "metadata": {},
   "outputs": [
    {
     "data": {
      "text/html": [
       "<pre style=\"word-wrap: normal;white-space: pre;background: #fff0;line-height: 1.1;font-family: &quot;Courier New&quot;,Courier,monospace\">      ┌───────┐                                                      »\n",
       "q1_0: ┤ Ry(0) ├─■──────────────────────────■─────────────────────────»\n",
       "      ├───────┤ │                          │ZZ(['2q', 'cost', 0, 1]) »\n",
       "q1_1: ┤ Ry(1) ├─┼──────────────────────────■─────────────────────────»\n",
       "      ├───────┤ │                                                    »\n",
       "q1_2: ┤ Ry(2) ├─┼────────────────────────────────────────────────────»\n",
       "      ├───────┤ │                                                    »\n",
       "q1_3: ┤ Ry(3) ├─┼────────────────────────────────────────────────────»\n",
       "      └───────┘ │                                                    »\n",
       "q1_4: ──────────┼────────────────────────────────────────────────────»\n",
       "                │ZZ(['2q', 'cost', 0, 0])                            »\n",
       "q1_5: ──────────■────────────────────────────────────────────────────»\n",
       "                                                                     »\n",
       "«      ┌──────────────────────────┐┌───────────────────────────┐»\n",
       "«q1_0: ┤ Rz(['1q', 'cost', 0, 0]) ├┤ Rx(['1q', 'mixer', 0, 0]) ├»\n",
       "«      └──────────────────────────┘└┬──────────────────────────┤»\n",
       "«q1_1: ─■───────────────────────────┤ Rz(['1q', 'cost', 0, 1]) ├»\n",
       "«       │ZZ(['2q', 'cost', 0, 2])   └──────────────────────────┘»\n",
       "«q1_2: ─■────────────────────────────■──────────────────────────»\n",
       "«                                    │ZZ(['2q', 'cost', 0, 3])  »\n",
       "«q1_3: ──────────────────────────────■──────────────────────────»\n",
       "«                                                               »\n",
       "«q1_4: ─────────────────────────────────────────────────────────»\n",
       "«                                                               »\n",
       "«q1_5: ─────────────────────────────────────────────────────────»\n",
       "«                                                               »\n",
       "«                  ┌───┐                                         »\n",
       "«q1_0: ────────────┤ H ├─────────────────────────────────────────»\n",
       "«      ┌───────────┴───┴───────────┐            ┌───┐            »\n",
       "«q1_1: ┤ Rx(['1q', 'mixer', 0, 1]) ├────────────┤ H ├────────────»\n",
       "«      └┬──────────────────────────┤┌───────────┴───┴───────────┐»\n",
       "«q1_2: ─┤ Rz(['1q', 'cost', 0, 2]) ├┤ Rx(['1q', 'mixer', 0, 2]) ├»\n",
       "«       └──────────────────────────┘└┬──────────────────────────┤»\n",
       "«q1_3: ──■───────────────────────────┤ Rz(['1q', 'cost', 0, 3]) ├»\n",
       "«        │ZZ(['2q', 'cost', 0, 4])   └──────────────────────────┘»\n",
       "«q1_4: ──■────────────────────────────■──────────────────────────»\n",
       "«                                     │ZZ(['2q', 'cost', 0, 5])  »\n",
       "«q1_5: ───────────────────────────────■──────────────────────────»\n",
       "«                                                                »\n",
       "«                                                                     \n",
       "«q1_0: ───────────────────────────────────────────────────────────────\n",
       "«                                                                     \n",
       "«q1_1: ───────────────────────────────────────────────────────────────\n",
       "«                  ┌───┐                                              \n",
       "«q1_2: ────────────┤ H ├──────────────────────────────────────────────\n",
       "«      ┌───────────┴───┴───────────┐            ┌───┐                 \n",
       "«q1_3: ┤ Rx(['1q', 'mixer', 0, 3]) ├────────────┤ H ├─────────────────\n",
       "«      └┬──────────────────────────┤┌───────────┴───┴───────────┐┌───┐\n",
       "«q1_4: ─┤ Rz(['1q', 'cost', 0, 4]) ├┤ Rx(['1q', 'mixer', 0, 4]) ├┤ H ├\n",
       "«       ├──────────────────────────┤├───────────────────────────┤└───┘\n",
       "«q1_5: ─┤ Rz(['1q', 'cost', 0, 5]) ├┤ Rx(['1q', 'mixer', 0, 5]) ├─────\n",
       "«       └──────────────────────────┘└───────────────────────────┘     </pre>"
      ],
      "text/plain": [
       "      ┌───────┐                                                      »\n",
       "q1_0: ┤ Ry(0) ├─■──────────────────────────■─────────────────────────»\n",
       "      ├───────┤ │                          │ZZ(['2q', 'cost', 0, 1]) »\n",
       "q1_1: ┤ Ry(1) ├─┼──────────────────────────■─────────────────────────»\n",
       "      ├───────┤ │                                                    »\n",
       "q1_2: ┤ Ry(2) ├─┼────────────────────────────────────────────────────»\n",
       "      ├───────┤ │                                                    »\n",
       "q1_3: ┤ Ry(3) ├─┼────────────────────────────────────────────────────»\n",
       "      └───────┘ │                                                    »\n",
       "q1_4: ──────────┼────────────────────────────────────────────────────»\n",
       "                │ZZ(['2q', 'cost', 0, 0])                            »\n",
       "q1_5: ──────────■────────────────────────────────────────────────────»\n",
       "                                                                     »\n",
       "«      ┌──────────────────────────┐┌───────────────────────────┐»\n",
       "«q1_0: ┤ Rz(['1q', 'cost', 0, 0]) ├┤ Rx(['1q', 'mixer', 0, 0]) ├»\n",
       "«      └──────────────────────────┘└┬──────────────────────────┤»\n",
       "«q1_1: ─■───────────────────────────┤ Rz(['1q', 'cost', 0, 1]) ├»\n",
       "«       │ZZ(['2q', 'cost', 0, 2])   └──────────────────────────┘»\n",
       "«q1_2: ─■────────────────────────────■──────────────────────────»\n",
       "«                                    │ZZ(['2q', 'cost', 0, 3])  »\n",
       "«q1_3: ──────────────────────────────■──────────────────────────»\n",
       "«                                                               »\n",
       "«q1_4: ─────────────────────────────────────────────────────────»\n",
       "«                                                               »\n",
       "«q1_5: ─────────────────────────────────────────────────────────»\n",
       "«                                                               »\n",
       "«                  ┌───┐                                         »\n",
       "«q1_0: ────────────┤ H ├─────────────────────────────────────────»\n",
       "«      ┌───────────┴───┴───────────┐            ┌───┐            »\n",
       "«q1_1: ┤ Rx(['1q', 'mixer', 0, 1]) ├────────────┤ H ├────────────»\n",
       "«      └┬──────────────────────────┤┌───────────┴───┴───────────┐»\n",
       "«q1_2: ─┤ Rz(['1q', 'cost', 0, 2]) ├┤ Rx(['1q', 'mixer', 0, 2]) ├»\n",
       "«       └──────────────────────────┘└┬──────────────────────────┤»\n",
       "«q1_3: ──■───────────────────────────┤ Rz(['1q', 'cost', 0, 3]) ├»\n",
       "«        │ZZ(['2q', 'cost', 0, 4])   └──────────────────────────┘»\n",
       "«q1_4: ──■────────────────────────────■──────────────────────────»\n",
       "«                                     │ZZ(['2q', 'cost', 0, 5])  »\n",
       "«q1_5: ───────────────────────────────■──────────────────────────»\n",
       "«                                                                »\n",
       "«                                                                     \n",
       "«q1_0: ───────────────────────────────────────────────────────────────\n",
       "«                                                                     \n",
       "«q1_1: ───────────────────────────────────────────────────────────────\n",
       "«                  ┌───┐                                              \n",
       "«q1_2: ────────────┤ H ├──────────────────────────────────────────────\n",
       "«      ┌───────────┴───┴───────────┐            ┌───┐                 \n",
       "«q1_3: ┤ Rx(['1q', 'mixer', 0, 3]) ├────────────┤ H ├─────────────────\n",
       "«      └┬──────────────────────────┤┌───────────┴───┴───────────┐┌───┐\n",
       "«q1_4: ─┤ Rz(['1q', 'cost', 0, 4]) ├┤ Rx(['1q', 'mixer', 0, 4]) ├┤ H ├\n",
       "«       ├──────────────────────────┤├───────────────────────────┤└───┘\n",
       "«q1_5: ─┤ Rz(['1q', 'cost', 0, 5]) ├┤ Rx(['1q', 'mixer', 0, 5]) ├─────\n",
       "«       └──────────────────────────┘└───────────────────────────┘     "
      ]
     },
     "execution_count": 37,
     "metadata": {},
     "output_type": "execute_result"
    }
   ],
   "source": [
    "q_qiskit_sv.backend.parametric_circuit.draw()"
   ]
  },
  {
   "cell_type": "code",
   "execution_count": 38,
   "metadata": {},
   "outputs": [
    {
     "name": "stdout",
     "output_type": "stream",
     "text": [
      "optimization completed.\n"
     ]
    }
   ],
   "source": [
    "q_qiskit_sv.optimize()"
   ]
  },
  {
   "cell_type": "code",
   "execution_count": 39,
   "metadata": {},
   "outputs": [
    {
     "data": {
      "text/plain": [
       "{'solutions_bitstrings': ['111101', '111111'], 'bitstring_energy': 5.0}"
      ]
     },
     "execution_count": 39,
     "metadata": {},
     "output_type": "execute_result"
    }
   ],
   "source": [
    "q_qiskit_sv.results.most_probable_states"
   ]
  },
  {
   "cell_type": "markdown",
   "metadata": {},
   "source": [
    "# Comparing Pears and Oranges :)\n",
    "That is, comparing the cost progress list of qiskit's statevector, QVMs, and vectorised "
   ]
  },
  {
   "cell_type": "code",
   "execution_count": null,
   "metadata": {},
   "outputs": [],
   "source": []
  },
  {
   "cell_type": "code",
   "execution_count": 40,
   "metadata": {},
   "outputs": [
    {
     "data": {
      "text/plain": [
       "<Figure size 720x864 with 0 Axes>"
      ]
     },
     "metadata": {},
     "output_type": "display_data"
    },
    {
     "data": {
      "image/png": "[encoded data removed]",
      "text/plain": [
       "<Figure size 720x576 with 1 Axes>"
      ]
     },
     "metadata": {
      "needs_background": "light"
     },
     "output_type": "display_data"
    },
    {
     "data": {
      "image/png": "[encoded data removed]",
      "text/plain": [
       "<Figure size 720x576 with 1 Axes>"
      ]
     },
     "metadata": {
      "needs_background": "light"
     },
     "output_type": "display_data"
    },
    {
     "data": {
      "image/png": "[encoded data removed]",
      "text/plain": [
       "<Figure size 720x576 with 1 Axes>"
      ]
     },
     "metadata": {
      "needs_background": "light"
     },
     "output_type": "display_data"
    }
   ],
   "source": [
    "fig = plt.figure(figsize=(10,12))\n",
    "q_qiskit_sv.results.plot_cost( label = 'openqaoa qiskit statevector simulatore Nealder-Mead', color = 'b')\n",
    "q_qcs.results.plot_cost(label = 'openqaoa qvm simulator cobyla', color = 'r')\n",
    "q.results.plot_cost( label = 'openqaoa vectorised Nealder-Mead', color = 'g')\n",
    "\n",
    "plt.ylabel('Cost')\n",
    "plt.xlabel('Number of function evaluations')\n",
    "plt.legend()\n",
    "plt.title('Cost progress list')\n",
    "plt.show()"
   ]
  },
  {
   "cell_type": "markdown",
   "metadata": {},
   "source": [
    "# qiskit - on cloud \n",
    "#### (warning: This may take a long time to run depending on the availability of the cloud device!)"
   ]
  },
  {
   "cell_type": "code",
   "execution_count": 41,
   "metadata": {},
   "outputs": [],
   "source": [
    "# qq = QAOA()"
   ]
  },
  {
   "cell_type": "code",
   "execution_count": 42,
   "metadata": {},
   "outputs": [],
   "source": [
    "# qpu_credentials ={\n",
    "# \"api_token\": \"Enter API TOKEN\",\n",
    "# \"hub\": \"ibm-q\", \n",
    "# \"group\": \"open\", \n",
    "# \"project\": \"main\"}"
   ]
  },
  {
   "cell_type": "code",
   "execution_count": 43,
   "metadata": {},
   "outputs": [],
   "source": [
    "# cloud_device = create_device(location='ibmq', name='simulator_statevector', **qpu_credentials)\n",
    "# qq.set_device(cloud_device)"
   ]
  },
  {
   "cell_type": "code",
   "execution_count": 44,
   "metadata": {},
   "outputs": [],
   "source": [
    "# qq.set_classical_optimizer(maxiter=1)"
   ]
  },
  {
   "cell_type": "code",
   "execution_count": 45,
   "metadata": {},
   "outputs": [],
   "source": [
    "# qq.compile(vc) "
   ]
  },
  {
   "cell_type": "code",
   "execution_count": 46,
   "metadata": {},
   "outputs": [],
   "source": [
    "# qq.optimize()"
   ]
  },
  {
   "cell_type": "code",
   "execution_count": 47,
   "metadata": {},
   "outputs": [],
   "source": [
    "# qq.result.best_probable_states"
   ]
  },
  {
   "cell_type": "markdown",
   "metadata": {},
   "source": [
    "# RQAOA"
   ]
  },
  {
   "cell_type": "markdown",
   "metadata": {},
   "source": [
    "Finally, we offer a RQAOA workflow, Currently, it supports two types of RQAOA: adaptive and custom"
   ]
  },
  {
   "cell_type": "code",
   "execution_count": 48,
   "metadata": {},
   "outputs": [],
   "source": [
    "from openqaoa.workflows.optimizer import RQAOA"
   ]
  },
  {
   "cell_type": "code",
   "execution_count": 49,
   "metadata": {},
   "outputs": [],
   "source": [
    "g = nx.circulant_graph(8, [1])\n",
    "vc = MinimumVertexCover(g, field =1.0, penalty=10).get_pubo_problem()"
   ]
  },
  {
   "cell_type": "code",
   "execution_count": 50,
   "metadata": {},
   "outputs": [],
   "source": [
    "r = RQAOA(rqaoa_type = 'adaptive')"
   ]
  },
  {
   "cell_type": "code",
   "execution_count": 51,
   "metadata": {},
   "outputs": [],
   "source": [
    "r.set_rqaoa_parameters(n_max=5,\n",
    "                        n_cutoff = 5)"
   ]
  },
  {
   "cell_type": "code",
   "execution_count": 52,
   "metadata": {},
   "outputs": [],
   "source": [
    "r.compile(vc)"
   ]
  },
  {
   "cell_type": "code",
   "execution_count": 53,
   "metadata": {},
   "outputs": [],
   "source": [
    "r.optimize()"
   ]
  },
  {
   "cell_type": "code",
   "execution_count": 54,
   "metadata": {},
   "outputs": [
    {
     "data": {
      "text/plain": [
       "{'solution': {'01010101': 4.0, '10101010': 4.0},\n",
       " 'classical output': {'minimum energy': -12.5,\n",
       "  'optimal states': ['01010', '10101']},\n",
       " 'elimination rules': [{(0, 1): -1.0, (0, 2): 1.0, (0, 7): -1.0}],\n",
       " 'schedule': [3],\n",
       " 'total steps': 1}"
      ]
     },
     "execution_count": 54,
     "metadata": {},
     "output_type": "execute_result"
    }
   ],
   "source": [
    "r.result"
   ]
  },
  {
   "cell_type": "code",
   "execution_count": 55,
   "metadata": {},
   "outputs": [],
   "source": [
    "rr = RQAOA('custom')"
   ]
  },
  {
   "cell_type": "code",
   "execution_count": 56,
   "metadata": {},
   "outputs": [],
   "source": [
    "rr.set_rqaoa_parameters(n_cutoff = 5)"
   ]
  },
  {
   "cell_type": "code",
   "execution_count": 57,
   "metadata": {},
   "outputs": [],
   "source": [
    "rr.compile(vc)"
   ]
  },
  {
   "cell_type": "code",
   "execution_count": 58,
   "metadata": {},
   "outputs": [],
   "source": [
    "r.optimize()"
   ]
  },
  {
   "cell_type": "code",
   "execution_count": 59,
   "metadata": {},
   "outputs": [
    {
     "data": {
      "text/plain": [
       "{'solution': {'01010101': 4.0, '10101010': 4.0},\n",
       " 'classical output': {'minimum energy': -12.5,\n",
       "  'optimal states': ['01010', '10101']},\n",
       " 'elimination rules': [{(0, 1): -1.0, (0, 2): 1.0, (0, 7): -1.0}],\n",
       " 'schedule': [3],\n",
       " 'total steps': 1}"
      ]
     },
     "execution_count": 59,
     "metadata": {},
     "output_type": "execute_result"
    }
   ],
   "source": [
    "r.result"
   ]
  }
 ],
 "metadata": {
  "interpreter": {
   "hash": "94ba8e6cdac9dde82f659e119264b9029c842e44dd4dc6168fe45af36f6b571d"
  },
  "kernelspec": {
   "display_name": "openqaoa_may22",
   "language": "python",
   "name": "openqaoa_may22"
  },
  "language_info": {
   "codemirror_mode": {
    "name": "ipython",
    "version": 3
   },
   "file_extension": ".py",
   "mimetype": "text/x-python",
   "name": "python",
   "nbconvert_exporter": "python",
   "pygments_lexer": "ipython3",
   "version": "3.8.13"
  }
 },
 "nbformat": 4,
 "nbformat_minor": 4
}
