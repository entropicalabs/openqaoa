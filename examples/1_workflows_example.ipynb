{
 "cells": [
  {
   "cell_type": "markdown",
   "metadata": {},
   "source": [
    "# Introduction to OpenQAOA: An example workflow\n",
    "\n",
    "This section provides a walkthrough of a simple example workflow, and is intended as a quick introduction to the functionalities of the OpenQAOA library. More focused examples are provided in other sections of the documentation.\n",
    "\n",
    "The QAOA workflow can be divided in four simple steps:\n",
    "- Problem definition: Define your optimization problem here, either by: \n",
    "    - using pre-defined problem classes or,\n",
    "    - supplying your own QUBO\n",
    "- Model building: \n",
    "    - Build the QAOA circuit with the available configurations\n",
    "    - Choose the backend (device) to run the circuit\n",
    "    - Choose the properties of the classical optimizer\n",
    "- Compile model and optimize: \n",
    "    - Compile the model by passing the problem defined in step-1\n",
    "    - Execute `model.optimize()` to run the optimization process\n",
    "- Extract results\n",
    "    - Run `model.results` to obtain information on the optimization run "
   ]
  },
  {
   "cell_type": "markdown",
   "metadata": {},
   "source": [
    "### Begin by importing necessary modules"
   ]
  },
  {
   "cell_type": "code",
   "execution_count": 1,
   "metadata": {},
   "outputs": [],
   "source": [
    "#some regular python libraries\n",
    "import networkx as nx\n",
    "import numpy as np\n",
    "from pprint import pprint\n",
    "import matplotlib.pyplot as plt\n",
    "\n",
    "#import problem classes from OQ for easy problem creation\n",
    "from openqaoa.problems.problem import MaximumCut, NumberPartition\n",
    "\n",
    "#import the QAOA workflow model\n",
    "from openqaoa.workflows.optimizer import QAOA\n",
    "\n",
    "#import method to specify the device\n",
    "from openqaoa.devices import create_device"
   ]
  },
  {
   "cell_type": "markdown",
   "metadata": {},
   "source": [
    "### Step 1: Create a problem instance\n",
    "We begin by creating a problem instance for a simple MaximumCut problem for a random graph created using the python `networkx` module. MaximumCut is a go-to problem to demonstrate QAOA in action.\n",
    "\n",
    "For this, we first:\n",
    "- create a random graph using the `networkx` module\n",
    "- using the MaximumCut problem class, we translate into the QUBO formalism to optimize with QAOA"
   ]
  },
  {
   "cell_type": "code",
   "execution_count": 7,
   "metadata": {},
   "outputs": [
    {
     "data": {
      "image/png": "[encoded data removed]",
      "text/plain": [
       "<Figure size 432x288 with 1 Axes>"
      ]
     },
     "metadata": {},
     "output_type": "display_data"
    }
   ],
   "source": [
    "nodes = 6\n",
    "edge_probability = 0.6\n",
    "g = nx.generators.fast_gnp_random_graph(n=nodes,p=edge_probability)\n",
    "\n",
    "# import graph plotter from openqaoa\n",
    "from openqaoa.utilities import plot_graph\n",
    "plot_graph(g)"
   ]
  },
  {
   "cell_type": "code",
   "execution_count": 8,
   "metadata": {},
   "outputs": [],
   "source": [
    "# Use the MaximumCut class to instantiate the problem.\n",
    "maxcut_prob = MaximumCut(g)\n",
    "\n",
    "# The method `get_qubo_problem()` translates the problem into a binary Qubo problem. \n",
    "# The binary values can be access via the `asdict()` method.\n",
    "maxcut_qubo = maxcut_prob.get_qubo_problem()"
   ]
  },
  {
   "cell_type": "code",
   "execution_count": 9,
   "metadata": {},
   "outputs": [
    {
     "name": "stdout",
     "output_type": "stream",
     "text": [
      "{'constant': 0,\n",
      " 'n': 6,\n",
      " 'terms': [[0, 2], [0, 3], [0, 4], [0, 5], [1, 2], [3, 4], [3, 5], [4, 5]],\n",
      " 'weights': [1.0, 1.0, 1.0, 1.0, 1.0, 1.0, 1.0, 1.0]}\n"
     ]
    }
   ],
   "source": [
    "pprint(maxcut_qubo.asdict())"
   ]
  },
  {
   "cell_type": "markdown",
   "metadata": {},
   "source": [
    "#### Extract the exact solution for a small enough problem\n",
    "\n"
   ]
  },
  {
   "cell_type": "code",
   "execution_count": 10,
   "metadata": {},
   "outputs": [
    {
     "name": "stdout",
     "output_type": "stream",
     "text": [
      "Ground State energy: -4.0, Solution: ['110100', '110010', '001110', '110001', '001101', '001011']\n"
     ]
    }
   ],
   "source": [
    "hamiltonian = maxcut_qubo.hamiltonian\n",
    "\n",
    "# import the brute-force solver to obtain exact solution\n",
    "from openqaoa.utilities import ground_state_hamiltonian\n",
    "energy, configuration = ground_state_hamiltonian(hamiltonian)\n",
    "print(f\"Ground State energy: {energy}, Solution: {configuration}\")"
   ]
  },
  {
   "cell_type": "code",
   "execution_count": 11,
   "metadata": {},
   "outputs": [
    {
     "data": {
      "image/png": "[encoded data removed]",
      "text/plain": [
       "<Figure size 432x288 with 1 Axes>"
      ]
     },
     "metadata": {},
     "output_type": "display_data"
    }
   ],
   "source": [
    "#plot the solution on graph\n",
    "g_sol = np.copy(g)\n",
    "pos =  nx.spring_layout(g)\n",
    "nx.draw_networkx_nodes(g, pos, nodelist=[idx for idx,bit in enumerate(configuration[0]) if bit == '1'], node_color=\"tab:red\")\n",
    "nx.draw_networkx_nodes(g, pos, nodelist=[idx for idx,bit in enumerate(configuration[0]) if bit == '0'], node_color=\"tab:blue\")\n",
    "nx.draw_networkx_edges(g, pos);"
   ]
  },
  {
   "cell_type": "markdown",
   "metadata": {},
   "source": [
    "### Step 2: Build the QAOA model\n",
    " - Initialize the model (with default parameters)\n",
    " - Optionally set the following properties for the model\n",
    "     - `model.set_device(...)`: Set the device\n",
    "         - The device properties include the location of the device `[local, qcs, ibmq]` and the device name. Full list of devices available at              `openqaoa.workflows.parameters.qaoa_parameters.ALLOWED_DEVICES`\n",
    "     - `model.set_circuit_properties(...)`: Sets the circuit properties. Mainly used for:\n",
    "         - `p`: the number of layers\n",
    "         - `param_type`: the desired parameterisation to be chosen between `['standard', 'extended', 'fourier', annealing]`\n",
    "         - `init_type`: the initialisation stratefy for param_type. To be chosen between `['ramp', 'random', 'custom']`\n",
    "     - `model.set_backend_properties(...)`\n",
    "     - `model.set_classical_optimizer(...)`\n",
    "\n",
    "\n",
    "    \n",
    "For more details on the configurable properties, please refer to the documentation"
   ]
  },
  {
   "cell_type": "code",
   "execution_count": 12,
   "metadata": {},
   "outputs": [],
   "source": [
    "# initialize model with default configurations\n",
    "q = QAOA()"
   ]
  },
  {
   "cell_type": "code",
   "execution_count": 13,
   "metadata": {},
   "outputs": [],
   "source": [
    "# optionally configure the following properties of the model\n",
    "\n",
    "# device\n",
    "qiskit_device = create_device(location='local', name='qiskit.statevector_simulator')\n",
    "q.set_device(qiskit_device)\n",
    "\n",
    "# circuit properties\n",
    "q.set_circuit_properties(p=2, param_type='standard', init_type='rand', mixer_hamiltonian='x')\n",
    "\n",
    "# backend properties (already set by default)\n",
    "q.set_backend_properties(prepend_state=None, append_state=None)\n",
    "\n",
    "# classical optimizer properties\n",
    "q.set_classical_optimizer(method='nelder-mead', maxiter=10,\n",
    "                          optimization_progress=True, cost_progress=True, parameter_log=True)"
   ]
  },
  {
   "cell_type": "code",
   "execution_count": 14,
   "metadata": {},
   "outputs": [
    {
     "name": "stdout",
     "output_type": "stream",
     "text": [
      "{'backend_properties': {'cvar_alpha': 1, 'init_hadamard': True, 'n_shots': 100},\n",
      " 'circuit_properties': {'_init_type': 'rand',\n",
      "                        '_mixer_hamiltonian': 'x',\n",
      "                        '_p': 2,\n",
      "                        '_param_type': 'standard',\n",
      "                        'annealing_time': 0.7,\n",
      "                        'linear_ramp_time': 0.7,\n",
      "                        'qubit_register': [],\n",
      "                        'variational_params_dict': {}},\n",
      " 'classical_optimizer': {'cost_progress': True,\n",
      "                         'maxiter': 10,\n",
      "                         'method': 'nelder-mead',\n",
      "                         'optimization_progress': True,\n",
      "                         'optimize': True,\n",
      "                         'parameter_log': True,\n",
      "                         'top_k_solutions': 1},\n",
      " 'device': {'device_location': 'local',\n",
      "            'device_name': 'qiskit.statevector_simulator'},\n",
      " 'intialised_w_prob': False,\n",
      " 'local_simulators': ['qiskit.qasm_simulator',\n",
      "                      'qiskit.shot_simulator',\n",
      "                      'qiskit.statevector_simulator',\n",
      "                      'vectorized',\n",
      "                      'pyquil.statevector_simulator']}\n"
     ]
    }
   ],
   "source": [
    "# you can print the configurations for a feedback\n",
    "pprint(q.asdict())"
   ]
  },
  {
   "cell_type": "markdown",
   "metadata": {},
   "source": [
    "### Step 3: Compile and Optimize\n",
    "\n",
    "- Once the QAOA model is configured, we need to compile it. **Compilation is necessary** because the QAOA solver has to interact with the problem in to be able to create the underlying QAOA circuit.\n",
    "- The problem is ready to be optimized now. The user can call `model.optimize()` to initiate the optimization loop. "
   ]
  },
  {
   "cell_type": "code",
   "execution_count": 15,
   "metadata": {},
   "outputs": [
    {
     "name": "stdout",
     "output_type": "stream",
     "text": [
      "\t \u001b[1m ### Summary ###\u001b[0m\n",
      "OpenQAOA has ben compiled with the following properties\n",
      "Solving QAOA with \u001b[1m qiskit.statevector_simulator \u001b[0m on  \u001b[1mlocal\u001b[0m\n",
      "Using p=2 with standard parameters initialsied as rand\n",
      "OpenQAOA will optimize using \u001b[1mnelder-mead\u001b[0m, with up to \u001b[1m10\u001b[0m maximum iterations. Each iteration will contain \u001b[1m100 shots\u001b[0m\n",
      "The total numner of shots is set to maxiter*shots = 1000\n"
     ]
    }
   ],
   "source": [
    "q.compile(maxcut_qubo) "
   ]
  },
  {
   "cell_type": "code",
   "execution_count": 16,
   "metadata": {},
   "outputs": [
    {
     "name": "stdout",
     "output_type": "stream",
     "text": [
      "optimization completed.\n"
     ]
    }
   ],
   "source": [
    "q.optimize()"
   ]
  },
  {
   "cell_type": "markdown",
   "metadata": {},
   "source": [
    "### Step 4: Accessing the results"
   ]
  },
  {
   "cell_type": "code",
   "execution_count": 17,
   "metadata": {},
   "outputs": [],
   "source": [
    "opt_results = q.results"
   ]
  },
  {
   "cell_type": "code",
   "execution_count": 18,
   "metadata": {},
   "outputs": [
    {
     "data": {
      "image/png": "[encoded data removed]",
      "text/plain": [
       "<Figure size 720x576 with 1 Axes>"
      ]
     },
     "metadata": {
      "needs_background": "light"
     },
     "output_type": "display_data"
    }
   ],
   "source": [
    "# print the cost history\n",
    "opt_results.plot_cost()"
   ]
  },
  {
   "cell_type": "code",
   "execution_count": 19,
   "metadata": {},
   "outputs": [],
   "source": [
    "# prints a large output (commented by default)\n",
    "# pprint(opt_results.intermediate)"
   ]
  },
  {
   "cell_type": "code",
   "execution_count": 20,
   "metadata": {},
   "outputs": [
    {
     "name": "stdout",
     "output_type": "stream",
     "text": [
      "{'optimized angles': [2.759321522005525,\n",
      "                      1.1979725891092503,\n",
      "                      1.6109842920685011,\n",
      "                      3.3592891278559556],\n",
      " 'optimized cost': -0.7191345907598119,\n",
      " 'optimized measurement outcomes': array([-0.00125133-0.02158149j,  0.06649739-0.08166959j,\n",
      "       -0.01934681+0.02338329j, -0.10116602+0.02203808j,\n",
      "       -0.01821049-0.02788193j,  0.11933627-0.0782418j ,\n",
      "        0.0230242 +0.02362006j, -0.07607446+0.11438809j,\n",
      "        0.07440654+0.09915637j,  0.00911768+0.11879051j,\n",
      "       -0.01974701-0.13516369j,  0.06452052-0.08602382j,\n",
      "        0.02871509+0.09029637j, -0.05809915+0.17807633j,\n",
      "       -0.07891467-0.0732908j , -0.01428876-0.17166776j,\n",
      "        0.07440654+0.09915637j,  0.00911768+0.11879051j,\n",
      "       -0.01974701-0.13516369j,  0.06452052-0.08602382j,\n",
      "        0.02871509+0.09029637j, -0.05809915+0.17807633j,\n",
      "       -0.07891467-0.0732908j , -0.01428876-0.17166776j,\n",
      "       -0.01428876-0.17166776j, -0.07891467-0.0732908j ,\n",
      "       -0.05809915+0.17807633j,  0.02871509+0.09029637j,\n",
      "        0.06452052-0.08602382j, -0.01974701-0.13516369j,\n",
      "        0.00911768+0.11879051j,  0.07440654+0.09915637j,\n",
      "        0.07440654+0.09915637j,  0.00911768+0.11879051j,\n",
      "       -0.01974701-0.13516369j,  0.06452052-0.08602382j,\n",
      "        0.02871509+0.09029637j, -0.05809915+0.17807633j,\n",
      "       -0.07891467-0.0732908j , -0.01428876-0.17166776j,\n",
      "       -0.01428876-0.17166776j, -0.07891467-0.0732908j ,\n",
      "       -0.05809915+0.17807633j,  0.02871509+0.09029637j,\n",
      "        0.06452052-0.08602382j, -0.01974701-0.13516369j,\n",
      "        0.00911768+0.11879051j,  0.07440654+0.09915637j,\n",
      "       -0.01428876-0.17166776j, -0.07891467-0.0732908j ,\n",
      "       -0.05809915+0.17807633j,  0.02871509+0.09029637j,\n",
      "        0.06452052-0.08602382j, -0.01974701-0.13516369j,\n",
      "        0.00911768+0.11879051j,  0.07440654+0.09915637j,\n",
      "       -0.07607446+0.11438809j,  0.0230242 +0.02362006j,\n",
      "        0.11933627-0.0782418j , -0.01821049-0.02788193j,\n",
      "       -0.10116602+0.02203808j, -0.01934681+0.02338329j,\n",
      "        0.06649739-0.08166959j, -0.00125133-0.02158149j])}\n"
     ]
    }
   ],
   "source": [
    "pprint(opt_results.optimized)"
   ]
  },
  {
   "cell_type": "code",
   "execution_count": 24,
   "metadata": {},
   "outputs": [],
   "source": [
    "variational_params = q.optimizer.variational_params"
   ]
  },
  {
   "cell_type": "code",
   "execution_count": 46,
   "metadata": {},
   "outputs": [
    {
     "data": {
      "text/html": [
       "<pre style=\"word-wrap: normal;white-space: pre;background: #fff0;line-height: 1.1;font-family: &quot;Courier New&quot;,Courier,monospace\">      ┌───┐                                                               »\n",
       "q0_0: ┤ H ├─■────────────────────■────────────────────────────────────────»\n",
       "      ├───┤ │                    │                                        »\n",
       "q0_1: ┤ H ├─┼────────────────────┼────────────────────■───────────────────»\n",
       "      ├───┤ │ZZ(3.221968584137)  │                    │ZZ(3.221968584137) »\n",
       "q0_2: ┤ H ├─■────────────────────┼────────────────────■───────────────────»\n",
       "      ├───┤                      │ZZ(3.221968584137)                      »\n",
       "q0_3: ┤ H ├──────────────────────■────────────────────────────────────────»\n",
       "      ├───┤                                                               »\n",
       "q0_4: ┤ H ├───────────────────────────────────────────────────────────────»\n",
       "      ├───┤                                                               »\n",
       "q0_5: ┤ H ├───────────────────────────────────────────────────────────────»\n",
       "      └───┘                                                               »\n",
       "«                                                                         »\n",
       "«q0_0: ─■─────────────────────────────────────────────■───────────────────»\n",
       "«       │                   ┌───────────────────────┐ │                   »\n",
       "«q0_1: ─┼───────────────────┤ Rx(-5.51864304401105) ├─┼───────────────────»\n",
       "«       │                   ├───────────────────────┤ │                   »\n",
       "«q0_2: ─┼───────────────────┤ Rx(-5.51864304401105) ├─┼───────────────────»\n",
       "«       │                   └───────────────────────┘ │                   »\n",
       "«q0_3: ─┼──────────────────────■──────────────────────┼───────────────────»\n",
       "«       │ZZ(3.221968584137)    │ZZ(3.221968584137)    │                   »\n",
       "«q0_4: ─■──────────────────────■──────────────────────┼───────────────────»\n",
       "«                                                     │ZZ(3.221968584137) »\n",
       "«q0_5: ───────────────────────────────────────────────■───────────────────»\n",
       "«                                                                         »\n",
       "«      ┌───────────────────────┐                         »\n",
       "«q0_0: ┤ Rx(-5.51864304401105) ├──■──────────────────────»\n",
       "«      └───────────────────────┘  │                      »\n",
       "«q0_1: ───────────────────────────┼──────────────────────»\n",
       "«                                 │ZZ(6.71857825571191)  »\n",
       "«q0_2: ───────────────────────────■──────────────────────»\n",
       "«                               ┌───────────────────────┐»\n",
       "«q0_3: ───■─────────────────────┤ Rx(-5.51864304401105) ├»\n",
       "«         │                     └───────────────────────┘»\n",
       "«q0_4: ───┼────────────────────────■─────────────────────»\n",
       "«         │ZZ(3.221968584137)      │ZZ(3.221968584137)   »\n",
       "«q0_5: ───■────────────────────────■─────────────────────»\n",
       "«                                                        »\n",
       "«                                                                             »\n",
       "«q0_0: ──■──────────────────────────────────────────────■─────────────────────»\n",
       "«        │                                              │                     »\n",
       "«q0_1: ──┼───────────────────────■──────────────────────┼─────────────────────»\n",
       "«        │                       │ZZ(6.71857825571191)  │                     »\n",
       "«q0_2: ──┼───────────────────────■──────────────────────┼─────────────────────»\n",
       "«        │ZZ(6.71857825571191)                          │                     »\n",
       "«q0_3: ──■──────────────────────────────────────────────┼─────────────────────»\n",
       "«      ┌───────────────────────┐                        │ZZ(6.71857825571191) »\n",
       "«q0_4: ┤ Rx(-5.51864304401105) ├────────────────────────■─────────────────────»\n",
       "«      ├───────────────────────┤                                              »\n",
       "«q0_5: ┤ Rx(-5.51864304401105) ├──────────────────────────────────────────────»\n",
       "«      └───────────────────────┘                                              »\n",
       "«                                                     ┌──────────────────────┐»\n",
       "«q0_0: ─────────────────────────■─────────────────────┤ Rx(-2.3959451782185) ├»\n",
       "«      ┌──────────────────────┐ │                     └──────────────────────┘»\n",
       "«q0_1: ┤ Rx(-2.3959451782185) ├─┼─────────────────────────────────────────────»\n",
       "«      ├──────────────────────┤ │                                             »\n",
       "«q0_2: ┤ Rx(-2.3959451782185) ├─┼─────────────────────────────────────────────»\n",
       "«      └──────────────────────┘ │                                             »\n",
       "«q0_3: ─■───────────────────────┼──────────────────────■──────────────────────»\n",
       "«       │ZZ(6.71857825571191)   │                      │                      »\n",
       "«q0_4: ─■───────────────────────┼──────────────────────┼──────────────────────»\n",
       "«                               │ZZ(6.71857825571191)  │ZZ(6.71857825571191)  »\n",
       "«q0_5: ─────────────────────────■──────────────────────■──────────────────────»\n",
       "«                                                                             »\n",
       "«                                                      \n",
       "«q0_0: ────────────────────────────────────────────────\n",
       "«                                                      \n",
       "«q0_1: ────────────────────────────────────────────────\n",
       "«                                                      \n",
       "«q0_2: ────────────────────────────────────────────────\n",
       "«      ┌──────────────────────┐                        \n",
       "«q0_3: ┤ Rx(-2.3959451782185) ├────────────────────────\n",
       "«      └──────────────────────┘┌──────────────────────┐\n",
       "«q0_4: ─■──────────────────────┤ Rx(-2.3959451782185) ├\n",
       "«       │ZZ(6.71857825571191)  ├──────────────────────┤\n",
       "«q0_5: ─■──────────────────────┤ Rx(-2.3959451782185) ├\n",
       "«                              └──────────────────────┘</pre>"
      ],
      "text/plain": [
       "      ┌───┐                                                               »\n",
       "q0_0: ┤ H ├─■────────────────────■────────────────────────────────────────»\n",
       "      ├───┤ │                    │                                        »\n",
       "q0_1: ┤ H ├─┼────────────────────┼────────────────────■───────────────────»\n",
       "      ├───┤ │ZZ(3.221968584137)  │                    │ZZ(3.221968584137) »\n",
       "q0_2: ┤ H ├─■────────────────────┼────────────────────■───────────────────»\n",
       "      ├───┤                      │ZZ(3.221968584137)                      »\n",
       "q0_3: ┤ H ├──────────────────────■────────────────────────────────────────»\n",
       "      ├───┤                                                               »\n",
       "q0_4: ┤ H ├───────────────────────────────────────────────────────────────»\n",
       "      ├───┤                                                               »\n",
       "q0_5: ┤ H ├───────────────────────────────────────────────────────────────»\n",
       "      └───┘                                                               »\n",
       "«                                                                         »\n",
       "«q0_0: ─■─────────────────────────────────────────────■───────────────────»\n",
       "«       │                   ┌───────────────────────┐ │                   »\n",
       "«q0_1: ─┼───────────────────┤ Rx(-5.51864304401105) ├─┼───────────────────»\n",
       "«       │                   ├───────────────────────┤ │                   »\n",
       "«q0_2: ─┼───────────────────┤ Rx(-5.51864304401105) ├─┼───────────────────»\n",
       "«       │                   └───────────────────────┘ │                   »\n",
       "«q0_3: ─┼──────────────────────■──────────────────────┼───────────────────»\n",
       "«       │ZZ(3.221968584137)    │ZZ(3.221968584137)    │                   »\n",
       "«q0_4: ─■──────────────────────■──────────────────────┼───────────────────»\n",
       "«                                                     │ZZ(3.221968584137) »\n",
       "«q0_5: ───────────────────────────────────────────────■───────────────────»\n",
       "«                                                                         »\n",
       "«      ┌───────────────────────┐                         »\n",
       "«q0_0: ┤ Rx(-5.51864304401105) ├──■──────────────────────»\n",
       "«      └───────────────────────┘  │                      »\n",
       "«q0_1: ───────────────────────────┼──────────────────────»\n",
       "«                                 │ZZ(6.71857825571191)  »\n",
       "«q0_2: ───────────────────────────■──────────────────────»\n",
       "«                               ┌───────────────────────┐»\n",
       "«q0_3: ───■─────────────────────┤ Rx(-5.51864304401105) ├»\n",
       "«         │                     └───────────────────────┘»\n",
       "«q0_4: ───┼────────────────────────■─────────────────────»\n",
       "«         │ZZ(3.221968584137)      │ZZ(3.221968584137)   »\n",
       "«q0_5: ───■────────────────────────■─────────────────────»\n",
       "«                                                        »\n",
       "«                                                                             »\n",
       "«q0_0: ──■──────────────────────────────────────────────■─────────────────────»\n",
       "«        │                                              │                     »\n",
       "«q0_1: ──┼───────────────────────■──────────────────────┼─────────────────────»\n",
       "«        │                       │ZZ(6.71857825571191)  │                     »\n",
       "«q0_2: ──┼───────────────────────■──────────────────────┼─────────────────────»\n",
       "«        │ZZ(6.71857825571191)                          │                     »\n",
       "«q0_3: ──■──────────────────────────────────────────────┼─────────────────────»\n",
       "«      ┌───────────────────────┐                        │ZZ(6.71857825571191) »\n",
       "«q0_4: ┤ Rx(-5.51864304401105) ├────────────────────────■─────────────────────»\n",
       "«      ├───────────────────────┤                                              »\n",
       "«q0_5: ┤ Rx(-5.51864304401105) ├──────────────────────────────────────────────»\n",
       "«      └───────────────────────┘                                              »\n",
       "«                                                     ┌──────────────────────┐»\n",
       "«q0_0: ─────────────────────────■─────────────────────┤ Rx(-2.3959451782185) ├»\n",
       "«      ┌──────────────────────┐ │                     └──────────────────────┘»\n",
       "«q0_1: ┤ Rx(-2.3959451782185) ├─┼─────────────────────────────────────────────»\n",
       "«      ├──────────────────────┤ │                                             »\n",
       "«q0_2: ┤ Rx(-2.3959451782185) ├─┼─────────────────────────────────────────────»\n",
       "«      └──────────────────────┘ │                                             »\n",
       "«q0_3: ─■───────────────────────┼──────────────────────■──────────────────────»\n",
       "«       │ZZ(6.71857825571191)   │                      │                      »\n",
       "«q0_4: ─■───────────────────────┼──────────────────────┼──────────────────────»\n",
       "«                               │ZZ(6.71857825571191)  │ZZ(6.71857825571191)  »\n",
       "«q0_5: ─────────────────────────■──────────────────────■──────────────────────»\n",
       "«                                                                             »\n",
       "«                                                      \n",
       "«q0_0: ────────────────────────────────────────────────\n",
       "«                                                      \n",
       "«q0_1: ────────────────────────────────────────────────\n",
       "«                                                      \n",
       "«q0_2: ────────────────────────────────────────────────\n",
       "«      ┌──────────────────────┐                        \n",
       "«q0_3: ┤ Rx(-2.3959451782185) ├────────────────────────\n",
       "«      └──────────────────────┘┌──────────────────────┐\n",
       "«q0_4: ─■──────────────────────┤ Rx(-2.3959451782185) ├\n",
       "«       │ZZ(6.71857825571191)  ├──────────────────────┤\n",
       "«q0_5: ─■──────────────────────┤ Rx(-2.3959451782185) ├\n",
       "«                              └──────────────────────┘"
      ]
     },
     "execution_count": 46,
     "metadata": {},
     "output_type": "execute_result"
    }
   ],
   "source": [
    "#create the optimized QAOA circuit for qiskit backend\n",
    "optimized_angles = opt_results.optimized['optimized angles']\n",
    "variational_params.update_from_raw(optimized_angles)\n",
    "optimized_circuit = q.backend.qaoa_circuit(variational_params)\n",
    "\n",
    "#print the optimized QAOA circuit for qiskit backend\n",
    "optimized_circuit.draw()"
   ]
  }
 ],
 "metadata": {
  "kernelspec": {
   "display_name": "OpenQAOA_kernel",
   "language": "python",
   "name": "openqaoa_env"
  },
  "language_info": {
   "codemirror_mode": {
    "name": "ipython",
    "version": 3
   },
   "file_extension": ".py",
   "mimetype": "text/x-python",
   "name": "python",
   "nbconvert_exporter": "python",
   "pygments_lexer": "ipython3",
   "version": "3.8.8"
  },
  "vscode": {
   "interpreter": {
    "hash": "94ba8e6cdac9dde82f659e119264b9029c842e44dd4dc6168fe45af36f6b571d"
   }
  }
 },
 "nbformat": 4,
 "nbformat_minor": 4
}
