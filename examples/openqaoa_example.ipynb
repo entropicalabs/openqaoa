{
 "cells": [
  {
   "cell_type": "markdown",
   "metadata": {},
   "source": [
    "# OpenQAOA Example: Manual Mode"
   ]
  },
  {
   "cell_type": "code",
   "execution_count": null,
   "metadata": {
    "tags": []
   },
   "outputs": [],
   "source": [
    "from openqaoa.qaoa_parameters import PauliOp, Hamiltonian, QAOACircuitParams, create_qaoa_variational_params\n",
    "from openqaoa.devices import DeviceQiskit, create_device\n",
    "from openqaoa.backends.qaoa_backend import *\n",
    "from openqaoa.optimizers import get_optimizer\n",
    "from qiskit import QuantumCircuit\n",
    "from openqaoa.utilities import *"
   ]
  },
  {
   "cell_type": "markdown",
   "metadata": {},
   "source": [
    "### Define Cost and Mixer Hamiltonians with ease!"
   ]
  },
  {
   "cell_type": "code",
   "execution_count": null,
   "metadata": {
    "tags": []
   },
   "outputs": [],
   "source": [
    "cost_hamil = Hamiltonian([PauliOp('ZZ', (0, 1)), PauliOp('ZZ', (1, 2)), PauliOp('ZZ', (0, 2))], \n",
    "                         [1, 1, 1], 1)"
   ]
  },
  {
   "cell_type": "code",
   "execution_count": null,
   "metadata": {
    "tags": []
   },
   "outputs": [],
   "source": [
    "classical_terms = [(0, 1),(1, 2),(0, 2)]\n",
    "coeffs = [1, 1, 1]\n",
    "constant = 1\n",
    "cost_hamil = Hamiltonian.classical_hamiltonian(terms=classical_terms,coeffs=coeffs,constant=constant)\n",
    "cost_hamil.expression"
   ]
  },
  {
   "cell_type": "code",
   "execution_count": null,
   "metadata": {
    "tags": []
   },
   "outputs": [],
   "source": [
    "mixer_hamil = X_mixer_hamiltonian(n_qubits=3)"
   ]
  },
  {
   "cell_type": "markdown",
   "metadata": {},
   "source": [
    "### Define QAOA Circuit Parameters\n",
    "QAOA Circuit Params encode the cost and mixer hamiltonians in the form of an Abstract circuit which will later be used for constructing respective backend circuits"
   ]
  },
  {
   "cell_type": "code",
   "execution_count": null,
   "metadata": {
    "tags": []
   },
   "outputs": [],
   "source": [
    "circuit_params = QAOACircuitParams(cost_hamil, mixer_hamil, p=2)"
   ]
  },
  {
   "cell_type": "markdown",
   "metadata": {},
   "source": [
    "### Define QAOA Variational Parameters\n",
    "* Variational Params will be used to run QAOA computations to compute, for instance, expectation values. They are designed to be updated easily using an optimiser during VQA optimisation routines\n",
    "* The user can specify the desired parameterization and initialization strategy "
   ]
  },
  {
   "cell_type": "code",
   "execution_count": null,
   "metadata": {
    "tags": []
   },
   "outputs": [],
   "source": [
    "variate_params = create_qaoa_variational_params(circuit_params,'standard','ramp')"
   ]
  },
  {
   "cell_type": "markdown",
   "metadata": {},
   "source": [
    "### Define the Backend of your choice!\n",
    "* Choose from the available local/cloud based devices including IBMQ, Rigetti QPUs\n",
    "* Depending on whether the chosen device is cloud-based or local, you may have to define an authentication dictionary with your credentials as follows"
   ]
  },
  {
   "cell_type": "code",
   "execution_count": null,
   "metadata": {
    "tags": []
   },
   "outputs": [],
   "source": [
    "auth_dict = { \"QISKIT\": \n",
    "             { \"API_TOKEN\": \"<API TOKEN>\",\n",
    "              \"HUB\": \"ibm-q\", \n",
    "              \"GROUP\": \"open\", \n",
    "              \"PROJECT\": \"main\"}\n",
    "            }\n",
    "\n",
    "selected_device = 'ibmq_qasm_simulator'\n",
    "\n",
    "device_qiskit = DeviceQiskit(auth_dict[\"QISKIT\"][\"API_TOKEN\"], auth_dict[\"QISKIT\"][\"HUB\"], \n",
    "                   auth_dict[\"QISKIT\"][\"GROUP\"], auth_dict[\"QISKIT\"][\"PROJECT\"], selected_device)"
   ]
  },
  {
   "cell_type": "code",
   "execution_count": null,
   "metadata": {
    "tags": []
   },
   "outputs": [],
   "source": [
    "backend_cloud = get_qaoa_backend(circuit_params, device_qiskit, n_shots=1000)"
   ]
  },
  {
   "cell_type": "code",
   "execution_count": null,
   "metadata": {
    "tags": []
   },
   "outputs": [],
   "source": [
    "backend_cloud.parametric_circuit.draw()"
   ]
  },
  {
   "cell_type": "code",
   "execution_count": null,
   "metadata": {
    "tags": []
   },
   "outputs": [],
   "source": [
    "backend_cloud.qaoa_circuit(variate_params).draw()"
   ]
  },
  {
   "cell_type": "markdown",
   "metadata": {},
   "source": [
    "### Creating other backends"
   ]
  },
  {
   "cell_type": "code",
   "execution_count": null,
   "metadata": {},
   "outputs": [],
   "source": [
    "qiskit_sim = create_device('local','qiskit.statevector_simulator')\n",
    "backend_qiskit_statevec = get_qaoa_backend(circuit_params, qiskit_sim)"
   ]
  },
  {
   "cell_type": "code",
   "execution_count": null,
   "metadata": {
    "tags": []
   },
   "outputs": [],
   "source": [
    "from qiskit.providers.aer.noise import NoiseModel\n",
    "from qiskit import IBMQ\n",
    "# IBMQ.load_account()\n",
    "provider = IBMQ.get_provider('ibm-q-startup','entropica-labs','reservations')\n",
    "backend = provider.get_backend('ibmq_bogota')\n",
    "noise_model = NoiseModel.from_backend(backend)"
   ]
  },
  {
   "cell_type": "code",
   "execution_count": null,
   "metadata": {
    "tags": []
   },
   "outputs": [],
   "source": [
    "qiskit_shot_sim = create_device('local','qiskit.shot_simulator')\n",
    "backend_qiskit_shot = get_qaoa_backend(circuit_params, qiskit_shot_sim, n_shots=100, noise_model=noise_model)"
   ]
  },
  {
   "cell_type": "code",
   "execution_count": null,
   "metadata": {
    "tags": []
   },
   "outputs": [],
   "source": [
    "print(backend_qiskit_statevec.expectation(variate_params))\n",
    "print(backend_qiskit_statevec.expectation_w_uncertainty(variate_params))"
   ]
  },
  {
   "cell_type": "code",
   "execution_count": null,
   "metadata": {
    "tags": []
   },
   "outputs": [],
   "source": [
    "print(backend_qiskit_shot.expectation(variate_params))\n",
    "print(backend_qiskit_shot.expectation_w_uncertainty(variate_params))"
   ]
  },
  {
   "cell_type": "code",
   "execution_count": null,
   "metadata": {
    "tags": []
   },
   "outputs": [],
   "source": [
    "current_ckt = backend_qiskit_shot.qaoa_circuit(variate_params)"
   ]
  },
  {
   "cell_type": "code",
   "execution_count": null,
   "metadata": {
    "tags": []
   },
   "outputs": [],
   "source": [
    "#print parametric qaoa circuit\n",
    "backend_qiskit_shot.parametric_circuit.draw()"
   ]
  },
  {
   "cell_type": "code",
   "execution_count": null,
   "metadata": {
    "tags": []
   },
   "outputs": [],
   "source": [
    "#print the full circuit with attached angles\n",
    "current_ckt.draw()"
   ]
  },
  {
   "cell_type": "code",
   "execution_count": null,
   "metadata": {
    "tags": []
   },
   "outputs": [],
   "source": [
    "backend_cloud.expectation_w_uncertainty(variate_params)"
   ]
  },
  {
   "cell_type": "code",
   "execution_count": null,
   "metadata": {},
   "outputs": [],
   "source": [
    "backend_qiskit_statevec.qfim(variate_params)"
   ]
  },
  {
   "cell_type": "code",
   "execution_count": null,
   "metadata": {},
   "outputs": [],
   "source": [
    "optimizer_dict = {'method': 'cobyla', 'maxiter': 10}"
   ]
  },
  {
   "cell_type": "code",
   "execution_count": null,
   "metadata": {},
   "outputs": [],
   "source": [
    "optimizer_obj = get_optimizer(backend_qiskit_shot, variate_params, optimizer_dict)"
   ]
  },
  {
   "cell_type": "code",
   "execution_count": null,
   "metadata": {},
   "outputs": [],
   "source": [
    "optimizer_obj"
   ]
  },
  {
   "cell_type": "code",
   "execution_count": null,
   "metadata": {},
   "outputs": [],
   "source": [
    "optimizer_obj()\n",
    "optimizer_obj.results_information()"
   ]
  },
  {
   "cell_type": "code",
   "execution_count": null,
   "metadata": {},
   "outputs": [],
   "source": [
    "optimizer_obj()\n",
    "optimizer_obj.results_information()"
   ]
  },
  {
   "cell_type": "markdown",
   "metadata": {},
   "source": [
    "### Some useful functions to play around with!"
   ]
  },
  {
   "cell_type": "code",
   "execution_count": null,
   "metadata": {
    "tags": []
   },
   "outputs": [],
   "source": [
    "from openqaoa.utilities import plot_energy_spectrum"
   ]
  },
  {
   "cell_type": "code",
   "execution_count": null,
   "metadata": {},
   "outputs": [],
   "source": [
    "plot_energy_spectrum(cost_hamil)"
   ]
  }
 ],
 "metadata": {
  "interpreter": {
   "hash": "ffc96233305d7122dc6732a5f9b7f44477470c7d091ce18c27b788d4d214d89a"
  },
  "kernelspec": {
   "display_name": "OpenQAOA_kernel",
   "language": "python",
   "name": "openqaoa_env"
  },
  "language_info": {
   "codemirror_mode": {
    "name": "ipython",
    "version": 3
   },
   "file_extension": ".py",
   "mimetype": "text/x-python",
   "name": "python",
   "nbconvert_exporter": "python",
   "pygments_lexer": "ipython3",
   "version": "3.8.8"
  }
 },
 "nbformat": 4,
 "nbformat_minor": 4
}
