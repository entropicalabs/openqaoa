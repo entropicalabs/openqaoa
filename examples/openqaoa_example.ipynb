{
 "cells": [
  {
   "cell_type": "markdown",
   "metadata": {},
   "source": [
    "# OpenQAOA Example: Manual Mode"
   ]
  },
  {
   "cell_type": "code",
   "execution_count": 2,
   "metadata": {
    "tags": []
   },
   "outputs": [],
   "source": [
    "from openqaoa.qaoa_parameters import PauliOp, Hamiltonian, QAOACircuitParams, create_qaoa_variational_params\n",
    "from openqaoa.devices import DeviceQiskit, create_device\n",
    "from openqaoa.backends.qaoa_backend import *\n",
    "from openqaoa.optimizers import get_optimizer\n",
    "from qiskit import QuantumCircuit\n",
    "from openqaoa.utilities import *"
   ]
  },
  {
   "cell_type": "markdown",
   "metadata": {},
   "source": [
    "### Define Cost and Mixer Hamiltonians with ease!"
   ]
  },
  {
   "cell_type": "code",
   "execution_count": 3,
   "metadata": {
    "tags": []
   },
   "outputs": [],
   "source": [
    "cost_hamil = Hamiltonian([PauliOp('ZZ', (0, 1)), PauliOp('ZZ', (1, 2)), PauliOp('ZZ', (0, 2))], \n",
    "                         [1, 1, 1], 1)"
   ]
  },
  {
   "cell_type": "code",
   "execution_count": 4,
   "metadata": {
    "tags": []
   },
   "outputs": [
    {
     "data": {
      "text/latex": [
       "$\\displaystyle 1 + 1Z_{0}Z_{1} + 1Z_{0}Z_{2} + 1Z_{1}Z_{2}$"
      ],
      "text/plain": [
       "1 + 1Z_{0}Z_{1} + 1Z_{0}Z_{2} + 1Z_{1}Z_{2}"
      ]
     },
     "execution_count": 4,
     "metadata": {},
     "output_type": "execute_result"
    }
   ],
   "source": [
    "classical_terms = [(0, 1),(1, 2),(0, 2)]\n",
    "coeffs = [1, 1, 1]\n",
    "constant = 1\n",
    "cost_hamil = Hamiltonian.classical_hamiltonian(terms=classical_terms,coeffs=coeffs,constant=constant)\n",
    "cost_hamil.expression"
   ]
  },
  {
   "cell_type": "code",
   "execution_count": 5,
   "metadata": {
    "tags": []
   },
   "outputs": [],
   "source": [
    "mixer_hamil = X_mixer_hamiltonian(n_qubits=3)"
   ]
  },
  {
   "cell_type": "markdown",
   "metadata": {},
   "source": [
    "### Define QAOA Circuit Parameters\n",
    "QAOA Circuit Params encode the cost and mixer hamiltonians in the form of an Abstract circuit which will later be used for constructing respective backend circuits"
   ]
  },
  {
   "cell_type": "code",
   "execution_count": 6,
   "metadata": {
    "tags": []
   },
   "outputs": [],
   "source": [
    "circuit_params = QAOACircuitParams(cost_hamil, mixer_hamil, p=2)"
   ]
  },
  {
   "cell_type": "markdown",
   "metadata": {},
   "source": [
    "### Define QAOA Variational Parameters\n",
    "* Variational Params will be used to run QAOA computations to compute, for instance, expectation values. They are designed to be updated easily using an optimiser during VQA optimisation routines\n",
    "* The user can specify the desired parameterization and initialization strategy "
   ]
  },
  {
   "cell_type": "code",
   "execution_count": 7,
   "metadata": {
    "tags": []
   },
   "outputs": [],
   "source": [
    "variate_params = create_qaoa_variational_params(circuit_params,'standard','ramp')"
   ]
  },
  {
   "cell_type": "markdown",
   "metadata": {},
   "source": [
    "### Define the Backend of your choice!\n",
    "* Choose from the available local/cloud based devices including IBMQ, Rigetti QPUs\n",
    "* Depending on whether the chosen device is cloud-based or local, you may have to define an authentication dictionary with your credentials as follows"
   ]
  },
  {
   "cell_type": "code",
   "execution_count": 8,
   "metadata": {
    "tags": []
   },
   "outputs": [],
   "source": [
    "auth_dict = { \"QISKIT\": \n",
    "             { \"API_TOKEN\": \"<API TOKEN>\"\n",
    "              \"HUB\": \"ibm-q\", \n",
    "              \"GROUP\": \"open\", \n",
    "              \"PROJECT\": \"main\"}\n",
    "            }\n",
    "\n",
    "selected_device = 'ibmq_qasm_simulator'\n",
    "\n",
    "device_qiskit = DeviceQiskit(auth_dict[\"QISKIT\"][\"API_TOKEN\"], auth_dict[\"QISKIT\"][\"HUB\"], \n",
    "                   auth_dict[\"QISKIT\"][\"GROUP\"], auth_dict[\"QISKIT\"][\"PROJECT\"], selected_device)"
   ]
  },
  {
   "cell_type": "code",
   "execution_count": 10,
   "metadata": {
    "tags": []
   },
   "outputs": [],
   "source": [
    "backend_cloud = get_qaoa_backend(circuit_params, device_qiskit, n_shots=1000)"
   ]
  },
  {
   "cell_type": "code",
   "execution_count": 11,
   "metadata": {
    "tags": []
   },
   "outputs": [
    {
     "data": {
      "text/html": [
       "<pre style=\"word-wrap: normal;white-space: pre;background: #fff0;line-height: 1.1;font-family: &quot;Courier New&quot;,Courier,monospace\">        ┌───┐                                           »\n",
       "  q0_0: ┤ H ├──■────────────────────────────────■───────»\n",
       "        ├───┤┌─┴─┐┌──────────────────────────┐┌─┴─┐     »\n",
       "  q0_1: ┤ H ├┤ X ├┤ Rz(['2q', 'cost', 0, 0]) ├┤ X ├──■──»\n",
       "        ├───┤└───┘└──────────────────────────┘└───┘┌─┴─┐»\n",
       "  q0_2: ┤ H ├──────────────────────────────────────┤ X ├»\n",
       "        └───┘                                      └───┘»\n",
       "meas: 3/════════════════════════════════════════════════»\n",
       "                                                        »\n",
       "«                                                                           »\n",
       "«  q0_0: ───────────────────────────────────■───────────────────────────────»\n",
       "«                                           │  ┌───────────────────────────┐»\n",
       "«  q0_1: ──────────────────────────────■────┼──┤ Rx(['1q', 'mixer', 0, 1]) ├»\n",
       "«        ┌──────────────────────────┐┌─┴─┐┌─┴─┐└┬──────────────────────────┤»\n",
       "«  q0_2: ┤ Rz(['2q', 'cost', 0, 1]) ├┤ X ├┤ X ├─┤ Rz(['2q', 'cost', 0, 2]) ├»\n",
       "«        └──────────────────────────┘└───┘└───┘ └──────────────────────────┘»\n",
       "«meas: 3/═══════════════════════════════════════════════════════════════════»\n",
       "«                                                                           »\n",
       "«             ┌───────────────────────────┐                                 »\n",
       "«  q0_0: ──■──┤ Rx(['1q', 'mixer', 0, 0]) ├──■──────────────────────────────»\n",
       "«          │  └───────────────────────────┘┌─┴─┐┌──────────────────────────┐»\n",
       "«  q0_1: ──┼───────────────────────────────┤ X ├┤ Rz(['2q', 'cost', 1, 0]) ├»\n",
       "«        ┌─┴─┐┌───────────────────────────┐└───┘└──────────────────────────┘»\n",
       "«  q0_2: ┤ X ├┤ Rx(['1q', 'mixer', 0, 2]) ├─────────────────────────────────»\n",
       "«        └───┘└───────────────────────────┘                                 »\n",
       "«meas: 3/═══════════════════════════════════════════════════════════════════»\n",
       "«                                                                           »\n",
       "«                                                        »\n",
       "«  q0_0: ──■──────────────────────────────────────────■──»\n",
       "«        ┌─┴─┐                                        │  »\n",
       "«  q0_1: ┤ X ├──■────────────────────────────────■────┼──»\n",
       "«        └───┘┌─┴─┐┌──────────────────────────┐┌─┴─┐┌─┴─┐»\n",
       "«  q0_2: ─────┤ X ├┤ Rz(['2q', 'cost', 1, 1]) ├┤ X ├┤ X ├»\n",
       "«             └───┘└──────────────────────────┘└───┘└───┘»\n",
       "«meas: 3/════════════════════════════════════════════════»\n",
       "«                                                        »\n",
       "«                                          ┌───────────────────────────┐ ░ ┌─┐»\n",
       "«  q0_0: ───────────────────────────────■──┤ Rx(['1q', 'mixer', 1, 0]) ├─░─┤M├»\n",
       "«        ┌───────────────────────────┐  │  └───────────────────────────┘ ░ └╥┘»\n",
       "«  q0_1: ┤ Rx(['1q', 'mixer', 1, 1]) ├──┼────────────────────────────────░──╫─»\n",
       "«        └┬──────────────────────────┤┌─┴─┐┌───────────────────────────┐ ░  ║ »\n",
       "«  q0_2: ─┤ Rz(['2q', 'cost', 1, 2]) ├┤ X ├┤ Rx(['1q', 'mixer', 1, 2]) ├─░──╫─»\n",
       "«         └──────────────────────────┘└───┘└───────────────────────────┘ ░  ║ »\n",
       "«meas: 3/═══════════════════════════════════════════════════════════════════╩═»\n",
       "«                                                                           0 »\n",
       "«              \n",
       "«  q0_0: ──────\n",
       "«        ┌─┐   \n",
       "«  q0_1: ┤M├───\n",
       "«        └╥┘┌─┐\n",
       "«  q0_2: ─╫─┤M├\n",
       "«         ║ └╥┘\n",
       "«meas: 3/═╩══╩═\n",
       "«         1  2 </pre>"
      ],
      "text/plain": [
       "        ┌───┐                                           »\n",
       "  q0_0: ┤ H ├──■────────────────────────────────■───────»\n",
       "        ├───┤┌─┴─┐┌──────────────────────────┐┌─┴─┐     »\n",
       "  q0_1: ┤ H ├┤ X ├┤ Rz(['2q', 'cost', 0, 0]) ├┤ X ├──■──»\n",
       "        ├───┤└───┘└──────────────────────────┘└───┘┌─┴─┐»\n",
       "  q0_2: ┤ H ├──────────────────────────────────────┤ X ├»\n",
       "        └───┘                                      └───┘»\n",
       "meas: 3/════════════════════════════════════════════════»\n",
       "                                                        »\n",
       "«                                                                           »\n",
       "«  q0_0: ───────────────────────────────────■───────────────────────────────»\n",
       "«                                           │  ┌───────────────────────────┐»\n",
       "«  q0_1: ──────────────────────────────■────┼──┤ Rx(['1q', 'mixer', 0, 1]) ├»\n",
       "«        ┌──────────────────────────┐┌─┴─┐┌─┴─┐└┬──────────────────────────┤»\n",
       "«  q0_2: ┤ Rz(['2q', 'cost', 0, 1]) ├┤ X ├┤ X ├─┤ Rz(['2q', 'cost', 0, 2]) ├»\n",
       "«        └──────────────────────────┘└───┘└───┘ └──────────────────────────┘»\n",
       "«meas: 3/═══════════════════════════════════════════════════════════════════»\n",
       "«                                                                           »\n",
       "«             ┌───────────────────────────┐                                 »\n",
       "«  q0_0: ──■──┤ Rx(['1q', 'mixer', 0, 0]) ├──■──────────────────────────────»\n",
       "«          │  └───────────────────────────┘┌─┴─┐┌──────────────────────────┐»\n",
       "«  q0_1: ──┼───────────────────────────────┤ X ├┤ Rz(['2q', 'cost', 1, 0]) ├»\n",
       "«        ┌─┴─┐┌───────────────────────────┐└───┘└──────────────────────────┘»\n",
       "«  q0_2: ┤ X ├┤ Rx(['1q', 'mixer', 0, 2]) ├─────────────────────────────────»\n",
       "«        └───┘└───────────────────────────┘                                 »\n",
       "«meas: 3/═══════════════════════════════════════════════════════════════════»\n",
       "«                                                                           »\n",
       "«                                                        »\n",
       "«  q0_0: ──■──────────────────────────────────────────■──»\n",
       "«        ┌─┴─┐                                        │  »\n",
       "«  q0_1: ┤ X ├──■────────────────────────────────■────┼──»\n",
       "«        └───┘┌─┴─┐┌──────────────────────────┐┌─┴─┐┌─┴─┐»\n",
       "«  q0_2: ─────┤ X ├┤ Rz(['2q', 'cost', 1, 1]) ├┤ X ├┤ X ├»\n",
       "«             └───┘└──────────────────────────┘└───┘└───┘»\n",
       "«meas: 3/════════════════════════════════════════════════»\n",
       "«                                                        »\n",
       "«                                          ┌───────────────────────────┐ ░ ┌─┐»\n",
       "«  q0_0: ───────────────────────────────■──┤ Rx(['1q', 'mixer', 1, 0]) ├─░─┤M├»\n",
       "«        ┌───────────────────────────┐  │  └───────────────────────────┘ ░ └╥┘»\n",
       "«  q0_1: ┤ Rx(['1q', 'mixer', 1, 1]) ├──┼────────────────────────────────░──╫─»\n",
       "«        └┬──────────────────────────┤┌─┴─┐┌───────────────────────────┐ ░  ║ »\n",
       "«  q0_2: ─┤ Rz(['2q', 'cost', 1, 2]) ├┤ X ├┤ Rx(['1q', 'mixer', 1, 2]) ├─░──╫─»\n",
       "«         └──────────────────────────┘└───┘└───────────────────────────┘ ░  ║ »\n",
       "«meas: 3/═══════════════════════════════════════════════════════════════════╩═»\n",
       "«                                                                           0 »\n",
       "«              \n",
       "«  q0_0: ──────\n",
       "«        ┌─┐   \n",
       "«  q0_1: ┤M├───\n",
       "«        └╥┘┌─┐\n",
       "«  q0_2: ─╫─┤M├\n",
       "«         ║ └╥┘\n",
       "«meas: 3/═╩══╩═\n",
       "«         1  2 "
      ]
     },
     "execution_count": 11,
     "metadata": {},
     "output_type": "execute_result"
    }
   ],
   "source": [
    "backend_cloud.parametric_circuit.draw()"
   ]
  },
  {
   "cell_type": "code",
   "execution_count": 12,
   "metadata": {
    "tags": []
   },
   "outputs": [
    {
     "data": {
      "text/html": [
       "<pre style=\"word-wrap: normal;white-space: pre;background: #fff0;line-height: 1.1;font-family: &quot;Courier New&quot;,Courier,monospace\">        ┌───┐                                                              »\n",
       "  q0_0: ┤ H ├──■────────────────■──────────────────────────■───────────────»\n",
       "        ├───┤┌─┴─┐┌──────────┐┌─┴─┐                        │  ┌───────────┐»\n",
       "  q0_1: ┤ H ├┤ X ├┤ Rz(0.35) ├┤ X ├──■────────────────■────┼──┤ Rx(-1.05) ├»\n",
       "        ├───┤└───┘└──────────┘└───┘┌─┴─┐┌──────────┐┌─┴─┐┌─┴─┐└┬──────────┤»\n",
       "  q0_2: ┤ H ├──────────────────────┤ X ├┤ Rz(0.35) ├┤ X ├┤ X ├─┤ Rz(0.35) ├»\n",
       "        └───┘                      └───┘└──────────┘└───┘└───┘ └──────────┘»\n",
       "meas: 3/═══════════════════════════════════════════════════════════════════»\n",
       "                                                                           »\n",
       "«             ┌───────────┐                                                 »\n",
       "«  q0_0: ──■──┤ Rx(-1.05) ├──■────────────────■──────────────────────────■──»\n",
       "«          │  └───────────┘┌─┴─┐┌──────────┐┌─┴─┐                        │  »\n",
       "«  q0_1: ──┼───────────────┤ X ├┤ Rz(1.05) ├┤ X ├──■────────────────■────┼──»\n",
       "«        ┌─┴─┐┌───────────┐└───┘└──────────┘└───┘┌─┴─┐┌──────────┐┌─┴─┐┌─┴─┐»\n",
       "«  q0_2: ┤ X ├┤ Rx(-1.05) ├──────────────────────┤ X ├┤ Rz(1.05) ├┤ X ├┤ X ├»\n",
       "«        └───┘└───────────┘                      └───┘└──────────┘└───┘└───┘»\n",
       "«meas: 3/═══════════════════════════════════════════════════════════════════»\n",
       "«                                                                           »\n",
       "«                          ┌───────────┐ ░ ┌─┐      \n",
       "«  q0_0: ───────────────■──┤ Rx(-0.35) ├─░─┤M├──────\n",
       "«        ┌───────────┐  │  └───────────┘ ░ └╥┘┌─┐   \n",
       "«  q0_1: ┤ Rx(-0.35) ├──┼────────────────░──╫─┤M├───\n",
       "«        └┬──────────┤┌─┴─┐┌───────────┐ ░  ║ └╥┘┌─┐\n",
       "«  q0_2: ─┤ Rz(1.05) ├┤ X ├┤ Rx(-0.35) ├─░──╫──╫─┤M├\n",
       "«         └──────────┘└───┘└───────────┘ ░  ║  ║ └╥┘\n",
       "«meas: 3/═══════════════════════════════════╩══╩══╩═\n",
       "«                                           0  1  2 </pre>"
      ],
      "text/plain": [
       "        ┌───┐                                                              »\n",
       "  q0_0: ┤ H ├──■────────────────■──────────────────────────■───────────────»\n",
       "        ├───┤┌─┴─┐┌──────────┐┌─┴─┐                        │  ┌───────────┐»\n",
       "  q0_1: ┤ H ├┤ X ├┤ Rz(0.35) ├┤ X ├──■────────────────■────┼──┤ Rx(-1.05) ├»\n",
       "        ├───┤└───┘└──────────┘└───┘┌─┴─┐┌──────────┐┌─┴─┐┌─┴─┐└┬──────────┤»\n",
       "  q0_2: ┤ H ├──────────────────────┤ X ├┤ Rz(0.35) ├┤ X ├┤ X ├─┤ Rz(0.35) ├»\n",
       "        └───┘                      └───┘└──────────┘└───┘└───┘ └──────────┘»\n",
       "meas: 3/═══════════════════════════════════════════════════════════════════»\n",
       "                                                                           »\n",
       "«             ┌───────────┐                                                 »\n",
       "«  q0_0: ──■──┤ Rx(-1.05) ├──■────────────────■──────────────────────────■──»\n",
       "«          │  └───────────┘┌─┴─┐┌──────────┐┌─┴─┐                        │  »\n",
       "«  q0_1: ──┼───────────────┤ X ├┤ Rz(1.05) ├┤ X ├──■────────────────■────┼──»\n",
       "«        ┌─┴─┐┌───────────┐└───┘└──────────┘└───┘┌─┴─┐┌──────────┐┌─┴─┐┌─┴─┐»\n",
       "«  q0_2: ┤ X ├┤ Rx(-1.05) ├──────────────────────┤ X ├┤ Rz(1.05) ├┤ X ├┤ X ├»\n",
       "«        └───┘└───────────┘                      └───┘└──────────┘└───┘└───┘»\n",
       "«meas: 3/═══════════════════════════════════════════════════════════════════»\n",
       "«                                                                           »\n",
       "«                          ┌───────────┐ ░ ┌─┐      \n",
       "«  q0_0: ───────────────■──┤ Rx(-0.35) ├─░─┤M├──────\n",
       "«        ┌───────────┐  │  └───────────┘ ░ └╥┘┌─┐   \n",
       "«  q0_1: ┤ Rx(-0.35) ├──┼────────────────░──╫─┤M├───\n",
       "«        └┬──────────┤┌─┴─┐┌───────────┐ ░  ║ └╥┘┌─┐\n",
       "«  q0_2: ─┤ Rz(1.05) ├┤ X ├┤ Rx(-0.35) ├─░──╫──╫─┤M├\n",
       "«         └──────────┘└───┘└───────────┘ ░  ║  ║ └╥┘\n",
       "«meas: 3/═══════════════════════════════════╩══╩══╩═\n",
       "«                                           0  1  2 "
      ]
     },
     "execution_count": 12,
     "metadata": {},
     "output_type": "execute_result"
    }
   ],
   "source": [
    "backend_cloud.qaoa_circuit(variate_params).draw()"
   ]
  },
  {
   "cell_type": "markdown",
   "metadata": {},
   "source": [
    "### Creating other backends"
   ]
  },
  {
   "cell_type": "code",
   "execution_count": 13,
   "metadata": {},
   "outputs": [],
   "source": [
    "qiskit_sim = create_device('local','qiskit.statevector_simulator')\n",
    "backend_qiskit_statevec = get_qaoa_backend(circuit_params, qiskit_sim)"
   ]
  },
  {
   "cell_type": "code",
   "execution_count": 14,
   "metadata": {
    "tags": []
   },
   "outputs": [],
   "source": [
    "from qiskit.providers.aer.noise import NoiseModel\n",
    "from qiskit import IBMQ\n",
    "# IBMQ.load_account()\n",
    "provider = IBMQ.get_provider('ibm-q-startup','entropica-labs','reservations')\n",
    "backend = provider.get_backend('ibmq_bogota')\n",
    "noise_model = NoiseModel.from_backend(backend)"
   ]
  },
  {
   "cell_type": "code",
   "execution_count": 15,
   "metadata": {
    "tags": []
   },
   "outputs": [],
   "source": [
    "qiskit_shot_sim = create_device('local','qiskit.shot_simulator')\n",
    "backend_qiskit_shot = get_qaoa_backend(circuit_params, qiskit_shot_sim, n_shots=100, noise_model=noise_model)"
   ]
  },
  {
   "cell_type": "code",
   "execution_count": 16,
   "metadata": {
    "tags": []
   },
   "outputs": [
    {
     "name": "stdout",
     "output_type": "stream",
     "text": [
      "0.006166710717490089\n",
      "(0.006166710717490089, 0.1569357019574805)\n"
     ]
    }
   ],
   "source": [
    "print(backend_qiskit_statevec.expectation(variate_params))\n",
    "print(backend_qiskit_statevec.expectation_w_uncertainty(variate_params))"
   ]
  },
  {
   "cell_type": "code",
   "execution_count": 17,
   "metadata": {
    "tags": []
   },
   "outputs": [
    {
     "name": "stdout",
     "output_type": "stream",
     "text": [
      "0.28\n",
      "(0.44000000000000006, 1.2515590277729614)\n"
     ]
    }
   ],
   "source": [
    "print(backend_qiskit_shot.expectation(variate_params))\n",
    "print(backend_qiskit_shot.expectation_w_uncertainty(variate_params))"
   ]
  },
  {
   "cell_type": "code",
   "execution_count": 18,
   "metadata": {
    "tags": []
   },
   "outputs": [],
   "source": [
    "current_ckt = backend_qiskit_shot.qaoa_circuit(variate_params)"
   ]
  },
  {
   "cell_type": "code",
   "execution_count": 19,
   "metadata": {
    "tags": []
   },
   "outputs": [
    {
     "data": {
      "text/html": [
       "<pre style=\"word-wrap: normal;white-space: pre;background: #fff0;line-height: 1.1;font-family: &quot;Courier New&quot;,Courier,monospace\">        ┌───┐                                                      »\n",
       "  q2_0: ┤ H ├─■────────────────────────────────────────────────────»\n",
       "        ├───┤ │ZZ(['2q', 'cost', 0, 0])                            »\n",
       "  q2_1: ┤ H ├─■──────────────────────────■─────────────────────────»\n",
       "        ├───┤                            │ZZ(['2q', 'cost', 0, 1]) »\n",
       "  q2_2: ┤ H ├────────────────────────────■─────────────────────────»\n",
       "        └───┘                                                      »\n",
       "meas: 3/═══════════════════════════════════════════════════════════»\n",
       "                                                                   »\n",
       "«                                   ┌───────────────────────────┐»\n",
       "«  q2_0: ─■─────────────────────────┤ Rx(['1q', 'mixer', 0, 0]) ├»\n",
       "«         │                         ├───────────────────────────┤»\n",
       "«  q2_1: ─┼─────────────────────────┤ Rx(['1q', 'mixer', 0, 1]) ├»\n",
       "«         │ZZ(['2q', 'cost', 0, 2]) ├───────────────────────────┤»\n",
       "«  q2_2: ─■─────────────────────────┤ Rx(['1q', 'mixer', 0, 2]) ├»\n",
       "«                                   └───────────────────────────┘»\n",
       "«meas: 3/════════════════════════════════════════════════════════»\n",
       "«                                                                »\n",
       "«                                                              »\n",
       "«  q2_0: ─■────────────────────────────────────────────────────»\n",
       "«         │ZZ(['2q', 'cost', 1, 0])                            »\n",
       "«  q2_1: ─■──────────────────────────■─────────────────────────»\n",
       "«                                    │ZZ(['2q', 'cost', 1, 1]) »\n",
       "«  q2_2: ────────────────────────────■─────────────────────────»\n",
       "«                                                              »\n",
       "«meas: 3/══════════════════════════════════════════════════════»\n",
       "«                                                              »\n",
       "«                                   ┌───────────────────────────┐ ░ ┌─┐      \n",
       "«  q2_0: ─■─────────────────────────┤ Rx(['1q', 'mixer', 1, 0]) ├─░─┤M├──────\n",
       "«         │                         ├───────────────────────────┤ ░ └╥┘┌─┐   \n",
       "«  q2_1: ─┼─────────────────────────┤ Rx(['1q', 'mixer', 1, 1]) ├─░──╫─┤M├───\n",
       "«         │ZZ(['2q', 'cost', 1, 2]) ├───────────────────────────┤ ░  ║ └╥┘┌─┐\n",
       "«  q2_2: ─■─────────────────────────┤ Rx(['1q', 'mixer', 1, 2]) ├─░──╫──╫─┤M├\n",
       "«                                   └───────────────────────────┘ ░  ║  ║ └╥┘\n",
       "«meas: 3/════════════════════════════════════════════════════════════╩══╩══╩═\n",
       "«                                                                    0  1  2 </pre>"
      ],
      "text/plain": [
       "        ┌───┐                                                      »\n",
       "  q2_0: ┤ H ├─■────────────────────────────────────────────────────»\n",
       "        ├───┤ │ZZ(['2q', 'cost', 0, 0])                            »\n",
       "  q2_1: ┤ H ├─■──────────────────────────■─────────────────────────»\n",
       "        ├───┤                            │ZZ(['2q', 'cost', 0, 1]) »\n",
       "  q2_2: ┤ H ├────────────────────────────■─────────────────────────»\n",
       "        └───┘                                                      »\n",
       "meas: 3/═══════════════════════════════════════════════════════════»\n",
       "                                                                   »\n",
       "«                                   ┌───────────────────────────┐»\n",
       "«  q2_0: ─■─────────────────────────┤ Rx(['1q', 'mixer', 0, 0]) ├»\n",
       "«         │                         ├───────────────────────────┤»\n",
       "«  q2_1: ─┼─────────────────────────┤ Rx(['1q', 'mixer', 0, 1]) ├»\n",
       "«         │ZZ(['2q', 'cost', 0, 2]) ├───────────────────────────┤»\n",
       "«  q2_2: ─■─────────────────────────┤ Rx(['1q', 'mixer', 0, 2]) ├»\n",
       "«                                   └───────────────────────────┘»\n",
       "«meas: 3/════════════════════════════════════════════════════════»\n",
       "«                                                                »\n",
       "«                                                              »\n",
       "«  q2_0: ─■────────────────────────────────────────────────────»\n",
       "«         │ZZ(['2q', 'cost', 1, 0])                            »\n",
       "«  q2_1: ─■──────────────────────────■─────────────────────────»\n",
       "«                                    │ZZ(['2q', 'cost', 1, 1]) »\n",
       "«  q2_2: ────────────────────────────■─────────────────────────»\n",
       "«                                                              »\n",
       "«meas: 3/══════════════════════════════════════════════════════»\n",
       "«                                                              »\n",
       "«                                   ┌───────────────────────────┐ ░ ┌─┐      \n",
       "«  q2_0: ─■─────────────────────────┤ Rx(['1q', 'mixer', 1, 0]) ├─░─┤M├──────\n",
       "«         │                         ├───────────────────────────┤ ░ └╥┘┌─┐   \n",
       "«  q2_1: ─┼─────────────────────────┤ Rx(['1q', 'mixer', 1, 1]) ├─░──╫─┤M├───\n",
       "«         │ZZ(['2q', 'cost', 1, 2]) ├───────────────────────────┤ ░  ║ └╥┘┌─┐\n",
       "«  q2_2: ─■─────────────────────────┤ Rx(['1q', 'mixer', 1, 2]) ├─░──╫──╫─┤M├\n",
       "«                                   └───────────────────────────┘ ░  ║  ║ └╥┘\n",
       "«meas: 3/════════════════════════════════════════════════════════════╩══╩══╩═\n",
       "«                                                                    0  1  2 "
      ]
     },
     "execution_count": 19,
     "metadata": {},
     "output_type": "execute_result"
    }
   ],
   "source": [
    "#print parametric qaoa circuit\n",
    "backend_qiskit_shot.parametric_circuit.draw()"
   ]
  },
  {
   "cell_type": "code",
   "execution_count": 20,
   "metadata": {
    "tags": []
   },
   "outputs": [
    {
     "data": {
      "text/html": [
       "<pre style=\"word-wrap: normal;white-space: pre;background: #fff0;line-height: 1.1;font-family: &quot;Courier New&quot;,Courier,monospace\">        ┌───┐                                 ┌───────────┐           »\n",
       "  q2_0: ┤ H ├─■─────────────────────■─────────┤ Rx(-1.05) ├─■─────────»\n",
       "        ├───┤ │ZZ(0.35)             │         ├───────────┤ │ZZ(1.05) »\n",
       "  q2_1: ┤ H ├─■──────────■──────────┼─────────┤ Rx(-1.05) ├─■─────────»\n",
       "        ├───┤            │ZZ(0.35)  │ZZ(0.35) ├───────────┤           »\n",
       "  q2_2: ┤ H ├────────────■──────────■─────────┤ Rx(-1.05) ├───────────»\n",
       "        └───┘                                 └───────────┘           »\n",
       "meas: 3/══════════════════════════════════════════════════════════════»\n",
       "                                                                      »\n",
       "«                              ┌───────────┐ ░ ┌─┐      \n",
       "«  q2_0: ────────────■─────────┤ Rx(-0.35) ├─░─┤M├──────\n",
       "«                    │         ├───────────┤ ░ └╥┘┌─┐   \n",
       "«  q2_1: ─■──────────┼─────────┤ Rx(-0.35) ├─░──╫─┤M├───\n",
       "«         │ZZ(1.05)  │ZZ(1.05) ├───────────┤ ░  ║ └╥┘┌─┐\n",
       "«  q2_2: ─■──────────■─────────┤ Rx(-0.35) ├─░──╫──╫─┤M├\n",
       "«                              └───────────┘ ░  ║  ║ └╥┘\n",
       "«meas: 3/═══════════════════════════════════════╩══╩══╩═\n",
       "«                                               0  1  2 </pre>"
      ],
      "text/plain": [
       "        ┌───┐                                 ┌───────────┐           »\n",
       "  q2_0: ┤ H ├─■─────────────────────■─────────┤ Rx(-1.05) ├─■─────────»\n",
       "        ├───┤ │ZZ(0.35)             │         ├───────────┤ │ZZ(1.05) »\n",
       "  q2_1: ┤ H ├─■──────────■──────────┼─────────┤ Rx(-1.05) ├─■─────────»\n",
       "        ├───┤            │ZZ(0.35)  │ZZ(0.35) ├───────────┤           »\n",
       "  q2_2: ┤ H ├────────────■──────────■─────────┤ Rx(-1.05) ├───────────»\n",
       "        └───┘                                 └───────────┘           »\n",
       "meas: 3/══════════════════════════════════════════════════════════════»\n",
       "                                                                      »\n",
       "«                              ┌───────────┐ ░ ┌─┐      \n",
       "«  q2_0: ────────────■─────────┤ Rx(-0.35) ├─░─┤M├──────\n",
       "«                    │         ├───────────┤ ░ └╥┘┌─┐   \n",
       "«  q2_1: ─■──────────┼─────────┤ Rx(-0.35) ├─░──╫─┤M├───\n",
       "«         │ZZ(1.05)  │ZZ(1.05) ├───────────┤ ░  ║ └╥┘┌─┐\n",
       "«  q2_2: ─■──────────■─────────┤ Rx(-0.35) ├─░──╫──╫─┤M├\n",
       "«                              └───────────┘ ░  ║  ║ └╥┘\n",
       "«meas: 3/═══════════════════════════════════════╩══╩══╩═\n",
       "«                                               0  1  2 "
      ]
     },
     "execution_count": 20,
     "metadata": {},
     "output_type": "execute_result"
    }
   ],
   "source": [
    "#print the full circuit with attached angles\n",
    "current_ckt.draw()"
   ]
  },
  {
   "cell_type": "code",
   "execution_count": 21,
   "metadata": {
    "tags": []
   },
   "outputs": [
    {
     "data": {
      "text/plain": [
       "(0.004, 0.12642784503423288)"
      ]
     },
     "execution_count": 21,
     "metadata": {},
     "output_type": "execute_result"
    }
   ],
   "source": [
    "backend_cloud.expectation_w_uncertainty(variate_params)"
   ]
  },
  {
   "cell_type": "code",
   "execution_count": 22,
   "metadata": {},
   "outputs": [
    {
     "data": {
      "text/plain": [
       "<function openqaoa.basebackend.QAOABaseBackendStatevector.qfim.<locals>.qfim_fun(args)>"
      ]
     },
     "execution_count": 22,
     "metadata": {},
     "output_type": "execute_result"
    }
   ],
   "source": [
    "backend_qiskit_statevec.qfim(variate_params)"
   ]
  },
  {
   "cell_type": "code",
   "execution_count": 23,
   "metadata": {},
   "outputs": [],
   "source": [
    "optimizer_dict = {'method': 'cobyla', 'maxiter': 10}"
   ]
  },
  {
   "cell_type": "code",
   "execution_count": 24,
   "metadata": {},
   "outputs": [],
   "source": [
    "optimizer_obj = get_optimizer(backend_qiskit_shot, variate_params, optimizer_dict)"
   ]
  },
  {
   "cell_type": "code",
   "execution_count": 25,
   "metadata": {},
   "outputs": [
    {
     "data": {
      "text/plain": [
       "Optimizer for VQA of type: QAOABaseBackendShotBased \n",
       "Backend: QAOAQiskitBackendShotBasedSimulator \n",
       "Method: COBYLA with Max Iterations: 10"
      ]
     },
     "execution_count": 25,
     "metadata": {},
     "output_type": "execute_result"
    }
   ],
   "source": [
    "optimizer_obj"
   ]
  },
  {
   "cell_type": "code",
   "execution_count": 26,
   "metadata": {},
   "outputs": [
    {
     "data": {
      "text/plain": [
       "{'opt result':      fun: 0.4\n",
       "    maxcv: 0.0\n",
       "  message: 'Maximum number of function evaluations has been exceeded.'\n",
       "     nfev: 10\n",
       "   status: 2\n",
       "  success: False\n",
       "        x: array([0.64215273, 0.175     , 0.13140829, 0.525     ]),\n",
       " 'parameter log': [[0.5249999999999999, 0.175, 0.175, 0.5249999999999999],\n",
       "  [1.525, 0.175, 0.175, 0.5249999999999999],\n",
       "  [0.5249999999999999, 1.175, 0.175, 0.5249999999999999],\n",
       "  [0.5249999999999999, 0.175, 1.175, 0.5249999999999999],\n",
       "  [0.5249999999999999, 0.175, 0.175, 1.525],\n",
       "  [0.27581992325310845,\n",
       "   -0.49467145625727077,\n",
       "   -0.49467145625727077,\n",
       "   0.32254118764315065],\n",
       "  [0.4004099616265542,\n",
       "   -0.1598357281286354,\n",
       "   -0.1598357281286354,\n",
       "   0.4237705938215753],\n",
       "  [0.5054736881031882,\n",
       "   0.4181320406177938,\n",
       "   0.12252303677731852,\n",
       "   0.5091348715838404],\n",
       "  [0.6421527313821951, 0.175, 0.13140828599732268, 0.5249999999999999],\n",
       "  [0.7413217596653987,\n",
       "   0.16184534823533464,\n",
       "   0.3594825497405405,\n",
       "   0.5032149320794109]],\n",
       " 'final params': [0.6421527313821951,\n",
       "  0.175,\n",
       "  0.13140828599732268,\n",
       "  0.5249999999999999],\n",
       " 'cost progress list': [0.44000000000000006,\n",
       "  1.08,\n",
       "  2.16,\n",
       "  2.16,\n",
       "  0.96,\n",
       "  0.8,\n",
       "  2.4000000000000004,\n",
       "  0.84,\n",
       "  0.4,\n",
       "  1.12],\n",
       " 'count progress list': [{'111': 4,\n",
       "   '110': 12,\n",
       "   '000': 7,\n",
       "   '010': 14,\n",
       "   '101': 17,\n",
       "   '100': 16,\n",
       "   '011': 9,\n",
       "   '001': 21}],\n",
       " 'probability progress list': [],\n",
       " 'optimization method': 'cobyla',\n",
       " 'cost function calls': 10,\n",
       " 'optimal cost': 0.4}"
      ]
     },
     "execution_count": 26,
     "metadata": {},
     "output_type": "execute_result"
    }
   ],
   "source": [
    "optimizer_obj()\n",
    "optimizer_obj.results_information()"
   ]
  },
  {
   "cell_type": "code",
   "execution_count": 27,
   "metadata": {},
   "outputs": [
    {
     "data": {
      "text/plain": [
       "{'opt result':      fun: 0.28\n",
       "    maxcv: 0.0\n",
       "  message: 'Maximum number of function evaluations has been exceeded.'\n",
       "     nfev: 10\n",
       "   status: 2\n",
       "  success: False\n",
       "        x: array([0.525, 0.175, 0.175, 0.525]),\n",
       " 'parameter log': [[0.5249999999999999, 0.175, 0.175, 0.5249999999999999],\n",
       "  [1.525, 0.175, 0.175, 0.5249999999999999],\n",
       "  [0.5249999999999999, 1.175, 0.175, 0.5249999999999999],\n",
       "  [0.5249999999999999, 0.175, 1.175, 0.5249999999999999],\n",
       "  [0.5249999999999999, 0.175, 0.175, 1.525],\n",
       "  [0.27581992325310845,\n",
       "   -0.49467145625727077,\n",
       "   -0.49467145625727077,\n",
       "   0.32254118764315065],\n",
       "  [0.4004099616265542,\n",
       "   -0.1598357281286354,\n",
       "   -0.1598357281286354,\n",
       "   0.4237705938215753],\n",
       "  [0.5054736881031882,\n",
       "   0.4181320406177938,\n",
       "   0.12252303677731852,\n",
       "   0.5091348715838404],\n",
       "  [0.6421527313821951, 0.175, 0.13140828599732268, 0.5249999999999999],\n",
       "  [0.7413217596653987,\n",
       "   0.16184534823533464,\n",
       "   0.3594825497405405,\n",
       "   0.5032149320794109],\n",
       "  [0.5249999999999999, 0.175, 0.175, 0.5249999999999999],\n",
       "  [1.525, 0.175, 0.175, 0.5249999999999999],\n",
       "  [0.5249999999999999, 1.175, 0.175, 0.5249999999999999],\n",
       "  [0.5249999999999999, 0.175, 1.175, 0.5249999999999999],\n",
       "  [0.5249999999999999, 0.175, 0.175, 1.525],\n",
       "  [0.22066565723658654,\n",
       "   -0.49707167360253784,\n",
       "   -0.42098808791168457,\n",
       "   0.2079850596214443],\n",
       "  [0.37283282861829325,\n",
       "   -0.16103583680126893,\n",
       "   -0.12299404395584229,\n",
       "   0.3664925298107221],\n",
       "  [0.7728093679953663,\n",
       "   0.1517010102040324,\n",
       "   0.15433863169036838,\n",
       "   0.5140099104736001],\n",
       "  [0.5249999999999999,\n",
       "   0.2579358962909493,\n",
       "   0.08147654248041886,\n",
       "   0.5249999999999999],\n",
       "  [0.4875603254959365,\n",
       "   0.2766845415668452,\n",
       "   0.3960170339725241,\n",
       "   0.4812965050212407]],\n",
       " 'final params': [0.5249999999999999, 0.175, 0.175, 0.5249999999999999],\n",
       " 'cost progress list': [0.44000000000000006,\n",
       "  1.08,\n",
       "  2.16,\n",
       "  2.16,\n",
       "  0.96,\n",
       "  0.8,\n",
       "  2.4000000000000004,\n",
       "  0.84,\n",
       "  0.4,\n",
       "  1.12,\n",
       "  0.28,\n",
       "  1.24,\n",
       "  2.4000000000000004,\n",
       "  2.16,\n",
       "  1.28,\n",
       "  0.64,\n",
       "  2.2800000000000002,\n",
       "  0.64,\n",
       "  0.5599999999999999,\n",
       "  0.9600000000000001],\n",
       " 'count progress list': [{'111': 4,\n",
       "   '110': 12,\n",
       "   '000': 7,\n",
       "   '010': 14,\n",
       "   '101': 17,\n",
       "   '100': 16,\n",
       "   '011': 9,\n",
       "   '001': 21}],\n",
       " 'probability progress list': [],\n",
       " 'optimization method': 'cobyla',\n",
       " 'cost function calls': 10,\n",
       " 'optimal cost': 0.28}"
      ]
     },
     "execution_count": 27,
     "metadata": {},
     "output_type": "execute_result"
    }
   ],
   "source": [
    "optimizer_obj()\n",
    "optimizer_obj.results_information()"
   ]
  },
  {
   "cell_type": "markdown",
   "metadata": {},
   "source": [
    "### Some useful functions to play around with!"
   ]
  },
  {
   "cell_type": "code",
   "execution_count": 28,
   "metadata": {
    "tags": []
   },
   "outputs": [],
   "source": [
    "from openqaoa.utilities import plot_energy_spectrum"
   ]
  },
  {
   "cell_type": "code",
   "execution_count": 29,
   "metadata": {},
   "outputs": [
    {
     "data": {
      "image/png": "[encoded data removed]",
      "text/plain": [
       "<Figure size 216x360 with 1 Axes>"
      ]
     },
     "metadata": {
      "needs_background": "light"
     },
     "output_type": "display_data"
    }
   ],
   "source": [
    "plot_energy_spectrum(cost_hamil)"
   ]
  }
 ],
 "metadata": {
  "interpreter": {
   "hash": "ffc96233305d7122dc6732a5f9b7f44477470c7d091ce18c27b788d4d214d89a"
  },
  "kernelspec": {
   "display_name": "OpenQAOA_kernel",
   "language": "python",
   "name": "openqaoa_env"
  },
  "language_info": {
   "codemirror_mode": {
    "name": "ipython",
    "version": 3
   },
   "file_extension": ".py",
   "mimetype": "text/x-python",
   "name": "python",
   "nbconvert_exporter": "python",
   "pygments_lexer": "ipython3",
   "version": "3.8.8"
  }
 },
 "nbformat": 4,
 "nbformat_minor": 4
}
