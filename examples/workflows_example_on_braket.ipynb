{
 "cells": [
  {
   "cell_type": "markdown",
   "metadata": {},
   "source": [
    "# Introduction to OpenQAOA: An example workflow\n",
    "\n",
    "This section provides a walkthrough of a simple example workflow, and is intended as a quick introduction to the functionalities of the OpenQAOA library. More focused examples are provided in other sections of the documentation.\n",
    "\n",
    "The QAOA workflow can be divided in four simple steps:\n",
    "- Problem definition: Define your optimization problem here, either by: \n",
    "    - using pre-defined problem classes or,\n",
    "    - supplying your own QUBO\n",
    "- Model building: \n",
    "    - Build the QAOA circuit with the available configurations\n",
    "    - Choose the backend (device) to run the circuit\n",
    "    - Choose the properties of the classical optimizer\n",
    "- Compile model and optimize: \n",
    "    - Compile the model by passing the problem defined in step-1\n",
    "    - Execute `model.optimize()` to run the optimization process\n",
    "- Extract results\n",
    "    - Run `model.results` to obtain information on the optimization run "
   ]
  },
  {
   "cell_type": "markdown",
   "metadata": {},
   "source": [
    "### Begin by importing necessary modules"
   ]
  },
  {
   "cell_type": "code",
   "execution_count": 1,
   "metadata": {
    "execution": {
     "iopub.execute_input": "2022-10-10T09:52:03.718169Z",
     "iopub.status.busy": "2022-10-10T09:52:03.717705Z",
     "iopub.status.idle": "2022-10-10T09:52:08.511077Z",
     "shell.execute_reply": "2022-10-10T09:52:08.510245Z",
     "shell.execute_reply.started": "2022-10-10T09:52:03.718089Z"
    }
   },
   "outputs": [],
   "source": [
    "#some regular python libraries\n",
    "import networkx as nx\n",
    "import numpy as np\n",
    "from pprint import pprint\n",
    "import matplotlib.pyplot as plt\n",
    "\n",
    "#import problem classes from OQ for easy problem creation\n",
    "from openqaoa.problems.problem import MaximumCut, NumberPartition\n",
    "\n",
    "#import the QAOA workflow model\n",
    "from openqaoa.workflows.optimizer import QAOA\n",
    "\n",
    "#import method to specify the device\n",
    "from openqaoa.devices import create_device"
   ]
  },
  {
   "cell_type": "markdown",
   "metadata": {},
   "source": [
    "### Step 1: Create a problem instance\n",
    "We begin by creating a problem instance for a simple MaximumCut problem for a random graph created using the python `networkx` module. MaximumCut is a go-to problem to demonstrate QAOA in action.\n",
    "\n",
    "For this, we first:\n",
    "- create a random graph using the `networkx` module\n",
    "- using the MaximumCut problem class, we translate into the QUBO formalism to optimize with QAOA"
   ]
  },
  {
   "cell_type": "code",
   "execution_count": 2,
   "metadata": {
    "execution": {
     "iopub.execute_input": "2022-10-10T09:52:08.513952Z",
     "iopub.status.busy": "2022-10-10T09:52:08.513404Z",
     "iopub.status.idle": "2022-10-10T09:52:08.775499Z",
     "shell.execute_reply": "2022-10-10T09:52:08.774250Z",
     "shell.execute_reply.started": "2022-10-10T09:52:08.513924Z"
    }
   },
   "outputs": [
    {
     "data": {
      "image/png": "[encoded data removed]",
      "text/plain": [
       "<Figure size 1000x600 with 1 Axes>"
      ]
     },
     "metadata": {},
     "output_type": "display_data"
    }
   ],
   "source": [
    "nodes = 6\n",
    "edge_probability = 0.6\n",
    "g = nx.generators.fast_gnp_random_graph(n=nodes,p=edge_probability)\n",
    "\n",
    "# import graph plotter from openqaoa\n",
    "from openqaoa.utilities import plot_graph\n",
    "plot_graph(g)"
   ]
  },
  {
   "cell_type": "code",
   "execution_count": 3,
   "metadata": {
    "execution": {
     "iopub.execute_input": "2022-10-10T09:52:08.777440Z",
     "iopub.status.busy": "2022-10-10T09:52:08.776956Z",
     "iopub.status.idle": "2022-10-10T09:52:08.782886Z",
     "shell.execute_reply": "2022-10-10T09:52:08.781613Z",
     "shell.execute_reply.started": "2022-10-10T09:52:08.777406Z"
    }
   },
   "outputs": [],
   "source": [
    "# Use the MaximumCut class to instantiate the problem.\n",
    "maxcut_prob = MaximumCut(g)\n",
    "\n",
    "# The method `get_qubo_problem()` translates the problem into a binary Qubo problem. \n",
    "# The binary values can be access via the `asdict()` method.\n",
    "maxcut_qubo = maxcut_prob.get_qubo_problem()"
   ]
  },
  {
   "cell_type": "code",
   "execution_count": 4,
   "metadata": {
    "execution": {
     "iopub.execute_input": "2022-10-10T09:52:08.786731Z",
     "iopub.status.busy": "2022-10-10T09:52:08.786332Z",
     "iopub.status.idle": "2022-10-10T09:52:08.792849Z",
     "shell.execute_reply": "2022-10-10T09:52:08.791834Z",
     "shell.execute_reply.started": "2022-10-10T09:52:08.786703Z"
    }
   },
   "outputs": [
    {
     "name": "stdout",
     "output_type": "stream",
     "text": [
      "{'_n': 6,\n",
      " 'constant': 0,\n",
      " 'terms': [[0, 2], [0, 4], [1, 2], [1, 3], [1, 5], [2, 3], [2, 5], [3, 5]],\n",
      " 'weights': [1.0, 1.0, 1.0, 1.0, 1.0, 1.0, 1.0, 1.0]}\n"
     ]
    }
   ],
   "source": [
    "pprint(maxcut_qubo.asdict())"
   ]
  },
  {
   "cell_type": "markdown",
   "metadata": {},
   "source": [
    "#### Extract the exact solution for a small enough problem\n",
    "\n"
   ]
  },
  {
   "cell_type": "code",
   "execution_count": 5,
   "metadata": {
    "execution": {
     "iopub.execute_input": "2022-10-10T09:52:08.795516Z",
     "iopub.status.busy": "2022-10-10T09:52:08.794991Z",
     "iopub.status.idle": "2022-10-10T09:52:08.804072Z",
     "shell.execute_reply": "2022-10-10T09:52:08.802488Z",
     "shell.execute_reply.started": "2022-10-10T09:52:08.795481Z"
    }
   },
   "outputs": [
    {
     "name": "stdout",
     "output_type": "stream",
     "text": [
      "Ground State energy: -4.0, Solution: ['110100', '011010', '001110', '110001', '100101', '001011']\n"
     ]
    }
   ],
   "source": [
    "hamiltonian = maxcut_qubo.hamiltonian\n",
    "\n",
    "# import the brute-force solver to obtain exact solution\n",
    "from openqaoa.utilities import ground_state_hamiltonian\n",
    "energy, configuration = ground_state_hamiltonian(hamiltonian)\n",
    "print(f\"Ground State energy: {energy}, Solution: {configuration}\")"
   ]
  },
  {
   "cell_type": "code",
   "execution_count": 6,
   "metadata": {
    "execution": {
     "iopub.execute_input": "2022-10-10T09:52:08.808912Z",
     "iopub.status.busy": "2022-10-10T09:52:08.808385Z",
     "iopub.status.idle": "2022-10-10T09:52:09.037417Z",
     "shell.execute_reply": "2022-10-10T09:52:09.036537Z",
     "shell.execute_reply.started": "2022-10-10T09:52:08.808879Z"
    }
   },
   "outputs": [
    {
     "data": {
      "image/png": "[encoded data removed]",
      "text/plain": [
       "<Figure size 640x480 with 1 Axes>"
      ]
     },
     "metadata": {},
     "output_type": "display_data"
    }
   ],
   "source": [
    "#plot the solution on graph\n",
    "g_sol = np.copy(g)\n",
    "pos =  nx.spring_layout(g)\n",
    "nx.draw_networkx_nodes(g, pos, nodelist=[idx for idx,bit in enumerate(configuration[0]) if bit == '1'], node_color=\"tab:red\")\n",
    "nx.draw_networkx_nodes(g, pos, nodelist=[idx for idx,bit in enumerate(configuration[0]) if bit == '0'], node_color=\"tab:blue\")\n",
    "nx.draw_networkx_edges(g, pos);"
   ]
  },
  {
   "cell_type": "markdown",
   "metadata": {},
   "source": [
    "### Step 2: Build the QAOA model\n",
    " - Initialize the model (with default parameters)\n",
    " - Optionally set the following properties for the model\n",
    "     - `model.set_device(...)`: Set the device\n",
    "         - The device properties include the location of the device `[local, qcs, ibmq]` and the device name. Full list of devices available at              `openqaoa.workflows.parameters.qaoa_parameters.ALLOWED_DEVICES`\n",
    "     - `model.set_circuit_properties(...)`: Sets the circuit properties. Mainly used for:\n",
    "         - `p`: the number of layers\n",
    "         - `param_type`: the desired parameterisation to be chosen between `['standard', 'extended', 'fourier', annealing]`\n",
    "         - `init_type`: the initialisation strategy for param_type. To be chosen between `['ramp', 'random', 'custom']`\n",
    "     - `model.set_backend_properties(...)`\n",
    "     - `model.set_classical_optimizer(...)`\n",
    "\n",
    "\n",
    "    \n",
    "For more details on the configurable properties, please refer to the documentation"
   ]
  },
  {
   "cell_type": "code",
   "execution_count": 7,
   "metadata": {
    "execution": {
     "iopub.execute_input": "2022-10-10T09:52:09.038972Z",
     "iopub.status.busy": "2022-10-10T09:52:09.038524Z",
     "iopub.status.idle": "2022-10-10T09:52:09.043331Z",
     "shell.execute_reply": "2022-10-10T09:52:09.042350Z",
     "shell.execute_reply.started": "2022-10-10T09:52:09.038942Z"
    }
   },
   "outputs": [],
   "source": [
    "# initialize model with default configurations\n",
    "q = QAOA()"
   ]
  },
  {
   "cell_type": "code",
   "execution_count": 8,
   "metadata": {
    "execution": {
     "iopub.execute_input": "2022-10-10T09:52:09.045277Z",
     "iopub.status.busy": "2022-10-10T09:52:09.044557Z",
     "iopub.status.idle": "2022-10-10T09:52:09.055089Z",
     "shell.execute_reply": "2022-10-10T09:52:09.050516Z",
     "shell.execute_reply.started": "2022-10-10T09:52:09.045244Z"
    }
   },
   "outputs": [],
   "source": [
    "# optionally configure the following properties of the model\n",
    "# device\n",
    "aws_auth_dict = { \n",
    "    \"aws_access_key_id\": \"<ENTER KEY>\",\n",
    "    \"aws_secret_access_key\": \"<ENTER KEY>\",\n",
    "    \"aws_region\": \"<ENTER REGION>\",\n",
    "    \"s3_bucket_name\": \"<ENTER NAME>\"\n",
    "}\n",
    "device_name = '<ENTER DEVICE NAME>'\n",
    "braket_device = create_device(location='aws', name=device_name, **aws_auth_dict)\n",
    "q.set_device(braket_device)\n",
    "\n",
    "# circuit properties\n",
    "q.set_circuit_properties(p=2, param_type='standard', init_type='rand', mixer_hamiltonian='x')\n",
    "\n",
    "# backend properties (already set by default)\n",
    "q.set_backend_properties(prepend_state=None, append_state=None)\n",
    "\n",
    "# classical optimizer properties\n",
    "q.set_classical_optimizer(method='nelder-mead', maxiter=2,\n",
    "                          optimization_progress=True, cost_progress=True, parameter_log=True)"
   ]
  },
  {
   "cell_type": "markdown",
   "metadata": {},
   "source": [
    "### Step 3: Compile and Optimize\n",
    "\n",
    "- Once the QAOA model is configured, we need to compile it. **Compilation is necessary** because the QAOA solver has to interact with the problem in to be able to create the underlying QAOA circuit.\n",
    "- The problem is ready to be optimized now. The user can call `model.optimize()` to initiate the optimization loop. "
   ]
  },
  {
   "cell_type": "code",
   "execution_count": 9,
   "metadata": {
    "execution": {
     "iopub.execute_input": "2022-10-10T09:52:09.057268Z",
     "iopub.status.busy": "2022-10-10T09:52:09.056685Z",
     "iopub.status.idle": "2022-10-10T09:52:12.051008Z",
     "shell.execute_reply": "2022-10-10T09:52:12.050045Z",
     "shell.execute_reply.started": "2022-10-10T09:52:09.057235Z"
    }
   },
   "outputs": [],
   "source": [
    "q.compile(maxcut_qubo) "
   ]
  },
  {
   "cell_type": "code",
   "execution_count": 10,
   "metadata": {
    "execution": {
     "iopub.execute_input": "2022-10-10T09:52:13.717520Z",
     "iopub.status.busy": "2022-10-10T09:52:13.716903Z",
     "iopub.status.idle": "2022-10-10T09:52:56.079721Z",
     "shell.execute_reply": "2022-10-10T09:52:56.078755Z",
     "shell.execute_reply.started": "2022-10-10T09:52:13.717492Z"
    }
   },
   "outputs": [],
   "source": [
    "q.optimize()"
   ]
  },
  {
   "cell_type": "markdown",
   "metadata": {},
   "source": [
    "### Step 4: Accessing the results"
   ]
  },
  {
   "cell_type": "code",
   "execution_count": 11,
   "metadata": {
    "execution": {
     "iopub.execute_input": "2022-10-10T09:53:03.002706Z",
     "iopub.status.busy": "2022-10-10T09:53:03.002084Z",
     "iopub.status.idle": "2022-10-10T09:53:03.006583Z",
     "shell.execute_reply": "2022-10-10T09:53:03.005512Z",
     "shell.execute_reply.started": "2022-10-10T09:53:03.002677Z"
    }
   },
   "outputs": [],
   "source": [
    "opt_results = q.results"
   ]
  },
  {
   "cell_type": "code",
   "execution_count": 12,
   "metadata": {
    "execution": {
     "iopub.execute_input": "2022-10-10T09:53:04.313257Z",
     "iopub.status.busy": "2022-10-10T09:53:04.312755Z",
     "iopub.status.idle": "2022-10-10T09:53:04.620582Z",
     "shell.execute_reply": "2022-10-10T09:53:04.619790Z",
     "shell.execute_reply.started": "2022-10-10T09:53:04.313223Z"
    }
   },
   "outputs": [
    {
     "data": {
      "image/png": "[encoded data removed]",
      "text/plain": [
       "<Figure size 1000x800 with 1 Axes>"
      ]
     },
     "metadata": {},
     "output_type": "display_data"
    }
   ],
   "source": [
    "# print the cost history\n",
    "opt_results.plot_cost()"
   ]
  },
  {
   "cell_type": "code",
   "execution_count": 13,
   "metadata": {
    "execution": {
     "iopub.execute_input": "2022-10-10T09:53:11.160927Z",
     "iopub.status.busy": "2022-10-10T09:53:11.160514Z",
     "iopub.status.idle": "2022-10-10T09:53:11.164599Z",
     "shell.execute_reply": "2022-10-10T09:53:11.163658Z",
     "shell.execute_reply.started": "2022-10-10T09:53:11.160892Z"
    }
   },
   "outputs": [],
   "source": [
    "# prints a large output (commented by default)\n",
    "# pprint(opt_results.intermediate)"
   ]
  },
  {
   "cell_type": "code",
   "execution_count": 14,
   "metadata": {
    "execution": {
     "iopub.execute_input": "2022-10-10T09:53:11.452997Z",
     "iopub.status.busy": "2022-10-10T09:53:11.452610Z",
     "iopub.status.idle": "2022-10-10T09:53:11.459491Z",
     "shell.execute_reply": "2022-10-10T09:53:11.458611Z",
     "shell.execute_reply.started": "2022-10-10T09:53:11.452964Z"
    }
   },
   "outputs": [
    {
     "name": "stdout",
     "output_type": "stream",
     "text": [
      "{'optimized angles': [2.1357510097073478,\n",
      "                      3.204277063528774,\n",
      "                      0.4603357413582066,\n",
      "                      0.48242342289296286],\n",
      " 'optimized cost': -0.8,\n",
      " 'optimized measurement outcomes': Counter({'001010': 9,\n",
      "                                            '100000': 6,\n",
      "                                            '110001': 6,\n",
      "                                            '011111': 5,\n",
      "                                            '000110': 5,\n",
      "                                            '110000': 5,\n",
      "                                            '110101': 4,\n",
      "                                            '100101': 4,\n",
      "                                            '000011': 4,\n",
      "                                            '110100': 4,\n",
      "                                            '011011': 3,\n",
      "                                            '100100': 3,\n",
      "                                            '101101': 3,\n",
      "                                            '110111': 3,\n",
      "                                            '000000': 2,\n",
      "                                            '100111': 2,\n",
      "                                            '011010': 2,\n",
      "                                            '001011': 2,\n",
      "                                            '111100': 2,\n",
      "                                            '001100': 2,\n",
      "                                            '101100': 2,\n",
      "                                            '011110': 2,\n",
      "                                            '001000': 2,\n",
      "                                            '001110': 2,\n",
      "                                            '111101': 2,\n",
      "                                            '110010': 1,\n",
      "                                            '111001': 1,\n",
      "                                            '111011': 1,\n",
      "                                            '001001': 1,\n",
      "                                            '011001': 1,\n",
      "                                            '110110': 1,\n",
      "                                            '111110': 1,\n",
      "                                            '000001': 1,\n",
      "                                            '111000': 1,\n",
      "                                            '010111': 1,\n",
      "                                            '110011': 1,\n",
      "                                            '001111': 1,\n",
      "                                            '010011': 1,\n",
      "                                            '100001': 1}),\n",
      " 'optimized run job id': 'arn:aws:braket:us-east-1:733853225053:quantum-task/8739e6a7-a75b-41e3-9bdd-ba52d6e95efc'}\n"
     ]
    }
   ],
   "source": [
    "pprint(opt_results.optimized)"
   ]
  },
  {
   "cell_type": "code",
   "execution_count": 15,
   "metadata": {
    "execution": {
     "iopub.execute_input": "2022-10-10T09:53:13.380841Z",
     "iopub.status.busy": "2022-10-10T09:53:13.380459Z",
     "iopub.status.idle": "2022-10-10T09:53:13.384502Z",
     "shell.execute_reply": "2022-10-10T09:53:13.383728Z",
     "shell.execute_reply.started": "2022-10-10T09:53:13.380813Z"
    }
   },
   "outputs": [],
   "source": [
    "variational_params = q.optimizer.variational_params"
   ]
  },
  {
   "cell_type": "code",
   "execution_count": 19,
   "metadata": {
    "execution": {
     "iopub.execute_input": "2022-10-10T09:53:47.738281Z",
     "iopub.status.busy": "2022-10-10T09:53:47.737892Z",
     "iopub.status.idle": "2022-10-10T09:53:47.755243Z",
     "shell.execute_reply": "2022-10-10T09:53:47.754317Z",
     "shell.execute_reply.started": "2022-10-10T09:53:47.738248Z"
    }
   },
   "outputs": [
    {
     "data": {
      "text/plain": [
       "'T  : |0|1|   2    |3| 4 |   5    | 6 |    7    |   8    |9|10 |   11   |12 |   13    |   14   |15|   16    |   17   |   18   |   19    |20 |   21   |22 |   23    |   24   |25|26 |   27   |28 |   29    |   30   |31|   32    |   33   |34|   35    |Result Types|\\n                                                                                                                                                                                                                                                                   \\nq0 : -H-C----------C-C------------C---Rx(-4.27)-------------------------------------------------------------C-----------------C---------C------------C---Rx(-6.41)------------------------------------------------------------------------------------Probability--\\n        |          | |            |                                                                         |                 |         |            |                                                                                                |            \\nq1 : -H-|----------|-|-C----------|-C-C------------------C-C------------C---Rx(-4.27)-----------------------|-----------------|---------|-C----------|-C-C------------------C--C------------C---Rx(-6.41)---------------------------------------------Probability--\\n        |          | | |          | | |                  | |            |                                   |                 |         | |          | | |                  |  |            |                                                         |            \\nq2 : -H-X-Rz(0.92)-X-|-X-Rz(0.92)-|-X-|------------------|-|-C----------|-C-C------------------C--Rx(-4.27)-X--------Rz(0.96)-X---------|-X-Rz(0.96)-|-X-|------------------|--|-C----------|-C-C------------------C--Rx(-6.41)-----------------------Probability--\\n                     |            |   |                  | | |          | | |                  |                                        |            |   |                  |  | |          | | |                  |                                  |            \\nq3 : -H--------------|------------|---X---------Rz(0.92)-X-|-X-Rz(0.92)-|-X-|------------------|--C------------------C--------Rx(-4.27)-|------------|---X---------Rz(0.96)-X--|-X-Rz(0.96)-|-X-|------------------|--C------------------C--Rx(-6.41)-Probability--\\n                     |            |                        |            |   |                  |  |                  |                  |            |                         |            |   |                  |  |                  |            |            \\nq4 : -H--------------X---Rz(0.92)-X---Rx(-4.27)------------|------------|---|------------------|--|------------------|------------------X---Rz(0.96)-X---Rx(-6.41)-------------|------------|---|------------------|--|------------------|------------Probability--\\n                                                           |            |   |                  |  |                  |                                                         |            |   |                  |  |                  |            |            \\nq5 : -H----------------------------------------------------X---Rz(0.92)-X---X---------Rz(0.92)-X--X---------Rz(0.92)-X--------Rx(-4.27)----------------------------------------X---Rz(0.96)-X---X---------Rz(0.96)-X--X---------Rz(0.96)-X--Rx(-6.41)-Probability--\\n\\nT  : |0|1|   2    |3| 4 |   5    | 6 |    7    |   8    |9|10 |   11   |12 |   13    |   14   |15|   16    |   17   |   18   |   19    |20 |   21   |22 |   23    |   24   |25|26 |   27   |28 |   29    |   30   |31|   32    |   33   |34|   35    |Result Types|'"
      ]
     },
     "execution_count": 19,
     "metadata": {},
     "output_type": "execute_result"
    }
   ],
   "source": [
    "#create the optimized QAOA circuit for qiskit backend\n",
    "optimized_angles = opt_results.optimized['optimized angles']\n",
    "variational_params.update_from_raw(optimized_angles)\n",
    "optimized_circuit = q.backend.qaoa_circuit(variational_params)\n",
    "\n",
    "#print the optimized QAOA circuit for qiskit backend\n",
    "optimized_circuit.diagram()"
   ]
  },
  {
   "cell_type": "code",
   "execution_count": null,
   "metadata": {},
   "outputs": [],
   "source": []
  }
 ],
 "metadata": {
  "kernelspec": {
   "display_name": "oq_kernel",
   "language": "python",
   "name": "oq"
  },
  "language_info": {
   "codemirror_mode": {
    "name": "ipython",
    "version": 3
   },
   "file_extension": ".py",
   "mimetype": "text/x-python",
   "name": "python",
   "nbconvert_exporter": "python",
   "pygments_lexer": "ipython3",
   "version": "3.8.0"
  },
  "vscode": {
   "interpreter": {
    "hash": "94ba8e6cdac9dde82f659e119264b9029c842e44dd4dc6168fe45af36f6b571d"
   }
  }
 },
 "nbformat": 4,
 "nbformat_minor": 4
}
