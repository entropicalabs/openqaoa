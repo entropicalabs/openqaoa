{
 "cells": [
  {
   "cell_type": "markdown",
   "metadata": {},
   "source": [
    "# Compare Qiskit Simulators with different simulation methods\n",
    "\n",
    "This notebook is a tutorial on how to use different simulator backends to solve the same problem and compare their simulation results. This tutorial compares the performance of a perfect noise-free statvector simulator, a noise-free shot-based simulator, and finally a noisy simulator emulating a real QPU. This notebook uses qiskit simulators for each of the three categories. We employ:\n",
    "- `qiskit.statevector_simulator`\n",
    "- noise-free `qiskit.qasm_simulator`\n",
    "- noisy `qiskit.qasm_simulator` with a real device noise profile"
   ]
  },
  {
   "cell_type": "markdown",
   "metadata": {},
   "source": [
    "## Begin by importing necessary modules"
   ]
  },
  {
   "cell_type": "code",
   "execution_count": 1,
   "metadata": {},
   "outputs": [],
   "source": [
    "#some regular python libraries\n",
    "import networkx as nx\n",
    "import numpy as np\n",
    "from pprint import pprint\n",
    "import matplotlib.pyplot as plt\n",
    "\n",
    "#import problem classes from OQ for easy problem creation\n",
    "from openqaoa.problems.problem import MaximumCut, NumberPartition\n",
    "\n",
    "#import the QAOA workflow model\n",
    "from openqaoa.workflows.optimizer import QAOA\n",
    "\n",
    "#import method to specify the device\n",
    "from openqaoa.devices import create_device"
   ]
  },
  {
   "cell_type": "markdown",
   "metadata": {},
   "source": [
    "## Create a problem instance\n",
    "We begin by creating a problem instance for a simple MaximumCut problem for a random graph created using the python `networkx` module. "
   ]
  },
  {
   "cell_type": "code",
   "execution_count": 2,
   "metadata": {},
   "outputs": [
    {
     "data": {
      "image/png": "[encoded data removed]",
      "text/plain": [
       "<Figure size 720x432 with 1 Axes>"
      ]
     },
     "metadata": {},
     "output_type": "display_data"
    }
   ],
   "source": [
    "nodes = 5\n",
    "edge_probability = 0.5\n",
    "g = nx.generators.fast_gnp_random_graph(n=nodes,p=edge_probability)\n",
    "\n",
    "# import graph plotter from openqaoa\n",
    "from openqaoa.utilities import plot_graph\n",
    "plot_graph(g)"
   ]
  },
  {
   "cell_type": "code",
   "execution_count": 3,
   "metadata": {},
   "outputs": [],
   "source": [
    "# Use the MaximumCut class to instantiate the problem.\n",
    "maxcut_prob = MaximumCut(g)\n",
    "\n",
    "# The method `get_qubo_problem()` translates the problem into a binary Qubo problem. \n",
    "# The binary values can be access via the `asdict()` method.\n",
    "maxcut_qubo = maxcut_prob.get_qubo_problem()"
   ]
  },
  {
   "cell_type": "markdown",
   "metadata": {},
   "source": [
    "#### Extract the exact solution for a small enough problem\n",
    "\n"
   ]
  },
  {
   "cell_type": "code",
   "execution_count": 4,
   "metadata": {},
   "outputs": [
    {
     "name": "stdout",
     "output_type": "stream",
     "text": [
      "Qubits in the specified Hamiltonian are remapped to [0, 1, 2, 3].Please specify the physical quantum register as a qubit layout argument in the backend\n",
      "Ground State energy: -4.0, Solution: ['1100', '0011']\n"
     ]
    }
   ],
   "source": [
    "hamiltonian = maxcut_qubo.hamiltonian\n",
    "\n",
    "# import the brute-force solver to obtain exact solution\n",
    "from openqaoa.utilities import ground_state_hamiltonian\n",
    "energy, configuration = ground_state_hamiltonian(hamiltonian)\n",
    "print(f\"Ground State energy: {energy}, Solution: {configuration}\")"
   ]
  },
  {
   "cell_type": "markdown",
   "metadata": {},
   "source": [
    "## QAOA models with different devices\n",
    "\n",
    "Here we create, three different QAOA models with each of the three devices mentioned above"
   ]
  },
  {
   "cell_type": "code",
   "execution_count": 5,
   "metadata": {},
   "outputs": [
    {
     "name": "stdout",
     "output_type": "stream",
     "text": [
      "Qubits in the specified Hamiltonian are remapped to [0, 1, 2, 3].Please specify the physical quantum register as a qubit layout argument in the backend\n"
     ]
    },
    {
     "ename": "ValueError",
     "evalue": "The backend returned an error: 'Index 4 out of range for size 4.'",
     "output_type": "error",
     "traceback": [
      "\u001b[0;31m---------------------------------------------------------------------------\u001b[0m",
      "\u001b[0;31mIndexError\u001b[0m                                Traceback (most recent call last)",
      "File \u001b[0;32m~/.conda/envs/openqaoa_may22/lib/python3.8/site-packages/qiskit/circuit/quantumcircuit.py:4814\u001b[0m, in \u001b[0;36m_bit_argument_conversion\u001b[0;34m(specifier, bit_sequence, bit_set, type_)\u001b[0m\n\u001b[1;32m   4813\u001b[0m \u001b[38;5;28;01mtry\u001b[39;00m:\n\u001b[0;32m-> 4814\u001b[0m     \u001b[38;5;28;01mreturn\u001b[39;00m [\u001b[43mbit_sequence\u001b[49m\u001b[43m[\u001b[49m\u001b[43mspecifier\u001b[49m\u001b[43m]\u001b[49m]\n\u001b[1;32m   4815\u001b[0m \u001b[38;5;28;01mexcept\u001b[39;00m \u001b[38;5;167;01mIndexError\u001b[39;00m \u001b[38;5;28;01mas\u001b[39;00m ex:\n",
      "\u001b[0;31mIndexError\u001b[0m: list index out of range",
      "\nThe above exception was the direct cause of the following exception:\n",
      "\u001b[0;31mCircuitError\u001b[0m                              Traceback (most recent call last)",
      "File \u001b[0;32m~/openqaoa_github/openqaoa/openqaoa/backends/qaoa_backend.py:139\u001b[0m, in \u001b[0;36mget_qaoa_backend\u001b[0;34m(circuit_params, device, prepend_state, append_state, init_hadamard, cvar_alpha, **kwargs)\u001b[0m\n\u001b[1;32m    138\u001b[0m \u001b[38;5;28;01mif\u001b[39;00m \u001b[38;5;28misinstance\u001b[39m(device, DeviceLocal):\n\u001b[0;32m--> 139\u001b[0m     backend_obj \u001b[38;5;241m=\u001b[39m \u001b[43mbackend_class\u001b[49m\u001b[43m(\u001b[49m\u001b[43mcircuit_params\u001b[49m\u001b[38;5;241;43m=\u001b[39;49m\u001b[43mcircuit_params\u001b[49m\u001b[43m,\u001b[49m\u001b[43m \u001b[49m\u001b[43mprepend_state\u001b[49m\u001b[38;5;241;43m=\u001b[39;49m\u001b[43mprepend_state\u001b[49m\u001b[43m,\u001b[49m\n\u001b[1;32m    140\u001b[0m \u001b[43m                                \u001b[49m\u001b[43mappend_state\u001b[49m\u001b[38;5;241;43m=\u001b[39;49m\u001b[43mappend_state\u001b[49m\u001b[43m,\u001b[49m\u001b[43m \u001b[49m\u001b[43minit_hadamard\u001b[49m\u001b[38;5;241;43m=\u001b[39;49m\u001b[43minit_hadamard\u001b[49m\u001b[43m,\u001b[49m\n\u001b[1;32m    141\u001b[0m \u001b[43m                                \u001b[49m\u001b[43mcvar_alpha\u001b[49m\u001b[38;5;241;43m=\u001b[39;49m\u001b[43mcvar_alpha\u001b[49m\u001b[43m,\u001b[49m\u001b[43m \u001b[49m\u001b[38;5;241;43m*\u001b[39;49m\u001b[38;5;241;43m*\u001b[39;49m\u001b[43mbackend_kwargs\u001b[49m\u001b[43m)\u001b[49m\n\u001b[1;32m    143\u001b[0m \u001b[38;5;28;01melse\u001b[39;00m:\n",
      "File \u001b[0;32m~/openqaoa_github/openqaoa/openqaoa/backends/simulators/qaoa_qiskit_sim.py:240\u001b[0m, in \u001b[0;36mQAOAQiskitBackendStatevecSimulator.__init__\u001b[0;34m(self, circuit_params, prepend_state, append_state, init_hadamard, cvar_alpha)\u001b[0m\n\u001b[1;32m    239\u001b[0m \u001b[38;5;66;03m# For parametric circuits\u001b[39;00m\n\u001b[0;32m--> 240\u001b[0m \u001b[38;5;28mself\u001b[39m\u001b[38;5;241m.\u001b[39mparametric_circuit \u001b[38;5;241m=\u001b[39m \u001b[38;5;28;43mself\u001b[39;49m\u001b[38;5;241;43m.\u001b[39;49m\u001b[43mparametric_qaoa_circuit\u001b[49m\n\u001b[1;32m    241\u001b[0m \u001b[38;5;28mself\u001b[39m\u001b[38;5;241m.\u001b[39mqiskit_cost_hamil \u001b[38;5;241m=\u001b[39m \u001b[38;5;28mself\u001b[39m\u001b[38;5;241m.\u001b[39mqiskit_cost_hamiltonian\n",
      "File \u001b[0;32m~/openqaoa_github/openqaoa/openqaoa/backends/simulators/qaoa_qiskit_sim.py:319\u001b[0m, in \u001b[0;36mQAOAQiskitBackendStatevecSimulator.parametric_qaoa_circuit\u001b[0;34m(self)\u001b[0m\n\u001b[1;32m    318\u001b[0m         low_gate \u001b[38;5;241m=\u001b[39m each_tuple[\u001b[38;5;241m0\u001b[39m]()\n\u001b[0;32m--> 319\u001b[0m         parametric_circuit \u001b[38;5;241m=\u001b[39m \u001b[43mlow_gate\u001b[49m\u001b[38;5;241;43m.\u001b[39;49m\u001b[43mapply_ibm_gate\u001b[49m\u001b[43m(\u001b[49m\u001b[38;5;241;43m*\u001b[39;49m\u001b[43meach_tuple\u001b[49m\u001b[43m[\u001b[49m\u001b[38;5;241;43m1\u001b[39;49m\u001b[43m]\u001b[49m\u001b[43m,\u001b[49m\u001b[43mparametric_circuit\u001b[49m\u001b[43m)\u001b[49m\n\u001b[1;32m    321\u001b[0m \u001b[38;5;28;01mif\u001b[39;00m \u001b[38;5;28mself\u001b[39m\u001b[38;5;241m.\u001b[39mappend_state:\n",
      "File \u001b[0;32m~/openqaoa_github/openqaoa/openqaoa/qaoa_parameters/lowlevelgate.py:60\u001b[0m, in \u001b[0;36mOneQubitGate.apply_ibm_gate\u001b[0;34m(self, qubit_idx, rotation_angle_obj, circuit)\u001b[0m\n\u001b[1;32m     59\u001b[0m \u001b[38;5;28;01mif\u001b[39;00m \u001b[38;5;28mself\u001b[39m\u001b[38;5;241m.\u001b[39mibm_gate \u001b[38;5;129;01mis\u001b[39;00m \u001b[38;5;129;01mnot\u001b[39;00m \u001b[38;5;28;01mNone\u001b[39;00m:\n\u001b[0;32m---> 60\u001b[0m     \u001b[43mcircuit\u001b[49m\u001b[38;5;241;43m.\u001b[39;49m\u001b[43mappend\u001b[49m\u001b[43m(\u001b[49m\u001b[38;5;28;43mself\u001b[39;49m\u001b[38;5;241;43m.\u001b[39;49m\u001b[43mibm_gate\u001b[49m\u001b[43m(\u001b[49m\u001b[43mrotation_angle_obj\u001b[49m\u001b[38;5;241;43m.\u001b[39;49m\u001b[43mrotation_angle\u001b[49m\u001b[43m)\u001b[49m\u001b[43m,\u001b[49m\u001b[43m \u001b[49m\u001b[43m[\u001b[49m\u001b[43mqubit_idx\u001b[49m\u001b[43m]\u001b[49m\u001b[43m,\u001b[49m\u001b[43m \u001b[49m\u001b[43m[\u001b[49m\u001b[43m]\u001b[49m\u001b[43m)\u001b[49m\n\u001b[1;32m     61\u001b[0m \u001b[38;5;28;01melse\u001b[39;00m:\n",
      "File \u001b[0;32m~/.conda/envs/openqaoa_may22/lib/python3.8/site-packages/qiskit/circuit/quantumcircuit.py:1204\u001b[0m, in \u001b[0;36mQuantumCircuit.append\u001b[0;34m(self, instruction, qargs, cargs)\u001b[0m\n\u001b[1;32m   1202\u001b[0m         instruction \u001b[38;5;241m=\u001b[39m copy\u001b[38;5;241m.\u001b[39mdeepcopy(instruction)\n\u001b[0;32m-> 1204\u001b[0m expanded_qargs \u001b[38;5;241m=\u001b[39m [\u001b[38;5;28mself\u001b[39m\u001b[38;5;241m.\u001b[39mqbit_argument_conversion(qarg) \u001b[38;5;28;01mfor\u001b[39;00m qarg \u001b[38;5;129;01min\u001b[39;00m qargs \u001b[38;5;129;01mor\u001b[39;00m []]\n\u001b[1;32m   1205\u001b[0m expanded_cargs \u001b[38;5;241m=\u001b[39m [\u001b[38;5;28mself\u001b[39m\u001b[38;5;241m.\u001b[39mcbit_argument_conversion(carg) \u001b[38;5;28;01mfor\u001b[39;00m carg \u001b[38;5;129;01min\u001b[39;00m cargs \u001b[38;5;129;01mor\u001b[39;00m []]\n",
      "File \u001b[0;32m~/.conda/envs/openqaoa_may22/lib/python3.8/site-packages/qiskit/circuit/quantumcircuit.py:1204\u001b[0m, in \u001b[0;36m<listcomp>\u001b[0;34m(.0)\u001b[0m\n\u001b[1;32m   1202\u001b[0m         instruction \u001b[38;5;241m=\u001b[39m copy\u001b[38;5;241m.\u001b[39mdeepcopy(instruction)\n\u001b[0;32m-> 1204\u001b[0m expanded_qargs \u001b[38;5;241m=\u001b[39m [\u001b[38;5;28;43mself\u001b[39;49m\u001b[38;5;241;43m.\u001b[39;49m\u001b[43mqbit_argument_conversion\u001b[49m\u001b[43m(\u001b[49m\u001b[43mqarg\u001b[49m\u001b[43m)\u001b[49m \u001b[38;5;28;01mfor\u001b[39;00m qarg \u001b[38;5;129;01min\u001b[39;00m qargs \u001b[38;5;129;01mor\u001b[39;00m []]\n\u001b[1;32m   1205\u001b[0m expanded_cargs \u001b[38;5;241m=\u001b[39m [\u001b[38;5;28mself\u001b[39m\u001b[38;5;241m.\u001b[39mcbit_argument_conversion(carg) \u001b[38;5;28;01mfor\u001b[39;00m carg \u001b[38;5;129;01min\u001b[39;00m cargs \u001b[38;5;129;01mor\u001b[39;00m []]\n",
      "File \u001b[0;32m~/.conda/envs/openqaoa_may22/lib/python3.8/site-packages/qiskit/circuit/quantumcircuit.py:1102\u001b[0m, in \u001b[0;36mQuantumCircuit.qbit_argument_conversion\u001b[0;34m(self, qubit_representation)\u001b[0m\n\u001b[1;32m   1092\u001b[0m \u001b[38;5;124;03m\"\"\"\u001b[39;00m\n\u001b[1;32m   1093\u001b[0m \u001b[38;5;124;03mConverts several qubit representations (such as indexes, range, etc.)\u001b[39;00m\n\u001b[1;32m   1094\u001b[0m \u001b[38;5;124;03minto a list of qubits.\u001b[39;00m\n\u001b[0;32m   (...)\u001b[0m\n\u001b[1;32m   1100\u001b[0m \u001b[38;5;124;03m    List(Qubit): the resolved instances of the qubits.\u001b[39;00m\n\u001b[1;32m   1101\u001b[0m \u001b[38;5;124;03m\"\"\"\u001b[39;00m\n\u001b[0;32m-> 1102\u001b[0m \u001b[38;5;28;01mreturn\u001b[39;00m \u001b[43m_bit_argument_conversion\u001b[49m\u001b[43m(\u001b[49m\n\u001b[1;32m   1103\u001b[0m \u001b[43m    \u001b[49m\u001b[43mqubit_representation\u001b[49m\u001b[43m,\u001b[49m\u001b[43m \u001b[49m\u001b[38;5;28;43mself\u001b[39;49m\u001b[38;5;241;43m.\u001b[39;49m\u001b[43mqubits\u001b[49m\u001b[43m,\u001b[49m\u001b[43m \u001b[49m\u001b[38;5;28;43mself\u001b[39;49m\u001b[38;5;241;43m.\u001b[39;49m\u001b[43m_qubit_indices\u001b[49m\u001b[43m,\u001b[49m\u001b[43m \u001b[49m\u001b[43mQubit\u001b[49m\n\u001b[1;32m   1104\u001b[0m \u001b[43m\u001b[49m\u001b[43m)\u001b[49m\n",
      "File \u001b[0;32m~/.conda/envs/openqaoa_may22/lib/python3.8/site-packages/qiskit/circuit/quantumcircuit.py:4816\u001b[0m, in \u001b[0;36m_bit_argument_conversion\u001b[0;34m(specifier, bit_sequence, bit_set, type_)\u001b[0m\n\u001b[1;32m   4815\u001b[0m     \u001b[38;5;28;01mexcept\u001b[39;00m \u001b[38;5;167;01mIndexError\u001b[39;00m \u001b[38;5;28;01mas\u001b[39;00m ex:\n\u001b[0;32m-> 4816\u001b[0m         \u001b[38;5;28;01mraise\u001b[39;00m CircuitError(\n\u001b[1;32m   4817\u001b[0m             \u001b[38;5;124mf\u001b[39m\u001b[38;5;124m\"\u001b[39m\u001b[38;5;124mIndex \u001b[39m\u001b[38;5;132;01m{\u001b[39;00mspecifier\u001b[38;5;132;01m}\u001b[39;00m\u001b[38;5;124m out of range for size \u001b[39m\u001b[38;5;132;01m{\u001b[39;00m\u001b[38;5;28mlen\u001b[39m(bit_sequence)\u001b[38;5;132;01m}\u001b[39;00m\u001b[38;5;124m.\u001b[39m\u001b[38;5;124m\"\u001b[39m\n\u001b[1;32m   4818\u001b[0m         ) \u001b[38;5;28;01mfrom\u001b[39;00m \u001b[38;5;21;01mex\u001b[39;00m\n\u001b[1;32m   4819\u001b[0m \u001b[38;5;66;03m# Slices can't raise IndexError - they just return an empty list.\u001b[39;00m\n",
      "\u001b[0;31mCircuitError\u001b[0m: 'Index 4 out of range for size 4.'",
      "\nDuring handling of the above exception, another exception occurred:\n",
      "\u001b[0;31mValueError\u001b[0m                                Traceback (most recent call last)",
      "Input \u001b[0;32mIn [5]\u001b[0m, in \u001b[0;36m<cell line: 15>\u001b[0;34m()\u001b[0m\n\u001b[1;32m     11\u001b[0m \u001b[38;5;66;03m# classical optimizer properties\u001b[39;00m\n\u001b[1;32m     12\u001b[0m q_sv\u001b[38;5;241m.\u001b[39mset_classical_optimizer(method\u001b[38;5;241m=\u001b[39m\u001b[38;5;124m'\u001b[39m\u001b[38;5;124mCOBYLA\u001b[39m\u001b[38;5;124m'\u001b[39m, maxiter\u001b[38;5;241m=\u001b[39m\u001b[38;5;241m200\u001b[39m,\n\u001b[1;32m     13\u001b[0m                              cost_progress\u001b[38;5;241m=\u001b[39m\u001b[38;5;28;01mTrue\u001b[39;00m, parameter_log\u001b[38;5;241m=\u001b[39m\u001b[38;5;28;01mTrue\u001b[39;00m)\n\u001b[0;32m---> 15\u001b[0m \u001b[43mq_sv\u001b[49m\u001b[38;5;241;43m.\u001b[39;49m\u001b[43mcompile\u001b[49m\u001b[43m(\u001b[49m\u001b[43mmaxcut_qubo\u001b[49m\u001b[43m)\u001b[49m\n",
      "File \u001b[0;32m~/openqaoa_github/openqaoa/openqaoa/workflows/optimizer.py:308\u001b[0m, in \u001b[0;36mQAOA.compile\u001b[0;34m(self, problem, verbose)\u001b[0m\n\u001b[1;32m    298\u001b[0m \u001b[38;5;28mself\u001b[39m\u001b[38;5;241m.\u001b[39mcircuit_params \u001b[38;5;241m=\u001b[39m QAOACircuitParams(\n\u001b[1;32m    299\u001b[0m     \u001b[38;5;28mself\u001b[39m\u001b[38;5;241m.\u001b[39mcost_hamil, \u001b[38;5;28mself\u001b[39m\u001b[38;5;241m.\u001b[39mmixer_hamil, p\u001b[38;5;241m=\u001b[39m\u001b[38;5;28mself\u001b[39m\u001b[38;5;241m.\u001b[39mcircuit_properties\u001b[38;5;241m.\u001b[39mp)\n\u001b[1;32m    300\u001b[0m \u001b[38;5;28mself\u001b[39m\u001b[38;5;241m.\u001b[39mvariate_params \u001b[38;5;241m=\u001b[39m create_qaoa_variational_params(qaoa_circuit_params\u001b[38;5;241m=\u001b[39m\u001b[38;5;28mself\u001b[39m\u001b[38;5;241m.\u001b[39mcircuit_params,\n\u001b[1;32m    301\u001b[0m                                                      params_type\u001b[38;5;241m=\u001b[39m\u001b[38;5;28mself\u001b[39m\u001b[38;5;241m.\u001b[39mcircuit_properties\u001b[38;5;241m.\u001b[39mparam_type,\n\u001b[1;32m    302\u001b[0m                                                      init_type\u001b[38;5;241m=\u001b[39m\u001b[38;5;28mself\u001b[39m\u001b[38;5;241m.\u001b[39mcircuit_properties\u001b[38;5;241m.\u001b[39minit_type, \n\u001b[0;32m   (...)\u001b[0m\n\u001b[1;32m    305\u001b[0m                                                      q\u001b[38;5;241m=\u001b[39m\u001b[38;5;28mself\u001b[39m\u001b[38;5;241m.\u001b[39mcircuit_properties\u001b[38;5;241m.\u001b[39mq, \n\u001b[1;32m    306\u001b[0m                                                      seed\u001b[38;5;241m=\u001b[39m\u001b[38;5;28mself\u001b[39m\u001b[38;5;241m.\u001b[39mcircuit_properties\u001b[38;5;241m.\u001b[39mseed)\n\u001b[0;32m--> 308\u001b[0m \u001b[38;5;28mself\u001b[39m\u001b[38;5;241m.\u001b[39mbackend \u001b[38;5;241m=\u001b[39m \u001b[43mget_qaoa_backend\u001b[49m\u001b[43m(\u001b[49m\u001b[43mcircuit_params\u001b[49m\u001b[38;5;241;43m=\u001b[39;49m\u001b[38;5;28;43mself\u001b[39;49m\u001b[38;5;241;43m.\u001b[39;49m\u001b[43mcircuit_params\u001b[49m\u001b[43m,\u001b[49m\n\u001b[1;32m    309\u001b[0m \u001b[43m                                \u001b[49m\u001b[43mdevice\u001b[49m\u001b[38;5;241;43m=\u001b[39;49m\u001b[38;5;28;43mself\u001b[39;49m\u001b[38;5;241;43m.\u001b[39;49m\u001b[43mdevice\u001b[49m\u001b[43m,\u001b[49m\n\u001b[1;32m    310\u001b[0m \u001b[43m                                \u001b[49m\u001b[38;5;241;43m*\u001b[39;49m\u001b[38;5;241;43m*\u001b[39;49m\u001b[38;5;28;43mself\u001b[39;49m\u001b[38;5;241;43m.\u001b[39;49m\u001b[43mbackend_properties\u001b[49m\u001b[38;5;241;43m.\u001b[39;49m\u001b[38;5;18;43m__dict__\u001b[39;49m\u001b[43m)\u001b[49m\n\u001b[1;32m    312\u001b[0m \u001b[38;5;28mself\u001b[39m\u001b[38;5;241m.\u001b[39moptimizer \u001b[38;5;241m=\u001b[39m get_optimizer(vqa_object\u001b[38;5;241m=\u001b[39m\u001b[38;5;28mself\u001b[39m\u001b[38;5;241m.\u001b[39mbackend,\n\u001b[1;32m    313\u001b[0m                                variational_params\u001b[38;5;241m=\u001b[39m\u001b[38;5;28mself\u001b[39m\u001b[38;5;241m.\u001b[39mvariate_params,\n\u001b[1;32m    314\u001b[0m                                optimizer_dict\u001b[38;5;241m=\u001b[39m\u001b[38;5;28mself\u001b[39m\u001b[38;5;241m.\u001b[39mclassical_optimizer\u001b[38;5;241m.\u001b[39masdict())\n\u001b[1;32m    316\u001b[0m \u001b[38;5;28mself\u001b[39m\u001b[38;5;241m.\u001b[39mcompiled \u001b[38;5;241m=\u001b[39m \u001b[38;5;28;01mTrue\u001b[39;00m\n",
      "File \u001b[0;32m~/openqaoa_github/openqaoa/openqaoa/backends/qaoa_backend.py:149\u001b[0m, in \u001b[0;36mget_qaoa_backend\u001b[0;34m(circuit_params, device, prepend_state, append_state, init_hadamard, cvar_alpha, **kwargs)\u001b[0m\n\u001b[1;32m    144\u001b[0m         backend_obj \u001b[38;5;241m=\u001b[39m backend_class(circuit_params\u001b[38;5;241m=\u001b[39mcircuit_params, device\u001b[38;5;241m=\u001b[39mdevice,\n\u001b[1;32m    145\u001b[0m                                     prepend_state\u001b[38;5;241m=\u001b[39mprepend_state, append_state\u001b[38;5;241m=\u001b[39mappend_state,\n\u001b[1;32m    146\u001b[0m                                     init_hadamard\u001b[38;5;241m=\u001b[39minit_hadamard, cvar_alpha\u001b[38;5;241m=\u001b[39mcvar_alpha,\n\u001b[1;32m    147\u001b[0m                                     \u001b[38;5;241m*\u001b[39m\u001b[38;5;241m*\u001b[39mbackend_kwargs)\n\u001b[1;32m    148\u001b[0m \u001b[38;5;28;01mexcept\u001b[39;00m \u001b[38;5;167;01mException\u001b[39;00m \u001b[38;5;28;01mas\u001b[39;00m e:\n\u001b[0;32m--> 149\u001b[0m     \u001b[38;5;28;01mraise\u001b[39;00m \u001b[38;5;167;01mValueError\u001b[39;00m(\u001b[38;5;124mf\u001b[39m\u001b[38;5;124m\"\u001b[39m\u001b[38;5;124mThe backend returned an error: \u001b[39m\u001b[38;5;132;01m{\u001b[39;00me\u001b[38;5;132;01m}\u001b[39;00m\u001b[38;5;124m\"\u001b[39m)\n\u001b[1;32m    151\u001b[0m \u001b[38;5;28;01mreturn\u001b[39;00m backend_obj\n",
      "\u001b[0;31mValueError\u001b[0m: The backend returned an error: 'Index 4 out of range for size 4.'"
     ]
    }
   ],
   "source": [
    "# initialize model with statevector_simulator\n",
    "q_sv = QAOA()\n",
    "\n",
    "# device\n",
    "qiskit_sv = create_device(location='local', name='qiskit.statevector_simulator')\n",
    "q_sv.set_device(qiskit_sv)\n",
    "\n",
    "# circuit properties\n",
    "q_sv.set_circuit_properties(p=2, param_type='standard', init_type='rand', mixer_hamiltonian='x')\n",
    "\n",
    "# classical optimizer properties\n",
    "q_sv.set_classical_optimizer(method='COBYLA', maxiter=200,\n",
    "                             cost_progress=True, parameter_log=True)\n",
    "\n",
    "q_sv.compile(maxcut_qubo)"
   ]
  },
  {
   "cell_type": "code",
   "execution_count": null,
   "metadata": {},
   "outputs": [],
   "source": [
    "# initialize model with shot-based simulator\n",
    "q_shot = QAOA()\n",
    "\n",
    "# device\n",
    "qiskit_shot = create_device(location='local', name='qiskit.qasm_simulator')\n",
    "q_shot.set_device(qiskit_shot)\n",
    "\n",
    "# circuit properties\n",
    "q_shot.set_circuit_properties(p=2, param_type='standard', init_type='rand', mixer_hamiltonian='x')\n",
    "\n",
    "# backend properties\n",
    "q_shot.set_backend_properties(n_shots = 200)\n",
    "\n",
    "# classical optimizer properties\n",
    "q_shot.set_classical_optimizer(method='COBYLA', maxiter=200,\n",
    "                               cost_progress=True, parameter_log=True)\n",
    "\n",
    "q_shot.compile(maxcut_qubo)"
   ]
  },
  {
   "cell_type": "markdown",
   "metadata": {},
   "source": [
    "#### Import a noise-model\n",
    "Finally, import a noise model from a qiskit QPU to be used for noisy simulation with qiskit simulator."
   ]
  },
  {
   "cell_type": "code",
   "execution_count": null,
   "metadata": {},
   "outputs": [],
   "source": [
    "from qiskit import Aer\n",
    "from qiskit.test.mock import FakeVigo\n",
    "from qiskit.providers.aer.noise import NoiseModel\n",
    "from qiskit.providers.aer import QasmSimulator\n",
    "device_backend = FakeVigo()\n",
    "device = QasmSimulator.from_backend(device_backend)\n",
    "noise_model = NoiseModel.from_backend(device)"
   ]
  },
  {
   "cell_type": "code",
   "execution_count": null,
   "metadata": {},
   "outputs": [],
   "source": [
    "# initialize model with noisy shot-based simulator\n",
    "q_noisy_shot = QAOA()\n",
    "\n",
    "# device\n",
    "\n",
    "qiskit_noisy_shot = create_device(location='local', name='qiskit.qasm_simulator')\n",
    "q_noisy_shot.set_device(qiskit_noisy_shot)\n",
    "\n",
    "# circuit properties\n",
    "q_noisy_shot.set_circuit_properties(p=2, param_type='standard', init_type='rand', mixer_hamiltonian='x')\n",
    "\n",
    "# backend properties\n",
    "q_noisy_shot.set_backend_properties(n_shots = 200, noise_model = noise_model)\n",
    "\n",
    "# classical optimizer properties\n",
    "q_noisy_shot.set_classical_optimizer(method='COBYLA', maxiter=200,\n",
    "                                     cost_progress=True, parameter_log=True)\n",
    "\n",
    "q_noisy_shot.compile(maxcut_qubo)"
   ]
  },
  {
   "cell_type": "markdown",
   "metadata": {},
   "source": [
    "## Optimization\n",
    "\n",
    "Once the models are compiled, we can begin the optimization process. We optimize the problem with all three backends and then plot the results for comparison."
   ]
  },
  {
   "cell_type": "code",
   "execution_count": null,
   "metadata": {},
   "outputs": [],
   "source": [
    "q_sv.optimize()"
   ]
  },
  {
   "cell_type": "code",
   "execution_count": null,
   "metadata": {},
   "outputs": [],
   "source": [
    "q_shot.optimize()"
   ]
  },
  {
   "cell_type": "code",
   "execution_count": null,
   "metadata": {},
   "outputs": [],
   "source": [
    "q_noisy_shot.optimize()"
   ]
  },
  {
   "cell_type": "markdown",
   "metadata": {},
   "source": [
    "## Results"
   ]
  },
  {
   "cell_type": "code",
   "execution_count": null,
   "metadata": {},
   "outputs": [],
   "source": [
    "results_sv = q_sv.results\n",
    "results_shot = q_shot.results\n",
    "results_noisy_shot = q_noisy_shot.results"
   ]
  },
  {
   "cell_type": "code",
   "execution_count": null,
   "metadata": {},
   "outputs": [],
   "source": [
    "fig, ax = plt.subplots(1,1,figsize=(12,8))\n",
    "\n",
    "results_sv.plot_cost(ax=ax,label='Statevector Simulator')\n",
    "results_shot.plot_cost(ax=ax,color='teal', label='Noise-free shot simulator with 500 shots')\n",
    "results_noisy_shot.plot_cost(ax=ax,color='green', label='Noisy shot simulator with 500 shots and noise model from ibmq_manila')"
   ]
  }
 ],
 "metadata": {
  "interpreter": {
   "hash": "ffc96233305d7122dc6732a5f9b7f44477470c7d091ce18c27b788d4d214d89a"
  },
  "kernelspec": {
   "display_name": "openqaoa_may22",
   "language": "python",
   "name": "openqaoa_may22"
  },
  "language_info": {
   "codemirror_mode": {
    "name": "ipython",
    "version": 3
   },
   "file_extension": ".py",
   "mimetype": "text/x-python",
   "name": "python",
   "nbconvert_exporter": "python",
   "pygments_lexer": "ipython3",
   "version": "3.8.13"
  }
 },
 "nbformat": 4,
 "nbformat_minor": 4
}
