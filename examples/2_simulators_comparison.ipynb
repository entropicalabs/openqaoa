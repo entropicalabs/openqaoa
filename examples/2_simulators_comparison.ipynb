{
 "cells": [
  {
   "cell_type": "markdown",
   "metadata": {},
   "source": [
    "# Compare Qiskit Simulators with different simulation methods\n",
    "\n",
    "This notebook is a tutorial on how to use different simulator backends to solve the same problem and compare their simulation results. This tutorial compares the performance of a perfect noise-free statvector simulator, a noise-free shot-based simulator, and finally a noisy simulator emulating a real QPU. This notebook uses qiskit simulators for each of the three categories. We employ:\n",
    "- `qiskit.statevector_simulator`\n",
    "- noise-free `qiskit.qasm_simulator`\n",
    "- noisy `qiskit.qasm_simulator` with a real device noise profile"
   ]
  },
  {
   "cell_type": "markdown",
   "metadata": {},
   "source": [
    "## Begin by importing necessary modules"
   ]
  },
  {
   "cell_type": "code",
   "execution_count": 1,
   "metadata": {},
   "outputs": [],
   "source": [
    "#some regular python libraries\n",
    "import networkx as nx\n",
    "import numpy as np\n",
    "from pprint import pprint\n",
    "import matplotlib.pyplot as plt\n",
    "\n",
    "#import problem classes from OQ for easy problem creation\n",
    "from openqaoa.problems.problem import MaximumCut, NumberPartition\n",
    "\n",
    "#import the QAOA workflow model\n",
    "from openqaoa.workflows.optimizer import QAOA\n",
    "\n",
    "#import method to specify the device\n",
    "from openqaoa.devices import create_device"
   ]
  },
  {
   "cell_type": "markdown",
   "metadata": {},
   "source": [
    "## Create a problem instance\n",
    "We begin by creating a problem instance for a simple MaximumCut problem for a random graph created using the python `networkx` module. "
   ]
  },
  {
   "cell_type": "code",
   "execution_count": 2,
   "metadata": {},
   "outputs": [
    {
     "data": {
      "image/png": "[encoded data removed]",
      "text/plain": [
       "<Figure size 720x432 with 1 Axes>"
      ]
     },
     "metadata": {},
     "output_type": "display_data"
    }
   ],
   "source": [
    "nodes = 5\n",
    "edge_probability = 0.5\n",
    "g = nx.generators.fast_gnp_random_graph(n=nodes,p=edge_probability)\n",
    "\n",
    "# import graph plotter from openqaoa\n",
    "from openqaoa.utilities import plot_graph\n",
    "plot_graph(g)"
   ]
  },
  {
   "cell_type": "code",
   "execution_count": 3,
   "metadata": {},
   "outputs": [],
   "source": [
    "# Use the MaximumCut class to instantiate the problem.\n",
    "maxcut_prob = MaximumCut(g)\n",
    "\n",
    "# The method `get_qubo_problem()` translates the problem into a binary Qubo problem. \n",
    "# The binary values can be access via the `asdict()` method.\n",
    "maxcut_qubo = maxcut_prob.get_qubo_problem()"
   ]
  },
  {
   "cell_type": "markdown",
   "metadata": {},
   "source": [
    "#### Extract the exact solution for a small enough problem\n",
    "\n"
   ]
  },
  {
   "cell_type": "code",
   "execution_count": 4,
   "metadata": {},
   "outputs": [
    {
     "name": "stdout",
     "output_type": "stream",
     "text": [
      "Qubits in the specified Hamiltonian are remapped to [0, 1, 2, 3].Please specify the physical quantum register as a qubit layout argument in the backend\n",
      "Ground State energy: -3.0, Solution: ['0110', '1001']\n"
     ]
    }
   ],
   "source": [
    "hamiltonian = maxcut_qubo.hamiltonian\n",
    "\n",
    "# import the brute-force solver to obtain exact solution\n",
    "from openqaoa.utilities import ground_state_hamiltonian\n",
    "energy, configuration = ground_state_hamiltonian(hamiltonian)\n",
    "print(f\"Ground State energy: {energy}, Solution: {configuration}\")"
   ]
  },
  {
   "cell_type": "markdown",
   "metadata": {},
   "source": [
    "## QAOA models with different devices\n",
    "\n",
    "Here we create, three different QAOA models with each of the three devices mentioned above"
   ]
  },
  {
   "cell_type": "code",
   "execution_count": 5,
   "metadata": {},
   "outputs": [
    {
     "name": "stdout",
     "output_type": "stream",
     "text": [
      "Qubits in the specified Hamiltonian are remapped to [0, 1, 2, 3].Please specify the physical quantum register as a qubit layout argument in the backend\n"
     ]
    }
   ],
   "source": [
    "# initialize model with statevector_simulator\n",
    "q_sv = QAOA()\n",
    "\n",
    "# device\n",
    "qiskit_sv = create_device(location='local', name='qiskit.statevector_simulator')\n",
    "q_sv.set_device(qiskit_sv)\n",
    "\n",
    "# circuit properties\n",
    "q_sv.set_circuit_properties(p=2, param_type='standard', init_type='rand', mixer_hamiltonian='x')\n",
    "\n",
    "# classical optimizer properties\n",
    "q_sv.set_classical_optimizer(method='COBYLA', maxiter=200,\n",
    "                             cost_progress=True, parameter_log=True)\n",
    "\n",
    "q_sv.compile(maxcut_qubo)"
   ]
  },
  {
   "cell_type": "code",
   "execution_count": null,
   "metadata": {},
   "outputs": [],
   "source": [
    "# initialize model with shot-based simulator\n",
    "q_shot = QAOA()\n",
    "\n",
    "# device\n",
    "qiskit_shot = create_device(location='local', name='qiskit.qasm_simulator')\n",
    "q_shot.set_device(qiskit_shot)\n",
    "\n",
    "# circuit properties\n",
    "q_shot.set_circuit_properties(p=2, param_type='standard', init_type='rand', mixer_hamiltonian='x')\n",
    "\n",
    "# backend properties\n",
    "q_shot.set_backend_properties(n_shots = 200)\n",
    "\n",
    "# classical optimizer properties\n",
    "q_shot.set_classical_optimizer(method='COBYLA', maxiter=200,\n",
    "                               cost_progress=True, parameter_log=True)\n",
    "\n",
    "q_shot.compile(maxcut_qubo)"
   ]
  },
  {
   "cell_type": "markdown",
   "metadata": {},
   "source": [
    "#### Import a noise-model\n",
    "Finally, import a noise model from a qiskit QPU to be used for noisy simulation with qiskit simulator."
   ]
  },
  {
   "cell_type": "code",
   "execution_count": null,
   "metadata": {},
   "outputs": [],
   "source": [
    "from qiskit import Aer\n",
    "from qiskit.test.mock import FakeVigo\n",
    "from qiskit.providers.aer.noise import NoiseModel\n",
    "from qiskit.providers.aer import QasmSimulator\n",
    "device_backend = FakeVigo()\n",
    "device = QasmSimulator.from_backend(device_backend)\n",
    "noise_model = NoiseModel.from_backend(device)"
   ]
  },
  {
   "cell_type": "code",
   "execution_count": null,
   "metadata": {},
   "outputs": [],
   "source": [
    "# initialize model with noisy shot-based simulator\n",
    "q_noisy_shot = QAOA()\n",
    "\n",
    "# device\n",
    "\n",
    "qiskit_noisy_shot = create_device(location='local', name='qiskit.qasm_simulator')\n",
    "q_noisy_shot.set_device(qiskit_noisy_shot)\n",
    "\n",
    "# circuit properties\n",
    "q_noisy_shot.set_circuit_properties(p=2, param_type='standard', init_type='rand', mixer_hamiltonian='x')\n",
    "\n",
    "# backend properties\n",
    "q_noisy_shot.set_backend_properties(n_shots = 200, noise_model = noise_model)\n",
    "\n",
    "# classical optimizer properties\n",
    "q_noisy_shot.set_classical_optimizer(method='COBYLA', maxiter=200,\n",
    "                                     cost_progress=True, parameter_log=True)\n",
    "\n",
    "q_noisy_shot.compile(maxcut_qubo)"
   ]
  },
  {
   "cell_type": "markdown",
   "metadata": {},
   "source": [
    "## Optimization\n",
    "\n",
    "Once the models are compiled, we can begin the optimization process. We optimize the problem with all three backends and then plot the results for comparison."
   ]
  },
  {
   "cell_type": "code",
   "execution_count": null,
   "metadata": {},
   "outputs": [],
   "source": [
    "q_sv.optimize()"
   ]
  },
  {
   "cell_type": "code",
   "execution_count": null,
   "metadata": {},
   "outputs": [],
   "source": [
    "q_shot.optimize()"
   ]
  },
  {
   "cell_type": "code",
   "execution_count": null,
   "metadata": {},
   "outputs": [],
   "source": [
    "q_noisy_shot.optimize()"
   ]
  },
  {
   "cell_type": "markdown",
   "metadata": {},
   "source": [
    "## Results"
   ]
  },
  {
   "cell_type": "code",
   "execution_count": null,
   "metadata": {},
   "outputs": [],
   "source": [
    "results_sv = q_sv.results\n",
    "results_shot = q_shot.results\n",
    "results_noisy_shot = q_noisy_shot.results"
   ]
  },
  {
   "cell_type": "code",
   "execution_count": null,
   "metadata": {},
   "outputs": [],
   "source": [
    "fig, ax = plt.subplots(1,1,figsize=(12,8))\n",
    "\n",
    "results_sv.plot_cost(ax=ax,label='Statevector Simulator')\n",
    "results_shot.plot_cost(ax=ax,color='teal', label='Noise-free shot simulator with 500 shots')\n",
    "results_noisy_shot.plot_cost(ax=ax,color='green', label='Noisy shot simulator with 500 shots and noise model from ibmq_manila')"
   ]
  }
 ],
 "metadata": {
  "interpreter": {
   "hash": "ffc96233305d7122dc6732a5f9b7f44477470c7d091ce18c27b788d4d214d89a"
  },
  "kernelspec": {
   "display_name": "OpenQAOA_kernel",
   "language": "python",
   "name": "openqaoa_env"
  },
  "language_info": {
   "codemirror_mode": {
    "name": "ipython",
    "version": 3
   },
   "file_extension": ".py",
   "mimetype": "text/x-python",
   "name": "python",
   "nbconvert_exporter": "python",
   "pygments_lexer": "ipython3",
   "version": "3.8.8"
  }
 },
 "nbformat": 4,
 "nbformat_minor": 4
}
