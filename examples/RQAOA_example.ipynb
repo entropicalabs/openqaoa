{
 "cells": [
  {
   "cell_type": "markdown",
   "metadata": {},
   "source": [
    "# RQAOA workflow "
   ]
  },
  {
   "cell_type": "markdown",
   "metadata": {},
   "source": [
    "We demonstrate the various modes RQAOA can be used to solve problems in OpenQAOA.\n",
    "\n",
    "Current version:\n",
    "\n",
    "  - Supports customizable elimination schedules - including vanilla (original) version.\n",
    "  - Supports adaptive elimination schedule.\n",
    "  - Only supports X mixer. Soon to add XY mixers for various topologies."
   ]
  },
  {
   "cell_type": "code",
   "execution_count": 1,
   "metadata": {},
   "outputs": [],
   "source": [
    "%load_ext autoreload\n",
    "%autoreload 2\n",
    "\n",
    "import numpy as np\n",
    "import networkx as nx\n",
    "import pickle\n",
    "\n",
    "import matplotlib.pyplot as plt\n",
    "%matplotlib inline\n",
    "plt.rcParams['axes.linewidth'] = 2\n",
    "\n",
    "from openqaoa.workflows.optimizer import RQAOA, QAOA\n",
    "from openqaoa.problems.problem import MinimumVertexCover, PUBO, Encoding\n",
    "from openqaoa.utilities import ground_state_hamiltonian\n",
    "from openqaoa.qaoa_parameters import Hamiltonian"
   ]
  },
  {
   "cell_type": "markdown",
   "metadata": {},
   "source": [
    "## Problem: Minimum Vertex Cover of an N = 10 ring"
   ]
  },
  {
   "cell_type": "code",
   "execution_count": 2,
   "metadata": {},
   "outputs": [],
   "source": [
    "# Number of qubits\n",
    "n_qubits = 10\n",
    "\n",
    "# Ring graph\n",
    "G = nx.circulant_graph(n_qubits,[1])\n",
    "\n",
    "# Minimum vertex cover parameters\n",
    "field = 1.0\n",
    "penalty = 10\n",
    "\n",
    "# Define problem instance\n",
    "vc = MinimumVertexCover(G,field = field,penalty = penalty).get_pubo_problem()"
   ]
  },
  {
   "cell_type": "markdown",
   "metadata": {},
   "source": [
    "## Set up the QAOA properties for the recursive process"
   ]
  },
  {
   "cell_type": "code",
   "execution_count": 26,
   "metadata": {},
   "outputs": [],
   "source": [
    "# Define the QAOA properties\n",
    "q = QAOA()\n",
    "q.set_circuit_properties(p=1, param_type='standard', init_type='ramp', mixer_hamiltonian='x')\n",
    "\n",
    "# q.set_device_properties(device_location='qcs', device_name='Aspen-11', cloud_credentials = qcs_credentials)\n",
    "# q.set_backend_properties(n_shots=100, cvar_alpha=1)\n",
    "# q.set_classical_optimizer(method='cobyla', maxiter=200)"
   ]
  },
  {
   "cell_type": "markdown",
   "metadata": {},
   "source": [
    "### Vanilla (original) version"
   ]
  },
  {
   "cell_type": "markdown",
   "metadata": {},
   "source": [
    "In the original formulation, a single spin is removed from the system at a time."
   ]
  },
  {
   "cell_type": "code",
   "execution_count": 27,
   "metadata": {},
   "outputs": [],
   "source": [
    "# Define RQAOA instance\n",
    "R = RQAOA(qaoa = q, rqaoa_type = 'custom')"
   ]
  },
  {
   "cell_type": "code",
   "execution_count": 28,
   "metadata": {},
   "outputs": [],
   "source": [
    "# Set parameters for RQAOA, in this case only the final cutoff value\n",
    "R.set_rqaoa_parameters(n_cutoff = 3)"
   ]
  },
  {
   "cell_type": "code",
   "execution_count": 29,
   "metadata": {},
   "outputs": [
    {
     "name": "stdout",
     "output_type": "stream",
     "text": [
      "\t \u001b[1m ### Summary ###\u001b[0m\n",
      "OpenQAOA has ben compiled with the following properties\n",
      "Solving QAOA with \u001b[1m vectorized \u001b[0m on  \u001b[1mlocal\u001b[0m\n",
      "Using p=1 with standard parameters initialsied as ramp\n",
      "OpenQAOA will optimize using \u001b[1mcobyla\u001b[0m, with up to \u001b[1m100\u001b[0m maximum iterations\n"
     ]
    }
   ],
   "source": [
    "# Compile problem instance on RQAOA\n",
    "R.compile(vc)"
   ]
  },
  {
   "cell_type": "code",
   "execution_count": 30,
   "metadata": {},
   "outputs": [],
   "source": [
    "# Solve problem with RQAOA\n",
    "R.optimize()"
   ]
  },
  {
   "cell_type": "code",
   "execution_count": 31,
   "metadata": {},
   "outputs": [
    {
     "data": {
      "text/plain": [
       "{'solution': {'1010101010': 5.0},\n",
       " 'classical output': {'cost min': -3.5, 'opt strings': [array([1, 0, 0])]},\n",
       " 'elimination rules': [{(0, 1): -1.0},\n",
       "  {(None, 1): -1.0},\n",
       "  {(None, 2): -1.0},\n",
       "  {(3, 4): -1.0},\n",
       "  {(None, 1): 1.0},\n",
       "  {(1, 2): -1.0},\n",
       "  {(None, 2): -1.0}],\n",
       " 'schedule': [1, 1, 1, 1, 1, 1, 1],\n",
       " 'total steps': 7}"
      ]
     },
     "execution_count": 31,
     "metadata": {},
     "output_type": "execute_result"
    }
   ],
   "source": [
    "# Extract results\n",
    "R.result"
   ]
  },
  {
   "cell_type": "markdown",
   "metadata": {},
   "source": [
    "### Custom method"
   ]
  },
  {
   "cell_type": "markdown",
   "metadata": {},
   "source": [
    "OpenQAOA also enables the possibility of manually selecting how do we want the elimination procedure to take place. This is done via the parameter $steps$. If $steps$ is an integer number, then at each step that number of eliminations will take place. If $steps$ is a list, then the procedure will follow the list to complete the eliminations."
   ]
  },
  {
   "cell_type": "code",
   "execution_count": 32,
   "metadata": {},
   "outputs": [],
   "source": [
    "# Define RQAOA instance\n",
    "R = RQAOA(rqaoa_type = 'custom')"
   ]
  },
  {
   "cell_type": "code",
   "execution_count": 38,
   "metadata": {},
   "outputs": [],
   "source": [
    "# Set parameters for RQAOA, in this case only the final cutoff value\n",
    "\n",
    "# Fixed step\n",
    "# R.set_rqaoa_parameters(steps=2,n_cutoff = 3)\n",
    "\n",
    "# Schedule\n",
    "schedule = [1,2,3,4,5]\n",
    "R.set_rqaoa_parameters(steps=schedule,n_cutoff = 3)"
   ]
  },
  {
   "cell_type": "code",
   "execution_count": 39,
   "metadata": {},
   "outputs": [
    {
     "name": "stdout",
     "output_type": "stream",
     "text": [
      "\t \u001b[1m ### Summary ###\u001b[0m\n",
      "OpenQAOA has ben compiled with the following properties\n",
      "Solving QAOA with \u001b[1m vectorized \u001b[0m on  \u001b[1mlocal\u001b[0m\n",
      "Using p=1 with standard parameters initialsied as ramp\n",
      "OpenQAOA will optimize using \u001b[1mcobyla\u001b[0m, with up to \u001b[1m100\u001b[0m maximum iterations\n"
     ]
    }
   ],
   "source": [
    "# Compile problem instance on RQAOA\n",
    "R.compile(vc)"
   ]
  },
  {
   "cell_type": "code",
   "execution_count": 40,
   "metadata": {},
   "outputs": [],
   "source": [
    "# Solve problem with RQAOA\n",
    "R.optimize()"
   ]
  },
  {
   "cell_type": "code",
   "execution_count": 41,
   "metadata": {},
   "outputs": [
    {
     "data": {
      "text/plain": [
       "{'solution': {'1011011110': 7.0, '0111011101': 7.0, '1011011101': 7.0},\n",
       " 'classical output': {'cost min': -5.0,\n",
       "  'opt strings': [array([1, 1, 0]), array([0, 0, 1]), array([1, 0, 1])]},\n",
       " 'elimination rules': [{(0, 1): -1.0},\n",
       "  {(None, 1): -1.0, (None, 2): -1.0},\n",
       "  {(None, 2): -1.0, (None, 3): -1.0, (None, 4): -1.0},\n",
       "  {(None, 1): 1.0}],\n",
       " 'schedule': [1, 2, 3, 1],\n",
       " 'total steps': 4}"
      ]
     },
     "execution_count": 41,
     "metadata": {},
     "output_type": "execute_result"
    }
   ],
   "source": [
    "# Extract results\n",
    "R.result"
   ]
  },
  {
   "cell_type": "markdown",
   "metadata": {},
   "source": [
    "### Adaptive method"
   ]
  },
  {
   "cell_type": "markdown",
   "metadata": {},
   "source": [
    "In our adaptive version, the top $n_{max}+1$ statistical quantities are selected, and the average between them is computed. All quantities lying above average are used for elimination, enabling an adaptive selection of the elimination step, with maximum value $n_{max}$. Note that $n_{max} = 1$, corresponds to vanilla RQAOA!"
   ]
  },
  {
   "cell_type": "code",
   "execution_count": 42,
   "metadata": {},
   "outputs": [],
   "source": [
    "# Define RQAOA instance\n",
    "R = RQAOA(rqaoa_type = 'adaptive')"
   ]
  },
  {
   "cell_type": "code",
   "execution_count": 43,
   "metadata": {},
   "outputs": [],
   "source": [
    "# Set parameters for adaptive RQAOA, the maximum number of eliminations allowed and final cutoff value\n",
    "R.set_rqaoa_parameters(n_cutoff = 3, n_max = 4)"
   ]
  },
  {
   "cell_type": "code",
   "execution_count": 44,
   "metadata": {},
   "outputs": [
    {
     "name": "stdout",
     "output_type": "stream",
     "text": [
      "\t \u001b[1m ### Summary ###\u001b[0m\n",
      "OpenQAOA has ben compiled with the following properties\n",
      "Solving QAOA with \u001b[1m vectorized \u001b[0m on  \u001b[1mlocal\u001b[0m\n",
      "Using p=1 with standard parameters initialsied as ramp\n",
      "OpenQAOA will optimize using \u001b[1mcobyla\u001b[0m, with up to \u001b[1m100\u001b[0m maximum iterations\n"
     ]
    }
   ],
   "source": [
    "# Compile problem instance on RQAOA\n",
    "R.compile(vc)"
   ]
  },
  {
   "cell_type": "code",
   "execution_count": 45,
   "metadata": {},
   "outputs": [],
   "source": [
    "# Solve problem with RQAOA\n",
    "R.optimize()"
   ]
  },
  {
   "cell_type": "code",
   "execution_count": 46,
   "metadata": {},
   "outputs": [
    {
     "data": {
      "text/plain": [
       "{'solution': {'1010101010': 5.0, '0101010101': 5.0},\n",
       " 'classical output': {'cost min': -7.5,\n",
       "  'opt strings': [array([1, 1, 0]), array([0, 0, 1])]},\n",
       " 'elimination rules': [{(0, 1): -1.0, (0, 2): 1.0, (0, 3): -1.0, (0, 9): -1.0},\n",
       "  {(0, 1): 1.0, (0, 2): -1.0, (0, 5): 1.0}],\n",
       " 'schedule': [4, 3],\n",
       " 'total steps': 2}"
      ]
     },
     "execution_count": 46,
     "metadata": {},
     "output_type": "execute_result"
    }
   ],
   "source": [
    "# Extract results\n",
    "R.result"
   ]
  },
  {
   "cell_type": "markdown",
   "metadata": {},
   "source": [
    "## Problem: Sherrignton-Kirkpatrick, with $J_{ij} = \\pm 1$ and $N = 10$, using RQAOA"
   ]
  },
  {
   "cell_type": "code",
   "execution_count": 47,
   "metadata": {},
   "outputs": [
    {
     "name": "stdout",
     "output_type": "stream",
     "text": [
      "No constant term found\n"
     ]
    }
   ],
   "source": [
    "# Number of qubits\n",
    "n_qubits = 10\n",
    "\n",
    "# Define fully connected terms\n",
    "terms = [(i,j) for j in range(n_qubits) for i in range(j)]\n",
    "\n",
    "# Define random weights\n",
    "seed = 42\n",
    "np.random.seed(seed)\n",
    "weights = [(-1)**np.round(np.random.random()) for _ in range(len(terms))]\n",
    "\n",
    "# Define PUBO problem\n",
    "sk = PUBO(n_qubits,terms,weights, encoding=Encoding.ISING_ENCODING)"
   ]
  },
  {
   "cell_type": "code",
   "execution_count": 48,
   "metadata": {},
   "outputs": [
    {
     "name": "stdout",
     "output_type": "stream",
     "text": [
      "The exact energy is -17.0 and the solutions are ['1101100000', '1110011010', '0001100101', '0010011111']\n"
     ]
    }
   ],
   "source": [
    "# Obtain exact solution for comparison\n",
    "\n",
    "hamiltonian = Hamiltonian.classical_hamiltonian(terms,weights,constant = 0)\n",
    "exact_energy, ground_state_strings = ground_state_hamiltonian(hamiltonian)\n",
    "print(f'The exact energy is {exact_energy} and the solutions are {ground_state_strings}')"
   ]
  },
  {
   "cell_type": "code",
   "execution_count": 51,
   "metadata": {},
   "outputs": [
    {
     "name": "stdout",
     "output_type": "stream",
     "text": [
      "\t \u001b[1m ### Summary ###\u001b[0m\n",
      "OpenQAOA has ben compiled with the following properties\n",
      "Solving QAOA with \u001b[1m vectorized \u001b[0m on  \u001b[1mlocal\u001b[0m\n",
      "Using p=1 with standard parameters initialsied as ramp\n",
      "OpenQAOA will optimize using \u001b[1mcobyla\u001b[0m, with up to \u001b[1m100\u001b[0m maximum iterations\n",
      "\n",
      "\n",
      "The solution found by Ada-RQAOA for nmax = 3 is energy = -17.0 and ground states = ['1101100000', '0010011111']\n",
      "The Approximation Ratio is 1.0\n"
     ]
    }
   ],
   "source": [
    "# Define RQAOA instance\n",
    "R = RQAOA(rqaoa_type = 'adaptive')\n",
    "\n",
    "# Set parameters for adaptive RQAOA, the maximum number of eliminations allowed and final cutoff value\n",
    "n_cutoff = 3\n",
    "n_max = 3\n",
    "R.set_rqaoa_parameters(n_cutoff = n_cutoff, n_max = n_max)\n",
    "\n",
    "# Compile problem instance on RQAOA\n",
    "R.compile(sk)\n",
    "\n",
    "# Solve problem with RQAOA\n",
    "R.optimize()\n",
    "\n",
    "# Extract results\n",
    "result = R.result\n",
    "solutions = result['solution']\n",
    "\n",
    "states = list(solutions.keys())\n",
    "energy = list(solutions.values())[0]\n",
    "\n",
    "print(f'\\n\\nThe solution found by Ada-RQAOA for nmax = {n_max} is energy = {energy} and ground states = {states}')\n",
    "print(f'The Approximation Ratio is {energy/exact_energy}')"
   ]
  },
  {
   "cell_type": "markdown",
   "metadata": {},
   "source": [
    "### Extensive simulation"
   ]
  },
  {
   "cell_type": "markdown",
   "metadata": {},
   "source": [
    "Performed simulations on 100 instances of $n_{q} = 12$ Sherrington-Kirkpatrick model with the adaptive method taking $n_{\\textrm{max}} = [1,2,3,6]$, $p = 1$, and a cutoff value of $n_{cutoff} = 3$. The parametrization was $\\textit{standard}$ and initialization $\\textit{ramp}$. Classical optimization was performed with COBYLA. The whole process took ~12 mins."
   ]
  },
  {
   "cell_type": "code",
   "execution_count": 52,
   "metadata": {},
   "outputs": [],
   "source": [
    "# # Load data\n",
    "# path = 'SK_AppRat_rqaoa_vs_qaoa_nq12_p1_ncut3_nsamples100_cobyla200.txt'\n",
    "# infile = open(path, \"rb\")\n",
    "# data = pickle.load(infile)\n",
    "\n",
    "# # Exctract variables\n",
    "# QAOA_rat_samples = data['QAOA_rat_samples']\n",
    "# RQAOA_rat_samples = data['RQAOA_rat_samples']"
   ]
  },
  {
   "cell_type": "code",
   "execution_count": 53,
   "metadata": {},
   "outputs": [
    {
     "data": {
      "image/png": "[encoded data removed]",
      "text/plain": [
       "<Figure size 720x720 with 1 Axes>"
      ]
     },
     "metadata": {
      "needs_background": "light"
     },
     "output_type": "display_data"
    }
   ],
   "source": [
    "# fig,ax = plt.subplots(1,1, figsize = (10,10))\n",
    "\n",
    "# Nmax = [1,2,3,6]\n",
    "\n",
    "# x = np.linspace(0,2,101)\n",
    "# ax.plot(x,x,color = 'black', linewidth = 2.0)\n",
    "# for idx,n_max in enumerate(Nmax):\n",
    "        \n",
    "#     ax.scatter(QAOA_rat_samples,RQAOA_rat_samples[idx], label = f'nmax = {n_max}')\n",
    "\n",
    "# ax.set_xlim([0.0, 1.01])\n",
    "# ax.set_ylim([0.0, 1.01])\n",
    "# ax.legend(loc = 'lower right')\n",
    "\n",
    "# ax.set_title(f'SK model - nq = 12 - p = 1', fontsize = 15)\n",
    "# ax.set_xlabel(f'QAOA App Ratio', fontsize = 15)\n",
    "# ax.set_ylabel(f'RQAOA App Ratio', fontsize = 15)\n",
    "\n",
    "# plt.xticks(fontsize=14)\n",
    "# plt.yticks(fontsize=14)\n",
    "# plt.show()"
   ]
  }
 ],
 "metadata": {
  "kernelspec": {
   "display_name": "openqaoa_may22",
   "language": "python",
   "name": "openqaoa_may22"
  },
  "language_info": {
   "codemirror_mode": {
    "name": "ipython",
    "version": 3
   },
   "file_extension": ".py",
   "mimetype": "text/x-python",
   "name": "python",
   "nbconvert_exporter": "python",
   "pygments_lexer": "ipython3",
   "version": "3.8.13"
  }
 },
 "nbformat": 4,
 "nbformat_minor": 4
}
