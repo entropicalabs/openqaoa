{
 "cells": [
  {
   "cell_type": "markdown",
   "id": "a0a46cf7",
   "metadata": {},
   "source": [
    "# From Docplex to QUBO representation \n",
    "\n",
    "The Decision Optimization CPLEX modeling for python ([DOCPLEX](https://pypi.org/project/docplex/)) is a library that allows smooth prototyping for optimization problems. Here, we present the converter ```FromDocplex2IsingModel``` that translates the DOCPLEX optimization models into its OpenQAOA [QUBO](https://en.wikipedia.org/wiki/Quadratic_unconstrained_binary_optimization#Connection_to_Ising_models) representation. In general, problems in the form of [quadratic programming](https://en.wikipedia.org/wiki/Quadratic_programming) can be encoded using QUBOs. The three ingredints of an optimization model are the objective function, the equality constraints, and the inequality constraints. \n",
    "\n",
    "In this example, we show the solution of:\n",
    "\n",
    "    1. A basic optimization model using minimize.\n",
    "\n",
    "    2. A basic optimization model using maximize.\n"
   ]
  },
  {
   "cell_type": "code",
   "execution_count": 1,
   "id": "17552bd0",
   "metadata": {},
   "outputs": [],
   "source": [
    "%matplotlib notebook\n",
    "\n",
    "# Import external libraries to present an manipulate the data\n",
    "import numpy as np\n",
    "import matplotlib.pyplot as plt\n",
    "import pandas as pd\n",
    "\n",
    "# Import docplex model to generate the problem to optimize\n",
    "from docplex.mp.model import Model\n",
    "\n",
    "# Import the libraries needed to employ the QAOA quantum algorithm using OpenQAOA\n",
    "from openqaoa.workflows.optimizer import QAOA\n",
    "\n",
    "# method to covnert a docplex model to a qubo problem\n",
    "from openqaoa.problems.converters import FromDocplex2IsingModel\n",
    "from openqaoa.devices import create_device\n",
    "\n",
    "# method to find the corrects states for the QAOA boject \n",
    "from openqaoa.utilities import ground_state_hamiltonian"
   ]
  },
  {
   "cell_type": "markdown",
   "id": "c3672d85",
   "metadata": {},
   "source": [
    "## 1) A basic optimization problem using minimize\n",
    "\n",
    "Representation of a quadratic programming problem includes the cost function, the equality constraints, and the inequality constraints. Imagine that you want to minimize the follwing objective function $f_1(x)$\n",
    "\n",
    "$$f_1(\\textbf{x}) = x_0 + 3 x_0 x_1 + x_0 x2 - 5 x_4 x_2 + 3 x_4 x_3 + 3 x_4 $$\n",
    "\n",
    "subject to the following equality constraint\n",
    "\n",
    "$$x_0 + 3 x_1 + 2 x_4 = 3,$$\n",
    "\n",
    "and the inequality constraint:\n",
    "\n",
    "$$x_2 + 3 x_3 + 2 x_4 \\ge 3.$$\n",
    "\n",
    "First, this problem is created from a model in `DOCPLEX`.  Using OpenQAOA such a DOCPLEX model can be converted into a QUBO and the QUBO can be solved using QAOA."
   ]
  },
  {
   "cell_type": "code",
   "execution_count": 2,
   "id": "dd50aa69",
   "metadata": {},
   "outputs": [],
   "source": [
    "#Specific the Model and put a name\n",
    "mdl = Model(\"Basic Problem using minimize\")"
   ]
  },
  {
   "cell_type": "markdown",
   "id": "bf218249",
   "metadata": {},
   "source": [
    "Adding the binary variables of the problem"
   ]
  },
  {
   "cell_type": "code",
   "execution_count": 3,
   "id": "ed3023be",
   "metadata": {},
   "outputs": [],
   "source": [
    "# Number of variables\n",
    "n_vars = 5 \n",
    "\n",
    "# Using binary variables for this model\n",
    "x = mdl.binary_var_list(n_vars, name=\"x\") "
   ]
  },
  {
   "cell_type": "markdown",
   "id": "cbac645d",
   "metadata": {},
   "source": [
    "- 1 Adding the objective function"
   ]
  },
  {
   "cell_type": "code",
   "execution_count": 4,
   "id": "49f75509",
   "metadata": {},
   "outputs": [],
   "source": [
    "# Design the objective function using the binary variables\n",
    "obj_func = x[0] + 3 * x[0] * x[1] + x[0] * x[2] - 5 * x[4] * x[2] + 3 * x[4] * x[3] + 3 * x[4]\n",
    "\n",
    "# The problem could be minimize or maximize the objective function\n",
    "mdl.minimize(obj_func)"
   ]
  },
  {
   "cell_type": "markdown",
   "id": "c13cf79e",
   "metadata": {},
   "source": [
    "- 2. Adding equality constraints "
   ]
  },
  {
   "cell_type": "code",
   "execution_count": 5,
   "id": "43566ec5",
   "metadata": {},
   "outputs": [
    {
     "data": {
      "text/plain": [
       "docplex.mp.LinearConstraint[](x_0+3x_1+2x_4,EQ,3)"
      ]
     },
     "execution_count": 5,
     "metadata": {},
     "output_type": "execute_result"
    }
   ],
   "source": [
    "# In Docplex is possible design equality constraints\n",
    "mdl.add_constraint(x[0] + 3 * x[1] + 2 * x[4] == 3)"
   ]
  },
  {
   "cell_type": "markdown",
   "id": "a64881d9",
   "metadata": {},
   "source": [
    "- 3. Adding inequality constraints"
   ]
  },
  {
   "cell_type": "code",
   "execution_count": 6,
   "id": "6c0ea2af",
   "metadata": {},
   "outputs": [
    {
     "name": "stdout",
     "output_type": "stream",
     "text": [
      "// This file has been generated by DOcplex\n",
      "// model name is: Basic Problem using minimize\n",
      "// var contrainer section\n",
      "dvar bool x[5];\n",
      "\n",
      "minimize\n",
      " x_0 + 3 x_4 [ 3 x_0*x_1 + x_0*x_2 - 5 x_2*x_4 + 3 x_3*x_4 ];\n",
      " \n",
      "subject to {\n",
      " x_0 + 3 x_1 + 2 x_4 == 3;\n",
      " x_2 + 3 x_3 + 2 x_4 >= 3;\n",
      "\n",
      "}\n",
      "None\n"
     ]
    }
   ],
   "source": [
    "# In Docplex is possible design inequality constraints\n",
    "mdl.add_constraint(x[2] + 3 * x[3] + 2 * x[4] >= 3)\n",
    "\n",
    "# print a summary of the docplex model \n",
    "print(mdl.prettyprint())"
   ]
  },
  {
   "cell_type": "markdown",
   "id": "3e987623",
   "metadata": {},
   "source": [
    "### 1.1 Solving the problem using OpenQAOA\n",
    "\n",
    "OpenQAOA has the class `FromDocplex2IsingModel`, to convert the DOCPLEX model into a QUBO representation that is the input from the QAOA object."
   ]
  },
  {
   "cell_type": "code",
   "execution_count": 7,
   "id": "208c13c4",
   "metadata": {},
   "outputs": [
    {
     "data": {
      "text/html": [
       "<div>\n",
       "<style scoped>\n",
       "    .dataframe tbody tr th:only-of-type {\n",
       "        vertical-align: middle;\n",
       "    }\n",
       "\n",
       "    .dataframe tbody tr th {\n",
       "        vertical-align: top;\n",
       "    }\n",
       "\n",
       "    .dataframe thead th {\n",
       "        text-align: right;\n",
       "    }\n",
       "</style>\n",
       "<table border=\"1\" class=\"dataframe\">\n",
       "  <thead>\n",
       "    <tr style=\"text-align: right;\">\n",
       "      <th></th>\n",
       "      <th>terms</th>\n",
       "      <th>weights</th>\n",
       "      <th>constant</th>\n",
       "      <th>n</th>\n",
       "    </tr>\n",
       "  </thead>\n",
       "  <tbody>\n",
       "    <tr>\n",
       "      <th>0</th>\n",
       "      <td>[0, 1]</td>\n",
       "      <td>26.25</td>\n",
       "      <td>181.0</td>\n",
       "      <td>7</td>\n",
       "    </tr>\n",
       "    <tr>\n",
       "      <th>1</th>\n",
       "      <td>[0, 2]</td>\n",
       "      <td>0.25</td>\n",
       "      <td>181.0</td>\n",
       "      <td>7</td>\n",
       "    </tr>\n",
       "    <tr>\n",
       "      <th>2</th>\n",
       "      <td>[2, 4]</td>\n",
       "      <td>15.75</td>\n",
       "      <td>181.0</td>\n",
       "      <td>7</td>\n",
       "    </tr>\n",
       "    <tr>\n",
       "      <th>3</th>\n",
       "      <td>[3, 4]</td>\n",
       "      <td>51.75</td>\n",
       "      <td>181.0</td>\n",
       "      <td>7</td>\n",
       "    </tr>\n",
       "    <tr>\n",
       "      <th>4</th>\n",
       "      <td>[0, 4]</td>\n",
       "      <td>17.00</td>\n",
       "      <td>181.0</td>\n",
       "      <td>7</td>\n",
       "    </tr>\n",
       "    <tr>\n",
       "      <th>5</th>\n",
       "      <td>[1, 4]</td>\n",
       "      <td>51.00</td>\n",
       "      <td>181.0</td>\n",
       "      <td>7</td>\n",
       "    </tr>\n",
       "    <tr>\n",
       "      <th>6</th>\n",
       "      <td>[2, 3]</td>\n",
       "      <td>25.50</td>\n",
       "      <td>181.0</td>\n",
       "      <td>7</td>\n",
       "    </tr>\n",
       "    <tr>\n",
       "      <th>7</th>\n",
       "      <td>[2, 5]</td>\n",
       "      <td>-8.50</td>\n",
       "      <td>181.0</td>\n",
       "      <td>7</td>\n",
       "    </tr>\n",
       "    <tr>\n",
       "      <th>8</th>\n",
       "      <td>[2, 6]</td>\n",
       "      <td>-17.00</td>\n",
       "      <td>181.0</td>\n",
       "      <td>7</td>\n",
       "    </tr>\n",
       "    <tr>\n",
       "      <th>9</th>\n",
       "      <td>[3, 5]</td>\n",
       "      <td>-25.50</td>\n",
       "      <td>181.0</td>\n",
       "      <td>7</td>\n",
       "    </tr>\n",
       "    <tr>\n",
       "      <th>10</th>\n",
       "      <td>[3, 6]</td>\n",
       "      <td>-51.00</td>\n",
       "      <td>181.0</td>\n",
       "      <td>7</td>\n",
       "    </tr>\n",
       "    <tr>\n",
       "      <th>11</th>\n",
       "      <td>[4, 5]</td>\n",
       "      <td>-17.00</td>\n",
       "      <td>181.0</td>\n",
       "      <td>7</td>\n",
       "    </tr>\n",
       "    <tr>\n",
       "      <th>12</th>\n",
       "      <td>[4, 6]</td>\n",
       "      <td>-34.00</td>\n",
       "      <td>181.0</td>\n",
       "      <td>7</td>\n",
       "    </tr>\n",
       "    <tr>\n",
       "      <th>13</th>\n",
       "      <td>[5, 6]</td>\n",
       "      <td>17.00</td>\n",
       "      <td>181.0</td>\n",
       "      <td>7</td>\n",
       "    </tr>\n",
       "    <tr>\n",
       "      <th>14</th>\n",
       "      <td>[0]</td>\n",
       "      <td>-1.50</td>\n",
       "      <td>181.0</td>\n",
       "      <td>7</td>\n",
       "    </tr>\n",
       "    <tr>\n",
       "      <th>15</th>\n",
       "      <td>[1]</td>\n",
       "      <td>-0.75</td>\n",
       "      <td>181.0</td>\n",
       "      <td>7</td>\n",
       "    </tr>\n",
       "    <tr>\n",
       "      <th>16</th>\n",
       "      <td>[2]</td>\n",
       "      <td>26.50</td>\n",
       "      <td>181.0</td>\n",
       "      <td>7</td>\n",
       "    </tr>\n",
       "    <tr>\n",
       "      <th>17</th>\n",
       "      <td>[3]</td>\n",
       "      <td>75.75</td>\n",
       "      <td>181.0</td>\n",
       "      <td>7</td>\n",
       "    </tr>\n",
       "    <tr>\n",
       "      <th>18</th>\n",
       "      <td>[4]</td>\n",
       "      <td>50.00</td>\n",
       "      <td>181.0</td>\n",
       "      <td>7</td>\n",
       "    </tr>\n",
       "    <tr>\n",
       "      <th>19</th>\n",
       "      <td>[5]</td>\n",
       "      <td>-25.50</td>\n",
       "      <td>181.0</td>\n",
       "      <td>7</td>\n",
       "    </tr>\n",
       "    <tr>\n",
       "      <th>20</th>\n",
       "      <td>[6]</td>\n",
       "      <td>-51.00</td>\n",
       "      <td>181.0</td>\n",
       "      <td>7</td>\n",
       "    </tr>\n",
       "  </tbody>\n",
       "</table>\n",
       "</div>"
      ],
      "text/plain": [
       "     terms  weights  constant  n\n",
       "0   [0, 1]    26.25     181.0  7\n",
       "1   [0, 2]     0.25     181.0  7\n",
       "2   [2, 4]    15.75     181.0  7\n",
       "3   [3, 4]    51.75     181.0  7\n",
       "4   [0, 4]    17.00     181.0  7\n",
       "5   [1, 4]    51.00     181.0  7\n",
       "6   [2, 3]    25.50     181.0  7\n",
       "7   [2, 5]    -8.50     181.0  7\n",
       "8   [2, 6]   -17.00     181.0  7\n",
       "9   [3, 5]   -25.50     181.0  7\n",
       "10  [3, 6]   -51.00     181.0  7\n",
       "11  [4, 5]   -17.00     181.0  7\n",
       "12  [4, 6]   -34.00     181.0  7\n",
       "13  [5, 6]    17.00     181.0  7\n",
       "14     [0]    -1.50     181.0  7\n",
       "15     [1]    -0.75     181.0  7\n",
       "16     [2]    26.50     181.0  7\n",
       "17     [3]    75.75     181.0  7\n",
       "18     [4]    50.00     181.0  7\n",
       "19     [5]   -25.50     181.0  7\n",
       "20     [6]   -51.00     181.0  7"
      ]
     },
     "execution_count": 7,
     "metadata": {},
     "output_type": "execute_result"
    }
   ],
   "source": [
    "# Converting the Docplex model into its qubo representation\n",
    "qubo = FromDocplex2IsingModel(mdl)\n",
    "\n",
    "# Ising encoding of the QUBO problem\n",
    "ising_encoding = qubo.ising_model  \n",
    "\n",
    "# Print in a df the ising encoding (we need to remove keys: 'problem_instance' and 'metadata')) \n",
    "ising_encoding_dict = ising_encoding.asdict(exclude_keys=['problem_instance', 'metadata'])\n",
    "pd.DataFrame(ising_encoding_dict)"
   ]
  },
  {
   "cell_type": "markdown",
   "id": "313d2c05",
   "metadata": {},
   "source": [
    "For this problem you can generate a device that uses a specific backend, such as the qiskit's qasm_simulator."
   ]
  },
  {
   "cell_type": "code",
   "execution_count": 8,
   "id": "7015438a",
   "metadata": {},
   "outputs": [],
   "source": [
    "#Specific local device usign qiskit backend\n",
    "device = create_device(\"local\", 'qiskit.qasm_simulator')"
   ]
  },
  {
   "cell_type": "markdown",
   "id": "33367edd",
   "metadata": {},
   "source": [
    "A QAOA object is initialized to use the quantum algorithm with the device and is possible change some properties: number of shots, seed, p-value, init type, and variational params."
   ]
  },
  {
   "cell_type": "code",
   "execution_count": 9,
   "id": "6533ec1c",
   "metadata": {},
   "outputs": [],
   "source": [
    "#Is possible check the devices using qaoa.local_simulators, qaoa.cloud_provider\n",
    "qaoa = QAOA(device)\n",
    "\n",
    "#Indicate the properties to the QAOA quantum algorithm,shots,seed\n",
    "qaoa.set_backend_properties(n_shots=20, seed_simulator=1)\n",
    "#check the p value and the variational init params\n",
    "qaoa.set_circuit_properties(p=2, init_type=\"custom\", variational_params_dict={\"betas\":2*[0.01*np.pi],\"gammas\":2*[0.01*np.pi]})\n",
    "\n",
    "#Indicate the ising e ncoding model from docplex \n",
    "qaoa.compile(ising_encoding)\n",
    "\n",
    "#Optimize the quantum algorithm\n",
    "qaoa.optimize()"
   ]
  },
  {
   "cell_type": "markdown",
   "id": "9baf9b53",
   "metadata": {},
   "source": [
    "We can limit the number of states from the `lowest_cost_bitstrings` method and indicate the 5 best solutions of the problem with their respective energies and probabilities by using QAOA"
   ]
  },
  {
   "cell_type": "code",
   "execution_count": 10,
   "id": "66d17119",
   "metadata": {},
   "outputs": [
    {
     "data": {
      "text/html": [
       "<div>\n",
       "<style scoped>\n",
       "    .dataframe tbody tr th:only-of-type {\n",
       "        vertical-align: middle;\n",
       "    }\n",
       "\n",
       "    .dataframe tbody tr th {\n",
       "        vertical-align: top;\n",
       "    }\n",
       "\n",
       "    .dataframe thead th {\n",
       "        text-align: right;\n",
       "    }\n",
       "</style>\n",
       "<table border=\"1\" class=\"dataframe\">\n",
       "  <thead>\n",
       "    <tr style=\"text-align: right;\">\n",
       "      <th></th>\n",
       "      <th>solutions_bitstrings</th>\n",
       "      <th>bitstrings_energies</th>\n",
       "      <th>probabilities</th>\n",
       "    </tr>\n",
       "  </thead>\n",
       "  <tbody>\n",
       "    <tr>\n",
       "      <th>0</th>\n",
       "      <td>0101000</td>\n",
       "      <td>0.0</td>\n",
       "      <td>0.05</td>\n",
       "    </tr>\n",
       "    <tr>\n",
       "      <th>1</th>\n",
       "      <td>0111010</td>\n",
       "      <td>0.0</td>\n",
       "      <td>0.10</td>\n",
       "    </tr>\n",
       "    <tr>\n",
       "      <th>2</th>\n",
       "      <td>1010100</td>\n",
       "      <td>0.0</td>\n",
       "      <td>0.05</td>\n",
       "    </tr>\n",
       "    <tr>\n",
       "      <th>3</th>\n",
       "      <td>0010100</td>\n",
       "      <td>15.0</td>\n",
       "      <td>0.10</td>\n",
       "    </tr>\n",
       "    <tr>\n",
       "      <th>4</th>\n",
       "      <td>0111000</td>\n",
       "      <td>17.0</td>\n",
       "      <td>0.10</td>\n",
       "    </tr>\n",
       "  </tbody>\n",
       "</table>\n",
       "</div>"
      ],
      "text/plain": [
       "  solutions_bitstrings  bitstrings_energies  probabilities\n",
       "0              0101000                  0.0           0.05\n",
       "1              0111010                  0.0           0.10\n",
       "2              1010100                  0.0           0.05\n",
       "3              0010100                 15.0           0.10\n",
       "4              0111000                 17.0           0.10"
      ]
     },
     "execution_count": 10,
     "metadata": {},
     "output_type": "execute_result"
    }
   ],
   "source": [
    "#Print in a df the best 5 solutions\n",
    "pd.DataFrame(qaoa.results.lowest_cost_bitstrings(5))"
   ]
  },
  {
   "cell_type": "markdown",
   "id": "51430313",
   "metadata": {},
   "source": [
    "From the solution we can see that we obtain three states `0111010`, `1010100`, and `0101000` with the minimum energy `0`. this can be confirmed  using the `ground_state_hamiltonian` method."
   ]
  },
  {
   "cell_type": "code",
   "execution_count": 11,
   "id": "f1b314f3",
   "metadata": {},
   "outputs": [
    {
     "data": {
      "text/plain": [
       "(0.0, ['0101000', '1010100', '0111010'])"
      ]
     },
     "execution_count": 11,
     "metadata": {},
     "output_type": "execute_result"
    }
   ],
   "source": [
    "# To find the correct answer using ground_state_hamiltonian\n",
    "# and  the paremeter is a cost_hamiltonian\n",
    "correct_solution = ground_state_hamiltonian(qaoa.cost_hamil)\n",
    "correct_solution"
   ]
  },
  {
   "cell_type": "markdown",
   "id": "a1d879d4",
   "metadata": {},
   "source": [
    "### 1.2 Solution using DOCPLEX\n",
    "\n",
    "The problem can be solved classically using DOCPLEX, this is an excellent option to check the solution of our quantum solver.\n",
    "\n",
    "**Note: For the next cell you  will need to install cplex with the command `pip install cplex>=22.1.0.0` **"
   ]
  },
  {
   "cell_type": "code",
   "execution_count": 12,
   "id": "e804fa38",
   "metadata": {},
   "outputs": [
    {
     "name": "stdout",
     "output_type": "stream",
     "text": [
      "objective: 0.000\n",
      "  x_0=1\n",
      "  x_1=0\n",
      "  x_2=1\n",
      "  x_3=0\n",
      "  x_4=1\n",
      "  slack_C1_0=0\n",
      "  slack_C1_1=0\n"
     ]
    }
   ],
   "source": [
    "# Docplex QUBO model\n",
    "mdl_qubo = qubo.qubo_docplex \n",
    "\n",
    "# Obtain the docplex solution\n",
    "sol = mdl_qubo.solve()\n",
    "mdl_qubo.print_solution(print_zeros=True)"
   ]
  },
  {
   "cell_type": "markdown",
   "id": "3bcdaa25",
   "metadata": {},
   "source": [
    "The solution is `0101000`, being one of the quantum solution states."
   ]
  },
  {
   "cell_type": "markdown",
   "id": "c5de313a",
   "metadata": {},
   "source": [
    "## 2) A basic optimization problem using maximize\n",
    "\n",
    "\n",
    "Considering the previous section, you want to maximize the follwing objective function $f_2(x)$\n",
    "\n",
    "$$f_2(\\textbf{x}) = x_0 - 4 x_0 x_1 - 2 x_0 x2 +  x_1 x_2 - x_3 $$\n",
    "\n",
    "subject to the following equality constraint\n",
    "\n",
    "$$ x_2 - 3 x_3 = 1,$$\n",
    "\n",
    "and the inequality constraint:\n",
    "\n",
    "$$x_0 + 2 x_2 - 2 x_3 \\leq 4.$$\n",
    "\n"
   ]
  },
  {
   "cell_type": "code",
   "execution_count": 13,
   "id": "f9e511e9",
   "metadata": {},
   "outputs": [
    {
     "name": "stdout",
     "output_type": "stream",
     "text": [
      "// This file has been generated by DOcplex\n",
      "// model name is: Basic Problem using maximize\n",
      "// var contrainer section\n",
      "dvar bool x[4];\n",
      "\n",
      "maximize\n",
      " x_0 - x_3 [ - 4 x_0*x_1 - 2 x_0*x_2 + x_1*x_2 ];\n",
      " \n",
      "subject to {\n",
      " x_2 - 3 x_3 == 1;\n",
      " x_0 + 2 x_2 - 2 x_3 <= 4;\n",
      "\n",
      "}\n",
      "None\n"
     ]
    }
   ],
   "source": [
    "#Specific the Model and put a name\n",
    "mdl = Model(\"Basic Problem using maximize\")\n",
    "\n",
    "# Number of variables\n",
    "n_vars = 4 \n",
    "\n",
    "# Using binary variables for this model\n",
    "x = mdl.binary_var_list(n_vars, name=\"x\") \n",
    "\n",
    "# Design the objective function using the binary variables\n",
    "obj_func = x[0] - 4 * x[0] * x[1] - 2* x[0] * x[2] + x[1] * x[2]- x[3]\n",
    "\n",
    "# The problem could be minimize or maximize the objective function\n",
    "mdl.maximize(obj_func)\n",
    "\n",
    "# In Docplex is possible design equality constraints\n",
    "mdl.add_constraint(x[2] - 3 * x[3]  == 1)\n",
    "\n",
    "# In Docplex is possible design inequality constraints\n",
    "mdl.add_constraint(x[0] + 2 * x[2] - 2 * x[3] <= 4)\n",
    "\n",
    "# print a summary of the docplex model \n",
    "print(mdl.prettyprint())"
   ]
  },
  {
   "cell_type": "markdown",
   "id": "7f52fddf",
   "metadata": {},
   "source": [
    "### 2.1 Solving the problem using OpenQAOA\n",
    "\n",
    "Using the  class `FromDocplex2IsingModel`, to convert the DOCPLEX model into a QUBO representation that is the input from the QAOA object."
   ]
  },
  {
   "cell_type": "code",
   "execution_count": 14,
   "id": "1e3021ed",
   "metadata": {},
   "outputs": [
    {
     "data": {
      "text/html": [
       "<div>\n",
       "<style scoped>\n",
       "    .dataframe tbody tr th:only-of-type {\n",
       "        vertical-align: middle;\n",
       "    }\n",
       "\n",
       "    .dataframe tbody tr th {\n",
       "        vertical-align: top;\n",
       "    }\n",
       "\n",
       "    .dataframe thead th {\n",
       "        text-align: right;\n",
       "    }\n",
       "</style>\n",
       "<table border=\"1\" class=\"dataframe\">\n",
       "  <thead>\n",
       "    <tr style=\"text-align: right;\">\n",
       "      <th></th>\n",
       "      <th>terms</th>\n",
       "      <th>weights</th>\n",
       "      <th>constant</th>\n",
       "      <th>n</th>\n",
       "    </tr>\n",
       "  </thead>\n",
       "  <tbody>\n",
       "    <tr>\n",
       "      <th>0</th>\n",
       "      <td>[0, 1]</td>\n",
       "      <td>1.00</td>\n",
       "      <td>126.25</td>\n",
       "      <td>7</td>\n",
       "    </tr>\n",
       "    <tr>\n",
       "      <th>1</th>\n",
       "      <td>[0, 2]</td>\n",
       "      <td>10.50</td>\n",
       "      <td>126.25</td>\n",
       "      <td>7</td>\n",
       "    </tr>\n",
       "    <tr>\n",
       "      <th>2</th>\n",
       "      <td>[1, 2]</td>\n",
       "      <td>-0.25</td>\n",
       "      <td>126.25</td>\n",
       "      <td>7</td>\n",
       "    </tr>\n",
       "    <tr>\n",
       "      <th>3</th>\n",
       "      <td>[2, 3]</td>\n",
       "      <td>-35.00</td>\n",
       "      <td>126.25</td>\n",
       "      <td>7</td>\n",
       "    </tr>\n",
       "    <tr>\n",
       "      <th>4</th>\n",
       "      <td>[0, 3]</td>\n",
       "      <td>-10.00</td>\n",
       "      <td>126.25</td>\n",
       "      <td>7</td>\n",
       "    </tr>\n",
       "    <tr>\n",
       "      <th>5</th>\n",
       "      <td>[0, 4]</td>\n",
       "      <td>5.00</td>\n",
       "      <td>126.25</td>\n",
       "      <td>7</td>\n",
       "    </tr>\n",
       "    <tr>\n",
       "      <th>6</th>\n",
       "      <td>[0, 5]</td>\n",
       "      <td>10.00</td>\n",
       "      <td>126.25</td>\n",
       "      <td>7</td>\n",
       "    </tr>\n",
       "    <tr>\n",
       "      <th>7</th>\n",
       "      <td>[0, 6]</td>\n",
       "      <td>15.00</td>\n",
       "      <td>126.25</td>\n",
       "      <td>7</td>\n",
       "    </tr>\n",
       "    <tr>\n",
       "      <th>8</th>\n",
       "      <td>[2, 4]</td>\n",
       "      <td>10.00</td>\n",
       "      <td>126.25</td>\n",
       "      <td>7</td>\n",
       "    </tr>\n",
       "    <tr>\n",
       "      <th>9</th>\n",
       "      <td>[2, 5]</td>\n",
       "      <td>20.00</td>\n",
       "      <td>126.25</td>\n",
       "      <td>7</td>\n",
       "    </tr>\n",
       "    <tr>\n",
       "      <th>10</th>\n",
       "      <td>[2, 6]</td>\n",
       "      <td>30.00</td>\n",
       "      <td>126.25</td>\n",
       "      <td>7</td>\n",
       "    </tr>\n",
       "    <tr>\n",
       "      <th>11</th>\n",
       "      <td>[3, 4]</td>\n",
       "      <td>-10.00</td>\n",
       "      <td>126.25</td>\n",
       "      <td>7</td>\n",
       "    </tr>\n",
       "    <tr>\n",
       "      <th>12</th>\n",
       "      <td>[3, 5]</td>\n",
       "      <td>-20.00</td>\n",
       "      <td>126.25</td>\n",
       "      <td>7</td>\n",
       "    </tr>\n",
       "    <tr>\n",
       "      <th>13</th>\n",
       "      <td>[3, 6]</td>\n",
       "      <td>-30.00</td>\n",
       "      <td>126.25</td>\n",
       "      <td>7</td>\n",
       "    </tr>\n",
       "    <tr>\n",
       "      <th>14</th>\n",
       "      <td>[4, 5]</td>\n",
       "      <td>10.00</td>\n",
       "      <td>126.25</td>\n",
       "      <td>7</td>\n",
       "    </tr>\n",
       "    <tr>\n",
       "      <th>15</th>\n",
       "      <td>[4, 6]</td>\n",
       "      <td>15.00</td>\n",
       "      <td>126.25</td>\n",
       "      <td>7</td>\n",
       "    </tr>\n",
       "    <tr>\n",
       "      <th>16</th>\n",
       "      <td>[5, 6]</td>\n",
       "      <td>30.00</td>\n",
       "      <td>126.25</td>\n",
       "      <td>7</td>\n",
       "    </tr>\n",
       "    <tr>\n",
       "      <th>17</th>\n",
       "      <td>[0]</td>\n",
       "      <td>4.00</td>\n",
       "      <td>126.25</td>\n",
       "      <td>7</td>\n",
       "    </tr>\n",
       "    <tr>\n",
       "      <th>18</th>\n",
       "      <td>[1]</td>\n",
       "      <td>-0.75</td>\n",
       "      <td>126.25</td>\n",
       "      <td>7</td>\n",
       "    </tr>\n",
       "    <tr>\n",
       "      <th>19</th>\n",
       "      <td>[2]</td>\n",
       "      <td>29.75</td>\n",
       "      <td>126.25</td>\n",
       "      <td>7</td>\n",
       "    </tr>\n",
       "    <tr>\n",
       "      <th>20</th>\n",
       "      <td>[3]</td>\n",
       "      <td>-70.50</td>\n",
       "      <td>126.25</td>\n",
       "      <td>7</td>\n",
       "    </tr>\n",
       "    <tr>\n",
       "      <th>21</th>\n",
       "      <td>[4]</td>\n",
       "      <td>5.00</td>\n",
       "      <td>126.25</td>\n",
       "      <td>7</td>\n",
       "    </tr>\n",
       "    <tr>\n",
       "      <th>22</th>\n",
       "      <td>[5]</td>\n",
       "      <td>10.00</td>\n",
       "      <td>126.25</td>\n",
       "      <td>7</td>\n",
       "    </tr>\n",
       "    <tr>\n",
       "      <th>23</th>\n",
       "      <td>[6]</td>\n",
       "      <td>15.00</td>\n",
       "      <td>126.25</td>\n",
       "      <td>7</td>\n",
       "    </tr>\n",
       "  </tbody>\n",
       "</table>\n",
       "</div>"
      ],
      "text/plain": [
       "     terms  weights  constant  n\n",
       "0   [0, 1]     1.00    126.25  7\n",
       "1   [0, 2]    10.50    126.25  7\n",
       "2   [1, 2]    -0.25    126.25  7\n",
       "3   [2, 3]   -35.00    126.25  7\n",
       "4   [0, 3]   -10.00    126.25  7\n",
       "5   [0, 4]     5.00    126.25  7\n",
       "6   [0, 5]    10.00    126.25  7\n",
       "7   [0, 6]    15.00    126.25  7\n",
       "8   [2, 4]    10.00    126.25  7\n",
       "9   [2, 5]    20.00    126.25  7\n",
       "10  [2, 6]    30.00    126.25  7\n",
       "11  [3, 4]   -10.00    126.25  7\n",
       "12  [3, 5]   -20.00    126.25  7\n",
       "13  [3, 6]   -30.00    126.25  7\n",
       "14  [4, 5]    10.00    126.25  7\n",
       "15  [4, 6]    15.00    126.25  7\n",
       "16  [5, 6]    30.00    126.25  7\n",
       "17     [0]     4.00    126.25  7\n",
       "18     [1]    -0.75    126.25  7\n",
       "19     [2]    29.75    126.25  7\n",
       "20     [3]   -70.50    126.25  7\n",
       "21     [4]     5.00    126.25  7\n",
       "22     [5]    10.00    126.25  7\n",
       "23     [6]    15.00    126.25  7"
      ]
     },
     "execution_count": 14,
     "metadata": {},
     "output_type": "execute_result"
    }
   ],
   "source": [
    "# Converting the Docplex model into its qubo representation\n",
    "qubo = FromDocplex2IsingModel(mdl)\n",
    "\n",
    "# Ising encoding of the QUBO problem\n",
    "ising_encoding = qubo.ising_model  \n",
    "\n",
    "# Print in a df the ising encoding (we need to remove keys: 'problem_instance' and 'metadata')) \n",
    "ising_encoding_dict = ising_encoding.asdict(exclude_keys=['problem_instance', 'metadata'])\n",
    "pd.DataFrame(ising_encoding_dict)"
   ]
  },
  {
   "cell_type": "markdown",
   "id": "73e513af",
   "metadata": {},
   "source": [
    "The device for this problem uses the pyquil's statevector_simulator backend. And use an QAOA object with their respective parameters indicated in the same way as in the previous section. And check only the 5 best states."
   ]
  },
  {
   "cell_type": "code",
   "execution_count": 15,
   "id": "2aa892a7",
   "metadata": {},
   "outputs": [
    {
     "data": {
      "text/html": [
       "<div>\n",
       "<style scoped>\n",
       "    .dataframe tbody tr th:only-of-type {\n",
       "        vertical-align: middle;\n",
       "    }\n",
       "\n",
       "    .dataframe tbody tr th {\n",
       "        vertical-align: top;\n",
       "    }\n",
       "\n",
       "    .dataframe thead th {\n",
       "        text-align: right;\n",
       "    }\n",
       "</style>\n",
       "<table border=\"1\" class=\"dataframe\">\n",
       "  <thead>\n",
       "    <tr style=\"text-align: right;\">\n",
       "      <th></th>\n",
       "      <th>solutions_bitstrings</th>\n",
       "      <th>bitstrings_energies</th>\n",
       "      <th>probabilities</th>\n",
       "    </tr>\n",
       "  </thead>\n",
       "  <tbody>\n",
       "    <tr>\n",
       "      <th>0</th>\n",
       "      <td>0110010</td>\n",
       "      <td>-1.0</td>\n",
       "      <td>0.025282</td>\n",
       "    </tr>\n",
       "    <tr>\n",
       "      <th>1</th>\n",
       "      <td>0010010</td>\n",
       "      <td>0.0</td>\n",
       "      <td>0.022400</td>\n",
       "    </tr>\n",
       "    <tr>\n",
       "      <th>2</th>\n",
       "      <td>1010100</td>\n",
       "      <td>1.0</td>\n",
       "      <td>0.006998</td>\n",
       "    </tr>\n",
       "    <tr>\n",
       "      <th>3</th>\n",
       "      <td>1110100</td>\n",
       "      <td>4.0</td>\n",
       "      <td>0.009394</td>\n",
       "    </tr>\n",
       "    <tr>\n",
       "      <th>4</th>\n",
       "      <td>0110110</td>\n",
       "      <td>9.0</td>\n",
       "      <td>0.027675</td>\n",
       "    </tr>\n",
       "  </tbody>\n",
       "</table>\n",
       "</div>"
      ],
      "text/plain": [
       "  solutions_bitstrings  bitstrings_energies  probabilities\n",
       "0              0110010                 -1.0       0.025282\n",
       "1              0010010                  0.0       0.022400\n",
       "2              1010100                  1.0       0.006998\n",
       "3              1110100                  4.0       0.009394\n",
       "4              0110110                  9.0       0.027675"
      ]
     },
     "execution_count": 15,
     "metadata": {},
     "output_type": "execute_result"
    }
   ],
   "source": [
    "#Specific local device usign qiskit backend\n",
    "device = create_device(\"local\", 'pyquil.statevector_simulator')\n",
    "\n",
    "#Is possible check the devices using qaoa.local_simulators, qaoa.cloud_provider\n",
    "qaoa = QAOA(device)\n",
    "\n",
    "#Indicate the properties to the QAOA quantum algorithm,shots,seed\n",
    "qaoa.set_backend_properties(n_shots=20, seed_simulator=1)\n",
    "#check the p value and the variational init params\n",
    "qaoa.set_circuit_properties(p=1, init_type=\"custom\", variational_params_dict={\"betas\":[0.01*np.pi],\"gammas\":[0.01*np.pi]})\n",
    "\n",
    "#Indicate the ising e ncoding model from docplex \n",
    "qaoa.compile(ising_encoding)\n",
    "\n",
    "#Optimize the quantum algorithm\n",
    "qaoa.optimize()\n",
    "\n",
    "#Print in a df the best 5 solutions\n",
    "pd.DataFrame(qaoa.results.lowest_cost_bitstrings(5))"
   ]
  },
  {
   "cell_type": "markdown",
   "id": "99e79d37",
   "metadata": {},
   "source": [
    "The solution is the  state `0110010`  with the minimum energy -1. this can be confirmed using the ground_state_hamiltonian method."
   ]
  },
  {
   "cell_type": "code",
   "execution_count": 16,
   "id": "b13a0803",
   "metadata": {},
   "outputs": [
    {
     "data": {
      "text/plain": [
       "(-1.0, ['0110010'])"
      ]
     },
     "execution_count": 16,
     "metadata": {},
     "output_type": "execute_result"
    }
   ],
   "source": [
    "# To find the correct answer using ground_state_hamiltonian\n",
    "# and  the paremeter is a cost_hamiltonian\n",
    "correct_solution = ground_state_hamiltonian(qaoa.cost_hamil)\n",
    "correct_solution"
   ]
  },
  {
   "cell_type": "markdown",
   "id": "6088584e",
   "metadata": {},
   "source": [
    "### 2.2 Solution using DOCPLEX\n",
    "\n",
    "Using DOCPLEX to check the classical solution\n",
    "\n",
    "**Note: For the next cell you  will need to install cplex with the command** `pip install cplex>=22.1.0.0` "
   ]
  },
  {
   "cell_type": "code",
   "execution_count": 17,
   "id": "5848b94f",
   "metadata": {},
   "outputs": [
    {
     "name": "stdout",
     "output_type": "stream",
     "text": [
      "objective: -1.000\n",
      "  x_0=0\n",
      "  x_1=1\n",
      "  x_2=1\n",
      "  x_3=0\n",
      "  slack_C1_0=0\n",
      "  slack_C1_1=1\n",
      "  slack_C1_2=0\n"
     ]
    }
   ],
   "source": [
    "# Docplex QUBO model\n",
    "mdl_qubo = qubo.qubo_docplex \n",
    "\n",
    "# Obtain the docplex solution\n",
    "sol = mdl_qubo.solve()\n",
    "mdl_qubo.print_solution(print_zeros=True)"
   ]
  },
  {
   "cell_type": "markdown",
   "id": "1f4daa3b",
   "metadata": {},
   "source": [
    "The solution is `0110010`, being the same result as for the quantum algorithm"
   ]
  }
 ],
 "metadata": {
  "kernelspec": {
   "display_name": "openqaoa",
   "language": "python",
   "name": "python3"
  },
  "language_info": {
   "codemirror_mode": {
    "name": "ipython",
    "version": 3
   },
   "file_extension": ".py",
   "mimetype": "text/x-python",
   "name": "python",
   "nbconvert_exporter": "python",
   "pygments_lexer": "ipython3",
   "version": "3.8.13"
  },
  "vscode": {
   "interpreter": {
    "hash": "d2582286b70c3b030a2fde61b871db03dec7fee33191883f4394b540a2eb90c7"
   }
  }
 },
 "nbformat": 4,
 "nbformat_minor": 5
}
