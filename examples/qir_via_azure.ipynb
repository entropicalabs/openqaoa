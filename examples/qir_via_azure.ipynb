{
 "cells": [
  {
   "cell_type": "markdown",
   "metadata": {},
   "source": [
    "## Construct QIR for a QAOA circuit defined using OpenQAOA\n",
    "    Generate QIR instructions using PyQIR"
   ]
  },
  {
   "cell_type": "markdown",
   "metadata": {},
   "source": [
    "### Create a problem and generate instructions in QIR using OpenQAOA"
   ]
  },
  {
   "cell_type": "code",
   "execution_count": 1,
   "metadata": {},
   "outputs": [],
   "source": [
    "from openqaoa.problems.problem import MaximumCut\n",
    "from openqaoa.workflows.optimizer import QAOA\n",
    "from openqaoa.devices import create_device\n",
    "from openqaoa.backends import QAOAQIR"
   ]
  },
  {
   "cell_type": "code",
   "execution_count": 2,
   "metadata": {},
   "outputs": [],
   "source": [
    "prob = MaximumCut.random_instance(n_nodes=7, edge_probability=0.5)\n",
    "prob_qubo = prob.get_qubo_problem()"
   ]
  },
  {
   "cell_type": "code",
   "execution_count": 3,
   "metadata": {},
   "outputs": [],
   "source": [
    "q = QAOA()\n",
    "q.set_circuit_properties(mixer_hamiltonian='x')\n",
    "dev = create_device('local','qiskit.qasm_simulator')\n",
    "q.set_device(dev)\n",
    "q.compile(prob_qubo)"
   ]
  },
  {
   "cell_type": "code",
   "execution_count": 4,
   "metadata": {},
   "outputs": [],
   "source": [
    "circuit_params = q.backend.circuit_params\n",
    "variate_params = q.variate_params"
   ]
  },
  {
   "cell_type": "code",
   "execution_count": 5,
   "metadata": {},
   "outputs": [],
   "source": [
    "# qir_qaoa = QAOAQIR(circuit_params)\n",
    "# ir = qir_qaoa.convert_to_ir(variate_params)\n",
    "# with open('output/qir_qaoa.ll', 'w') as f:\n",
    "#     f.write(ir)"
   ]
  },
  {
   "cell_type": "code",
   "execution_count": 6,
   "metadata": {},
   "outputs": [],
   "source": [
    "with open('output/qir_qaoa-Copy1.ll','r') as f:\n",
    "    ir_modified = f.read()"
   ]
  },
  {
   "cell_type": "code",
   "execution_count": 7,
   "metadata": {},
   "outputs": [
    {
     "name": "stdout",
     "output_type": "stream",
     "text": [
      "; ModuleID = 'QAOA'\n",
      "source_filename = \"QAOA\"\n",
      "\n",
      "%Qubit = type opaque\n",
      "%Result = type opaque\n",
      "\n",
      "declare void @__quantum__rt__array_start_record_output()\n",
      "\n",
      "declare void @__quantum__rt__array_end_record_output()\n",
      "\n",
      "declare void @__quantum__rt__result_record_output(%Result*)\n",
      "\n",
      "define void @main() #0 {\n",
      "entry:\n",
      "  call void @__quantum__qis__h__body(%Qubit* null)\n",
      "  call void @__quantum__qis__h__body(%Qubit* inttoptr (i64 1 to %Qubit*))\n",
      "  call void @__quantum__qis__h__body(%Qubit* inttoptr (i64 2 to %Qubit*))\n",
      "  call void @__quantum__qis__h__body(%Qubit* inttoptr (i64 3 to %Qubit*))\n",
      "  call void @__quantum__qis__h__body(%Qubit* inttoptr (i64 4 to %Qubit*))\n",
      "  call void @__quantum__qis__h__body(%Qubit* inttoptr (i64 5 to %Qubit*))\n",
      "  call void @__quantum__qis__h__body(%Qubit* inttoptr (i64 6 to %Qubit*))\n",
      "  call void @__quantum__qis__cnot__body(%Qubit* null, %Qubit* inttoptr (i64 1 to %Qubit*))\n",
      "  call void @__quantum__qis__rz__body(double 0x3FE6666666666666, %Qubit* inttoptr (i64 1 to %Qubit*))\n",
      "  call void @__quantum__qis__cnot__body(%Qubit* null, %Qubit* inttoptr (i64 1 to %Qubit*))\n",
      "  call void @__quantum__qis__cnot__body(%Qubit* null, %Qubit* inttoptr (i64 3 to %Qubit*))\n",
      "  call void @__quantum__qis__rz__body(double 0x3FE6666666666666, %Qubit* inttoptr (i64 3 to %Qubit*))\n",
      "  call void @__quantum__qis__cnot__body(%Qubit* null, %Qubit* inttoptr (i64 3 to %Qubit*))\n",
      "  call void @__quantum__qis__cnot__body(%Qubit* null, %Qubit* inttoptr (i64 4 to %Qubit*))\n",
      "  call void @__quantum__qis__rz__body(double 0x3FE6666666666666, %Qubit* inttoptr (i64 4 to %Qubit*))\n",
      "  call void @__quantum__qis__cnot__body(%Qubit* null, %Qubit* inttoptr (i64 4 to %Qubit*))\n",
      "  call void @__quantum__qis__cnot__body(%Qubit* inttoptr (i64 1 to %Qubit*), %Qubit* inttoptr (i64 2 to %Qubit*))\n",
      "  call void @__quantum__qis__rz__body(double 0x3FE6666666666666, %Qubit* inttoptr (i64 2 to %Qubit*))\n",
      "  call void @__quantum__qis__cnot__body(%Qubit* inttoptr (i64 1 to %Qubit*), %Qubit* inttoptr (i64 2 to %Qubit*))\n",
      "  call void @__quantum__qis__cnot__body(%Qubit* inttoptr (i64 1 to %Qubit*), %Qubit* inttoptr (i64 4 to %Qubit*))\n",
      "  call void @__quantum__qis__rz__body(double 0x3FE6666666666666, %Qubit* inttoptr (i64 4 to %Qubit*))\n",
      "  call void @__quantum__qis__cnot__body(%Qubit* inttoptr (i64 1 to %Qubit*), %Qubit* inttoptr (i64 4 to %Qubit*))\n",
      "  call void @__quantum__qis__cnot__body(%Qubit* inttoptr (i64 1 to %Qubit*), %Qubit* inttoptr (i64 6 to %Qubit*))\n",
      "  call void @__quantum__qis__rz__body(double 0x3FE6666666666666, %Qubit* inttoptr (i64 6 to %Qubit*))\n",
      "  call void @__quantum__qis__cnot__body(%Qubit* inttoptr (i64 1 to %Qubit*), %Qubit* inttoptr (i64 6 to %Qubit*))\n",
      "  call void @__quantum__qis__cnot__body(%Qubit* inttoptr (i64 2 to %Qubit*), %Qubit* inttoptr (i64 3 to %Qubit*))\n",
      "  call void @__quantum__qis__rz__body(double 0x3FE6666666666666, %Qubit* inttoptr (i64 3 to %Qubit*))\n",
      "  call void @__quantum__qis__cnot__body(%Qubit* inttoptr (i64 2 to %Qubit*), %Qubit* inttoptr (i64 3 to %Qubit*))\n",
      "  call void @__quantum__qis__cnot__body(%Qubit* inttoptr (i64 2 to %Qubit*), %Qubit* inttoptr (i64 5 to %Qubit*))\n",
      "  call void @__quantum__qis__rz__body(double 0x3FE6666666666666, %Qubit* inttoptr (i64 5 to %Qubit*))\n",
      "  call void @__quantum__qis__cnot__body(%Qubit* inttoptr (i64 2 to %Qubit*), %Qubit* inttoptr (i64 5 to %Qubit*))\n",
      "  call void @__quantum__qis__cnot__body(%Qubit* inttoptr (i64 4 to %Qubit*), %Qubit* inttoptr (i64 5 to %Qubit*))\n",
      "  call void @__quantum__qis__rz__body(double 0x3FE6666666666666, %Qubit* inttoptr (i64 5 to %Qubit*))\n",
      "  call void @__quantum__qis__cnot__body(%Qubit* inttoptr (i64 4 to %Qubit*), %Qubit* inttoptr (i64 5 to %Qubit*))\n",
      "  call void @__quantum__qis__rx__body(double 0xBFE6666666666666, %Qubit* null)\n",
      "  call void @__quantum__qis__rx__body(double 0xBFE6666666666666, %Qubit* inttoptr (i64 1 to %Qubit*))\n",
      "  call void @__quantum__qis__rx__body(double 0xBFE6666666666666, %Qubit* inttoptr (i64 2 to %Qubit*))\n",
      "  call void @__quantum__qis__rx__body(double 0xBFE6666666666666, %Qubit* inttoptr (i64 3 to %Qubit*))\n",
      "  call void @__quantum__qis__rx__body(double 0xBFE6666666666666, %Qubit* inttoptr (i64 4 to %Qubit*))\n",
      "  call void @__quantum__qis__rx__body(double 0xBFE6666666666666, %Qubit* inttoptr (i64 5 to %Qubit*))\n",
      "  call void @__quantum__qis__rx__body(double 0xBFE6666666666666, %Qubit* inttoptr (i64 6 to %Qubit*))\n",
      "  call void @__quantum__qis__mz__body(%Qubit* null, %Result* null)\n",
      "  call void @__quantum__qis__mz__body(%Qubit* inttoptr (i64 1 to %Qubit*), %Result* inttoptr (i64 1 to %Result*))\n",
      "  call void @__quantum__qis__mz__body(%Qubit* inttoptr (i64 2 to %Qubit*), %Result* inttoptr (i64 2 to %Result*))\n",
      "  call void @__quantum__qis__mz__body(%Qubit* inttoptr (i64 3 to %Qubit*), %Result* inttoptr (i64 3 to %Result*))\n",
      "  call void @__quantum__qis__mz__body(%Qubit* inttoptr (i64 4 to %Qubit*), %Result* inttoptr (i64 4 to %Result*))\n",
      "  call void @__quantum__qis__mz__body(%Qubit* inttoptr (i64 5 to %Qubit*), %Result* inttoptr (i64 5 to %Result*))\n",
      "  call void @__quantum__qis__mz__body(%Qubit* inttoptr (i64 6 to %Qubit*), %Result* inttoptr (i64 6 to %Result*))\n",
      "  \n",
      "  call void @__quantum__rt__array_start_record_output()\n",
      "  call void @__quantum__rt__result_record_output(%Result* null)\n",
      "  call void @__quantum__rt__result_record_output(%Result* inttoptr (i64 1 to %Result*))\n",
      "  call void @__quantum__rt__result_record_output(%Result* inttoptr (i64 2 to %Result*))\n",
      "  call void @__quantum__rt__result_record_output(%Result* inttoptr (i64 3 to %Result*))\n",
      "  call void @__quantum__rt__result_record_output(%Result* inttoptr (i64 4 to %Result*))\n",
      "  call void @__quantum__rt__result_record_output(%Result* inttoptr (i64 5 to %Result*))\n",
      "  call void @__quantum__rt__result_record_output(%Result* inttoptr (i64 6 to %Result*))\n",
      "  call void @__quantum__rt__array_end_record_output()\n",
      "  ret void\n",
      "}\n",
      "\n",
      "declare void @__quantum__qis__h__body(%Qubit*)\n",
      "\n",
      "declare void @__quantum__qis__cnot__body(%Qubit*, %Qubit*)\n",
      "\n",
      "declare void @__quantum__qis__rz__body(double, %Qubit*)\n",
      "\n",
      "declare void @__quantum__qis__rx__body(double, %Qubit*)\n",
      "\n",
      "declare void @__quantum__qis__mz__body(%Qubit*, %Result*)\n",
      "\n",
      "attributes #0 = { \"EntryPoint\" \"requiredQubits\"=\"7\" \"requiredResults\"=\"7\" }\n",
      "\n"
     ]
    }
   ],
   "source": [
    "print(ir_modified)"
   ]
  },
  {
   "cell_type": "code",
   "execution_count": 8,
   "metadata": {},
   "outputs": [],
   "source": [
    "from pyqir.generator import ir_to_bitcode"
   ]
  },
  {
   "cell_type": "code",
   "execution_count": 9,
   "metadata": {},
   "outputs": [
    {
     "data": {
      "text/plain": [
       "b'BC\\xc0\\xde5\\x14\\x00\\x00\\x05\\x00\\x00\\x00b\\x0c0$JY\\xbef}\\xfb\\xb4_\\x0bQ\\x80L\\x01\\x00\\x00\\x00!\\x0c\\x00\\x00\\xe4\\x01\\x00\\x00\\x0b\\x02!\\x00\\x02\\x00\\x00\\x00\\x16\\x00\\x00\\x00\\x07\\x81#\\x91A\\xc8\\x04I\\x06\\x1029\\x92\\x01\\x84\\x0c%\\x05\\x08\\x19\\x1e\\x04\\x8bb\\x80\\x14E\\x02B\\x92\\x0bB\\xa4\\x102\\x148\\x08\\x18K\\n2R\\x88Hp\\xc4!#D\\x12\\x87\\x8c\\x10A\\x92\\x02d\\xc8\\x08\\xb1\\x14 CF\\x88 \\xc9\\x012R\\x84\\x18*(*\\x901|\\xb0\\\\\\x91 \\xc5\\xc8\\x00\\x00\\x00\\x89 \\x00\\x00\\x16\\x00\\x00\\x002\"H\\t bF\\x00!+$\\x98\\x14!%$\\x98\\x14\\x19\\'\\x0c\\x85\\xa4\\x90`Rd\\\\ $e\\x82\\x80\\x1a\\x010\\x01\\xa0\\x80\\xc6JH\\xd42\\x8d\\x11\\x004\\x8c\\x00\\x08\\x15,T*@\\xa61\\x02\\x80\\x8e\\x11\\x00\\xa2d\\x06\\x80\\x10\\xad!\\x003\\x80\\x86\\xc8\\x99\\x01 Bp `\\x8e\\x00\\x14\\x00\\x00\\x00Q\\x18\\x00\\x00\\x14\\x00\\x00\\x00\\x1b\\xe6 \\xf8\\xff\\xff\\xff\\xffa(\\x05w\\xa0\\x07y\\xc8\\x07Xx\\x87tp\\x07z\\x00\\x08y(\\x87x\\xa8\\x87t\\x90\\x87r \\x87X\\xa8\\x07qH\\x07z\\x98\\x07\\xe0\\x0e\\x00B\\x1e\\xca!\\x1e\\xea!\\x1d\\xe4\\xa1\\x1c\\xc8A\\x16\\xcaa\\x1e\\xea\\x81\\x1d\\xe8a\\x1e\\x80;\\x00\\x00\\x00\\x00\\x00I\\x18\\x00\\x00\\x01\\x00\\x00\\x00\\x13\\x82\\x00\\x00\\x1a!\\x0cI\\xa8\\x1a\\xaa\\r\\xa9\\x004\\x08\\x80\\x00\\x00\\x00\\x00\\x00\\x00\\x00\\x00\\x00\\x00\\x00\\xd0\\x00\\x18R\\xa1\\x81\\x19\\x04@\\x00\\x00\\x00\\x00\\x00\\x00\\x00\\x00\\x00\\x00\\x00h\\x00\\x0c\\xa9\\\\a\\x0c\\n \\x00\\x00\\x00\\x00\\x00\\x00\\x00\\x00\\x00\\x00\\x004\\x00\\x86T\\xf1@\\x04\\x00\\x00\\x04\\x00\\x00\\x00\\x00\\x00\\x00\\x00\\x00\\x00h\\x00\\x0c\\xa9\\xea\\xe1J\\x80\\x00\\x00\\x00\\x00\\x00\\x00\\x00\\x00\\x00\\x00\\x00\\xd0\\x00\\x18R\\xb1\\x84\\xb6\\x00\\x01\\x00\\x00\\x00\\x00\\x00\\x00\\x00\\x00\\x00\\x00\\xa0\\x010\\xa42\\x0b\\xcc\\x01\\x02\\x00\\x00\\x00\\x00\\x00\\x00\\x00\\x00\\x00\\x00@\\x03`H\\xe5\\x17\\x98\\x03\\x04\\x00\\x00\\x00\\x00\\x00\\x00\\x00\\x00\\x00\\x00\\x80\\x06\\xc0\\x90\\xca60\\x08\\x08\\x00\\x00\\x00\\x00\\x00\\x00\\x00\\x00\\x00\\x00\\x00\\r\\x00\\x89\\r\\x02E\\xd1\\x03\\x00\\x00b1\\x00\\x97\\x00\\x00\\x003\\x08\\x80\\x1c\\xc4\\xe1\\x1cf\\x14\\x01=\\x88C8\\x84\\xc3\\x8cB\\x80\\x07yx\\x07s\\x98q\\x0c\\xe6\\x00\\x0f\\xed\\x10\\x0e\\xf4\\x80\\x0e3\\x0cB\\x1e\\xc2\\xc1\\x1d\\xce\\xa1\\x1cf0\\x05=\\x88C8\\x84\\x83\\x1b\\xcc\\x03=\\xc8C=\\x8c\\x03=\\xccx\\x8ctp\\x07{\\x08\\x07yH\\x87pp\\x07zp\\x03vx\\x87p \\x87\\x19\\xcc\\x11\\x0e\\xec\\x90\\x0e\\xe10\\x0fn0\\x0f\\xe3\\xf0\\x0e\\xf0P\\x0e3\\x10\\xc4\\x1d\\xde!\\x1c\\xd8!\\x1d\\xc2a\\x1ef0\\x89;\\xbc\\x83;\\xd0C9\\xb4\\x03<\\xbc\\x83<\\x84\\x03;\\xcc\\xf0\\x14v`\\x07{h\\x077h\\x87rh\\x077\\x80\\x87p\\x90\\x87p`\\x07v(\\x07v\\xf8\\x05vx\\x87w\\x80\\x87_\\x08\\x87q\\x18\\x87r\\x98\\x87y\\x98\\x81,\\xee\\xf0\\x0e\\xee\\xe0\\x0e\\xf5\\xc0\\x0e\\xec0\\x03b\\xc8\\xa1\\x1c\\xe4\\xa1\\x1c\\xcc\\xa1\\x1c\\xe4\\xa1\\x1c\\xdca\\x1c\\xca!\\x1c\\xc4\\x81\\x1d\\xcaa\\x06\\xd6\\x90C9\\xc8C9\\x98C9\\xc8C9\\xb8\\xc38\\x94C8\\x88\\x03;\\x94\\xc3/\\xbc\\x83<\\xfc\\x82;\\xd4\\x03;\\xb0\\xc3\\x0c\\xc7i\\x87pX\\x87rp\\x83th\\x07x`\\x87t\\x18\\x87t\\xa0\\x87\\x19\\xceS\\x0f\\xee\\x00\\x0f\\xf2P\\x0e\\xe4\\x90\\x0e\\xe3@\\x0f\\xe1 \\x0e\\xecP\\x0e3 (\\x1d\\xdc\\xc1\\x1e\\xc2A\\x1e\\xd2!\\x1c\\xdc\\x81\\x1e\\xdc\\xe0\\x1c\\xe4\\xe1\\x1d\\xea\\x01\\x1ef\\x18Q8\\xb0C:\\x9c\\x83;\\xccP$v`\\x07{h\\x077`\\x87wx\\x07x\\x98QL\\xf4\\x90\\x0f\\xf0P\\x0e3\\x1ej\\x1e\\xcaa\\x1c\\xe8!\\x1d\\xde\\xc1\\x1d~\\x01\\x1e\\xe4\\xa1\\x1c\\xcc!\\x1d\\xf0a\\x06T\\x85\\x838\\xcc\\xc3;\\xb0C=\\xd0C9\\xfc\\xc2<\\xe4C;\\x88\\xc3;\\xb0\\xc3\\x8c\\xc5\\n\\x87y\\x98\\x87w\\x18\\x87t\\x08\\x07z(\\x07r\\x98\\x81\\\\\\xe3\\x10\\x0e\\xec\\xc0\\x0e\\xe5P\\x0e\\xf30#\\xc1\\xd2A\\x1e\\xe4\\xe1\\x17\\xd8\\xe1\\x1d\\xde\\x01\\x1efH\\x19;\\xb0\\x83=\\xb4\\x83\\x1b\\x84\\xc38\\x8cC9\\xcc\\xc3<\\xb8\\xc19\\xc8\\xc3;\\xd4\\x03<\\xccH\\xb4q\\x08\\x07v`\\x07q\\x08\\x87qX\\x87\\x19\\xdb\\xc6\\x0e\\xec`\\x0f\\xed\\xe0\\x06\\xf0 \\x0f\\xe50\\x0f\\xe5 \\x0f\\xf6P\\x0en\\x10\\x0e\\xe30\\x0e\\xe50\\x0f\\xf3\\xe0\\x06\\xe9\\xe0\\x0e\\xe4P\\x0e\\xf80#\\xe2\\xeca\\x1c\\xc2\\x81\\x1d\\xd8\\xe1\\x17\\xec!\\x1d\\xe6!\\x1d\\xc4!\\x1d\\xd8!\\x1d\\xe8!\\x1ff \\x9d;\\xbcC=\\xb8\\x039\\x94\\x839\\xccX\\xbcpp\\x07wx\\x07z\\x08\\x07zH\\x87wp\\x07\\x00\\x00\\xa9\\x18\\x00\\x00!\\x00\\x00\\x00\\x0b\\nr(\\x87w\\x80\\x07zXp\\x98C=\\xb8\\xc38\\xb0C9\\xd0\\xc3\\x82\\xe6\\x1c\\xc6\\xa1\\r\\xe8A\\x1e\\xc2\\xc1\\x1d\\xe6!\\x1d\\xe8!\\x1d\\xde\\xc1\\x1d\\x164\\xe3`\\x0e\\xe7P\\x0f\\xe1 \\x0f\\xe4@\\x0f\\xe1 \\x0f\\xe7P\\x0e\\xf4\\xb0\\x80\\x81\\x07y(\\x87p`\\x07vx\\x87q\\x08\\x07z(\\x07rXp\\x9c\\xc38\\xb4\\x01;\\xa4\\x83=\\x94\\xc3\\x02k\\x1c\\xd8!\\x1c\\xdc\\xe1\\x1c\\xdc \\x1c\\xe4a\\x1c\\xdc \\x1c\\xe8\\x81\\x1e\\xc2a\\x1c\\xd0\\xa1\\x1c\\xc8a\\x1c\\xc2\\x81\\x1d\\xd8\\x01\\xd1\\x10\\x00\\x00\\x06\\x00\\x00\\x00\\x07\\xcc<\\xa4\\x83;\\x9c\\x03;\\x94\\x03=\\xa0\\x83<\\x94C8\\x90\\xc3\\x01\\x00\\x00\\x00a \\x00\\x00\\x9f\\x00\\x00\\x00\\x13\\x04A,\\x10\\x00\\x00\\x00\\x13\\x00\\x00\\x004K\\xa0\\x08\\xca\\xa0\\x10J\\xa1\\x18\\x88\\x8c\\x00\\x98\\xce\\x04\\xd3\\xa9`:\\x17L\\'\\x83\\xe9l0\\x9d\\x0e\\x84Lg\\x82\\xe9d0\\x9d\\n#\\x00\\xa6s\\xc1t6\\x98N\\x07jc\\x04\\xe6\\x9c\\xb3\\xe6\\x9c\\xb3\\xe6\\x9c\\xff\\xc3\\x18\\x819\\xe7\\xac9\\xe7\\xac9\\xe7\\xff\\x02\\x00\\x00\\x00#\\x06\\x05\\x00\\x82`\\x90l\\xc6\\x88A\\x01\\x80 \\x18$[2bP\\x00 \\x08\\x06\\xc9v\\x8c\\x18\\x14\\x00\\x08\\x82A\\xb2\\x15#\\x06\\x05\\x00\\x82`\\x90l\\xc8\\x88A\\x01\\x80 \\x18$\\x1b1bP\\x00 \\x08\\x06\\xc96\\x8c\\x18\\x18\\x00\\x08\\x82\\xc1\\xa2\\x19\\xc9\\x88\\x81\\x01\\x80 \\x188\\x99\\x90\\x8c\\x18\\x18\\x00\\x08\\x82\\xc1\\xa2\\x19\\xc9\\x88\\x81\\x01\\x80 \\x18,\\x9aQ\\x8c\\x18\\x18\\x00\\x08\\x82\\x81\\x93\\t\\xc5\\x88\\x81\\x01\\x80 \\x18,\\x9aQ\\x8c\\x18\\x18\\x00\\x08\\x82\\xc1\\xa2\\x19\\xc8\\x88\\x81\\x01\\x80 \\x188\\x99\\x80\\x8c\\x18\\x18\\x00\\x08\\x82\\xc1\\xa2\\x19\\xc8\\x88\\x81\\x01\\x80 \\x18,Zr\\x8c\\x18\\x18\\x00\\x08\\x82\\x81\\x93\\t\\xc7\\x88\\x81\\x01\\x80 \\x18,Zr\\x8c\\x18\\x18\\x00\\x08\\x82\\xc1\\xa2%\\xc8\\x88\\x81\\x01\\x80 \\x188\\x99\\x80\\x8c\\x18\\x18\\x00\\x08\\x82\\xc1\\xa2%\\xc8\\x88\\x81\\x01\\x80 \\x18,Z2\\x8c\\x18\\x18\\x00\\x08\\x82\\x81\\x93\\t\\xc3\\x88\\x81\\x01\\x80 \\x18,Z2\\x8c\\x18\\x18\\x00\\x08\\x82\\xc1\\xa2\\x1d\\xc5\\x88\\x81\\x01\\x80 \\x188\\x99P\\x8c\\x18\\x18\\x00\\x08\\x82\\xc1\\xa2\\x1d\\xc5\\x88\\x81\\x01\\x80 \\x18,\\xdaA\\x8c\\x18\\x18\\x00\\x08\\x82\\x81\\x93\\t\\xc4\\x88\\x81\\x01\\x80 \\x18,\\xdaA\\x8c\\x18\\x18\\x00\\x08\\x82\\xc1\\xa2!\\xc4\\x88\\x81\\x01\\x80 \\x188\\x99@\\x8c\\x18\\x18\\x00\\x08\\x82\\xc1\\xa2!\\xc4\\x88\\x81\\x01\\x80 \\x188X`\\x8c\\x18\\x18\\x00\\x08\\x82\\x81\\x83\\x05\\xc9\\x88\\x81\\x01\\x80 \\x188Xp\\x8c\\x18\\x18\\x00\\x08\\x82\\x81\\x83\\x05\\xc5\\x88\\x81\\x01\\x80 \\x188X\\x80\\x8c\\x18\\x18\\x00\\x08\\x82\\x81\\x83\\x05\\xc4\\x88\\x81\\x01\\x80 \\x188X0\\x8c\\x18\\x18\\x00\\x08\\x82\\x01t\\x19\\xd0\\x88\\x81\\x01\\x80 \\x18@W\\xf2\\x8c\\x18\\x18\\x00\\x08\\x82\\x01t\\x1d\\xce\\x88\\x81\\x01\\x80 \\x18@W\\xd1\\x8c\\x18\\x18\\x00\\x08\\x82\\x01t!\\xcc\\x88\\x81\\x01\\x80 \\x18@\\x17\\xb1\\x8c\\x18\\x18\\x00\\x08\\x82\\x01t\\r\\xca\\x88\\x01\\x01\\x80 \\x18\\x04\\xdf\\x88A\\x01\\x80 \\x18\\x14\\x1d4bP\\x00 \\x08\\x06E\\xf7\\x8c\\x18\\x14\\x00\\x08\\x82A\\xd19#\\x06\\x05\\x00\\x82`Pt\\xcd\\x88A\\x01\\x80 \\x18\\x14\\x1d3bP\\x00 \\x08\\x06E\\xb7\\x8c\\x18\\x14\\x00\\x08\\x82A\\xd1)#\\x06\\x04\\x00\\x82`\\x10x\\x1a\\x0e\\x04\\x00\\x02\\x00\\x00\\x00\\x07P\\x10\\xcd\\x14a\\x00\\x00\\x00\\x00\\x00\\x00q \\x00\\x00\\x03\\x00\\x00\\x002\\x0e\\x10\"\\x84\\x03\\xc7\\x02\\x00\\x00\\x00\\x00\\x00\\x00\\x00\\x00]\\x0c\\x00\\x00L\\x00\\x00\\x00\\x12\\x03\\x94a\\x02\\x00\\x00\\x00__quantum__rt__array_start_record_output__quantum__rt__array_end_record_output__quantum__rt__result_record_outputmain__quantum__qis__h__body__quantum__qis__cnot__body__quantum__qis__rz__body__quantum__qis__rx__body__quantum__qis__mz__body13.0.1 75e33f71c2dae584b13a7d1186ae0a038ba98838QAOA\\x00\\x00\\x00\\x00\\x00\\x00\\x00'"
      ]
     },
     "execution_count": 9,
     "metadata": {},
     "output_type": "execute_result"
    }
   ],
   "source": [
    "qaoa_bitcode = ir_to_bitcode(ir_modified)\n",
    "qaoa_bitcode"
   ]
  },
  {
   "cell_type": "code",
   "execution_count": 10,
   "metadata": {},
   "outputs": [],
   "source": [
    "# !opt -dot-cfg output/qaoa_qir.ll -o output/qaoa_qir.dot && mv .main.dot output/qaoa_qir.dot"
   ]
  },
  {
   "cell_type": "code",
   "execution_count": null,
   "metadata": {},
   "outputs": [],
   "source": []
  },
  {
   "cell_type": "code",
   "execution_count": 12,
   "metadata": {},
   "outputs": [],
   "source": [
    "# from azure.quantum.target.rigetti import RigettiTarget, Rigetti, Result, InputParams"
   ]
  },
  {
   "cell_type": "code",
   "execution_count": 13,
   "metadata": {},
   "outputs": [],
   "source": [
    "from azure.quantum import Workspace\n",
    "workspace = Workspace(\n",
    "    subscription_id = \"\",\n",
    "    resource_group = \"\",\n",
    "    name = \"\",\n",
    "    location = \"\"\n",
    ")"
   ]
  },
  {
   "cell_type": "code",
   "execution_count": 13,
   "metadata": {},
   "outputs": [],
   "source": [
    "# target = Rigetti(\n",
    "#     workspace=workspace,\n",
    "#     name=RigettiTarget.QVM,  # Defaults to RigettiTarget.QVM for simulation\n",
    "# )"
   ]
  },
  {
   "cell_type": "code",
   "execution_count": 14,
   "metadata": {},
   "outputs": [
    {
     "name": "stderr",
     "output_type": "stream",
     "text": [
      "WARNING - EnvironmentCredential.get_token failed: EnvironmentCredential authentication unavailable. Environment variables are not fully configured.\n",
      "Visit https://aka.ms/azsdk/python/identity/environmentcredential/troubleshoot to troubleshoot.this issue.\n",
      "WARNING - ImdsCredential.get_token failed: ManagedIdentityCredential authentication unavailable, no response from the IMDS endpoint.\n",
      "WARNING - ManagedIdentityCredential.get_token failed: ManagedIdentityCredential authentication unavailable, no response from the IMDS endpoint.\n",
      "WARNING - VisualStudioCodeCredential.get_token failed: Failed to get Azure user details from Visual Studio Code.\n",
      "WARNING - VSCodeCredential.get_token failed: Failed to get Azure user details from Visual Studio Code.\n",
      "WARNING - AzureCliCredential.get_token failed: Please run 'az login' to set up an account\n",
      "WARNING - AzurePowerShellCredential.get_token failed: PowerShell is not installed\n",
      "WARNING - InteractiveBrowserCredential.get_token failed: Failed to open a browser\n"
     ]
    },
    {
     "name": "stdout",
     "output_type": "stream",
     "text": [
      "To sign in, use a web browser to open the page https://microsoft.com/devicelogin and enter the code HDBH9D755 to authenticate.\n"
     ]
    }
   ],
   "source": [
    "# num_shots=100\n",
    "# job = target.submit(\n",
    "#     input_data=qaoa_bitcode, \n",
    "#     name=\"bell state\", \n",
    "#     input_params=InputParams(count=num_shots, skip_quilc=False)\n",
    "# )"
   ]
  },
  {
   "cell_type": "code",
   "execution_count": 14,
   "metadata": {},
   "outputs": [
    {
     "name": "stderr",
     "output_type": "stream",
     "text": [
      "WARNING - EnvironmentCredential.get_token failed: EnvironmentCredential authentication unavailable. Environment variables are not fully configured.\n",
      "Visit https://aka.ms/azsdk/python/identity/environmentcredential/troubleshoot to troubleshoot.this issue.\n",
      "WARNING - ImdsCredential.get_token failed: ManagedIdentityCredential authentication unavailable, no response from the IMDS endpoint.\n",
      "WARNING - ManagedIdentityCredential.get_token failed: ManagedIdentityCredential authentication unavailable, no response from the IMDS endpoint.\n",
      "WARNING - VisualStudioCodeCredential.get_token failed: Failed to get Azure user details from Visual Studio Code.\n",
      "WARNING - VSCodeCredential.get_token failed: Failed to get Azure user details from Visual Studio Code.\n",
      "WARNING - AzureCliCredential.get_token failed: Please run 'az login' to set up an account\n",
      "WARNING - AzurePowerShellCredential.get_token failed: PowerShell is not installed\n",
      "WARNING - InteractiveBrowserCredential.get_token failed: Failed to open a browser\n"
     ]
    },
    {
     "name": "stdout",
     "output_type": "stream",
     "text": [
      "To sign in, use a web browser to open the page https://microsoft.com/devicelogin and enter the code H946EBVTE to authenticate.\n"
     ]
    }
   ],
   "source": [
    "import azure.quantum as azure_q\n",
    "job = azure_q.Job.from_input_data(\n",
    "    workspace=workspace,\n",
    "    name=\"oq_test_with_qir\",\n",
    "    provider_id=\"ionq\",\n",
    "    target=\"ionq.simulator\",\n",
    "    input_data_format=\"qir.v1\",\n",
    "    output_data_format=\"microsoft.quantum-results.v1\",\n",
    "    input_data=qaoa_bitcode,\n",
    "    input_params={\n",
    "        \"shots\": 100,\n",
    "        \"entryPoint\": \"main\",\n",
    "        \"arguments\": []\n",
    "    }\n",
    ")"
   ]
  },
  {
   "cell_type": "code",
   "execution_count": null,
   "metadata": {},
   "outputs": [],
   "source": [
    "info = job.details.as_dict()\n",
    "info"
   ]
  },
  {
   "cell_type": "code",
   "execution_count": 37,
   "metadata": {},
   "outputs": [
    {
     "data": {
      "text/plain": [
       "{'Histogram': ['[0, 0, 1, 1, 1, 0, 1]', 1.0]}"
      ]
     },
     "execution_count": 37,
     "metadata": {},
     "output_type": "execute_result"
    }
   ],
   "source": [
    "job.get_results()"
   ]
  },
  {
   "cell_type": "code",
   "execution_count": 29,
   "metadata": {},
   "outputs": [
    {
     "data": {
      "text/plain": [
       "<azure.quantum._client.models._models_py3.JobDetails at 0x7f1c01000d00>"
      ]
     },
     "execution_count": 29,
     "metadata": {},
     "output_type": "execute_result"
    }
   ],
   "source": [
    "job."
   ]
  }
 ],
 "metadata": {
  "kernelspec": {
   "display_name": "oq_qir",
   "language": "python",
   "name": "oq_qir"
  },
  "language_info": {
   "codemirror_mode": {
    "name": "ipython",
    "version": 3
   },
   "file_extension": ".py",
   "mimetype": "text/x-python",
   "name": "python",
   "nbconvert_exporter": "python",
   "pygments_lexer": "ipython3",
   "version": "3.8.0"
  }
 },
 "nbformat": 4,
 "nbformat_minor": 4
}
