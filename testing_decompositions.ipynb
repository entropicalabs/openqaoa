{
 "cells": [
  {
   "cell_type": "markdown",
   "metadata": {},
   "source": [
    "### Testing decomposition rules"
   ]
  },
  {
   "cell_type": "code",
   "execution_count": 1,
   "metadata": {
    "execution": {
     "iopub.execute_input": "2022-05-12T05:15:14.879635Z",
     "iopub.status.busy": "2022-05-12T05:15:14.879250Z",
     "iopub.status.idle": "2022-05-12T05:15:18.421099Z",
     "shell.execute_reply": "2022-05-12T05:15:18.420344Z",
     "shell.execute_reply.started": "2022-05-12T05:15:14.879540Z"
    },
    "tags": []
   },
   "outputs": [],
   "source": [
    "from openqaoa.qaoa_parameters import *\n",
    "from openqaoa.qaoa_parameters import create_qaoa_variational_params"
   ]
  },
  {
   "cell_type": "code",
   "execution_count": 2,
   "metadata": {
    "execution": {
     "iopub.execute_input": "2022-05-12T05:15:18.423340Z",
     "iopub.status.busy": "2022-05-12T05:15:18.423084Z",
     "iopub.status.idle": "2022-05-12T05:15:18.688624Z",
     "shell.execute_reply": "2022-05-12T05:15:18.687751Z",
     "shell.execute_reply.started": "2022-05-12T05:15:18.423316Z"
    },
    "tags": []
   },
   "outputs": [],
   "source": [
    "from openqaoa.qaoa_parameters.baseparams import QAOACircuitParams\n",
    "from openqaoa.backends.qpus.qpu_auth import AccessObjectQiskit, AccessObjectPyQuil\n",
    "from openqaoa.backends.qaoa_backend import *\n",
    "from openqaoa.backends.simulators.qaoa_pyquil_sim import QAOAPyQuilWavefunctionSimulatorBackend\n",
    "from openqaoa.backends.qpus.qaoa_pyquil_qpu import QAOAPyQuilQPUBackend\n",
    "from openqaoa.backends.simulators.qaoa_qiskit_sim import QAOAQiskitBackendStatevecSimulator\n",
    "from openqaoa.optimizers import get_optimizer\n",
    "from openqaoa.utilities import *"
   ]
  },
  {
   "cell_type": "code",
   "execution_count": 3,
   "metadata": {
    "execution": {
     "iopub.execute_input": "2022-05-12T05:15:18.690300Z",
     "iopub.status.busy": "2022-05-12T05:15:18.689966Z",
     "iopub.status.idle": "2022-05-12T05:15:18.693615Z",
     "shell.execute_reply": "2022-05-12T05:15:18.692874Z",
     "shell.execute_reply.started": "2022-05-12T05:15:18.690276Z"
    },
    "tags": []
   },
   "outputs": [],
   "source": [
    "from pyquil import Program, gates\n",
    "from pyquil.api import WavefunctionSimulator\n",
    "from pyquil.quilatom import Parameter"
   ]
  },
  {
   "cell_type": "code",
   "execution_count": 4,
   "metadata": {
    "execution": {
     "iopub.execute_input": "2022-05-12T05:15:18.694985Z",
     "iopub.status.busy": "2022-05-12T05:15:18.694668Z",
     "iopub.status.idle": "2022-05-12T05:15:18.699010Z",
     "shell.execute_reply": "2022-05-12T05:15:18.698242Z",
     "shell.execute_reply.started": "2022-05-12T05:15:18.694961Z"
    },
    "tags": []
   },
   "outputs": [],
   "source": [
    "cost_hamil = Hamiltonian([PauliOp('ZZ', (0, 1)), PauliOp('ZZ', (1, 2)), PauliOp('ZZ', (0, 2)),\n",
    "                          PauliOp('Z',(2,)),PauliOp('Z',(3,))], \n",
    "                         [1, 1, 1, 2, 2], 0)"
   ]
  },
  {
   "cell_type": "code",
   "execution_count": 5,
   "metadata": {
    "execution": {
     "iopub.execute_input": "2022-05-12T05:15:18.700228Z",
     "iopub.status.busy": "2022-05-12T05:15:18.699976Z",
     "iopub.status.idle": "2022-05-12T05:15:18.746460Z",
     "shell.execute_reply": "2022-05-12T05:15:18.745819Z",
     "shell.execute_reply.started": "2022-05-12T05:15:18.700205Z"
    },
    "tags": []
   },
   "outputs": [
    {
     "data": {
      "text/latex": [
       "$\\displaystyle 0 + 1Z_{0}Z_{1} + 1Z_{0}Z_{2} + 1Z_{1}Z_{2} + 2Z_{2} + 2Z_{3}$"
      ],
      "text/plain": [
       "0 + 1Z_{0}Z_{1} + 1Z_{0}Z_{2} + 1Z_{1}Z_{2} + 2Z_{2} + 2Z_{3}"
      ]
     },
     "execution_count": 5,
     "metadata": {},
     "output_type": "execute_result"
    }
   ],
   "source": [
    "cost_hamil.expression"
   ]
  },
  {
   "cell_type": "code",
   "execution_count": 12,
   "metadata": {
    "execution": {
     "iopub.execute_input": "2022-05-12T05:16:07.200357Z",
     "iopub.status.busy": "2022-05-12T05:16:07.200088Z",
     "iopub.status.idle": "2022-05-12T05:16:07.335633Z",
     "shell.execute_reply": "2022-05-12T05:16:07.335036Z",
     "shell.execute_reply.started": "2022-05-12T05:16:07.200335Z"
    },
    "tags": []
   },
   "outputs": [],
   "source": [
    "plot_graph(graph_from_hamiltonian(cost_hamil))"
   ]
  },
  {
   "cell_type": "code",
   "execution_count": 13,
   "metadata": {
    "execution": {
     "iopub.execute_input": "2022-05-12T05:16:08.513135Z",
     "iopub.status.busy": "2022-05-12T05:16:08.512825Z",
     "iopub.status.idle": "2022-05-12T05:16:08.518970Z",
     "shell.execute_reply": "2022-05-12T05:16:08.518199Z",
     "shell.execute_reply.started": "2022-05-12T05:16:08.513110Z"
    },
    "tags": []
   },
   "outputs": [
    {
     "data": {
      "text/latex": [
       "$\\displaystyle -1X_{0} + -1X_{1} + -1X_{2} + -1X_{3} + 0$"
      ],
      "text/plain": [
       "-1X_{0} - 1X_{1} - 1X_{2} - 1X_{3} + 0"
      ]
     },
     "execution_count": 13,
     "metadata": {},
     "output_type": "execute_result"
    }
   ],
   "source": [
    "mixer_hamil = X_mixer_hamiltonian(n_qubits=4)\n",
    "mixer_hamil.expression"
   ]
  },
  {
   "cell_type": "code",
   "execution_count": 14,
   "metadata": {
    "execution": {
     "iopub.execute_input": "2022-05-12T05:16:08.643389Z",
     "iopub.status.busy": "2022-05-12T05:16:08.643108Z",
     "iopub.status.idle": "2022-05-12T05:16:08.646648Z",
     "shell.execute_reply": "2022-05-12T05:16:08.645696Z",
     "shell.execute_reply.started": "2022-05-12T05:16:08.643365Z"
    }
   },
   "outputs": [],
   "source": [
    "circuit_params = QAOACircuitParams(cost_hamil, mixer_hamil, p=2)"
   ]
  },
  {
   "cell_type": "code",
   "execution_count": 15,
   "metadata": {
    "execution": {
     "iopub.execute_input": "2022-05-12T05:16:08.814237Z",
     "iopub.status.busy": "2022-05-12T05:16:08.813960Z",
     "iopub.status.idle": "2022-05-12T05:16:08.817379Z",
     "shell.execute_reply": "2022-05-12T05:16:08.816620Z",
     "shell.execute_reply.started": "2022-05-12T05:16:08.814214Z"
    }
   },
   "outputs": [],
   "source": [
    "variate_params = create_qaoa_variational_params(circuit_params,'standard','ramp')"
   ]
  },
  {
   "cell_type": "code",
   "execution_count": 16,
   "metadata": {
    "execution": {
     "iopub.execute_input": "2022-05-12T05:16:09.910609Z",
     "iopub.status.busy": "2022-05-12T05:16:09.910331Z",
     "iopub.status.idle": "2022-05-12T05:16:09.915565Z",
     "shell.execute_reply": "2022-05-12T05:16:09.914665Z",
     "shell.execute_reply.started": "2022-05-12T05:16:09.910585Z"
    }
   },
   "outputs": [
    {
     "data": {
      "text/plain": [
       "Standard Parameterisation:\n",
       "\tp: 2\n",
       "Variational Parameters:\n",
       "\tbetas: [0.525 0.175]\n",
       "\tgammas: [0.175 0.525]"
      ]
     },
     "execution_count": 16,
     "metadata": {},
     "output_type": "execute_result"
    }
   ],
   "source": [
    "variate_params"
   ]
  },
  {
   "cell_type": "markdown",
   "metadata": {},
   "source": [
    "#### pyquil QPU"
   ]
  },
  {
   "cell_type": "code",
   "execution_count": 17,
   "metadata": {
    "execution": {
     "iopub.execute_input": "2022-05-12T05:16:11.088334Z",
     "iopub.status.busy": "2022-05-12T05:16:11.087989Z",
     "iopub.status.idle": "2022-05-12T05:16:11.091298Z",
     "shell.execute_reply": "2022-05-12T05:16:11.090543Z",
     "shell.execute_reply.started": "2022-05-12T05:16:11.088309Z"
    }
   },
   "outputs": [],
   "source": [
    "# prog = Program()\n",
    "# aaa = prog.declare('aaa','REAL',1)\n",
    "# prog += gates.RZ(2*aaa,1)\n",
    "# bbb = prog.declare('bbb','REAL',1)\n",
    "# prog += gates.RZ(bbb,1)\n",
    "# ccc = prog.declare('ccc','REAL',1)\n",
    "# prog += gates.RZ(ccc,1)\n",
    "# print(prog)"
   ]
  },
  {
   "cell_type": "code",
   "execution_count": 19,
   "metadata": {
    "execution": {
     "iopub.execute_input": "2022-05-12T05:16:51.088921Z",
     "iopub.status.busy": "2022-05-12T05:16:51.088645Z",
     "iopub.status.idle": "2022-05-12T05:16:52.984837Z",
     "shell.execute_reply": "2022-05-12T05:16:52.982990Z",
     "shell.execute_reply.started": "2022-05-12T05:16:51.088898Z"
    },
    "tags": []
   },
   "outputs": [
    {
     "ename": "UnknownApiError",
     "evalue": "\n\nThe server has failed to return a proper response. Please describe the problem\nand copy the above message into a GitHub issue at:\n    https://github.com/rigetti/pyquil/issues",
     "output_type": "error",
     "traceback": [
      "\u001b[0;31m---------------------------------------------------------------------------\u001b[0m",
      "\u001b[0;31mJSONDecodeError\u001b[0m                           Traceback (most recent call last)",
      "File \u001b[0;32m~/opt/anaconda3/envs/forest/lib/python3.8/site-packages/pyquil/api/_qvm_client.py:280\u001b[0m, in \u001b[0;36mQVMClient._parse_error\u001b[0;34m(res)\u001b[0m\n\u001b[1;32m    279\u001b[0m \u001b[38;5;28;01mtry\u001b[39;00m:\n\u001b[0;32m--> 280\u001b[0m     body \u001b[38;5;241m=\u001b[39m \u001b[43mres\u001b[49m\u001b[38;5;241;43m.\u001b[39;49m\u001b[43mjson\u001b[49m\u001b[43m(\u001b[49m\u001b[43m)\u001b[49m\n\u001b[1;32m    281\u001b[0m \u001b[38;5;28;01mexcept\u001b[39;00m JSONDecodeError:\n",
      "File \u001b[0;32m~/opt/anaconda3/envs/forest/lib/python3.8/site-packages/httpx/_models.py:1083\u001b[0m, in \u001b[0;36mResponse.json\u001b[0;34m(self, **kwargs)\u001b[0m\n\u001b[1;32m   1082\u001b[0m             \u001b[38;5;28;01mpass\u001b[39;00m\n\u001b[0;32m-> 1083\u001b[0m \u001b[38;5;28;01mreturn\u001b[39;00m \u001b[43mjsonlib\u001b[49m\u001b[38;5;241;43m.\u001b[39;49m\u001b[43mloads\u001b[49m\u001b[43m(\u001b[49m\u001b[38;5;28;43mself\u001b[39;49m\u001b[38;5;241;43m.\u001b[39;49m\u001b[43mtext\u001b[49m\u001b[43m,\u001b[49m\u001b[43m \u001b[49m\u001b[38;5;241;43m*\u001b[39;49m\u001b[38;5;241;43m*\u001b[39;49m\u001b[43mkwargs\u001b[49m\u001b[43m)\u001b[49m\n",
      "File \u001b[0;32m~/opt/anaconda3/envs/forest/lib/python3.8/json/__init__.py:357\u001b[0m, in \u001b[0;36mloads\u001b[0;34m(s, cls, object_hook, parse_float, parse_int, parse_constant, object_pairs_hook, **kw)\u001b[0m\n\u001b[1;32m    354\u001b[0m \u001b[38;5;28;01mif\u001b[39;00m (\u001b[38;5;28mcls\u001b[39m \u001b[38;5;129;01mis\u001b[39;00m \u001b[38;5;28;01mNone\u001b[39;00m \u001b[38;5;129;01mand\u001b[39;00m object_hook \u001b[38;5;129;01mis\u001b[39;00m \u001b[38;5;28;01mNone\u001b[39;00m \u001b[38;5;129;01mand\u001b[39;00m\n\u001b[1;32m    355\u001b[0m         parse_int \u001b[38;5;129;01mis\u001b[39;00m \u001b[38;5;28;01mNone\u001b[39;00m \u001b[38;5;129;01mand\u001b[39;00m parse_float \u001b[38;5;129;01mis\u001b[39;00m \u001b[38;5;28;01mNone\u001b[39;00m \u001b[38;5;129;01mand\u001b[39;00m\n\u001b[1;32m    356\u001b[0m         parse_constant \u001b[38;5;129;01mis\u001b[39;00m \u001b[38;5;28;01mNone\u001b[39;00m \u001b[38;5;129;01mand\u001b[39;00m object_pairs_hook \u001b[38;5;129;01mis\u001b[39;00m \u001b[38;5;28;01mNone\u001b[39;00m \u001b[38;5;129;01mand\u001b[39;00m \u001b[38;5;129;01mnot\u001b[39;00m kw):\n\u001b[0;32m--> 357\u001b[0m     \u001b[38;5;28;01mreturn\u001b[39;00m \u001b[43m_default_decoder\u001b[49m\u001b[38;5;241;43m.\u001b[39;49m\u001b[43mdecode\u001b[49m\u001b[43m(\u001b[49m\u001b[43ms\u001b[49m\u001b[43m)\u001b[49m\n\u001b[1;32m    358\u001b[0m \u001b[38;5;28;01mif\u001b[39;00m \u001b[38;5;28mcls\u001b[39m \u001b[38;5;129;01mis\u001b[39;00m \u001b[38;5;28;01mNone\u001b[39;00m:\n",
      "File \u001b[0;32m~/opt/anaconda3/envs/forest/lib/python3.8/json/decoder.py:337\u001b[0m, in \u001b[0;36mJSONDecoder.decode\u001b[0;34m(self, s, _w)\u001b[0m\n\u001b[1;32m    333\u001b[0m \u001b[38;5;124;03m\"\"\"Return the Python representation of ``s`` (a ``str`` instance\u001b[39;00m\n\u001b[1;32m    334\u001b[0m \u001b[38;5;124;03mcontaining a JSON document).\u001b[39;00m\n\u001b[1;32m    335\u001b[0m \n\u001b[1;32m    336\u001b[0m \u001b[38;5;124;03m\"\"\"\u001b[39;00m\n\u001b[0;32m--> 337\u001b[0m obj, end \u001b[38;5;241m=\u001b[39m \u001b[38;5;28;43mself\u001b[39;49m\u001b[38;5;241;43m.\u001b[39;49m\u001b[43mraw_decode\u001b[49m\u001b[43m(\u001b[49m\u001b[43ms\u001b[49m\u001b[43m,\u001b[49m\u001b[43m \u001b[49m\u001b[43midx\u001b[49m\u001b[38;5;241;43m=\u001b[39;49m\u001b[43m_w\u001b[49m\u001b[43m(\u001b[49m\u001b[43ms\u001b[49m\u001b[43m,\u001b[49m\u001b[43m \u001b[49m\u001b[38;5;241;43m0\u001b[39;49m\u001b[43m)\u001b[49m\u001b[38;5;241;43m.\u001b[39;49m\u001b[43mend\u001b[49m\u001b[43m(\u001b[49m\u001b[43m)\u001b[49m\u001b[43m)\u001b[49m\n\u001b[1;32m    338\u001b[0m end \u001b[38;5;241m=\u001b[39m _w(s, end)\u001b[38;5;241m.\u001b[39mend()\n",
      "File \u001b[0;32m~/opt/anaconda3/envs/forest/lib/python3.8/json/decoder.py:355\u001b[0m, in \u001b[0;36mJSONDecoder.raw_decode\u001b[0;34m(self, s, idx)\u001b[0m\n\u001b[1;32m    354\u001b[0m \u001b[38;5;28;01mexcept\u001b[39;00m \u001b[38;5;167;01mStopIteration\u001b[39;00m \u001b[38;5;28;01mas\u001b[39;00m err:\n\u001b[0;32m--> 355\u001b[0m     \u001b[38;5;28;01mraise\u001b[39;00m JSONDecodeError(\u001b[38;5;124m\"\u001b[39m\u001b[38;5;124mExpecting value\u001b[39m\u001b[38;5;124m\"\u001b[39m, s, err\u001b[38;5;241m.\u001b[39mvalue) \u001b[38;5;28;01mfrom\u001b[39;00m \u001b[38;5;28mNone\u001b[39m\n\u001b[1;32m    356\u001b[0m \u001b[38;5;28;01mreturn\u001b[39;00m obj, end\n",
      "\u001b[0;31mJSONDecodeError\u001b[0m: Expecting value: line 1 column 1 (char 0)",
      "\nDuring handling of the above exception, another exception occurred:\n",
      "\u001b[0;31mUnknownApiError\u001b[0m                           Traceback (most recent call last)",
      "Input \u001b[0;32mIn [19]\u001b[0m, in \u001b[0;36m<cell line: 1>\u001b[0;34m()\u001b[0m\n\u001b[0;32m----> 1\u001b[0m access_object_pyquil \u001b[38;5;241m=\u001b[39m \u001b[43mAccessObjectPyQuil\u001b[49m\u001b[43m(\u001b[49m\u001b[43mname\u001b[49m\u001b[43m \u001b[49m\u001b[38;5;241;43m=\u001b[39;49m\u001b[43m \u001b[49m\u001b[38;5;124;43m\"\u001b[39;49m\u001b[38;5;124;43mAspen-11\u001b[39;49m\u001b[38;5;124;43m\"\u001b[39;49m\u001b[43m,\u001b[49m\u001b[43m \u001b[49m\u001b[43mas_qvm\u001b[49m\u001b[38;5;241;43m=\u001b[39;49m\u001b[38;5;28;43;01mTrue\u001b[39;49;00m\u001b[43m,\u001b[49m\u001b[43m \u001b[49m\u001b[43mexecution_timeout\u001b[49m\u001b[43m \u001b[49m\u001b[38;5;241;43m=\u001b[39;49m\u001b[43m \u001b[49m\u001b[38;5;241;43m500\u001b[39;49m\u001b[43m)\u001b[49m\n\u001b[1;32m      2\u001b[0m backend_pyquil_qpu \u001b[38;5;241m=\u001b[39m get_qaoa_backend(circuit_params,access_object_pyquil,n_shots\u001b[38;5;241m=\u001b[39m\u001b[38;5;241m1000\u001b[39m)\n",
      "File \u001b[0;32m~/Documents/Github/openqaoa/openqaoa/backends/qpus/qpu_auth.py:217\u001b[0m, in \u001b[0;36mAccessObjectPyQuil.__init__\u001b[0;34m(self, name, as_qvm, noisy, compiler_timeout, execution_timeout, client_configuration, endpoint_id, engagement_manager)\u001b[0m\n\u001b[1;32m    214\u001b[0m \u001b[38;5;28mself\u001b[39m\u001b[38;5;241m.\u001b[39mendpoint_id \u001b[38;5;241m=\u001b[39m endpoint_id\n\u001b[1;32m    215\u001b[0m \u001b[38;5;28mself\u001b[39m\u001b[38;5;241m.\u001b[39mengagement_manager \u001b[38;5;241m=\u001b[39m engagement_manager\n\u001b[0;32m--> 217\u001b[0m \u001b[38;5;28mself\u001b[39m\u001b[38;5;241m.\u001b[39mquantum_computer \u001b[38;5;241m=\u001b[39m \u001b[43mget_qc\u001b[49m\u001b[43m(\u001b[49m\u001b[43mname\u001b[49m\u001b[38;5;241;43m=\u001b[39;49m\u001b[38;5;28;43mself\u001b[39;49m\u001b[38;5;241;43m.\u001b[39;49m\u001b[43mname\u001b[49m\u001b[43m,\u001b[49m\u001b[43m \u001b[49m\u001b[43mas_qvm\u001b[49m\u001b[38;5;241;43m=\u001b[39;49m\u001b[38;5;28;43mself\u001b[39;49m\u001b[38;5;241;43m.\u001b[39;49m\u001b[43mas_qvm\u001b[49m\u001b[43m,\u001b[49m\u001b[43m \u001b[49m\u001b[43mnoisy\u001b[49m\u001b[38;5;241;43m=\u001b[39;49m\u001b[38;5;28;43mself\u001b[39;49m\u001b[38;5;241;43m.\u001b[39;49m\u001b[43mnoisy\u001b[49m\u001b[43m,\u001b[49m\n\u001b[1;32m    218\u001b[0m \u001b[43m                               \u001b[49m\u001b[43mcompiler_timeout\u001b[49m\u001b[38;5;241;43m=\u001b[39;49m\u001b[38;5;28;43mself\u001b[39;49m\u001b[38;5;241;43m.\u001b[39;49m\u001b[43mcompiler_timeout\u001b[49m\u001b[43m,\u001b[49m\u001b[43m \u001b[49m\u001b[43mexecution_timeout\u001b[49m\u001b[38;5;241;43m=\u001b[39;49m\u001b[38;5;28;43mself\u001b[39;49m\u001b[38;5;241;43m.\u001b[39;49m\u001b[43mexecution_timeout\u001b[49m\u001b[43m,\u001b[49m\n\u001b[1;32m    219\u001b[0m \u001b[43m                               \u001b[49m\u001b[43mclient_configuration\u001b[49m\u001b[38;5;241;43m=\u001b[39;49m\u001b[38;5;28;43mself\u001b[39;49m\u001b[38;5;241;43m.\u001b[39;49m\u001b[43mclient_configuration\u001b[49m\u001b[43m,\u001b[49m\u001b[43m \u001b[49m\u001b[43mendpoint_id\u001b[49m\u001b[38;5;241;43m=\u001b[39;49m\u001b[38;5;28;43mself\u001b[39;49m\u001b[38;5;241;43m.\u001b[39;49m\u001b[43mendpoint_id\u001b[49m\u001b[43m,\u001b[49m\u001b[43m \u001b[49m\u001b[43mengagement_manager\u001b[49m\u001b[38;5;241;43m=\u001b[39;49m\u001b[38;5;28;43mself\u001b[39;49m\u001b[38;5;241;43m.\u001b[39;49m\u001b[43mengagement_manager\u001b[49m\u001b[43m)\u001b[49m\n",
      "File \u001b[0;32m~/opt/anaconda3/envs/forest/lib/python3.8/site-packages/pyquil/api/_quantum_computer.py:855\u001b[0m, in \u001b[0;36mget_qc\u001b[0;34m(***failed resolving arguments***)\u001b[0m\n\u001b[1;32m    850\u001b[0m quantum_processor \u001b[38;5;241m=\u001b[39m get_qcs_quantum_processor(\n\u001b[1;32m    851\u001b[0m     quantum_processor_id\u001b[38;5;241m=\u001b[39mprefix, client_configuration\u001b[38;5;241m=\u001b[39mclient_configuration\n\u001b[1;32m    852\u001b[0m )\n\u001b[1;32m    853\u001b[0m \u001b[38;5;28;01mif\u001b[39;00m qvm_type \u001b[38;5;129;01mis\u001b[39;00m \u001b[38;5;129;01mnot\u001b[39;00m \u001b[38;5;28;01mNone\u001b[39;00m:\n\u001b[1;32m    854\u001b[0m     \u001b[38;5;66;03m# 4.1 QVM based on a real quantum_processor.\u001b[39;00m\n\u001b[0;32m--> 855\u001b[0m     \u001b[38;5;28;01mreturn\u001b[39;00m \u001b[43m_get_qvm_based_on_real_quantum_processor\u001b[49m\u001b[43m(\u001b[49m\n\u001b[1;32m    856\u001b[0m \u001b[43m        \u001b[49m\u001b[43mclient_configuration\u001b[49m\u001b[38;5;241;43m=\u001b[39;49m\u001b[43mclient_configuration\u001b[49m\u001b[43m,\u001b[49m\n\u001b[1;32m    857\u001b[0m \u001b[43m        \u001b[49m\u001b[43mname\u001b[49m\u001b[38;5;241;43m=\u001b[39;49m\u001b[43mname\u001b[49m\u001b[43m,\u001b[49m\n\u001b[1;32m    858\u001b[0m \u001b[43m        \u001b[49m\u001b[43mquantum_processor\u001b[49m\u001b[38;5;241;43m=\u001b[39;49m\u001b[43mquantum_processor\u001b[49m\u001b[43m,\u001b[49m\n\u001b[1;32m    859\u001b[0m \u001b[43m        \u001b[49m\u001b[43mnoisy\u001b[49m\u001b[38;5;241;43m=\u001b[39;49m\u001b[38;5;28;43;01mFalse\u001b[39;49;00m\u001b[43m,\u001b[49m\n\u001b[1;32m    860\u001b[0m \u001b[43m        \u001b[49m\u001b[43mqvm_type\u001b[49m\u001b[38;5;241;43m=\u001b[39;49m\u001b[43mqvm_type\u001b[49m\u001b[43m,\u001b[49m\n\u001b[1;32m    861\u001b[0m \u001b[43m        \u001b[49m\u001b[43mcompiler_timeout\u001b[49m\u001b[38;5;241;43m=\u001b[39;49m\u001b[43mcompiler_timeout\u001b[49m\u001b[43m,\u001b[49m\n\u001b[1;32m    862\u001b[0m \u001b[43m        \u001b[49m\u001b[43mexecution_timeout\u001b[49m\u001b[38;5;241;43m=\u001b[39;49m\u001b[43mexecution_timeout\u001b[49m\u001b[43m,\u001b[49m\n\u001b[1;32m    863\u001b[0m \u001b[43m    \u001b[49m\u001b[43m)\u001b[49m\n\u001b[1;32m    864\u001b[0m \u001b[38;5;28;01melse\u001b[39;00m:\n\u001b[1;32m    865\u001b[0m     qpu \u001b[38;5;241m=\u001b[39m QPU(\n\u001b[1;32m    866\u001b[0m         quantum_processor_id\u001b[38;5;241m=\u001b[39mquantum_processor\u001b[38;5;241m.\u001b[39mquantum_processor_id,\n\u001b[1;32m    867\u001b[0m         timeout\u001b[38;5;241m=\u001b[39mexecution_timeout,\n\u001b[0;32m   (...)\u001b[0m\n\u001b[1;32m    870\u001b[0m         engagement_manager\u001b[38;5;241m=\u001b[39mengagement_manager,\n\u001b[1;32m    871\u001b[0m     )\n",
      "File \u001b[0;32m~/opt/anaconda3/envs/forest/lib/python3.8/site-packages/pyquil/api/_quantum_computer.py:709\u001b[0m, in \u001b[0;36m_get_qvm_based_on_real_quantum_processor\u001b[0;34m(client_configuration, name, quantum_processor, noisy, qvm_type, compiler_timeout, execution_timeout)\u001b[0m\n\u001b[1;32m    707\u001b[0m \u001b[38;5;28;01melse\u001b[39;00m:\n\u001b[1;32m    708\u001b[0m     noise_model \u001b[38;5;241m=\u001b[39m \u001b[38;5;28;01mNone\u001b[39;00m\n\u001b[0;32m--> 709\u001b[0m \u001b[38;5;28;01mreturn\u001b[39;00m \u001b[43m_get_qvm_qc\u001b[49m\u001b[43m(\u001b[49m\n\u001b[1;32m    710\u001b[0m \u001b[43m    \u001b[49m\u001b[43mclient_configuration\u001b[49m\u001b[38;5;241;43m=\u001b[39;49m\u001b[43mclient_configuration\u001b[49m\u001b[43m,\u001b[49m\n\u001b[1;32m    711\u001b[0m \u001b[43m    \u001b[49m\u001b[43mname\u001b[49m\u001b[38;5;241;43m=\u001b[39;49m\u001b[43mname\u001b[49m\u001b[43m,\u001b[49m\n\u001b[1;32m    712\u001b[0m \u001b[43m    \u001b[49m\u001b[43mquantum_processor\u001b[49m\u001b[38;5;241;43m=\u001b[39;49m\u001b[43mquantum_processor\u001b[49m\u001b[43m,\u001b[49m\n\u001b[1;32m    713\u001b[0m \u001b[43m    \u001b[49m\u001b[43mnoise_model\u001b[49m\u001b[38;5;241;43m=\u001b[39;49m\u001b[43mnoise_model\u001b[49m\u001b[43m,\u001b[49m\n\u001b[1;32m    714\u001b[0m \u001b[43m    \u001b[49m\u001b[43mqvm_type\u001b[49m\u001b[38;5;241;43m=\u001b[39;49m\u001b[43mqvm_type\u001b[49m\u001b[43m,\u001b[49m\n\u001b[1;32m    715\u001b[0m \u001b[43m    \u001b[49m\u001b[43mcompiler_timeout\u001b[49m\u001b[38;5;241;43m=\u001b[39;49m\u001b[43mcompiler_timeout\u001b[49m\u001b[43m,\u001b[49m\n\u001b[1;32m    716\u001b[0m \u001b[43m    \u001b[49m\u001b[43mexecution_timeout\u001b[49m\u001b[38;5;241;43m=\u001b[39;49m\u001b[43mexecution_timeout\u001b[49m\u001b[43m,\u001b[49m\n\u001b[1;32m    717\u001b[0m \u001b[43m\u001b[49m\u001b[43m)\u001b[49m\n",
      "File \u001b[0;32m~/opt/anaconda3/envs/forest/lib/python3.8/site-packages/pyquil/api/_quantum_computer.py:551\u001b[0m, in \u001b[0;36m_get_qvm_qc\u001b[0;34m(client_configuration, name, qvm_type, quantum_processor, compiler_timeout, execution_timeout, noise_model)\u001b[0m\n\u001b[1;32m    525\u001b[0m \u001b[38;5;28;01mdef\u001b[39;00m \u001b[38;5;21m_get_qvm_qc\u001b[39m(\n\u001b[1;32m    526\u001b[0m     \u001b[38;5;241m*\u001b[39m,\n\u001b[1;32m    527\u001b[0m     client_configuration: QCSClientConfiguration,\n\u001b[0;32m   (...)\u001b[0m\n\u001b[1;32m    533\u001b[0m     noise_model: Optional[NoiseModel],\n\u001b[1;32m    534\u001b[0m ) \u001b[38;5;241m-\u001b[39m\u001b[38;5;241m>\u001b[39m QuantumComputer:\n\u001b[1;32m    535\u001b[0m     \u001b[38;5;124;03m\"\"\"Construct a QuantumComputer backed by a QVM.\u001b[39;00m\n\u001b[1;32m    536\u001b[0m \n\u001b[1;32m    537\u001b[0m \u001b[38;5;124;03m    This is a minimal wrapper over the QuantumComputer, QVM, and QVMCompiler constructors.\u001b[39;00m\n\u001b[0;32m   (...)\u001b[0m\n\u001b[1;32m    546\u001b[0m \u001b[38;5;124;03m    :return: A QuantumComputer backed by a QVM with the above options.\u001b[39;00m\n\u001b[1;32m    547\u001b[0m \u001b[38;5;124;03m    \"\"\"\u001b[39;00m\n\u001b[1;32m    549\u001b[0m     \u001b[38;5;28;01mreturn\u001b[39;00m QuantumComputer(\n\u001b[1;32m    550\u001b[0m         name\u001b[38;5;241m=\u001b[39mname,\n\u001b[0;32m--> 551\u001b[0m         qam\u001b[38;5;241m=\u001b[39m\u001b[43m_get_qvm_or_pyqvm\u001b[49m\u001b[43m(\u001b[49m\n\u001b[1;32m    552\u001b[0m \u001b[43m            \u001b[49m\u001b[43mclient_configuration\u001b[49m\u001b[38;5;241;43m=\u001b[39;49m\u001b[43mclient_configuration\u001b[49m\u001b[43m,\u001b[49m\n\u001b[1;32m    553\u001b[0m \u001b[43m            \u001b[49m\u001b[43mqvm_type\u001b[49m\u001b[38;5;241;43m=\u001b[39;49m\u001b[43mqvm_type\u001b[49m\u001b[43m,\u001b[49m\n\u001b[1;32m    554\u001b[0m \u001b[43m            \u001b[49m\u001b[43mnoise_model\u001b[49m\u001b[38;5;241;43m=\u001b[39;49m\u001b[43mnoise_model\u001b[49m\u001b[43m,\u001b[49m\n\u001b[1;32m    555\u001b[0m \u001b[43m            \u001b[49m\u001b[43mquantum_processor\u001b[49m\u001b[38;5;241;43m=\u001b[39;49m\u001b[43mquantum_processor\u001b[49m\u001b[43m,\u001b[49m\n\u001b[1;32m    556\u001b[0m \u001b[43m            \u001b[49m\u001b[43mexecution_timeout\u001b[49m\u001b[38;5;241;43m=\u001b[39;49m\u001b[43mexecution_timeout\u001b[49m\u001b[43m,\u001b[49m\n\u001b[1;32m    557\u001b[0m \u001b[43m        \u001b[49m\u001b[43m)\u001b[49m,\n\u001b[1;32m    558\u001b[0m         compiler\u001b[38;5;241m=\u001b[39mQVMCompiler(\n\u001b[1;32m    559\u001b[0m             quantum_processor\u001b[38;5;241m=\u001b[39mquantum_processor,\n\u001b[1;32m    560\u001b[0m             timeout\u001b[38;5;241m=\u001b[39mcompiler_timeout,\n\u001b[1;32m    561\u001b[0m             client_configuration\u001b[38;5;241m=\u001b[39mclient_configuration,\n\u001b[1;32m    562\u001b[0m         ),\n\u001b[1;32m    563\u001b[0m     )\n",
      "File \u001b[0;32m~/opt/anaconda3/envs/forest/lib/python3.8/site-packages/pyquil/api/_quantum_computer.py:517\u001b[0m, in \u001b[0;36m_get_qvm_or_pyqvm\u001b[0;34m(client_configuration, qvm_type, noise_model, quantum_processor, execution_timeout)\u001b[0m\n\u001b[1;32m    508\u001b[0m \u001b[38;5;28;01mdef\u001b[39;00m \u001b[38;5;21m_get_qvm_or_pyqvm\u001b[39m(\n\u001b[1;32m    509\u001b[0m     \u001b[38;5;241m*\u001b[39m,\n\u001b[1;32m    510\u001b[0m     client_configuration: QCSClientConfiguration,\n\u001b[0;32m   (...)\u001b[0m\n\u001b[1;32m    514\u001b[0m     execution_timeout: \u001b[38;5;28mfloat\u001b[39m,\n\u001b[1;32m    515\u001b[0m ) \u001b[38;5;241m-\u001b[39m\u001b[38;5;241m>\u001b[39m Union[QVM, PyQVM]:\n\u001b[1;32m    516\u001b[0m     \u001b[38;5;28;01mif\u001b[39;00m qvm_type \u001b[38;5;241m==\u001b[39m \u001b[38;5;124m\"\u001b[39m\u001b[38;5;124mqvm\u001b[39m\u001b[38;5;124m\"\u001b[39m:\n\u001b[0;32m--> 517\u001b[0m         \u001b[38;5;28;01mreturn\u001b[39;00m \u001b[43mQVM\u001b[49m\u001b[43m(\u001b[49m\u001b[43mnoise_model\u001b[49m\u001b[38;5;241;43m=\u001b[39;49m\u001b[43mnoise_model\u001b[49m\u001b[43m,\u001b[49m\u001b[43m \u001b[49m\u001b[43mtimeout\u001b[49m\u001b[38;5;241;43m=\u001b[39;49m\u001b[43mexecution_timeout\u001b[49m\u001b[43m,\u001b[49m\u001b[43m \u001b[49m\u001b[43mclient_configuration\u001b[49m\u001b[38;5;241;43m=\u001b[39;49m\u001b[43mclient_configuration\u001b[49m\u001b[43m)\u001b[49m\n\u001b[1;32m    518\u001b[0m     \u001b[38;5;28;01melif\u001b[39;00m qvm_type \u001b[38;5;241m==\u001b[39m \u001b[38;5;124m\"\u001b[39m\u001b[38;5;124mpyqvm\u001b[39m\u001b[38;5;124m\"\u001b[39m:\n\u001b[1;32m    519\u001b[0m         \u001b[38;5;28;01massert\u001b[39;00m quantum_processor \u001b[38;5;129;01mis\u001b[39;00m \u001b[38;5;129;01mnot\u001b[39;00m \u001b[38;5;28;01mNone\u001b[39;00m\n",
      "File \u001b[0;32m~/opt/anaconda3/envs/forest/lib/python3.8/site-packages/pyquil/api/_qvm.py:116\u001b[0m, in \u001b[0;36mQVM.__init__\u001b[0;34m(self, noise_model, gate_noise, measurement_noise, random_seed, timeout, client_configuration)\u001b[0m\n\u001b[1;32m    114\u001b[0m client_configuration \u001b[38;5;241m=\u001b[39m client_configuration \u001b[38;5;129;01mor\u001b[39;00m QCSClientConfiguration\u001b[38;5;241m.\u001b[39mload()\n\u001b[1;32m    115\u001b[0m \u001b[38;5;28mself\u001b[39m\u001b[38;5;241m.\u001b[39m_qvm_client \u001b[38;5;241m=\u001b[39m QVMClient(client_configuration\u001b[38;5;241m=\u001b[39mclient_configuration, request_timeout\u001b[38;5;241m=\u001b[39mtimeout)\n\u001b[0;32m--> 116\u001b[0m \u001b[38;5;28;43mself\u001b[39;49m\u001b[38;5;241;43m.\u001b[39;49m\u001b[43mconnect\u001b[49m\u001b[43m(\u001b[49m\u001b[43m)\u001b[49m\n",
      "File \u001b[0;32m~/opt/anaconda3/envs/forest/lib/python3.8/site-packages/pyquil/api/_qvm.py:120\u001b[0m, in \u001b[0;36mQVM.connect\u001b[0;34m(self)\u001b[0m\n\u001b[1;32m    118\u001b[0m \u001b[38;5;28;01mdef\u001b[39;00m \u001b[38;5;21mconnect\u001b[39m(\u001b[38;5;28mself\u001b[39m) \u001b[38;5;241m-\u001b[39m\u001b[38;5;241m>\u001b[39m \u001b[38;5;28;01mNone\u001b[39;00m:\n\u001b[1;32m    119\u001b[0m     \u001b[38;5;28;01mtry\u001b[39;00m:\n\u001b[0;32m--> 120\u001b[0m         version \u001b[38;5;241m=\u001b[39m \u001b[38;5;28;43mself\u001b[39;49m\u001b[38;5;241;43m.\u001b[39;49m\u001b[43mget_version_info\u001b[49m\u001b[43m(\u001b[49m\u001b[43m)\u001b[49m\n\u001b[1;32m    121\u001b[0m         check_qvm_version(version)\n\u001b[1;32m    122\u001b[0m     \u001b[38;5;28;01mexcept\u001b[39;00m \u001b[38;5;167;01mConnectionError\u001b[39;00m:\n",
      "File \u001b[0;32m~/opt/anaconda3/envs/forest/lib/python3.8/site-packages/pyquil/api/_qvm.py:175\u001b[0m, in \u001b[0;36mQVM.get_version_info\u001b[0;34m(self)\u001b[0m\n\u001b[1;32m    169\u001b[0m \u001b[38;5;28;01mdef\u001b[39;00m \u001b[38;5;21mget_version_info\u001b[39m(\u001b[38;5;28mself\u001b[39m) \u001b[38;5;241m-\u001b[39m\u001b[38;5;241m>\u001b[39m \u001b[38;5;28mstr\u001b[39m:\n\u001b[1;32m    170\u001b[0m     \u001b[38;5;124;03m\"\"\"\u001b[39;00m\n\u001b[1;32m    171\u001b[0m \u001b[38;5;124;03m    Return version information for the QVM.\u001b[39;00m\n\u001b[1;32m    172\u001b[0m \n\u001b[1;32m    173\u001b[0m \u001b[38;5;124;03m    :return: String with version information\u001b[39;00m\n\u001b[1;32m    174\u001b[0m \u001b[38;5;124;03m    \"\"\"\u001b[39;00m\n\u001b[0;32m--> 175\u001b[0m     \u001b[38;5;28;01mreturn\u001b[39;00m \u001b[38;5;28;43mself\u001b[39;49m\u001b[38;5;241;43m.\u001b[39;49m\u001b[43m_qvm_client\u001b[49m\u001b[38;5;241;43m.\u001b[39;49m\u001b[43mget_version\u001b[49m\u001b[43m(\u001b[49m\u001b[43m)\u001b[49m\n",
      "File \u001b[0;32m~/opt/anaconda3/envs/forest/lib/python3.8/site-packages/pyquil/api/_qvm_client.py:176\u001b[0m, in \u001b[0;36mQVMClient.get_version\u001b[0;34m(self)\u001b[0m\n\u001b[1;32m    172\u001b[0m \u001b[38;5;28;01mdef\u001b[39;00m \u001b[38;5;21mget_version\u001b[39m(\u001b[38;5;28mself\u001b[39m) \u001b[38;5;241m-\u001b[39m\u001b[38;5;241m>\u001b[39m \u001b[38;5;28mstr\u001b[39m:\n\u001b[1;32m    173\u001b[0m     \u001b[38;5;124;03m\"\"\"\u001b[39;00m\n\u001b[1;32m    174\u001b[0m \u001b[38;5;124;03m    Get version info for QVM server.\u001b[39;00m\n\u001b[1;32m    175\u001b[0m \u001b[38;5;124;03m    \"\"\"\u001b[39;00m\n\u001b[0;32m--> 176\u001b[0m     \u001b[38;5;28;01mreturn\u001b[39;00m \u001b[38;5;28;43mself\u001b[39;49m\u001b[38;5;241;43m.\u001b[39;49m\u001b[43m_post_json\u001b[49m\u001b[43m(\u001b[49m\u001b[43m{\u001b[49m\u001b[38;5;124;43m\"\u001b[39;49m\u001b[38;5;124;43mtype\u001b[39;49m\u001b[38;5;124;43m\"\u001b[39;49m\u001b[43m:\u001b[49m\u001b[43m \u001b[49m\u001b[38;5;124;43m\"\u001b[39;49m\u001b[38;5;124;43mversion\u001b[39;49m\u001b[38;5;124;43m\"\u001b[39;49m\u001b[43m}\u001b[49m\u001b[43m)\u001b[49m\u001b[38;5;241m.\u001b[39mtext\u001b[38;5;241m.\u001b[39msplit()[\u001b[38;5;241m0\u001b[39m]\n",
      "File \u001b[0;32m~/opt/anaconda3/envs/forest/lib/python3.8/site-packages/pyquil/api/_qvm_client.py:261\u001b[0m, in \u001b[0;36mQVMClient._post_json\u001b[0;34m(self, json)\u001b[0m\n\u001b[1;32m    259\u001b[0m     response \u001b[38;5;241m=\u001b[39m http\u001b[38;5;241m.\u001b[39mpost(\u001b[38;5;124m\"\u001b[39m\u001b[38;5;124m/\u001b[39m\u001b[38;5;124m\"\u001b[39m, json\u001b[38;5;241m=\u001b[39mjson)\n\u001b[1;32m    260\u001b[0m     \u001b[38;5;28;01mif\u001b[39;00m response\u001b[38;5;241m.\u001b[39mstatus_code \u001b[38;5;241m>\u001b[39m\u001b[38;5;241m=\u001b[39m \u001b[38;5;241m400\u001b[39m:\n\u001b[0;32m--> 261\u001b[0m         \u001b[38;5;28;01mraise\u001b[39;00m \u001b[38;5;28;43mself\u001b[39;49m\u001b[38;5;241;43m.\u001b[39;49m\u001b[43m_parse_error\u001b[49m\u001b[43m(\u001b[49m\u001b[43mresponse\u001b[49m\u001b[43m)\u001b[49m\n\u001b[1;32m    262\u001b[0m \u001b[38;5;28;01mreturn\u001b[39;00m response\n",
      "File \u001b[0;32m~/opt/anaconda3/envs/forest/lib/python3.8/site-packages/pyquil/api/_qvm_client.py:282\u001b[0m, in \u001b[0;36mQVMClient._parse_error\u001b[0;34m(res)\u001b[0m\n\u001b[1;32m    280\u001b[0m     body \u001b[38;5;241m=\u001b[39m res\u001b[38;5;241m.\u001b[39mjson()\n\u001b[1;32m    281\u001b[0m \u001b[38;5;28;01mexcept\u001b[39;00m JSONDecodeError:\n\u001b[0;32m--> 282\u001b[0m     \u001b[38;5;28;01mraise\u001b[39;00m UnknownApiError(res\u001b[38;5;241m.\u001b[39mtext)\n\u001b[1;32m    284\u001b[0m \u001b[38;5;28;01mif\u001b[39;00m \u001b[38;5;124m\"\u001b[39m\u001b[38;5;124merror_type\u001b[39m\u001b[38;5;124m\"\u001b[39m \u001b[38;5;129;01mnot\u001b[39;00m \u001b[38;5;129;01min\u001b[39;00m body:\n\u001b[1;32m    285\u001b[0m     \u001b[38;5;28;01mraise\u001b[39;00m UnknownApiError(\u001b[38;5;28mstr\u001b[39m(body))\n",
      "\u001b[0;31mUnknownApiError\u001b[0m: \n\nThe server has failed to return a proper response. Please describe the problem\nand copy the above message into a GitHub issue at:\n    https://github.com/rigetti/pyquil/issues"
     ]
    }
   ],
   "source": [
    "access_object_pyquil = AccessObjectPyQuil(name = \"Aspen-11\", as_qvm=True, execution_timeout = 500)\n",
    "backend_pyquil_qpu = get_qaoa_backend(circuit_params,access_object_pyquil,n_shots=1000)"
   ]
  },
  {
   "cell_type": "code",
   "execution_count": 13,
   "metadata": {},
   "outputs": [
    {
     "name": "stdout",
     "output_type": "stream",
     "text": [
      "DECLARE ro BIT[4]\n",
      "H 0\n",
      "H 1\n",
      "H 2\n",
      "H 3\n",
      "DECLARE pauli2qcost00 REAL[1]\n",
      "RZ(pauli2qcost00) 0\n",
      "RZ(pauli2qcost00) 1\n",
      "CPHASE(-2*pauli2qcost00) 0 1\n",
      "DECLARE pauli2qcost01 REAL[1]\n",
      "RZ(pauli2qcost01) 1\n",
      "RZ(pauli2qcost01) 2\n",
      "CPHASE(-2*pauli2qcost01) 1 2\n",
      "DECLARE pauli2qcost02 REAL[1]\n",
      "RZ(pauli2qcost02) 0\n",
      "RZ(pauli2qcost02) 2\n",
      "CPHASE(-2*pauli2qcost02) 0 2\n",
      "DECLARE pauli1qcost00 REAL[1]\n",
      "RZ(pauli1qcost00) 2\n",
      "DECLARE pauli1qcost01 REAL[1]\n",
      "RZ(pauli1qcost01) 3\n",
      "DECLARE pauli1qmixer00 REAL[1]\n",
      "RX(pauli1qmixer00) 0\n",
      "DECLARE pauli1qmixer01 REAL[1]\n",
      "RX(pauli1qmixer01) 1\n",
      "DECLARE pauli1qmixer02 REAL[1]\n",
      "RX(pauli1qmixer02) 2\n",
      "DECLARE pauli1qmixer03 REAL[1]\n",
      "RX(pauli1qmixer03) 3\n",
      "DECLARE pauli2qcost10 REAL[1]\n",
      "RZ(pauli2qcost10) 0\n",
      "RZ(pauli2qcost10) 1\n",
      "CPHASE(-2*pauli2qcost10) 0 1\n",
      "DECLARE pauli2qcost11 REAL[1]\n",
      "RZ(pauli2qcost11) 1\n",
      "RZ(pauli2qcost11) 2\n",
      "CPHASE(-2*pauli2qcost11) 1 2\n",
      "DECLARE pauli2qcost12 REAL[1]\n",
      "RZ(pauli2qcost12) 0\n",
      "RZ(pauli2qcost12) 2\n",
      "CPHASE(-2*pauli2qcost12) 0 2\n",
      "DECLARE pauli1qcost10 REAL[1]\n",
      "RZ(pauli1qcost10) 2\n",
      "DECLARE pauli1qcost11 REAL[1]\n",
      "RZ(pauli1qcost11) 3\n",
      "DECLARE pauli1qmixer10 REAL[1]\n",
      "RX(pauli1qmixer10) 0\n",
      "DECLARE pauli1qmixer11 REAL[1]\n",
      "RX(pauli1qmixer11) 1\n",
      "DECLARE pauli1qmixer12 REAL[1]\n",
      "RX(pauli1qmixer12) 2\n",
      "DECLARE pauli1qmixer13 REAL[1]\n",
      "RX(pauli1qmixer13) 3\n",
      "MEASURE 0 ro[0]\n",
      "MEASURE 1 ro[1]\n",
      "MEASURE 2 ro[2]\n",
      "MEASURE 3 ro[3]\n",
      "\n"
     ]
    }
   ],
   "source": [
    "print(backend_pyquil_qpu.parametric_circuit)"
   ]
  },
  {
   "cell_type": "code",
   "execution_count": 14,
   "metadata": {},
   "outputs": [
    {
     "name": "stdout",
     "output_type": "stream",
     "text": [
      "DECLARE ro BIT[4]\n",
      "DECLARE pauli2qcost00 REAL[1]\n",
      "DECLARE pauli2qcost01 REAL[1]\n",
      "DECLARE pauli2qcost02 REAL[1]\n",
      "DECLARE pauli1qcost00 REAL[1]\n",
      "DECLARE pauli1qcost01 REAL[1]\n",
      "DECLARE pauli1qmixer00 REAL[1]\n",
      "DECLARE pauli1qmixer01 REAL[1]\n",
      "DECLARE pauli1qmixer02 REAL[1]\n",
      "DECLARE pauli1qmixer03 REAL[1]\n",
      "DECLARE pauli2qcost10 REAL[1]\n",
      "DECLARE pauli2qcost11 REAL[1]\n",
      "DECLARE pauli2qcost12 REAL[1]\n",
      "DECLARE pauli1qcost10 REAL[1]\n",
      "DECLARE pauli1qcost11 REAL[1]\n",
      "DECLARE pauli1qmixer10 REAL[1]\n",
      "DECLARE pauli1qmixer11 REAL[1]\n",
      "DECLARE pauli1qmixer12 REAL[1]\n",
      "DECLARE pauli1qmixer13 REAL[1]\n",
      "RZ(pi) 42\n",
      "RX(pi/2) 42\n",
      "RZ(pi/2) 42\n",
      "RX(-pi/2) 42\n",
      "RZ(pi/2 + 1.0*pauli1qcost01[0]) 42\n",
      "RX(pi/2) 42\n",
      "RZ(1.0*pauli1qmixer03[0]) 42\n",
      "RX(-pi/2) 42\n",
      "RZ(1.0*pauli1qcost11[0]) 42\n",
      "RX(pi/2) 42\n",
      "RZ(1.0*pauli1qmixer13[0]) 42\n",
      "RX(-pi/2) 42\n",
      "RZ(-pi/2) 42\n",
      "MEASURE 42 ro[3]\n",
      "RZ(pi) 44\n",
      "RX(pi/2) 44\n",
      "RZ(pi/2) 44\n",
      "RX(-pi/2) 44\n",
      "RZ(1.0*pauli2qcost00[0]) 44\n",
      "RZ(pi) 45\n",
      "RX(pi/2) 45\n",
      "RZ(pi/2) 45\n",
      "RX(-pi/2) 45\n",
      "RZ(1.0*pauli2qcost00[0]) 45\n",
      "CPHASE(-2.0*pauli2qcost00[0]) 45 44\n",
      "RZ(pi) 43\n",
      "RX(pi/2) 43\n",
      "RZ(pi/2) 43\n",
      "RX(-pi/2) 43\n",
      "RZ(1.0*pauli2qcost01[0]) 43\n",
      "RZ(1.0*pauli2qcost01[0]) 44\n",
      "CPHASE(-2.0*pauli2qcost01[0]) 44 43\n",
      "RZ(1.0*pauli2qcost02[0]) 43\n",
      "RZ(pi/2) 44\n",
      "RX(pi/2) 44\n",
      "RZ(1.0*pauli1qmixer01[0]) 44\n",
      "RX(-pi/2) 44\n",
      "RZ(-pi/2) 44\n",
      "XY(pi) 43 44\n",
      "RX(pi/2) 44\n",
      "XY(pi) 43 44\n",
      "RX(pi/2) 43\n",
      "XY(pi) 43 44\n",
      "RX(pi/2) 44\n",
      "RZ(1.0*pauli2qcost02[0]) 45\n",
      "CPHASE(-2.0*pauli2qcost02[0]) 45 44\n",
      "RZ(1.0*pauli2qcost10[0]) 43\n",
      "RZ(pi/2 + 1.0*pauli1qcost00[0]) 44\n",
      "RX(pi/2) 44\n",
      "RZ(1.0*pauli1qmixer02[0]) 44\n",
      "RX(-pi/2) 44\n",
      "RZ(-pi/2) 44\n",
      "XY(pi) 43 44\n",
      "RX(pi/2) 44\n",
      "XY(pi) 43 44\n",
      "RX(pi/2) 43\n",
      "XY(pi) 43 44\n",
      "RX(pi/2) 44\n",
      "RZ(pi/2) 45\n",
      "RX(pi/2) 45\n",
      "RZ(1.0*pauli1qmixer00[0]) 45\n",
      "RX(-pi/2) 45\n",
      "RZ(-pi/2 + 1.0*pauli2qcost10[0]) 45\n",
      "CPHASE(-2.0*pauli2qcost10[0]) 45 44\n",
      "RZ(1.0*pauli2qcost11[0]) 43\n",
      "RZ(1.0*pauli2qcost11[0]) 44\n",
      "CPHASE(-2.0*pauli2qcost11[0]) 44 43\n",
      "RZ(pi/2) 44\n",
      "RX(pi/2) 44\n",
      "RZ(1.0*pauli1qmixer11[0]) 44\n",
      "RX(-pi/2) 44\n",
      "RZ(-pi/2) 44\n",
      "MEASURE 44 ro[1]\n",
      "RZ(1.0*pauli2qcost12[0]) 43\n",
      "XY(pi) 43 44\n",
      "RX(pi/2) 44\n",
      "XY(pi) 43 44\n",
      "RX(pi/2) 43\n",
      "XY(pi) 43 44\n",
      "RX(pi/2) 44\n",
      "RZ(1.0*pauli2qcost12[0]) 45\n",
      "CPHASE(-2.0*pauli2qcost12[0]) 45 44\n",
      "RZ(pi/2) 45\n",
      "RX(pi/2) 45\n",
      "RZ(1.0*pauli1qmixer10[0]) 45\n",
      "RX(-pi/2) 45\n",
      "RZ(-pi/2) 45\n",
      "MEASURE 45 ro[0]\n",
      "RZ(pi/2 + 1.0*pauli1qcost10[0]) 44\n",
      "RX(pi/2) 44\n",
      "RZ(1.0*pauli1qmixer12[0]) 44\n",
      "RX(-pi/2) 44\n",
      "RZ(-pi/2) 44\n",
      "MEASURE 44 ro[2]\n",
      "HALT\n",
      "\n"
     ]
    }
   ],
   "source": [
    "print(backend_pyquil_qpu.qaoa_circuit(variate_params))"
   ]
  },
  {
   "cell_type": "code",
   "execution_count": 15,
   "metadata": {},
   "outputs": [
    {
     "data": {
      "text/plain": [
       "-3.3640000000000008"
      ]
     },
     "execution_count": 15,
     "metadata": {},
     "output_type": "execute_result"
    }
   ],
   "source": [
    "backend_pyquil_qpu.expectation(variate_params)"
   ]
  },
  {
   "cell_type": "code",
   "execution_count": 16,
   "metadata": {},
   "outputs": [
    {
     "data": {
      "text/plain": [
       "(-5.0, [array([0, 0, 1, 1]), array([1, 0, 1, 1]), array([0, 1, 1, 1])])"
      ]
     },
     "execution_count": 16,
     "metadata": {},
     "output_type": "execute_result"
    }
   ],
   "source": [
    "backend_pyquil_qpu.exact_solution"
   ]
  },
  {
   "cell_type": "markdown",
   "metadata": {},
   "source": [
    "#### pyquil wavefunction simulator #TODO"
   ]
  },
  {
   "cell_type": "code",
   "execution_count": 19,
   "metadata": {},
   "outputs": [],
   "source": [
    "# backend_pyquil_statevec = get_qaoa_backend(circuit_params, 'pyquil_statevec_simulator')"
   ]
  },
  {
   "cell_type": "code",
   "execution_count": 20,
   "metadata": {},
   "outputs": [],
   "source": [
    "# # statevector = backend_pyquil_statevec.wavefunction(variate_params)\n",
    "# # print(statevector)\n",
    "# backend_pyquil_statevec.expectation(variate_params)"
   ]
  },
  {
   "cell_type": "markdown",
   "metadata": {},
   "source": [
    "#### qiskit wavefunction simulator"
   ]
  },
  {
   "cell_type": "code",
   "execution_count": 21,
   "metadata": {},
   "outputs": [],
   "source": [
    "backend_qiskit_statevec = get_qaoa_backend(circuit_params,'qiskit_statevec_simulator')"
   ]
  },
  {
   "cell_type": "code",
   "execution_count": 22,
   "metadata": {},
   "outputs": [
    {
     "name": "stderr",
     "output_type": "stream",
     "text": [
      "/home/leo/.local/lib/python3.8/site-packages/sympy/core/expr.py:3949: SymPyDeprecationWarning: \n",
      "\n",
      "expr_free_symbols method has been deprecated since SymPy 1.9. See\n",
      "https://github.com/sympy/sympy/issues/21494 for more info.\n",
      "\n",
      "  SymPyDeprecationWarning(feature=\"expr_free_symbols method\",\n"
     ]
    },
    {
     "data": {
      "text/html": [
       "<pre style=\"word-wrap: normal;white-space: pre;background: #fff0;line-height: 1.1;font-family: &quot;Courier New&quot;,Courier,monospace\">      ┌───┐                                                         »\n",
       "q0_0: ┤ H ├─■───────────────────────────────────────────────────────»\n",
       "      ├───┤ │ZZ(['2q', 'cost', 0, 0])                               »\n",
       "q0_1: ┤ H ├─■────────────────────────────■──────────────────────────»\n",
       "      ├───┤                              │ZZ(['2q', 'cost', 0, 1])  »\n",
       "q0_2: ┤ H ├──────────────────────────────■──────────────────────────»\n",
       "      ├───┤┌──────────────────────────┐┌───────────────────────────┐»\n",
       "q0_3: ┤ H ├┤ Rz(['1q', 'cost', 0, 1]) ├┤ Rx(['1q', 'mixer', 0, 3]) ├»\n",
       "      └───┘└──────────────────────────┘└───────────────────────────┘»\n",
       "«                                  ┌───────────────────────────┐»\n",
       "«q0_0: ─■──────────────────────────┤ Rx(['1q', 'mixer', 0, 0]) ├»\n",
       "«       │                          ├───────────────────────────┤»\n",
       "«q0_1: ─┼──────────────────────────┤ Rx(['1q', 'mixer', 0, 1]) ├»\n",
       "«       │ZZ(['2q', 'cost', 0, 2])  └┬──────────────────────────┤»\n",
       "«q0_2: ─■───────────────────────────┤ Rz(['1q', 'cost', 0, 0]) ├»\n",
       "«      ┌──────────────────────────┐┌┴──────────────────────────┤»\n",
       "«q0_3: ┤ Rz(['1q', 'cost', 1, 1]) ├┤ Rx(['1q', 'mixer', 1, 3]) ├»\n",
       "«      └──────────────────────────┘└───────────────────────────┘»\n",
       "«                                                              »\n",
       "«q0_0: ──■─────────────────────────────────────────────────────»\n",
       "«        │ZZ(['2q', 'cost', 1, 0])                             »\n",
       "«q0_1: ──■───────────────────────────■─────────────────────────»\n",
       "«      ┌───────────────────────────┐ │ZZ(['2q', 'cost', 1, 1]) »\n",
       "«q0_2: ┤ Rx(['1q', 'mixer', 0, 2]) ├─■─────────────────────────»\n",
       "«      └───────────────────────────┘                           »\n",
       "«q0_3: ────────────────────────────────────────────────────────»\n",
       "«                                                              »\n",
       "«                                 ┌───────────────────────────┐»\n",
       "«q0_0: ─■─────────────────────────┤ Rx(['1q', 'mixer', 1, 0]) ├»\n",
       "«       │                         ├───────────────────────────┤»\n",
       "«q0_1: ─┼─────────────────────────┤ Rx(['1q', 'mixer', 1, 1]) ├»\n",
       "«       │ZZ(['2q', 'cost', 1, 2]) └┬──────────────────────────┤»\n",
       "«q0_2: ─■──────────────────────────┤ Rz(['1q', 'cost', 1, 0]) ├»\n",
       "«                                  └──────────────────────────┘»\n",
       "«q0_3: ────────────────────────────────────────────────────────»\n",
       "«                                                              »\n",
       "«                                   \n",
       "«q0_0: ─────────────────────────────\n",
       "«                                   \n",
       "«q0_1: ─────────────────────────────\n",
       "«      ┌───────────────────────────┐\n",
       "«q0_2: ┤ Rx(['1q', 'mixer', 1, 2]) ├\n",
       "«      └───────────────────────────┘\n",
       "«q0_3: ─────────────────────────────\n",
       "«                                   </pre>"
      ],
      "text/plain": [
       "      ┌───┐                                                         »\n",
       "q0_0: ┤ H ├─■───────────────────────────────────────────────────────»\n",
       "      ├───┤ │ZZ(['2q', 'cost', 0, 0])                               »\n",
       "q0_1: ┤ H ├─■────────────────────────────■──────────────────────────»\n",
       "      ├───┤                              │ZZ(['2q', 'cost', 0, 1])  »\n",
       "q0_2: ┤ H ├──────────────────────────────■──────────────────────────»\n",
       "      ├───┤┌──────────────────────────┐┌───────────────────────────┐»\n",
       "q0_3: ┤ H ├┤ Rz(['1q', 'cost', 0, 1]) ├┤ Rx(['1q', 'mixer', 0, 3]) ├»\n",
       "      └───┘└──────────────────────────┘└───────────────────────────┘»\n",
       "«                                  ┌───────────────────────────┐»\n",
       "«q0_0: ─■──────────────────────────┤ Rx(['1q', 'mixer', 0, 0]) ├»\n",
       "«       │                          ├───────────────────────────┤»\n",
       "«q0_1: ─┼──────────────────────────┤ Rx(['1q', 'mixer', 0, 1]) ├»\n",
       "«       │ZZ(['2q', 'cost', 0, 2])  └┬──────────────────────────┤»\n",
       "«q0_2: ─■───────────────────────────┤ Rz(['1q', 'cost', 0, 0]) ├»\n",
       "«      ┌──────────────────────────┐┌┴──────────────────────────┤»\n",
       "«q0_3: ┤ Rz(['1q', 'cost', 1, 1]) ├┤ Rx(['1q', 'mixer', 1, 3]) ├»\n",
       "«      └──────────────────────────┘└───────────────────────────┘»\n",
       "«                                                              »\n",
       "«q0_0: ──■─────────────────────────────────────────────────────»\n",
       "«        │ZZ(['2q', 'cost', 1, 0])                             »\n",
       "«q0_1: ──■───────────────────────────■─────────────────────────»\n",
       "«      ┌───────────────────────────┐ │ZZ(['2q', 'cost', 1, 1]) »\n",
       "«q0_2: ┤ Rx(['1q', 'mixer', 0, 2]) ├─■─────────────────────────»\n",
       "«      └───────────────────────────┘                           »\n",
       "«q0_3: ────────────────────────────────────────────────────────»\n",
       "«                                                              »\n",
       "«                                 ┌───────────────────────────┐»\n",
       "«q0_0: ─■─────────────────────────┤ Rx(['1q', 'mixer', 1, 0]) ├»\n",
       "«       │                         ├───────────────────────────┤»\n",
       "«q0_1: ─┼─────────────────────────┤ Rx(['1q', 'mixer', 1, 1]) ├»\n",
       "«       │ZZ(['2q', 'cost', 1, 2]) └┬──────────────────────────┤»\n",
       "«q0_2: ─■──────────────────────────┤ Rz(['1q', 'cost', 1, 0]) ├»\n",
       "«                                  └──────────────────────────┘»\n",
       "«q0_3: ────────────────────────────────────────────────────────»\n",
       "«                                                              »\n",
       "«                                   \n",
       "«q0_0: ─────────────────────────────\n",
       "«                                   \n",
       "«q0_1: ─────────────────────────────\n",
       "«      ┌───────────────────────────┐\n",
       "«q0_2: ┤ Rx(['1q', 'mixer', 1, 2]) ├\n",
       "«      └───────────────────────────┘\n",
       "«q0_3: ─────────────────────────────\n",
       "«                                   "
      ]
     },
     "execution_count": 22,
     "metadata": {},
     "output_type": "execute_result"
    }
   ],
   "source": [
    "backend_qiskit_statevec.parametric_circuit.draw()"
   ]
  },
  {
   "cell_type": "code",
   "execution_count": 23,
   "metadata": {},
   "outputs": [
    {
     "data": {
      "text/html": [
       "<pre style=\"word-wrap: normal;white-space: pre;background: #fff0;line-height: 1.1;font-family: &quot;Courier New&quot;,Courier,monospace\">      ┌───┐                                                  »\n",
       "q0_0: ┤ H ├──■───────────────────────────────────────────────»\n",
       "      ├───┤  │ZZ(0.350000000000000)                          »\n",
       "q0_1: ┤ H ├──■────────────────────────■──────────────────────»\n",
       "      ├───┤                           │ZZ(0.350000000000000) »\n",
       "q0_2: ┤ H ├───────────────────────────■──────────────────────»\n",
       "      ├───┤┌───────────────────────┐┌───────────────────────┐»\n",
       "q0_3: ┤ H ├┤ Rz(0.700000000000000) ├┤ Rx(-1.05000000000000) ├»\n",
       "      └───┘└───────────────────────┘└───────────────────────┘»\n",
       "«                              ┌───────────────────────┐ »\n",
       "«q0_0: ─■──────────────────────┤ Rx(-1.05000000000000) ├─»\n",
       "«       │                      ├───────────────────────┤ »\n",
       "«q0_1: ─┼──────────────────────┤ Rx(-1.05000000000000) ├─»\n",
       "«       │ZZ(0.350000000000000) ├───────────────────────┤ »\n",
       "«q0_2: ─■──────────────────────┤ Rz(0.700000000000000) ├─»\n",
       "«      ┌──────────────────────┐├───────────────────────┴┐»\n",
       "«q0_3: ┤ Rz(2.10000000000000) ├┤ Rx(-0.350000000000000) ├»\n",
       "«      └──────────────────────┘└────────────────────────┘»\n",
       "«                                                                             »\n",
       "«q0_0: ──■──────────────────────────────────────────────■─────────────────────»\n",
       "«        │ZZ(1.05000000000000)                          │                     »\n",
       "«q0_1: ──■───────────────────────■──────────────────────┼─────────────────────»\n",
       "«      ┌───────────────────────┐ │ZZ(1.05000000000000)  │ZZ(1.05000000000000) »\n",
       "«q0_2: ┤ Rx(-1.05000000000000) ├─■──────────────────────■─────────────────────»\n",
       "«      └───────────────────────┘                                              »\n",
       "«q0_3: ───────────────────────────────────────────────────────────────────────»\n",
       "«                                                                             »\n",
       "«      ┌────────────────────────┐                          \n",
       "«q0_0: ┤ Rx(-0.350000000000000) ├──────────────────────────\n",
       "«      ├────────────────────────┤                          \n",
       "«q0_1: ┤ Rx(-0.350000000000000) ├──────────────────────────\n",
       "«      └┬──────────────────────┬┘┌────────────────────────┐\n",
       "«q0_2: ─┤ Rz(2.10000000000000) ├─┤ Rx(-0.350000000000000) ├\n",
       "«       └──────────────────────┘ └────────────────────────┘\n",
       "«q0_3: ────────────────────────────────────────────────────\n",
       "«                                                          </pre>"
      ],
      "text/plain": [
       "      ┌───┐                                                  »\n",
       "q0_0: ┤ H ├──■───────────────────────────────────────────────»\n",
       "      ├───┤  │ZZ(0.350000000000000)                          »\n",
       "q0_1: ┤ H ├──■────────────────────────■──────────────────────»\n",
       "      ├───┤                           │ZZ(0.350000000000000) »\n",
       "q0_2: ┤ H ├───────────────────────────■──────────────────────»\n",
       "      ├───┤┌───────────────────────┐┌───────────────────────┐»\n",
       "q0_3: ┤ H ├┤ Rz(0.700000000000000) ├┤ Rx(-1.05000000000000) ├»\n",
       "      └───┘└───────────────────────┘└───────────────────────┘»\n",
       "«                              ┌───────────────────────┐ »\n",
       "«q0_0: ─■──────────────────────┤ Rx(-1.05000000000000) ├─»\n",
       "«       │                      ├───────────────────────┤ »\n",
       "«q0_1: ─┼──────────────────────┤ Rx(-1.05000000000000) ├─»\n",
       "«       │ZZ(0.350000000000000) ├───────────────────────┤ »\n",
       "«q0_2: ─■──────────────────────┤ Rz(0.700000000000000) ├─»\n",
       "«      ┌──────────────────────┐├───────────────────────┴┐»\n",
       "«q0_3: ┤ Rz(2.10000000000000) ├┤ Rx(-0.350000000000000) ├»\n",
       "«      └──────────────────────┘└────────────────────────┘»\n",
       "«                                                                             »\n",
       "«q0_0: ──■──────────────────────────────────────────────■─────────────────────»\n",
       "«        │ZZ(1.05000000000000)                          │                     »\n",
       "«q0_1: ──■───────────────────────■──────────────────────┼─────────────────────»\n",
       "«      ┌───────────────────────┐ │ZZ(1.05000000000000)  │ZZ(1.05000000000000) »\n",
       "«q0_2: ┤ Rx(-1.05000000000000) ├─■──────────────────────■─────────────────────»\n",
       "«      └───────────────────────┘                                              »\n",
       "«q0_3: ───────────────────────────────────────────────────────────────────────»\n",
       "«                                                                             »\n",
       "«      ┌────────────────────────┐                          \n",
       "«q0_0: ┤ Rx(-0.350000000000000) ├──────────────────────────\n",
       "«      ├────────────────────────┤                          \n",
       "«q0_1: ┤ Rx(-0.350000000000000) ├──────────────────────────\n",
       "«      └┬──────────────────────┬┘┌────────────────────────┐\n",
       "«q0_2: ─┤ Rz(2.10000000000000) ├─┤ Rx(-0.350000000000000) ├\n",
       "«       └──────────────────────┘ └────────────────────────┘\n",
       "«q0_3: ────────────────────────────────────────────────────\n",
       "«                                                          "
      ]
     },
     "execution_count": 23,
     "metadata": {},
     "output_type": "execute_result"
    }
   ],
   "source": [
    "backend_qiskit_statevec.qaoa_circuit(variate_params).draw()"
   ]
  },
  {
   "cell_type": "code",
   "execution_count": 24,
   "metadata": {},
   "outputs": [],
   "source": [
    "backend_qiskit_statevec = get_qaoa_backend(circuit_params, 'qiskit_statevec_simulator')"
   ]
  },
  {
   "cell_type": "code",
   "execution_count": 25,
   "metadata": {},
   "outputs": [
    {
     "name": "stdout",
     "output_type": "stream",
     "text": [
      "-3.433133222123363\n",
      "(-3.433133222123363, 2.3118519395354693)\n"
     ]
    }
   ],
   "source": [
    "print(backend_qiskit_statevec.expectation(variate_params))\n",
    "print(backend_qiskit_statevec.expectation_w_uncertainty(variate_params))"
   ]
  },
  {
   "cell_type": "markdown",
   "metadata": {},
   "source": [
    "#### qiskit noisy shot based simulator"
   ]
  },
  {
   "cell_type": "code",
   "execution_count": 26,
   "metadata": {},
   "outputs": [],
   "source": [
    "from qiskit.providers.aer.noise import NoiseModel\n",
    "from qiskit import IBMQ\n",
    "IBMQ.load_account()\n",
    "provider = IBMQ.get_provider('ibm-q-startup','entropica-labs','reservations')\n",
    "backend = provider.get_backend('ibmq_guadalupe')\n",
    "noise_model = NoiseModel.from_backend(backend)"
   ]
  },
  {
   "cell_type": "code",
   "execution_count": 27,
   "metadata": {},
   "outputs": [],
   "source": [
    "backend_qiskit_shot = get_qaoa_backend(circuit_params, 'qiskit_shot_simulator', n_shots=1000000, noise_model=noise_model)"
   ]
  },
  {
   "cell_type": "code",
   "execution_count": 28,
   "metadata": {},
   "outputs": [
    {
     "name": "stdout",
     "output_type": "stream",
     "text": [
      "-3.1743560000000004\n",
      "(-3.1684720000000004, 2.5161305978060833)\n"
     ]
    }
   ],
   "source": [
    "print(backend_qiskit_shot.expectation(variate_params))\n",
    "print(backend_qiskit_shot.expectation_w_uncertainty(variate_params))"
   ]
  },
  {
   "cell_type": "code",
   "execution_count": 29,
   "metadata": {},
   "outputs": [],
   "source": [
    "current_ckt = backend_qiskit_shot.qaoa_circuit(variate_params)"
   ]
  },
  {
   "cell_type": "code",
   "execution_count": 30,
   "metadata": {},
   "outputs": [
    {
     "data": {
      "text/html": [
       "<pre style=\"word-wrap: normal;white-space: pre;background: #fff0;line-height: 1.1;font-family: &quot;Courier New&quot;,Courier,monospace\">        ┌───┐                                                         »\n",
       "  q2_0: ┤ H ├─■───────────────────────────────────────────────────────»\n",
       "        ├───┤ │ZZ(['2q', 'cost', 0, 0])                               »\n",
       "  q2_1: ┤ H ├─■────────────────────────────■──────────────────────────»\n",
       "        ├───┤                              │ZZ(['2q', 'cost', 0, 1])  »\n",
       "  q2_2: ┤ H ├──────────────────────────────■──────────────────────────»\n",
       "        ├───┤┌──────────────────────────┐┌───────────────────────────┐»\n",
       "  q2_3: ┤ H ├┤ Rz(['1q', 'cost', 0, 1]) ├┤ Rx(['1q', 'mixer', 0, 3]) ├»\n",
       "        └───┘└──────────────────────────┘└───────────────────────────┘»\n",
       "meas: 4/══════════════════════════════════════════════════════════════»\n",
       "                                                                      »\n",
       "«                                    ┌───────────────────────────┐»\n",
       "«  q2_0: ─■──────────────────────────┤ Rx(['1q', 'mixer', 0, 0]) ├»\n",
       "«         │                          ├───────────────────────────┤»\n",
       "«  q2_1: ─┼──────────────────────────┤ Rx(['1q', 'mixer', 0, 1]) ├»\n",
       "«         │ZZ(['2q', 'cost', 0, 2])  └┬──────────────────────────┤»\n",
       "«  q2_2: ─■───────────────────────────┤ Rz(['1q', 'cost', 0, 0]) ├»\n",
       "«        ┌──────────────────────────┐┌┴──────────────────────────┤»\n",
       "«  q2_3: ┤ Rz(['1q', 'cost', 1, 1]) ├┤ Rx(['1q', 'mixer', 1, 3]) ├»\n",
       "«        └──────────────────────────┘└───────────────────────────┘»\n",
       "«meas: 4/═════════════════════════════════════════════════════════»\n",
       "«                                                                 »\n",
       "«                                                                »\n",
       "«  q2_0: ──■─────────────────────────────────────────────────────»\n",
       "«          │ZZ(['2q', 'cost', 1, 0])                             »\n",
       "«  q2_1: ──■───────────────────────────■─────────────────────────»\n",
       "«        ┌───────────────────────────┐ │ZZ(['2q', 'cost', 1, 1]) »\n",
       "«  q2_2: ┤ Rx(['1q', 'mixer', 0, 2]) ├─■─────────────────────────»\n",
       "«        └───────────────────────────┘                           »\n",
       "«  q2_3: ────────────────────────────────────────────────────────»\n",
       "«                                                                »\n",
       "«meas: 4/════════════════════════════════════════════════════════»\n",
       "«                                                                »\n",
       "«                                   ┌───────────────────────────┐»\n",
       "«  q2_0: ─■─────────────────────────┤ Rx(['1q', 'mixer', 1, 0]) ├»\n",
       "«         │                         ├───────────────────────────┤»\n",
       "«  q2_1: ─┼─────────────────────────┤ Rx(['1q', 'mixer', 1, 1]) ├»\n",
       "«         │ZZ(['2q', 'cost', 1, 2]) └┬──────────────────────────┤»\n",
       "«  q2_2: ─■──────────────────────────┤ Rz(['1q', 'cost', 1, 0]) ├»\n",
       "«                                    └──────────────────────────┘»\n",
       "«  q2_3: ────────────────────────────────────────────────────────»\n",
       "«                                                                »\n",
       "«meas: 4/════════════════════════════════════════════════════════»\n",
       "«                                                                »\n",
       "«                                      ░ ┌─┐         \n",
       "«  q2_0: ──────────────────────────────░─┤M├─────────\n",
       "«                                      ░ └╥┘┌─┐      \n",
       "«  q2_1: ──────────────────────────────░──╫─┤M├──────\n",
       "«        ┌───────────────────────────┐ ░  ║ └╥┘┌─┐   \n",
       "«  q2_2: ┤ Rx(['1q', 'mixer', 1, 2]) ├─░──╫──╫─┤M├───\n",
       "«        └───────────────────────────┘ ░  ║  ║ └╥┘┌─┐\n",
       "«  q2_3: ──────────────────────────────░──╫──╫──╫─┤M├\n",
       "«                                      ░  ║  ║  ║ └╥┘\n",
       "«meas: 4/═════════════════════════════════╩══╩══╩══╩═\n",
       "«                                         0  1  2  3 </pre>"
      ],
      "text/plain": [
       "        ┌───┐                                                         »\n",
       "  q2_0: ┤ H ├─■───────────────────────────────────────────────────────»\n",
       "        ├───┤ │ZZ(['2q', 'cost', 0, 0])                               »\n",
       "  q2_1: ┤ H ├─■────────────────────────────■──────────────────────────»\n",
       "        ├───┤                              │ZZ(['2q', 'cost', 0, 1])  »\n",
       "  q2_2: ┤ H ├──────────────────────────────■──────────────────────────»\n",
       "        ├───┤┌──────────────────────────┐┌───────────────────────────┐»\n",
       "  q2_3: ┤ H ├┤ Rz(['1q', 'cost', 0, 1]) ├┤ Rx(['1q', 'mixer', 0, 3]) ├»\n",
       "        └───┘└──────────────────────────┘└───────────────────────────┘»\n",
       "meas: 4/══════════════════════════════════════════════════════════════»\n",
       "                                                                      »\n",
       "«                                    ┌───────────────────────────┐»\n",
       "«  q2_0: ─■──────────────────────────┤ Rx(['1q', 'mixer', 0, 0]) ├»\n",
       "«         │                          ├───────────────────────────┤»\n",
       "«  q2_1: ─┼──────────────────────────┤ Rx(['1q', 'mixer', 0, 1]) ├»\n",
       "«         │ZZ(['2q', 'cost', 0, 2])  └┬──────────────────────────┤»\n",
       "«  q2_2: ─■───────────────────────────┤ Rz(['1q', 'cost', 0, 0]) ├»\n",
       "«        ┌──────────────────────────┐┌┴──────────────────────────┤»\n",
       "«  q2_3: ┤ Rz(['1q', 'cost', 1, 1]) ├┤ Rx(['1q', 'mixer', 1, 3]) ├»\n",
       "«        └──────────────────────────┘└───────────────────────────┘»\n",
       "«meas: 4/═════════════════════════════════════════════════════════»\n",
       "«                                                                 »\n",
       "«                                                                »\n",
       "«  q2_0: ──■─────────────────────────────────────────────────────»\n",
       "«          │ZZ(['2q', 'cost', 1, 0])                             »\n",
       "«  q2_1: ──■───────────────────────────■─────────────────────────»\n",
       "«        ┌───────────────────────────┐ │ZZ(['2q', 'cost', 1, 1]) »\n",
       "«  q2_2: ┤ Rx(['1q', 'mixer', 0, 2]) ├─■─────────────────────────»\n",
       "«        └───────────────────────────┘                           »\n",
       "«  q2_3: ────────────────────────────────────────────────────────»\n",
       "«                                                                »\n",
       "«meas: 4/════════════════════════════════════════════════════════»\n",
       "«                                                                »\n",
       "«                                   ┌───────────────────────────┐»\n",
       "«  q2_0: ─■─────────────────────────┤ Rx(['1q', 'mixer', 1, 0]) ├»\n",
       "«         │                         ├───────────────────────────┤»\n",
       "«  q2_1: ─┼─────────────────────────┤ Rx(['1q', 'mixer', 1, 1]) ├»\n",
       "«         │ZZ(['2q', 'cost', 1, 2]) └┬──────────────────────────┤»\n",
       "«  q2_2: ─■──────────────────────────┤ Rz(['1q', 'cost', 1, 0]) ├»\n",
       "«                                    └──────────────────────────┘»\n",
       "«  q2_3: ────────────────────────────────────────────────────────»\n",
       "«                                                                »\n",
       "«meas: 4/════════════════════════════════════════════════════════»\n",
       "«                                                                »\n",
       "«                                      ░ ┌─┐         \n",
       "«  q2_0: ──────────────────────────────░─┤M├─────────\n",
       "«                                      ░ └╥┘┌─┐      \n",
       "«  q2_1: ──────────────────────────────░──╫─┤M├──────\n",
       "«        ┌───────────────────────────┐ ░  ║ └╥┘┌─┐   \n",
       "«  q2_2: ┤ Rx(['1q', 'mixer', 1, 2]) ├─░──╫──╫─┤M├───\n",
       "«        └───────────────────────────┘ ░  ║  ║ └╥┘┌─┐\n",
       "«  q2_3: ──────────────────────────────░──╫──╫──╫─┤M├\n",
       "«                                      ░  ║  ║  ║ └╥┘\n",
       "«meas: 4/═════════════════════════════════╩══╩══╩══╩═\n",
       "«                                         0  1  2  3 "
      ]
     },
     "execution_count": 30,
     "metadata": {},
     "output_type": "execute_result"
    }
   ],
   "source": [
    "#print parametric qaoa circuit\n",
    "backend_qiskit_shot.parametric_circuit.draw()"
   ]
  },
  {
   "cell_type": "code",
   "execution_count": 31,
   "metadata": {},
   "outputs": [
    {
     "data": {
      "text/html": [
       "<pre style=\"word-wrap: normal;white-space: pre;background: #fff0;line-height: 1.1;font-family: &quot;Courier New&quot;,Courier,monospace\">        ┌───┐                                                  »\n",
       "  q2_0: ┤ H ├──■───────────────────────────────────────────────»\n",
       "        ├───┤  │ZZ(0.350000000000000)                          »\n",
       "  q2_1: ┤ H ├──■────────────────────────■──────────────────────»\n",
       "        ├───┤                           │ZZ(0.350000000000000) »\n",
       "  q2_2: ┤ H ├───────────────────────────■──────────────────────»\n",
       "        ├───┤┌───────────────────────┐┌───────────────────────┐»\n",
       "  q2_3: ┤ H ├┤ Rz(0.700000000000000) ├┤ Rx(-1.05000000000000) ├»\n",
       "        └───┘└───────────────────────┘└───────────────────────┘»\n",
       "meas: 4/═══════════════════════════════════════════════════════»\n",
       "                                                               »\n",
       "«                                ┌───────────────────────┐ »\n",
       "«  q2_0: ─■──────────────────────┤ Rx(-1.05000000000000) ├─»\n",
       "«         │                      ├───────────────────────┤ »\n",
       "«  q2_1: ─┼──────────────────────┤ Rx(-1.05000000000000) ├─»\n",
       "«         │ZZ(0.350000000000000) ├───────────────────────┤ »\n",
       "«  q2_2: ─■──────────────────────┤ Rz(0.700000000000000) ├─»\n",
       "«        ┌──────────────────────┐├───────────────────────┴┐»\n",
       "«  q2_3: ┤ Rz(2.10000000000000) ├┤ Rx(-0.350000000000000) ├»\n",
       "«        └──────────────────────┘└────────────────────────┘»\n",
       "«meas: 4/══════════════════════════════════════════════════»\n",
       "«                                                          »\n",
       "«                                                        »\n",
       "«  q2_0: ──■─────────────────────────────────────────────»\n",
       "«          │ZZ(1.05000000000000)                         »\n",
       "«  q2_1: ──■───────────────────────■─────────────────────»\n",
       "«        ┌───────────────────────┐ │ZZ(1.05000000000000) »\n",
       "«  q2_2: ┤ Rx(-1.05000000000000) ├─■─────────────────────»\n",
       "«        └───────────────────────┘                       »\n",
       "«  q2_3: ────────────────────────────────────────────────»\n",
       "«                                                        »\n",
       "«meas: 4/════════════════════════════════════════════════»\n",
       "«                                                        »\n",
       "«                               ┌────────────────────────┐»\n",
       "«  q2_0: ─■─────────────────────┤ Rx(-0.350000000000000) ├»\n",
       "«         │                     ├────────────────────────┤»\n",
       "«  q2_1: ─┼─────────────────────┤ Rx(-0.350000000000000) ├»\n",
       "«         │ZZ(1.05000000000000) └┬──────────────────────┬┘»\n",
       "«  q2_2: ─■──────────────────────┤ Rz(2.10000000000000) ├─»\n",
       "«                                └──────────────────────┘ »\n",
       "«  q2_3: ─────────────────────────────────────────────────»\n",
       "«                                                         »\n",
       "«meas: 4/═════════════════════════════════════════════════»\n",
       "«                                                         »\n",
       "«                                   ░ ┌─┐         \n",
       "«  q2_0: ───────────────────────────░─┤M├─────────\n",
       "«                                   ░ └╥┘┌─┐      \n",
       "«  q2_1: ───────────────────────────░──╫─┤M├──────\n",
       "«        ┌────────────────────────┐ ░  ║ └╥┘┌─┐   \n",
       "«  q2_2: ┤ Rx(-0.350000000000000) ├─░──╫──╫─┤M├───\n",
       "«        └────────────────────────┘ ░  ║  ║ └╥┘┌─┐\n",
       "«  q2_3: ───────────────────────────░──╫──╫──╫─┤M├\n",
       "«                                   ░  ║  ║  ║ └╥┘\n",
       "«meas: 4/══════════════════════════════╩══╩══╩══╩═\n",
       "«                                      0  1  2  3 </pre>"
      ],
      "text/plain": [
       "        ┌───┐                                                  »\n",
       "  q2_0: ┤ H ├──■───────────────────────────────────────────────»\n",
       "        ├───┤  │ZZ(0.350000000000000)                          »\n",
       "  q2_1: ┤ H ├──■────────────────────────■──────────────────────»\n",
       "        ├───┤                           │ZZ(0.350000000000000) »\n",
       "  q2_2: ┤ H ├───────────────────────────■──────────────────────»\n",
       "        ├───┤┌───────────────────────┐┌───────────────────────┐»\n",
       "  q2_3: ┤ H ├┤ Rz(0.700000000000000) ├┤ Rx(-1.05000000000000) ├»\n",
       "        └───┘└───────────────────────┘└───────────────────────┘»\n",
       "meas: 4/═══════════════════════════════════════════════════════»\n",
       "                                                               »\n",
       "«                                ┌───────────────────────┐ »\n",
       "«  q2_0: ─■──────────────────────┤ Rx(-1.05000000000000) ├─»\n",
       "«         │                      ├───────────────────────┤ »\n",
       "«  q2_1: ─┼──────────────────────┤ Rx(-1.05000000000000) ├─»\n",
       "«         │ZZ(0.350000000000000) ├───────────────────────┤ »\n",
       "«  q2_2: ─■──────────────────────┤ Rz(0.700000000000000) ├─»\n",
       "«        ┌──────────────────────┐├───────────────────────┴┐»\n",
       "«  q2_3: ┤ Rz(2.10000000000000) ├┤ Rx(-0.350000000000000) ├»\n",
       "«        └──────────────────────┘└────────────────────────┘»\n",
       "«meas: 4/══════════════════════════════════════════════════»\n",
       "«                                                          »\n",
       "«                                                        »\n",
       "«  q2_0: ──■─────────────────────────────────────────────»\n",
       "«          │ZZ(1.05000000000000)                         »\n",
       "«  q2_1: ──■───────────────────────■─────────────────────»\n",
       "«        ┌───────────────────────┐ │ZZ(1.05000000000000) »\n",
       "«  q2_2: ┤ Rx(-1.05000000000000) ├─■─────────────────────»\n",
       "«        └───────────────────────┘                       »\n",
       "«  q2_3: ────────────────────────────────────────────────»\n",
       "«                                                        »\n",
       "«meas: 4/════════════════════════════════════════════════»\n",
       "«                                                        »\n",
       "«                               ┌────────────────────────┐»\n",
       "«  q2_0: ─■─────────────────────┤ Rx(-0.350000000000000) ├»\n",
       "«         │                     ├────────────────────────┤»\n",
       "«  q2_1: ─┼─────────────────────┤ Rx(-0.350000000000000) ├»\n",
       "«         │ZZ(1.05000000000000) └┬──────────────────────┬┘»\n",
       "«  q2_2: ─■──────────────────────┤ Rz(2.10000000000000) ├─»\n",
       "«                                └──────────────────────┘ »\n",
       "«  q2_3: ─────────────────────────────────────────────────»\n",
       "«                                                         »\n",
       "«meas: 4/═════════════════════════════════════════════════»\n",
       "«                                                         »\n",
       "«                                   ░ ┌─┐         \n",
       "«  q2_0: ───────────────────────────░─┤M├─────────\n",
       "«                                   ░ └╥┘┌─┐      \n",
       "«  q2_1: ───────────────────────────░──╫─┤M├──────\n",
       "«        ┌────────────────────────┐ ░  ║ └╥┘┌─┐   \n",
       "«  q2_2: ┤ Rx(-0.350000000000000) ├─░──╫──╫─┤M├───\n",
       "«        └────────────────────────┘ ░  ║  ║ └╥┘┌─┐\n",
       "«  q2_3: ───────────────────────────░──╫──╫──╫─┤M├\n",
       "«                                   ░  ║  ║  ║ └╥┘\n",
       "«meas: 4/══════════════════════════════╩══╩══╩══╩═\n",
       "«                                      0  1  2  3 "
      ]
     },
     "execution_count": 31,
     "metadata": {},
     "output_type": "execute_result"
    }
   ],
   "source": [
    "#print the full circuit with attached angles\n",
    "current_ckt.draw()"
   ]
  },
  {
   "cell_type": "code",
   "execution_count": 32,
   "metadata": {},
   "outputs": [
    {
     "data": {
      "text/plain": [
       "-3.999999999999993"
      ]
     },
     "execution_count": 32,
     "metadata": {},
     "output_type": "execute_result"
    }
   ],
   "source": [
    "from openqaoa.utilities import ring_of_disagrees\n",
    "n_qubits = 8\n",
    "register = range(n_qubits)\n",
    "p = 1\n",
    "betas = [-np.pi/4]\n",
    "gammas = [np.pi/4]\n",
    "cost_hamiltonian = ring_of_disagrees(register)\n",
    "mixer_hamiltonian = X_mixer_hamiltonian(n_qubits)\n",
    "qaoa_circuit_params = QAOACircuitParams(cost_hamiltonian, mixer_hamiltonian, p)\n",
    "variational_params_std = QAOAVariationalStandardParams(qaoa_circuit_params, betas, gammas) \n",
    "\n",
    "# backend_vectorized = QAOAvectorizedBackendSimulator(qaoa_circuit_params,prepend_state=None,\n",
    "#                                                     append_state=None,init_hadamard=True)\n",
    "backend_qiskit_statevec = QAOAQiskitBackendStatevecSimulator(qaoa_circuit_params,prepend_state=None,\n",
    "                                                    append_state=None,init_hadamard=True)\n",
    "\n",
    "# exp_vec = backend_vectorized.expectation(variational_params_std)\n",
    "exp_qiskit_statevec = backend_qiskit_statevec.expectation((variational_params_std))\n",
    "\n",
    "# assert np.isclose(exp_vec, -6)\n",
    "# assert np.isclose(exp_qiskit_statevec, -4)\n",
    "exp_qiskit_statevec"
   ]
  }
 ],
 "metadata": {
  "kernelspec": {
   "display_name": "Python 3",
   "language": "python",
   "name": "python3"
  },
  "language_info": {
   "codemirror_mode": {
    "name": "ipython",
    "version": 3
   },
   "file_extension": ".py",
   "mimetype": "text/x-python",
   "name": "python",
   "nbconvert_exporter": "python",
   "pygments_lexer": "ipython3",
   "version": "3.8.1"
  }
 },
 "nbformat": 4,
 "nbformat_minor": 4
}
