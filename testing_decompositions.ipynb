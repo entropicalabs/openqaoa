{
 "cells": [
  {
   "cell_type": "markdown",
   "metadata": {},
   "source": [
    "### Testing decomposition rules"
   ]
  },
  {
   "cell_type": "code",
   "execution_count": 1,
   "metadata": {
    "tags": []
   },
   "outputs": [],
   "source": [
    "from openqaoa.qaoa_parameters import *\n",
    "from openqaoa.qaoa_parameters import create_qaoa_variational_params"
   ]
  },
  {
   "cell_type": "code",
   "execution_count": 2,
   "metadata": {
    "tags": []
   },
   "outputs": [],
   "source": [
    "from openqaoa.qaoa_parameters.baseparams import QAOACircuitParams\n",
    "from openqaoa.backends.qpus.qpu_auth import AccessObjectQiskit, AccessObjectPyQuil\n",
    "from openqaoa.backends.qaoa_backend import *\n",
    "from openqaoa.backends.simulators.qaoa_pyquil_sim import QAOAPyQuilWavefunctionSimulatorBackend\n",
    "from openqaoa.backends.qpus.qaoa_pyquil_qpu import QAOAPyQuilQPUBackend\n",
    "from openqaoa.backends.simulators.qaoa_qiskit_sim import QAOAQiskitBackendStatevecSimulator\n",
    "from openqaoa.optimizers import get_optimizer\n",
    "from openqaoa.utilities import *"
   ]
  },
  {
   "cell_type": "code",
   "execution_count": 3,
   "metadata": {
    "tags": []
   },
   "outputs": [],
   "source": [
    "from pyquil import Program, gates\n",
    "from pyquil.api import WavefunctionSimulator\n",
    "from pyquil.quilatom import Parameter"
   ]
  },
  {
   "cell_type": "code",
   "execution_count": 4,
   "metadata": {
    "tags": []
   },
   "outputs": [],
   "source": [
    "cost_hamil = Hamiltonian([PauliOp('ZZ', (0, 1)), PauliOp('ZZ', (1, 2)), PauliOp('ZZ', (0, 2)),\n",
    "                          PauliOp('Z',(2,)),PauliOp('Z',(3,))], \n",
    "                         [1, 1, 1, 2, 2], 0)"
   ]
  },
  {
   "cell_type": "code",
   "execution_count": 5,
   "metadata": {
    "tags": []
   },
   "outputs": [
    {
     "data": {
      "text/latex": [
       "$\\displaystyle 0 + 1Z_{0}Z_{1} + 1Z_{0}Z_{2} + 1Z_{1}Z_{2} + 2Z_{2} + 2Z_{3}$"
      ],
      "text/plain": [
       "0 + 1Z_{0}Z_{1} + 1Z_{0}Z_{2} + 1Z_{1}Z_{2} + 2Z_{2} + 2Z_{3}"
      ]
     },
     "execution_count": 5,
     "metadata": {},
     "output_type": "execute_result"
    }
   ],
   "source": [
    "cost_hamil.expression"
   ]
  },
  {
   "cell_type": "code",
   "execution_count": 6,
   "metadata": {
    "tags": []
   },
   "outputs": [
    {
     "data": {
      "image/png": "[encoded data removed]",
      "text/plain": [
       "<Figure size 720x432 with 3 Axes>"
      ]
     },
     "metadata": {},
     "output_type": "display_data"
    }
   ],
   "source": [
    "plot_graph(graph_from_hamiltonian(cost_hamil))"
   ]
  },
  {
   "cell_type": "code",
   "execution_count": 7,
   "metadata": {
    "tags": []
   },
   "outputs": [
    {
     "data": {
      "text/latex": [
       "$\\displaystyle -1X_{0} + -1X_{1} + -1X_{2} + -1X_{3} + 0$"
      ],
      "text/plain": [
       "-1X_{0} - 1X_{1} - 1X_{2} - 1X_{3} + 0"
      ]
     },
     "execution_count": 7,
     "metadata": {},
     "output_type": "execute_result"
    }
   ],
   "source": [
    "mixer_hamil = X_mixer_hamiltonian(n_qubits=4)\n",
    "mixer_hamil.expression"
   ]
  },
  {
   "cell_type": "code",
   "execution_count": 8,
   "metadata": {},
   "outputs": [],
   "source": [
    "circuit_params = QAOACircuitParams(cost_hamil, mixer_hamil, p=2)"
   ]
  },
  {
   "cell_type": "code",
   "execution_count": 9,
   "metadata": {},
   "outputs": [],
   "source": [
    "variate_params = create_qaoa_variational_params(circuit_params,'standard','ramp')"
   ]
  },
  {
   "cell_type": "code",
   "execution_count": 10,
   "metadata": {},
   "outputs": [
    {
     "data": {
      "text/plain": [
       "Standard Parameterisation:\n",
       "\tp: 2\n",
       "Variational Parameters:\n",
       "\tbetas: [0.525 0.175]\n",
       "\tgammas: [0.175 0.525]"
      ]
     },
     "execution_count": 10,
     "metadata": {},
     "output_type": "execute_result"
    }
   ],
   "source": [
    "variate_params"
   ]
  },
  {
   "cell_type": "markdown",
   "metadata": {},
   "source": [
    "#### pyquil QPU"
   ]
  },
  {
   "cell_type": "code",
   "execution_count": 11,
   "metadata": {},
   "outputs": [],
   "source": [
    "# prog = Program()\n",
    "# aaa = prog.declare('aaa','REAL',1)\n",
    "# prog += gates.RZ(2*aaa,1)\n",
    "# bbb = prog.declare('bbb','REAL',1)\n",
    "# prog += gates.RZ(bbb,1)\n",
    "# ccc = prog.declare('ccc','REAL',1)\n",
    "# prog += gates.RZ(ccc,1)\n",
    "# print(prog)"
   ]
  },
  {
   "cell_type": "code",
   "execution_count": null,
   "metadata": {
    "tags": []
   },
   "outputs": [],
   "source": [
    "access_object_pyquil = AccessObjectPyQuil(name = \"Aspen-11\", as_qvm=True, execution_timeout = 500)\n",
    "backend_pyquil_qpu = get_qaoa_backend(circuit_params,access_object_pyquil,n_shots=1000)"
   ]
  },
  {
   "cell_type": "code",
   "execution_count": 16,
   "metadata": {},
   "outputs": [
    {
     "name": "stdout",
     "output_type": "stream",
     "text": [
      "DECLARE ro BIT[4]\n",
      "H 1\n",
      "H 3\n",
      "H 5\n",
      "H 7\n",
      "DECLARE pauli2qcost00 REAL[1]\n",
      "RZ(pauli2qcost00) 1\n",
      "RZ(pauli2qcost00) 3\n",
      "CPHASE(-2*pauli2qcost00) 1 3\n",
      "DECLARE pauli2qcost01 REAL[1]\n",
      "RZ(pauli2qcost01) 3\n",
      "RZ(pauli2qcost01) 5\n",
      "CPHASE(-2*pauli2qcost01) 3 5\n",
      "DECLARE pauli2qcost02 REAL[1]\n",
      "RZ(pauli2qcost02) 1\n",
      "RZ(pauli2qcost02) 5\n",
      "CPHASE(-2*pauli2qcost02) 1 5\n",
      "DECLARE pauli1qcost00 REAL[1]\n",
      "RZ(pauli1qcost00) 5\n",
      "DECLARE pauli1qcost01 REAL[1]\n",
      "RZ(pauli1qcost01) 7\n",
      "DECLARE pauli1qmixer00 REAL[1]\n",
      "RX(pauli1qmixer00) 1\n",
      "DECLARE pauli1qmixer01 REAL[1]\n",
      "RX(pauli1qmixer01) 3\n",
      "DECLARE pauli1qmixer02 REAL[1]\n",
      "RX(pauli1qmixer02) 5\n",
      "DECLARE pauli1qmixer03 REAL[1]\n",
      "RX(pauli1qmixer03) 7\n",
      "DECLARE pauli2qcost10 REAL[1]\n",
      "RZ(pauli2qcost10) 1\n",
      "RZ(pauli2qcost10) 3\n",
      "CPHASE(-2*pauli2qcost10) 1 3\n",
      "DECLARE pauli2qcost11 REAL[1]\n",
      "RZ(pauli2qcost11) 3\n",
      "RZ(pauli2qcost11) 5\n",
      "CPHASE(-2*pauli2qcost11) 3 5\n",
      "DECLARE pauli2qcost12 REAL[1]\n",
      "RZ(pauli2qcost12) 1\n",
      "RZ(pauli2qcost12) 5\n",
      "CPHASE(-2*pauli2qcost12) 1 5\n",
      "DECLARE pauli1qcost10 REAL[1]\n",
      "RZ(pauli1qcost10) 5\n",
      "DECLARE pauli1qcost11 REAL[1]\n",
      "RZ(pauli1qcost11) 7\n",
      "DECLARE pauli1qmixer10 REAL[1]\n",
      "RX(pauli1qmixer10) 1\n",
      "DECLARE pauli1qmixer11 REAL[1]\n",
      "RX(pauli1qmixer11) 3\n",
      "DECLARE pauli1qmixer12 REAL[1]\n",
      "RX(pauli1qmixer12) 5\n",
      "DECLARE pauli1qmixer13 REAL[1]\n",
      "RX(pauli1qmixer13) 7\n",
      "MEASURE 1 ro[0]\n",
      "MEASURE 3 ro[1]\n",
      "MEASURE 5 ro[2]\n",
      "MEASURE 7 ro[3]\n",
      "\n"
     ]
    }
   ],
   "source": [
    "print(backend_pyquil_qpu.parametric_circuit)"
   ]
  },
  {
   "cell_type": "code",
   "execution_count": 14,
   "metadata": {},
   "outputs": [
    {
     "ename": "NameError",
     "evalue": "name 'backend_pyquil_qpu' is not defined",
     "output_type": "error",
     "traceback": [
      "\u001b[0;31m---------------------------------------------------------------------------\u001b[0m",
      "\u001b[0;31mNameError\u001b[0m                                 Traceback (most recent call last)",
      "\u001b[0;32m<ipython-input-14-b59086d1e141>\u001b[0m in \u001b[0;36m<module>\u001b[0;34m\u001b[0m\n\u001b[0;32m----> 1\u001b[0;31m \u001b[0mprint\u001b[0m\u001b[0;34m(\u001b[0m\u001b[0mbackend_pyquil_qpu\u001b[0m\u001b[0;34m.\u001b[0m\u001b[0mparametric_circuit\u001b[0m\u001b[0;34m)\u001b[0m\u001b[0;34m\u001b[0m\u001b[0;34m\u001b[0m\u001b[0m\n\u001b[0m",
      "\u001b[0;31mNameError\u001b[0m: name 'backend_pyquil_qpu' is not defined"
     ]
    }
   ],
   "source": [
    "print(backend_pyquil_qpu.parametric_circuit)"
   ]
  },
  {
   "cell_type": "code",
   "execution_count": 14,
   "metadata": {},
   "outputs": [
    {
     "name": "stdout",
     "output_type": "stream",
     "text": [
      "DECLARE ro BIT[4]\n",
      "DECLARE pauli2qcost00 REAL[1]\n",
      "DECLARE pauli2qcost01 REAL[1]\n",
      "DECLARE pauli2qcost02 REAL[1]\n",
      "DECLARE pauli1qcost00 REAL[1]\n",
      "DECLARE pauli1qcost01 REAL[1]\n",
      "DECLARE pauli1qmixer00 REAL[1]\n",
      "DECLARE pauli1qmixer01 REAL[1]\n",
      "DECLARE pauli1qmixer02 REAL[1]\n",
      "DECLARE pauli1qmixer03 REAL[1]\n",
      "DECLARE pauli2qcost10 REAL[1]\n",
      "DECLARE pauli2qcost11 REAL[1]\n",
      "DECLARE pauli2qcost12 REAL[1]\n",
      "DECLARE pauli1qcost10 REAL[1]\n",
      "DECLARE pauli1qcost11 REAL[1]\n",
      "DECLARE pauli1qmixer10 REAL[1]\n",
      "DECLARE pauli1qmixer11 REAL[1]\n",
      "DECLARE pauli1qmixer12 REAL[1]\n",
      "DECLARE pauli1qmixer13 REAL[1]\n",
      "RZ(pi) 42\n",
      "RX(pi/2) 42\n",
      "RZ(pi/2) 42\n",
      "RX(-pi/2) 42\n",
      "RZ(pi/2 + 1.0*pauli1qcost01[0]) 42\n",
      "RX(pi/2) 42\n",
      "RZ(1.0*pauli1qmixer03[0]) 42\n",
      "RX(-pi/2) 42\n",
      "RZ(1.0*pauli1qcost11[0]) 42\n",
      "RX(pi/2) 42\n",
      "RZ(1.0*pauli1qmixer13[0]) 42\n",
      "RX(-pi/2) 42\n",
      "RZ(-pi/2) 42\n",
      "MEASURE 42 ro[3]\n",
      "RZ(pi) 44\n",
      "RX(pi/2) 44\n",
      "RZ(pi/2) 44\n",
      "RX(-pi/2) 44\n",
      "RZ(1.0*pauli2qcost00[0]) 44\n",
      "RZ(pi) 45\n",
      "RX(pi/2) 45\n",
      "RZ(pi/2) 45\n",
      "RX(-pi/2) 45\n",
      "RZ(1.0*pauli2qcost00[0]) 45\n",
      "CPHASE(-2.0*pauli2qcost00[0]) 45 44\n",
      "RZ(pi) 43\n",
      "RX(pi/2) 43\n",
      "RZ(pi/2) 43\n",
      "RX(-pi/2) 43\n",
      "RZ(1.0*pauli2qcost01[0]) 43\n",
      "RZ(1.0*pauli2qcost01[0]) 44\n",
      "CPHASE(-2.0*pauli2qcost01[0]) 44 43\n",
      "RZ(1.0*pauli2qcost02[0]) 43\n",
      "RZ(pi/2) 44\n",
      "RX(pi/2) 44\n",
      "RZ(1.0*pauli1qmixer01[0]) 44\n",
      "RX(-pi/2) 44\n",
      "RZ(-pi/2) 44\n",
      "XY(pi) 43 44\n",
      "RX(pi/2) 44\n",
      "XY(pi) 43 44\n",
      "RX(pi/2) 43\n",
      "XY(pi) 43 44\n",
      "RX(pi/2) 44\n",
      "RZ(1.0*pauli2qcost02[0]) 45\n",
      "CPHASE(-2.0*pauli2qcost02[0]) 45 44\n",
      "RZ(1.0*pauli2qcost10[0]) 43\n",
      "RZ(pi/2 + 1.0*pauli1qcost00[0]) 44\n",
      "RX(pi/2) 44\n",
      "RZ(1.0*pauli1qmixer02[0]) 44\n",
      "RX(-pi/2) 44\n",
      "RZ(-pi/2) 44\n",
      "XY(pi) 43 44\n",
      "RX(pi/2) 44\n",
      "XY(pi) 43 44\n",
      "RX(pi/2) 43\n",
      "XY(pi) 43 44\n",
      "RX(pi/2) 44\n",
      "RZ(pi/2) 45\n",
      "RX(pi/2) 45\n",
      "RZ(1.0*pauli1qmixer00[0]) 45\n",
      "RX(-pi/2) 45\n",
      "RZ(-pi/2 + 1.0*pauli2qcost10[0]) 45\n",
      "CPHASE(-2.0*pauli2qcost10[0]) 45 44\n",
      "RZ(1.0*pauli2qcost11[0]) 43\n",
      "RZ(1.0*pauli2qcost11[0]) 44\n",
      "CPHASE(-2.0*pauli2qcost11[0]) 44 43\n",
      "RZ(pi/2) 44\n",
      "RX(pi/2) 44\n",
      "RZ(1.0*pauli1qmixer11[0]) 44\n",
      "RX(-pi/2) 44\n",
      "RZ(-pi/2) 44\n",
      "MEASURE 44 ro[1]\n",
      "RZ(1.0*pauli2qcost12[0]) 43\n",
      "XY(pi) 43 44\n",
      "RX(pi/2) 44\n",
      "XY(pi) 43 44\n",
      "RX(pi/2) 43\n",
      "XY(pi) 43 44\n",
      "RX(pi/2) 44\n",
      "RZ(1.0*pauli2qcost12[0]) 45\n",
      "CPHASE(-2.0*pauli2qcost12[0]) 45 44\n",
      "RZ(pi/2) 45\n",
      "RX(pi/2) 45\n",
      "RZ(1.0*pauli1qmixer10[0]) 45\n",
      "RX(-pi/2) 45\n",
      "RZ(-pi/2) 45\n",
      "MEASURE 45 ro[0]\n",
      "RZ(pi/2 + 1.0*pauli1qcost10[0]) 44\n",
      "RX(pi/2) 44\n",
      "RZ(1.0*pauli1qmixer12[0]) 44\n",
      "RX(-pi/2) 44\n",
      "RZ(-pi/2) 44\n",
      "MEASURE 44 ro[2]\n",
      "HALT\n",
      "\n"
     ]
    }
   ],
   "source": [
    "print(backend_pyquil_qpu.qaoa_circuit(variate_params))"
   ]
  },
  {
   "cell_type": "code",
   "execution_count": 15,
   "metadata": {},
   "outputs": [
    {
     "data": {
      "text/plain": [
       "-3.3640000000000008"
      ]
     },
     "execution_count": 15,
     "metadata": {},
     "output_type": "execute_result"
    }
   ],
   "source": [
    "backend_pyquil_qpu.expectation(variate_params)"
   ]
  },
  {
   "cell_type": "code",
   "execution_count": 16,
   "metadata": {},
   "outputs": [
    {
     "data": {
      "text/plain": [
       "(-5.0, [array([0, 0, 1, 1]), array([1, 0, 1, 1]), array([0, 1, 1, 1])])"
      ]
     },
     "execution_count": 16,
     "metadata": {},
     "output_type": "execute_result"
    }
   ],
   "source": [
    "backend_pyquil_qpu.exact_solution"
   ]
  },
  {
   "cell_type": "markdown",
   "metadata": {},
   "source": [
    "#### pyquil wavefunction simulator #TODO"
   ]
  },
  {
   "cell_type": "code",
   "execution_count": 19,
   "metadata": {},
   "outputs": [],
   "source": [
    "# backend_pyquil_statevec = get_qaoa_backend(circuit_params, 'pyquil_statevec_simulator')"
   ]
  },
  {
   "cell_type": "code",
   "execution_count": 20,
   "metadata": {},
   "outputs": [],
   "source": [
    "# # statevector = backend_pyquil_statevec.wavefunction(variate_params)\n",
    "# # print(statevector)\n",
    "# backend_pyquil_statevec.expectation(variate_params)"
   ]
  },
  {
   "cell_type": "markdown",
   "metadata": {},
   "source": [
    "#### qiskit wavefunction simulator"
   ]
  },
  {
   "cell_type": "code",
   "execution_count": 21,
   "metadata": {},
   "outputs": [],
   "source": [
    "backend_qiskit_statevec = get_qaoa_backend(circuit_params,'qiskit_statevec_simulator')"
   ]
  },
  {
   "cell_type": "code",
   "execution_count": 22,
   "metadata": {},
   "outputs": [
    {
     "name": "stderr",
     "output_type": "stream",
     "text": [
      "/home/leo/.local/lib/python3.8/site-packages/sympy/core/expr.py:3949: SymPyDeprecationWarning: \n",
      "\n",
      "expr_free_symbols method has been deprecated since SymPy 1.9. See\n",
      "https://github.com/sympy/sympy/issues/21494 for more info.\n",
      "\n",
      "  SymPyDeprecationWarning(feature=\"expr_free_symbols method\",\n"
     ]
    },
    {
     "data": {
      "text/html": [
       "<pre style=\"word-wrap: normal;white-space: pre;background: #fff0;line-height: 1.1;font-family: &quot;Courier New&quot;,Courier,monospace\">      ┌───┐                                                         »\n",
       "q0_0: ┤ H ├─■───────────────────────────────────────────────────────»\n",
       "      ├───┤ │ZZ(['2q', 'cost', 0, 0])                               »\n",
       "q0_1: ┤ H ├─■────────────────────────────■──────────────────────────»\n",
       "      ├───┤                              │ZZ(['2q', 'cost', 0, 1])  »\n",
       "q0_2: ┤ H ├──────────────────────────────■──────────────────────────»\n",
       "      ├───┤┌──────────────────────────┐┌───────────────────────────┐»\n",
       "q0_3: ┤ H ├┤ Rz(['1q', 'cost', 0, 1]) ├┤ Rx(['1q', 'mixer', 0, 3]) ├»\n",
       "      └───┘└──────────────────────────┘└───────────────────────────┘»\n",
       "«                                  ┌───────────────────────────┐»\n",
       "«q0_0: ─■──────────────────────────┤ Rx(['1q', 'mixer', 0, 0]) ├»\n",
       "«       │                          ├───────────────────────────┤»\n",
       "«q0_1: ─┼──────────────────────────┤ Rx(['1q', 'mixer', 0, 1]) ├»\n",
       "«       │ZZ(['2q', 'cost', 0, 2])  └┬──────────────────────────┤»\n",
       "«q0_2: ─■───────────────────────────┤ Rz(['1q', 'cost', 0, 0]) ├»\n",
       "«      ┌──────────────────────────┐┌┴──────────────────────────┤»\n",
       "«q0_3: ┤ Rz(['1q', 'cost', 1, 1]) ├┤ Rx(['1q', 'mixer', 1, 3]) ├»\n",
       "«      └──────────────────────────┘└───────────────────────────┘»\n",
       "«                                                              »\n",
       "«q0_0: ──■─────────────────────────────────────────────────────»\n",
       "«        │ZZ(['2q', 'cost', 1, 0])                             »\n",
       "«q0_1: ──■───────────────────────────■─────────────────────────»\n",
       "«      ┌───────────────────────────┐ │ZZ(['2q', 'cost', 1, 1]) »\n",
       "«q0_2: ┤ Rx(['1q', 'mixer', 0, 2]) ├─■─────────────────────────»\n",
       "«      └───────────────────────────┘                           »\n",
       "«q0_3: ────────────────────────────────────────────────────────»\n",
       "«                                                              »\n",
       "«                                 ┌───────────────────────────┐»\n",
       "«q0_0: ─■─────────────────────────┤ Rx(['1q', 'mixer', 1, 0]) ├»\n",
       "«       │                         ├───────────────────────────┤»\n",
       "«q0_1: ─┼─────────────────────────┤ Rx(['1q', 'mixer', 1, 1]) ├»\n",
       "«       │ZZ(['2q', 'cost', 1, 2]) └┬──────────────────────────┤»\n",
       "«q0_2: ─■──────────────────────────┤ Rz(['1q', 'cost', 1, 0]) ├»\n",
       "«                                  └──────────────────────────┘»\n",
       "«q0_3: ────────────────────────────────────────────────────────»\n",
       "«                                                              »\n",
       "«                                   \n",
       "«q0_0: ─────────────────────────────\n",
       "«                                   \n",
       "«q0_1: ─────────────────────────────\n",
       "«      ┌───────────────────────────┐\n",
       "«q0_2: ┤ Rx(['1q', 'mixer', 1, 2]) ├\n",
       "«      └───────────────────────────┘\n",
       "«q0_3: ─────────────────────────────\n",
       "«                                   </pre>"
      ],
      "text/plain": [
       "      ┌───┐                                                         »\n",
       "q0_0: ┤ H ├─■───────────────────────────────────────────────────────»\n",
       "      ├───┤ │ZZ(['2q', 'cost', 0, 0])                               »\n",
       "q0_1: ┤ H ├─■────────────────────────────■──────────────────────────»\n",
       "      ├───┤                              │ZZ(['2q', 'cost', 0, 1])  »\n",
       "q0_2: ┤ H ├──────────────────────────────■──────────────────────────»\n",
       "      ├───┤┌──────────────────────────┐┌───────────────────────────┐»\n",
       "q0_3: ┤ H ├┤ Rz(['1q', 'cost', 0, 1]) ├┤ Rx(['1q', 'mixer', 0, 3]) ├»\n",
       "      └───┘└──────────────────────────┘└───────────────────────────┘»\n",
       "«                                  ┌───────────────────────────┐»\n",
       "«q0_0: ─■──────────────────────────┤ Rx(['1q', 'mixer', 0, 0]) ├»\n",
       "«       │                          ├───────────────────────────┤»\n",
       "«q0_1: ─┼──────────────────────────┤ Rx(['1q', 'mixer', 0, 1]) ├»\n",
       "«       │ZZ(['2q', 'cost', 0, 2])  └┬──────────────────────────┤»\n",
       "«q0_2: ─■───────────────────────────┤ Rz(['1q', 'cost', 0, 0]) ├»\n",
       "«      ┌──────────────────────────┐┌┴──────────────────────────┤»\n",
       "«q0_3: ┤ Rz(['1q', 'cost', 1, 1]) ├┤ Rx(['1q', 'mixer', 1, 3]) ├»\n",
       "«      └──────────────────────────┘└───────────────────────────┘»\n",
       "«                                                              »\n",
       "«q0_0: ──■─────────────────────────────────────────────────────»\n",
       "«        │ZZ(['2q', 'cost', 1, 0])                             »\n",
       "«q0_1: ──■───────────────────────────■─────────────────────────»\n",
       "«      ┌───────────────────────────┐ │ZZ(['2q', 'cost', 1, 1]) »\n",
       "«q0_2: ┤ Rx(['1q', 'mixer', 0, 2]) ├─■─────────────────────────»\n",
       "«      └───────────────────────────┘                           »\n",
       "«q0_3: ────────────────────────────────────────────────────────»\n",
       "«                                                              »\n",
       "«                                 ┌───────────────────────────┐»\n",
       "«q0_0: ─■─────────────────────────┤ Rx(['1q', 'mixer', 1, 0]) ├»\n",
       "«       │                         ├───────────────────────────┤»\n",
       "«q0_1: ─┼─────────────────────────┤ Rx(['1q', 'mixer', 1, 1]) ├»\n",
       "«       │ZZ(['2q', 'cost', 1, 2]) └┬──────────────────────────┤»\n",
       "«q0_2: ─■──────────────────────────┤ Rz(['1q', 'cost', 1, 0]) ├»\n",
       "«                                  └──────────────────────────┘»\n",
       "«q0_3: ────────────────────────────────────────────────────────»\n",
       "«                                                              »\n",
       "«                                   \n",
       "«q0_0: ─────────────────────────────\n",
       "«                                   \n",
       "«q0_1: ─────────────────────────────\n",
       "«      ┌───────────────────────────┐\n",
       "«q0_2: ┤ Rx(['1q', 'mixer', 1, 2]) ├\n",
       "«      └───────────────────────────┘\n",
       "«q0_3: ─────────────────────────────\n",
       "«                                   "
      ]
     },
     "execution_count": 22,
     "metadata": {},
     "output_type": "execute_result"
    }
   ],
   "source": [
    "backend_qiskit_statevec.parametric_circuit.draw()"
   ]
  },
  {
   "cell_type": "code",
   "execution_count": 23,
   "metadata": {},
   "outputs": [
    {
     "data": {
      "text/html": [
       "<pre style=\"word-wrap: normal;white-space: pre;background: #fff0;line-height: 1.1;font-family: &quot;Courier New&quot;,Courier,monospace\">      ┌───┐                                                  »\n",
       "q0_0: ┤ H ├──■───────────────────────────────────────────────»\n",
       "      ├───┤  │ZZ(0.350000000000000)                          »\n",
       "q0_1: ┤ H ├──■────────────────────────■──────────────────────»\n",
       "      ├───┤                           │ZZ(0.350000000000000) »\n",
       "q0_2: ┤ H ├───────────────────────────■──────────────────────»\n",
       "      ├───┤┌───────────────────────┐┌───────────────────────┐»\n",
       "q0_3: ┤ H ├┤ Rz(0.700000000000000) ├┤ Rx(-1.05000000000000) ├»\n",
       "      └───┘└───────────────────────┘└───────────────────────┘»\n",
       "«                              ┌───────────────────────┐ »\n",
       "«q0_0: ─■──────────────────────┤ Rx(-1.05000000000000) ├─»\n",
       "«       │                      ├───────────────────────┤ »\n",
       "«q0_1: ─┼──────────────────────┤ Rx(-1.05000000000000) ├─»\n",
       "«       │ZZ(0.350000000000000) ├───────────────────────┤ »\n",
       "«q0_2: ─■──────────────────────┤ Rz(0.700000000000000) ├─»\n",
       "«      ┌──────────────────────┐├───────────────────────┴┐»\n",
       "«q0_3: ┤ Rz(2.10000000000000) ├┤ Rx(-0.350000000000000) ├»\n",
       "«      └──────────────────────┘└────────────────────────┘»\n",
       "«                                                                             »\n",
       "«q0_0: ──■──────────────────────────────────────────────■─────────────────────»\n",
       "«        │ZZ(1.05000000000000)                          │                     »\n",
       "«q0_1: ──■───────────────────────■──────────────────────┼─────────────────────»\n",
       "«      ┌───────────────────────┐ │ZZ(1.05000000000000)  │ZZ(1.05000000000000) »\n",
       "«q0_2: ┤ Rx(-1.05000000000000) ├─■──────────────────────■─────────────────────»\n",
       "«      └───────────────────────┘                                              »\n",
       "«q0_3: ───────────────────────────────────────────────────────────────────────»\n",
       "«                                                                             »\n",
       "«      ┌────────────────────────┐                          \n",
       "«q0_0: ┤ Rx(-0.350000000000000) ├──────────────────────────\n",
       "«      ├────────────────────────┤                          \n",
       "«q0_1: ┤ Rx(-0.350000000000000) ├──────────────────────────\n",
       "«      └┬──────────────────────┬┘┌────────────────────────┐\n",
       "«q0_2: ─┤ Rz(2.10000000000000) ├─┤ Rx(-0.350000000000000) ├\n",
       "«       └──────────────────────┘ └────────────────────────┘\n",
       "«q0_3: ────────────────────────────────────────────────────\n",
       "«                                                          </pre>"
      ],
      "text/plain": [
       "      ┌───┐                                                  »\n",
       "q0_0: ┤ H ├──■───────────────────────────────────────────────»\n",
       "      ├───┤  │ZZ(0.350000000000000)                          »\n",
       "q0_1: ┤ H ├──■────────────────────────■──────────────────────»\n",
       "      ├───┤                           │ZZ(0.350000000000000) »\n",
       "q0_2: ┤ H ├───────────────────────────■──────────────────────»\n",
       "      ├───┤┌───────────────────────┐┌───────────────────────┐»\n",
       "q0_3: ┤ H ├┤ Rz(0.700000000000000) ├┤ Rx(-1.05000000000000) ├»\n",
       "      └───┘└───────────────────────┘└───────────────────────┘»\n",
       "«                              ┌───────────────────────┐ »\n",
       "«q0_0: ─■──────────────────────┤ Rx(-1.05000000000000) ├─»\n",
       "«       │                      ├───────────────────────┤ »\n",
       "«q0_1: ─┼──────────────────────┤ Rx(-1.05000000000000) ├─»\n",
       "«       │ZZ(0.350000000000000) ├───────────────────────┤ »\n",
       "«q0_2: ─■──────────────────────┤ Rz(0.700000000000000) ├─»\n",
       "«      ┌──────────────────────┐├───────────────────────┴┐»\n",
       "«q0_3: ┤ Rz(2.10000000000000) ├┤ Rx(-0.350000000000000) ├»\n",
       "«      └──────────────────────┘└────────────────────────┘»\n",
       "«                                                                             »\n",
       "«q0_0: ──■──────────────────────────────────────────────■─────────────────────»\n",
       "«        │ZZ(1.05000000000000)                          │                     »\n",
       "«q0_1: ──■───────────────────────■──────────────────────┼─────────────────────»\n",
       "«      ┌───────────────────────┐ │ZZ(1.05000000000000)  │ZZ(1.05000000000000) »\n",
       "«q0_2: ┤ Rx(-1.05000000000000) ├─■──────────────────────■─────────────────────»\n",
       "«      └───────────────────────┘                                              »\n",
       "«q0_3: ───────────────────────────────────────────────────────────────────────»\n",
       "«                                                                             »\n",
       "«      ┌────────────────────────┐                          \n",
       "«q0_0: ┤ Rx(-0.350000000000000) ├──────────────────────────\n",
       "«      ├────────────────────────┤                          \n",
       "«q0_1: ┤ Rx(-0.350000000000000) ├──────────────────────────\n",
       "«      └┬──────────────────────┬┘┌────────────────────────┐\n",
       "«q0_2: ─┤ Rz(2.10000000000000) ├─┤ Rx(-0.350000000000000) ├\n",
       "«       └──────────────────────┘ └────────────────────────┘\n",
       "«q0_3: ────────────────────────────────────────────────────\n",
       "«                                                          "
      ]
     },
     "execution_count": 23,
     "metadata": {},
     "output_type": "execute_result"
    }
   ],
   "source": [
    "backend_qiskit_statevec.qaoa_circuit(variate_params).draw()"
   ]
  },
  {
   "cell_type": "code",
   "execution_count": 24,
   "metadata": {},
   "outputs": [],
   "source": [
    "backend_qiskit_statevec = get_qaoa_backend(circuit_params, 'qiskit_statevec_simulator')"
   ]
  },
  {
   "cell_type": "code",
   "execution_count": 25,
   "metadata": {},
   "outputs": [
    {
     "name": "stdout",
     "output_type": "stream",
     "text": [
      "-3.433133222123363\n",
      "(-3.433133222123363, 2.3118519395354693)\n"
     ]
    }
   ],
   "source": [
    "print(backend_qiskit_statevec.expectation(variate_params))\n",
    "print(backend_qiskit_statevec.expectation_w_uncertainty(variate_params))"
   ]
  },
  {
   "cell_type": "markdown",
   "metadata": {},
   "source": [
    "#### qiskit noisy shot based simulator"
   ]
  },
  {
   "cell_type": "code",
   "execution_count": 26,
   "metadata": {},
   "outputs": [],
   "source": [
    "from qiskit.providers.aer.noise import NoiseModel\n",
    "from qiskit import IBMQ\n",
    "IBMQ.load_account()\n",
    "provider = IBMQ.get_provider('ibm-q-startup','entropica-labs','reservations')\n",
    "backend = provider.get_backend('ibmq_guadalupe')\n",
    "noise_model = NoiseModel.from_backend(backend)"
   ]
  },
  {
   "cell_type": "code",
   "execution_count": 27,
   "metadata": {},
   "outputs": [],
   "source": [
    "backend_qiskit_shot = get_qaoa_backend(circuit_params, 'qiskit_shot_simulator', n_shots=1000000, noise_model=noise_model)"
   ]
  },
  {
   "cell_type": "code",
   "execution_count": 28,
   "metadata": {},
   "outputs": [
    {
     "name": "stdout",
     "output_type": "stream",
     "text": [
      "-3.1743560000000004\n",
      "(-3.1684720000000004, 2.5161305978060833)\n"
     ]
    }
   ],
   "source": [
    "print(backend_qiskit_shot.expectation(variate_params))\n",
    "print(backend_qiskit_shot.expectation_w_uncertainty(variate_params))"
   ]
  },
  {
   "cell_type": "code",
   "execution_count": 29,
   "metadata": {},
   "outputs": [],
   "source": [
    "current_ckt = backend_qiskit_shot.qaoa_circuit(variate_params)"
   ]
  },
  {
   "cell_type": "code",
   "execution_count": 30,
   "metadata": {},
   "outputs": [
    {
     "data": {
      "text/html": [
       "<pre style=\"word-wrap: normal;white-space: pre;background: #fff0;line-height: 1.1;font-family: &quot;Courier New&quot;,Courier,monospace\">        ┌───┐                                                         »\n",
       "  q2_0: ┤ H ├─■───────────────────────────────────────────────────────»\n",
       "        ├───┤ │ZZ(['2q', 'cost', 0, 0])                               »\n",
       "  q2_1: ┤ H ├─■────────────────────────────■──────────────────────────»\n",
       "        ├───┤                              │ZZ(['2q', 'cost', 0, 1])  »\n",
       "  q2_2: ┤ H ├──────────────────────────────■──────────────────────────»\n",
       "        ├───┤┌──────────────────────────┐┌───────────────────────────┐»\n",
       "  q2_3: ┤ H ├┤ Rz(['1q', 'cost', 0, 1]) ├┤ Rx(['1q', 'mixer', 0, 3]) ├»\n",
       "        └───┘└──────────────────────────┘└───────────────────────────┘»\n",
       "meas: 4/══════════════════════════════════════════════════════════════»\n",
       "                                                                      »\n",
       "«                                    ┌───────────────────────────┐»\n",
       "«  q2_0: ─■──────────────────────────┤ Rx(['1q', 'mixer', 0, 0]) ├»\n",
       "«         │                          ├───────────────────────────┤»\n",
       "«  q2_1: ─┼──────────────────────────┤ Rx(['1q', 'mixer', 0, 1]) ├»\n",
       "«         │ZZ(['2q', 'cost', 0, 2])  └┬──────────────────────────┤»\n",
       "«  q2_2: ─■───────────────────────────┤ Rz(['1q', 'cost', 0, 0]) ├»\n",
       "«        ┌──────────────────────────┐┌┴──────────────────────────┤»\n",
       "«  q2_3: ┤ Rz(['1q', 'cost', 1, 1]) ├┤ Rx(['1q', 'mixer', 1, 3]) ├»\n",
       "«        └──────────────────────────┘└───────────────────────────┘»\n",
       "«meas: 4/═════════════════════════════════════════════════════════»\n",
       "«                                                                 »\n",
       "«                                                                »\n",
       "«  q2_0: ──■─────────────────────────────────────────────────────»\n",
       "«          │ZZ(['2q', 'cost', 1, 0])                             »\n",
       "«  q2_1: ──■───────────────────────────■─────────────────────────»\n",
       "«        ┌───────────────────────────┐ │ZZ(['2q', 'cost', 1, 1]) »\n",
       "«  q2_2: ┤ Rx(['1q', 'mixer', 0, 2]) ├─■─────────────────────────»\n",
       "«        └───────────────────────────┘                           »\n",
       "«  q2_3: ────────────────────────────────────────────────────────»\n",
       "«                                                                »\n",
       "«meas: 4/════════════════════════════════════════════════════════»\n",
       "«                                                                »\n",
       "«                                   ┌───────────────────────────┐»\n",
       "«  q2_0: ─■─────────────────────────┤ Rx(['1q', 'mixer', 1, 0]) ├»\n",
       "«         │                         ├───────────────────────────┤»\n",
       "«  q2_1: ─┼─────────────────────────┤ Rx(['1q', 'mixer', 1, 1]) ├»\n",
       "«         │ZZ(['2q', 'cost', 1, 2]) └┬──────────────────────────┤»\n",
       "«  q2_2: ─■──────────────────────────┤ Rz(['1q', 'cost', 1, 0]) ├»\n",
       "«                                    └──────────────────────────┘»\n",
       "«  q2_3: ────────────────────────────────────────────────────────»\n",
       "«                                                                »\n",
       "«meas: 4/════════════════════════════════════════════════════════»\n",
       "«                                                                »\n",
       "«                                      ░ ┌─┐         \n",
       "«  q2_0: ──────────────────────────────░─┤M├─────────\n",
       "«                                      ░ └╥┘┌─┐      \n",
       "«  q2_1: ──────────────────────────────░──╫─┤M├──────\n",
       "«        ┌───────────────────────────┐ ░  ║ └╥┘┌─┐   \n",
       "«  q2_2: ┤ Rx(['1q', 'mixer', 1, 2]) ├─░──╫──╫─┤M├───\n",
       "«        └───────────────────────────┘ ░  ║  ║ └╥┘┌─┐\n",
       "«  q2_3: ──────────────────────────────░──╫──╫──╫─┤M├\n",
       "«                                      ░  ║  ║  ║ └╥┘\n",
       "«meas: 4/═════════════════════════════════╩══╩══╩══╩═\n",
       "«                                         0  1  2  3 </pre>"
      ],
      "text/plain": [
       "        ┌───┐                                                         »\n",
       "  q2_0: ┤ H ├─■───────────────────────────────────────────────────────»\n",
       "        ├───┤ │ZZ(['2q', 'cost', 0, 0])                               »\n",
       "  q2_1: ┤ H ├─■────────────────────────────■──────────────────────────»\n",
       "        ├───┤                              │ZZ(['2q', 'cost', 0, 1])  »\n",
       "  q2_2: ┤ H ├──────────────────────────────■──────────────────────────»\n",
       "        ├───┤┌──────────────────────────┐┌───────────────────────────┐»\n",
       "  q2_3: ┤ H ├┤ Rz(['1q', 'cost', 0, 1]) ├┤ Rx(['1q', 'mixer', 0, 3]) ├»\n",
       "        └───┘└──────────────────────────┘└───────────────────────────┘»\n",
       "meas: 4/══════════════════════════════════════════════════════════════»\n",
       "                                                                      »\n",
       "«                                    ┌───────────────────────────┐»\n",
       "«  q2_0: ─■──────────────────────────┤ Rx(['1q', 'mixer', 0, 0]) ├»\n",
       "«         │                          ├───────────────────────────┤»\n",
       "«  q2_1: ─┼──────────────────────────┤ Rx(['1q', 'mixer', 0, 1]) ├»\n",
       "«         │ZZ(['2q', 'cost', 0, 2])  └┬──────────────────────────┤»\n",
       "«  q2_2: ─■───────────────────────────┤ Rz(['1q', 'cost', 0, 0]) ├»\n",
       "«        ┌──────────────────────────┐┌┴──────────────────────────┤»\n",
       "«  q2_3: ┤ Rz(['1q', 'cost', 1, 1]) ├┤ Rx(['1q', 'mixer', 1, 3]) ├»\n",
       "«        └──────────────────────────┘└───────────────────────────┘»\n",
       "«meas: 4/═════════════════════════════════════════════════════════»\n",
       "«                                                                 »\n",
       "«                                                                »\n",
       "«  q2_0: ──■─────────────────────────────────────────────────────»\n",
       "«          │ZZ(['2q', 'cost', 1, 0])                             »\n",
       "«  q2_1: ──■───────────────────────────■─────────────────────────»\n",
       "«        ┌───────────────────────────┐ │ZZ(['2q', 'cost', 1, 1]) »\n",
       "«  q2_2: ┤ Rx(['1q', 'mixer', 0, 2]) ├─■─────────────────────────»\n",
       "«        └───────────────────────────┘                           »\n",
       "«  q2_3: ────────────────────────────────────────────────────────»\n",
       "«                                                                »\n",
       "«meas: 4/════════════════════════════════════════════════════════»\n",
       "«                                                                »\n",
       "«                                   ┌───────────────────────────┐»\n",
       "«  q2_0: ─■─────────────────────────┤ Rx(['1q', 'mixer', 1, 0]) ├»\n",
       "«         │                         ├───────────────────────────┤»\n",
       "«  q2_1: ─┼─────────────────────────┤ Rx(['1q', 'mixer', 1, 1]) ├»\n",
       "«         │ZZ(['2q', 'cost', 1, 2]) └┬──────────────────────────┤»\n",
       "«  q2_2: ─■──────────────────────────┤ Rz(['1q', 'cost', 1, 0]) ├»\n",
       "«                                    └──────────────────────────┘»\n",
       "«  q2_3: ────────────────────────────────────────────────────────»\n",
       "«                                                                »\n",
       "«meas: 4/════════════════════════════════════════════════════════»\n",
       "«                                                                »\n",
       "«                                      ░ ┌─┐         \n",
       "«  q2_0: ──────────────────────────────░─┤M├─────────\n",
       "«                                      ░ └╥┘┌─┐      \n",
       "«  q2_1: ──────────────────────────────░──╫─┤M├──────\n",
       "«        ┌───────────────────────────┐ ░  ║ └╥┘┌─┐   \n",
       "«  q2_2: ┤ Rx(['1q', 'mixer', 1, 2]) ├─░──╫──╫─┤M├───\n",
       "«        └───────────────────────────┘ ░  ║  ║ └╥┘┌─┐\n",
       "«  q2_3: ──────────────────────────────░──╫──╫──╫─┤M├\n",
       "«                                      ░  ║  ║  ║ └╥┘\n",
       "«meas: 4/═════════════════════════════════╩══╩══╩══╩═\n",
       "«                                         0  1  2  3 "
      ]
     },
     "execution_count": 30,
     "metadata": {},
     "output_type": "execute_result"
    }
   ],
   "source": [
    "#print parametric qaoa circuit\n",
    "backend_qiskit_shot.parametric_circuit.draw()"
   ]
  },
  {
   "cell_type": "code",
   "execution_count": 31,
   "metadata": {},
   "outputs": [
    {
     "data": {
      "text/html": [
       "<pre style=\"word-wrap: normal;white-space: pre;background: #fff0;line-height: 1.1;font-family: &quot;Courier New&quot;,Courier,monospace\">        ┌───┐                                                  »\n",
       "  q2_0: ┤ H ├──■───────────────────────────────────────────────»\n",
       "        ├───┤  │ZZ(0.350000000000000)                          »\n",
       "  q2_1: ┤ H ├──■────────────────────────■──────────────────────»\n",
       "        ├───┤                           │ZZ(0.350000000000000) »\n",
       "  q2_2: ┤ H ├───────────────────────────■──────────────────────»\n",
       "        ├───┤┌───────────────────────┐┌───────────────────────┐»\n",
       "  q2_3: ┤ H ├┤ Rz(0.700000000000000) ├┤ Rx(-1.05000000000000) ├»\n",
       "        └───┘└───────────────────────┘└───────────────────────┘»\n",
       "meas: 4/═══════════════════════════════════════════════════════»\n",
       "                                                               »\n",
       "«                                ┌───────────────────────┐ »\n",
       "«  q2_0: ─■──────────────────────┤ Rx(-1.05000000000000) ├─»\n",
       "«         │                      ├───────────────────────┤ »\n",
       "«  q2_1: ─┼──────────────────────┤ Rx(-1.05000000000000) ├─»\n",
       "«         │ZZ(0.350000000000000) ├───────────────────────┤ »\n",
       "«  q2_2: ─■──────────────────────┤ Rz(0.700000000000000) ├─»\n",
       "«        ┌──────────────────────┐├───────────────────────┴┐»\n",
       "«  q2_3: ┤ Rz(2.10000000000000) ├┤ Rx(-0.350000000000000) ├»\n",
       "«        └──────────────────────┘└────────────────────────┘»\n",
       "«meas: 4/══════════════════════════════════════════════════»\n",
       "«                                                          »\n",
       "«                                                        »\n",
       "«  q2_0: ──■─────────────────────────────────────────────»\n",
       "«          │ZZ(1.05000000000000)                         »\n",
       "«  q2_1: ──■───────────────────────■─────────────────────»\n",
       "«        ┌───────────────────────┐ │ZZ(1.05000000000000) »\n",
       "«  q2_2: ┤ Rx(-1.05000000000000) ├─■─────────────────────»\n",
       "«        └───────────────────────┘                       »\n",
       "«  q2_3: ────────────────────────────────────────────────»\n",
       "«                                                        »\n",
       "«meas: 4/════════════════════════════════════════════════»\n",
       "«                                                        »\n",
       "«                               ┌────────────────────────┐»\n",
       "«  q2_0: ─■─────────────────────┤ Rx(-0.350000000000000) ├»\n",
       "«         │                     ├────────────────────────┤»\n",
       "«  q2_1: ─┼─────────────────────┤ Rx(-0.350000000000000) ├»\n",
       "«         │ZZ(1.05000000000000) └┬──────────────────────┬┘»\n",
       "«  q2_2: ─■──────────────────────┤ Rz(2.10000000000000) ├─»\n",
       "«                                └──────────────────────┘ »\n",
       "«  q2_3: ─────────────────────────────────────────────────»\n",
       "«                                                         »\n",
       "«meas: 4/═════════════════════════════════════════════════»\n",
       "«                                                         »\n",
       "«                                   ░ ┌─┐         \n",
       "«  q2_0: ───────────────────────────░─┤M├─────────\n",
       "«                                   ░ └╥┘┌─┐      \n",
       "«  q2_1: ───────────────────────────░──╫─┤M├──────\n",
       "«        ┌────────────────────────┐ ░  ║ └╥┘┌─┐   \n",
       "«  q2_2: ┤ Rx(-0.350000000000000) ├─░──╫──╫─┤M├───\n",
       "«        └────────────────────────┘ ░  ║  ║ └╥┘┌─┐\n",
       "«  q2_3: ───────────────────────────░──╫──╫──╫─┤M├\n",
       "«                                   ░  ║  ║  ║ └╥┘\n",
       "«meas: 4/══════════════════════════════╩══╩══╩══╩═\n",
       "«                                      0  1  2  3 </pre>"
      ],
      "text/plain": [
       "        ┌───┐                                                  »\n",
       "  q2_0: ┤ H ├──■───────────────────────────────────────────────»\n",
       "        ├───┤  │ZZ(0.350000000000000)                          »\n",
       "  q2_1: ┤ H ├──■────────────────────────■──────────────────────»\n",
       "        ├───┤                           │ZZ(0.350000000000000) »\n",
       "  q2_2: ┤ H ├───────────────────────────■──────────────────────»\n",
       "        ├───┤┌───────────────────────┐┌───────────────────────┐»\n",
       "  q2_3: ┤ H ├┤ Rz(0.700000000000000) ├┤ Rx(-1.05000000000000) ├»\n",
       "        └───┘└───────────────────────┘└───────────────────────┘»\n",
       "meas: 4/═══════════════════════════════════════════════════════»\n",
       "                                                               »\n",
       "«                                ┌───────────────────────┐ »\n",
       "«  q2_0: ─■──────────────────────┤ Rx(-1.05000000000000) ├─»\n",
       "«         │                      ├───────────────────────┤ »\n",
       "«  q2_1: ─┼──────────────────────┤ Rx(-1.05000000000000) ├─»\n",
       "«         │ZZ(0.350000000000000) ├───────────────────────┤ »\n",
       "«  q2_2: ─■──────────────────────┤ Rz(0.700000000000000) ├─»\n",
       "«        ┌──────────────────────┐├───────────────────────┴┐»\n",
       "«  q2_3: ┤ Rz(2.10000000000000) ├┤ Rx(-0.350000000000000) ├»\n",
       "«        └──────────────────────┘└────────────────────────┘»\n",
       "«meas: 4/══════════════════════════════════════════════════»\n",
       "«                                                          »\n",
       "«                                                        »\n",
       "«  q2_0: ──■─────────────────────────────────────────────»\n",
       "«          │ZZ(1.05000000000000)                         »\n",
       "«  q2_1: ──■───────────────────────■─────────────────────»\n",
       "«        ┌───────────────────────┐ │ZZ(1.05000000000000) »\n",
       "«  q2_2: ┤ Rx(-1.05000000000000) ├─■─────────────────────»\n",
       "«        └───────────────────────┘                       »\n",
       "«  q2_3: ────────────────────────────────────────────────»\n",
       "«                                                        »\n",
       "«meas: 4/════════════════════════════════════════════════»\n",
       "«                                                        »\n",
       "«                               ┌────────────────────────┐»\n",
       "«  q2_0: ─■─────────────────────┤ Rx(-0.350000000000000) ├»\n",
       "«         │                     ├────────────────────────┤»\n",
       "«  q2_1: ─┼─────────────────────┤ Rx(-0.350000000000000) ├»\n",
       "«         │ZZ(1.05000000000000) └┬──────────────────────┬┘»\n",
       "«  q2_2: ─■──────────────────────┤ Rz(2.10000000000000) ├─»\n",
       "«                                └──────────────────────┘ »\n",
       "«  q2_3: ─────────────────────────────────────────────────»\n",
       "«                                                         »\n",
       "«meas: 4/═════════════════════════════════════════════════»\n",
       "«                                                         »\n",
       "«                                   ░ ┌─┐         \n",
       "«  q2_0: ───────────────────────────░─┤M├─────────\n",
       "«                                   ░ └╥┘┌─┐      \n",
       "«  q2_1: ───────────────────────────░──╫─┤M├──────\n",
       "«        ┌────────────────────────┐ ░  ║ └╥┘┌─┐   \n",
       "«  q2_2: ┤ Rx(-0.350000000000000) ├─░──╫──╫─┤M├───\n",
       "«        └────────────────────────┘ ░  ║  ║ └╥┘┌─┐\n",
       "«  q2_3: ───────────────────────────░──╫──╫──╫─┤M├\n",
       "«                                   ░  ║  ║  ║ └╥┘\n",
       "«meas: 4/══════════════════════════════╩══╩══╩══╩═\n",
       "«                                      0  1  2  3 "
      ]
     },
     "execution_count": 31,
     "metadata": {},
     "output_type": "execute_result"
    }
   ],
   "source": [
    "#print the full circuit with attached angles\n",
    "current_ckt.draw()"
   ]
  },
  {
   "cell_type": "code",
   "execution_count": 32,
   "metadata": {},
   "outputs": [
    {
     "data": {
      "text/plain": [
       "-3.999999999999993"
      ]
     },
     "execution_count": 32,
     "metadata": {},
     "output_type": "execute_result"
    }
   ],
   "source": [
    "from openqaoa.utilities import ring_of_disagrees\n",
    "n_qubits = 8\n",
    "register = range(n_qubits)\n",
    "p = 1\n",
    "betas = [-np.pi/4]\n",
    "gammas = [np.pi/4]\n",
    "cost_hamiltonian = ring_of_disagrees(register)\n",
    "mixer_hamiltonian = X_mixer_hamiltonian(n_qubits)\n",
    "qaoa_circuit_params = QAOACircuitParams(cost_hamiltonian, mixer_hamiltonian, p)\n",
    "variational_params_std = QAOAVariationalStandardParams(qaoa_circuit_params, betas, gammas) \n",
    "\n",
    "# backend_vectorized = QAOAvectorizedBackendSimulator(qaoa_circuit_params,prepend_state=None,\n",
    "#                                                     append_state=None,init_hadamard=True)\n",
    "backend_qiskit_statevec = QAOAQiskitBackendStatevecSimulator(qaoa_circuit_params,prepend_state=None,\n",
    "                                                    append_state=None,init_hadamard=True)\n",
    "\n",
    "# exp_vec = backend_vectorized.expectation(variational_params_std)\n",
    "exp_qiskit_statevec = backend_qiskit_statevec.expectation((variational_params_std))\n",
    "\n",
    "# assert np.isclose(exp_vec, -6)\n",
    "# assert np.isclose(exp_qiskit_statevec, -4)\n",
    "exp_qiskit_statevec"
   ]
  }
 ],
 "metadata": {
  "kernelspec": {
   "display_name": "forest",
   "language": "python",
   "name": "forest"
  },
  "language_info": {
   "codemirror_mode": {
    "name": "ipython",
    "version": 3
   },
   "file_extension": ".py",
   "mimetype": "text/x-python",
   "name": "python",
   "nbconvert_exporter": "python",
   "pygments_lexer": "ipython3",
   "version": "3.8.8"
  }
 },
 "nbformat": 4,
 "nbformat_minor": 4
}
